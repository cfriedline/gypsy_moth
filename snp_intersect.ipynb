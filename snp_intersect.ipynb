{
 "cells": [
  {
   "cell_type": "code",
   "execution_count": 0,
   "metadata": {
    "collapsed": false
   },
   "outputs": [],
   "source": [
    "import scandir\n",
    "import os\n",
    "import sys\n",
    "sys.path.append(\"../include_utils\")\n",
    "import rpy2\n",
    "from rpy2.robjects import pandas2ri\n",
    "pandas2ri.activate()\n",
    "import rpy2.robjects as ro\n",
    "import pandas as pd\n",
    "import matplotlib.pyplot as plt\n",
    "%matplotlib inline\n",
    "import seaborn as sns\n",
    "import numpy as np\n",
    "import warnings\n",
    "warnings.filterwarnings('ignore',category=pd.io.pytables.PerformanceWarning)\n",
    "import cyvcf"
   ]
  },
  {
   "cell_type": "code",
   "execution_count": 0,
   "metadata": {
    "collapsed": true
   },
   "outputs": [],
   "source": [
    "from hdfstorehelper import HDFStoreHelper"
   ]
  },
  {
   "cell_type": "code",
   "execution_count": 0,
   "metadata": {
    "collapsed": true
   },
   "outputs": [],
   "source": [
    "notimputed_dir = \"/home/cfriedline/eckertlab/gypsy_indiv/masked/analysis/samtools1.2_no_otis/notimputed/\"\n",
    "imputed_dir = \"/home/cfriedline/eckertlab/gypsy_indiv/masked/analysis/samtools1.2_no_otis/beagle40/\""
   ]
  },
  {
   "cell_type": "code",
   "execution_count": 0,
   "metadata": {
    "collapsed": false
   },
   "outputs": [],
   "source": [
    "hdf_notimputed = HDFStoreHelper(os.path.join(notimputed_dir, \"gypsy_samtools12_snps.vcf.gz.hd5\"))\n",
    "hdf_imputed = hdf2 = HDFStoreHelper(os.path.join(imputed_dir, \"gypsy_samtools12_imputed40.vcf.gz.hd5\"))"
   ]
  },
  {
   "cell_type": "code",
   "execution_count": 0,
   "metadata": {
    "collapsed": true
   },
   "outputs": [],
   "source": [
    "good_snps_notimputed = hdf_notimputed.get('good_snps')"
   ]
  },
  {
   "cell_type": "code",
   "execution_count": 0,
   "metadata": {
    "collapsed": true
   },
   "outputs": [],
   "source": [
    "good_snps_imputed = hdf_imputed.get('good_snps')"
   ]
  },
  {
   "cell_type": "code",
   "execution_count": 0,
   "metadata": {
    "collapsed": false
   },
   "outputs": [],
   "source": [
    "good_snps_imputed.shape, good_snps_notimputed.shape"
   ]
  },
  {
   "cell_type": "code",
   "execution_count": 0,
   "metadata": {
    "collapsed": true
   },
   "outputs": [],
   "source": [
    "isect_index = set.intersection(set(good_snps_imputed.index), set(good_snps_notimputed.index))"
   ]
  },
  {
   "cell_type": "code",
   "execution_count": 0,
   "metadata": {
    "collapsed": false
   },
   "outputs": [],
   "source": [
    "isect_index = sorted(isect_index)"
   ]
  },
  {
   "cell_type": "code",
   "execution_count": 0,
   "metadata": {
    "collapsed": false
   },
   "outputs": [],
   "source": [
    "len(isect_index)"
   ]
  },
  {
   "cell_type": "code",
   "execution_count": 0,
   "metadata": {
    "collapsed": true
   },
   "outputs": [],
   "source": [
    "good_snps_isect_notimputed = good_snps_notimputed.ix[isect_index]\n",
    "good_snps_isect_imputed = good_snps_imputed.ix[isect_index]"
   ]
  },
  {
   "cell_type": "code",
   "execution_count": 0,
   "metadata": {
    "collapsed": false
   },
   "outputs": [],
   "source": [
    "hdf_notimputed.put('good_snps_isect', good_snps_isect_notimputed)"
   ]
  },
  {
   "cell_type": "code",
   "execution_count": 0,
   "metadata": {
    "collapsed": false
   },
   "outputs": [],
   "source": [
    "hdf_imputed.put('good_snps_isect', good_snps_isect_imputed)"
   ]
  },
  {
   "cell_type": "code",
   "execution_count": 0,
   "metadata": {
    "collapsed": false
   },
   "outputs": [],
   "source": [
    "good_snps_isect_notimputed.shape, good_snps_isect_imputed.shape"
   ]
  },
  {
   "cell_type": "code",
   "execution_count": 0,
   "metadata": {
    "collapsed": false
   },
   "outputs": [],
   "source": [
    "good_snps_isect_notimputed.head()"
   ]
  },
  {
   "cell_type": "code",
   "execution_count": 0,
   "metadata": {
    "collapsed": false
   },
   "outputs": [],
   "source": [
    "good_snps_isect_imputed.head()"
   ]
  },
  {
   "cell_type": "code",
   "execution_count": 0,
   "metadata": {
    "collapsed": false
   },
   "outputs": [],
   "source": [
    "isect_notimputed_vcf = os.path.join(notimputed_dir, \"isect.vcf\")\n",
    "isect_imputed_vcf = os.path.join(imputed_dir, \"isect.vcf\")\n",
    "good_not_vcf = os.path.join(notimputed_dir, \"snps.vcf.gz\")\n",
    "good_imputed_vcf = os.path.join(imputed_dir, \"imputed40.vcf.gz\")"
   ]
  },
  {
   "cell_type": "code",
   "execution_count": 0,
   "metadata": {
    "collapsed": false
   },
   "outputs": [],
   "source": [
    "files = {\"not\": {\"good\": good_not_vcf, \n",
    "                 \"isect\": isect_notimputed_vcf, \n",
    "                 \"filter\": hdf_notimputed.get('good_snps_isect')},\n",
    "        \"imputed\": {\"good\": good_imputed_vcf, \n",
    "                    \"isect\": isect_imputed_vcf, \n",
    "                    \"filter\": hdf_imputed.get('good_snps_isect')}}"
   ]
  },
  {
   "cell_type": "code",
   "execution_count": 0,
   "metadata": {
    "collapsed": false
   },
   "outputs": [],
   "source": [
    "for f in files:\n",
    "    found  = 0\n",
    "    reader = cyvcf.VCFReader(filename=files[f]['good'])\n",
    "    out = open(files[f]['isect'], \"w\")\n",
    "    writer = cyvcf.VCFWriter(out, reader)\n",
    "    for row, data in files[f]['filter'].iterrows():\n",
    "        recs = list(reader.fetch(data.contig, data.pos, data.pos))\n",
    "        assert isinstance(recs[0], cyvcf.parser.Record)\n",
    "        writer.write_record(recs[0])\n",
    "        found += 1\n",
    "    out.close()\n",
    "    print f, found"
   ]
  },
  {
   "cell_type": "code",
   "execution_count": 0,
   "metadata": {
    "collapsed": true
   },
   "outputs": [],
   "source": []
  }
 ],
 "metadata": {
  "kernelspec": {
   "display_name": "Python 2",
   "language": "python",
   "name": "python2"
  },
  "language_info": {
   "codemirror_mode": {
    "name": "ipython",
    "version": 2
   },
   "file_extension": ".py",
   "mimetype": "text/x-python",
   "name": "python",
   "nbconvert_exporter": "python",
   "pygments_lexer": "ipython2",
   "version": "2.7.10"
  }
 },
 "nbformat": 4,
 "nbformat_minor": 0
}

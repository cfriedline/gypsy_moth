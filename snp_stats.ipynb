{
 "metadata": {
  "name": "",
  "signature": "sha256:49ba8053aba0d4eab151d5d6b008e7a3515e39584b76a161d8d5b98f78443817"
 },
 "nbformat": 3,
 "nbformat_minor": 0,
 "worksheets": [
  {
   "cells": [
    {
     "cell_type": "code",
     "collapsed": false,
     "input": [
      "%load_ext autoreload\n",
      "%matplotlib inline\n",
      "%autoreload 2"
     ],
     "language": "python",
     "metadata": {},
     "outputs": [],
     "prompt_number": ""
    },
    {
     "cell_type": "code",
     "collapsed": false,
     "input": [
      "import pandas as pd\n",
      "import numpy as np\n",
      "import matplotlib.pyplot as plt\n",
      "from IPython.display import FileLink, FileLinks\n",
      "from __future__ import division \n",
      "from scipy.stats import pearsonr, f_oneway\n",
      "import qvalue\n",
      "from statsmodels.stats.multicomp import pairwise_tukeyhsd\n",
      "import pandas.rpy.common as com\n",
      "import rpy2.robjects as robs\n",
      "import rpy2\n",
      "import vcf\n",
      "%load_ext rpy2.ipython\n",
      "import statsmodels.formula.api as smf\n",
      "from Bio.PopGen.GenePop.EasyController import EasyController\n",
      "import shutil"
     ],
     "language": "python",
     "metadata": {},
     "outputs": [],
     "prompt_number": ""
    },
    {
     "cell_type": "code",
     "collapsed": false,
     "input": [
      "from hdfstorehelper import HDFStoreHelper"
     ],
     "language": "python",
     "metadata": {},
     "outputs": [],
     "prompt_number": ""
    },
    {
     "cell_type": "code",
     "collapsed": false,
     "input": [
      "h5 = HDFStoreHelper(\"/data7/cfriedline/store_gypsy.h5\")"
     ],
     "language": "python",
     "metadata": {},
     "outputs": [],
     "prompt_number": ""
    },
    {
     "cell_type": "code",
     "collapsed": false,
     "input": [
      "all_r_c = h5.get('model_fit/pca_all/r_c') # g vs. p as function of TW PCA axes\n",
      "all_r_u = h5.get('model_fit/pca_all/r_u') # g vs. p w/o pca"
     ],
     "language": "python",
     "metadata": {},
     "outputs": [],
     "prompt_number": ""
    },
    {
     "cell_type": "code",
     "collapsed": false,
     "input": [
      "%%R\n",
      "library(qvalue)\n",
      "get_p = function(data) {\n",
      "    return(pchisq(data,df=1,lower.tail=F))\n",
      "}"
     ],
     "language": "python",
     "metadata": {},
     "outputs": [],
     "prompt_number": ""
    },
    {
     "cell_type": "code",
     "collapsed": false,
     "input": [
      "def get_x2_values(r2_values, k):\n",
      "    return r2_values * (188 - k - 1)"
     ],
     "language": "python",
     "metadata": {},
     "outputs": [],
     "prompt_number": ""
    },
    {
     "cell_type": "code",
     "collapsed": false,
     "input": [
      "def get_p_values(r_values, k):\n",
      "    r2 = r_values*r_values\n",
      "    x2 = get_x2_values(r2, k)\n",
      "    robs.globalenv['x2'] = com.convert_to_r_matrix(x2)\n",
      "    return com.convert_robj(robs.r('get_p(x2)'))"
     ],
     "language": "python",
     "metadata": {},
     "outputs": [],
     "prompt_number": ""
    },
    {
     "cell_type": "code",
     "collapsed": false,
     "input": [
      "all_p_c = get_p_values(all_r_c, 8)\n",
      "all_p_u = get_p_values(all_r_u, 0)"
     ],
     "language": "python",
     "metadata": {},
     "outputs": [],
     "prompt_number": ""
    },
    {
     "cell_type": "code",
     "collapsed": false,
     "input": [
      "all_p_c.to_csv(\"all_p_corrected.csv\", header=True, index=True)\n",
      "all_p_u.to_csv(\"all_p_uncorrected.csv\", header=True, index=True)"
     ],
     "language": "python",
     "metadata": {},
     "outputs": [],
     "prompt_number": ""
    },
    {
     "cell_type": "markdown",
     "metadata": {},
     "source": [
      "##Entire data set p-values"
     ]
    },
    {
     "cell_type": "code",
     "collapsed": false,
     "input": [
      "def plot_hists(data, title):\n",
      "    for col in data:\n",
      "        plt.hist(data[col])\n",
      "        plt.title(title)\n",
      "        plt.xlabel(\"%s\" % (col))\n",
      "        plt.show()"
     ],
     "language": "python",
     "metadata": {},
     "outputs": [],
     "prompt_number": ""
    },
    {
     "cell_type": "code",
     "collapsed": false,
     "input": [
      "plot_hists(p_c, \"Corrected\")\n",
      "plot_hists(p_u, \"Uncorrected\")"
     ],
     "language": "python",
     "metadata": {},
     "outputs": [],
     "prompt_number": ""
    },
    {
     "cell_type": "markdown",
     "metadata": {},
     "source": [
      "##MAF bins p-values"
     ]
    },
    {
     "cell_type": "code",
     "collapsed": false,
     "input": [
      "bins = h5.get_children_paths(\"model_fit/pca_bin\")"
     ],
     "language": "python",
     "metadata": {},
     "outputs": [],
     "prompt_number": ""
    },
    {
     "cell_type": "code",
     "collapsed": false,
     "input": [
      "for node_path in sorted(bins):\n",
      "    r_c = h5.get(\"%s/r_c\" % (node_path))\n",
      "    r_u = h5.get(\"%s/r_u\" % (node_path))\n",
      "    p_c = get_p_values(r_c, 8)\n",
      "    p_u = get_p_values(r_u, 0)\n",
      "    bin_path = node_path.split(\"/\")[-1]\n",
      "    p_c.to_csv(\"%s_p_corrected.csv\" % bin_path, header=True, index=True)\n",
      "    p_u.to_csv(\"%s_p_uncorrected.csv\" % bin_path, header=True, index=True)\n",
      "    plot_hists(p_c, \"%s (Corrected)\" % bin_path)\n",
      "    plot_hists(p_u, \"%s (Uncorrected)\" % bin_path)"
     ],
     "language": "python",
     "metadata": {},
     "outputs": [],
     "prompt_number": ""
    },
    {
     "cell_type": "markdown",
     "metadata": {},
     "source": [
      "##Fraction of p-values < 0.05"
     ]
    },
    {
     "cell_type": "code",
     "collapsed": false,
     "input": [
      "alpha = 0.05\n",
      "with open(\"p_fraction_%.2f.csv\" % alpha, \"w\") as o:\n",
      "    for node_path in sorted(bins):\n",
      "        r_c = h5.get(\"%s/r_c\" % (node_path))\n",
      "        r_u = h5.get(\"%s/r_u\" % (node_path))\n",
      "        p_c = get_p_values(r_c, 8)\n",
      "        p_u = get_p_values(r_u, 0)\n",
      "        bin_path = node_path.split(\"/\")[-1]\n",
      "        for col in p_c:\n",
      "            o.write(','.join([str(x) for x in [bin_path, \"corrected\", col, len(p_c[p_c[col] < alpha])/len(p_c[col])]]))\n",
      "            o.write(\"\\n\")\n",
      "        for col in p_u:\n",
      "            o.write(','.join([str(x) for x in [bin_path, \"uncorrected\", col, len(p_u[p_u[col] < alpha])/len(p_u[col])]]))\n",
      "            o.write(\"\\n\")\n",
      "\n",
      "    cols = all_p_c.columns\n",
      "    for col in cols:\n",
      "        for col in all_p_c:\n",
      "            o.write(','.join([str(x) for x in [\"all\", \"corrected\", col, len(p_c[p_c[col] < alpha])/len(p_c[col])]]))\n",
      "            o.write(\"\\n\")\n",
      "        for col in all_p_u:\n",
      "            o.write(','.join([str(x) for x in [\"all\", \"uncorrected\", col, len(p_u[p_u[col] < alpha])/len(p_u[col])]]))\n",
      "            o.write(\"\\n\")"
     ],
     "language": "python",
     "metadata": {},
     "outputs": [],
     "prompt_number": ""
    },
    {
     "cell_type": "markdown",
     "metadata": {},
     "source": [
      "## X^2 phenotype pairs"
     ]
    },
    {
     "cell_type": "code",
     "collapsed": false,
     "input": [
      "with open(\"chisq_corr.txt\", \"w\") as o:\n",
      "    for node_path in sorted(bins):\n",
      "        r_c = h5.get(\"%s/r_c\" % (node_path))\n",
      "        r_u = h5.get(\"%s/r_u\" % (node_path))\n",
      "        x2_c = get_x2_values(r_c*r_c, 8)\n",
      "        x2_u = get_x2_values(r_u*r_u, 0)\n",
      "        bin_path = node_path.split(\"/\")[-1]\n",
      "        o.write(\"%s\\n\" % bin_path) \n",
      "        o.write(\"%s\\n\" % \"corrected\")\n",
      "        o.write(\"%s\\n\" % x2_c.corr()) \n",
      "        o.write(\"%s\\n\" % \"\\nuncorrected\")\n",
      "        o.write(\"%s\\n\" % x2_u.corr())\n",
      "        o.write(\"%s\\n\" % \"\".join([\"-\"]*60))\n",
      "\n",
      "    all_x2_c = get_x2_values(all_r_c*all_r_c, 8)\n",
      "    all_x2_u = get_x2_values(all_r_u*all_r_u, 0)\n",
      "    o.write(\"%s\\n\" % \"all\")\n",
      "    o.write(\"%s\\n\" % \"corrected\")\n",
      "    o.write(\"%s\\n\" % all_x2_c.corr())\n",
      "    o.write(\"%s\\n\" % \"\\nuncorrected\")\n",
      "    o.write(\"%s\\n\" % all_x2_u.corr())"
     ],
     "language": "python",
     "metadata": {},
     "outputs": [],
     "prompt_number": ""
    },
    {
     "cell_type": "markdown",
     "metadata": {},
     "source": [
      "## Correlation between r and MAF"
     ]
    },
    {
     "cell_type": "code",
     "collapsed": false,
     "input": [
      "def get_allele_counts(series, filter_missing=True):\n",
      "    P = 0.0\n",
      "    Q = 0.0\n",
      "    PQ = 0.0\n",
      "    missing = 0.0\n",
      "    c = series.value_counts()\n",
      "    if 0 in c:\n",
      "        P = c[0]\n",
      "    if 2 in c:\n",
      "        Q = c[2]\n",
      "    if 1 in c:\n",
      "        PQ = c[1]\n",
      "    if -1 in c:\n",
      "        missing = c[-1]\n",
      "    missing_perc = missing/len(series)\n",
      "    if filter_missing and missing_perc > 0.5:\n",
      "#         print \"too much missing data %g\" % missing_perc\n",
      "        P = PQ = Q = 0.0\n",
      "    return (P, PQ, Q)\n",
      "\n",
      "def get_allele_freqs(series, filter_missing=True):\n",
      "    c = get_allele_counts(series, filter_missing)\n",
      "    if c:\n",
      "        if sum(c) == 0:\n",
      "            return 0.0,0.0, 0.0, c\n",
      "        else:\n",
      "            P = 2*c[0] + c[1]\n",
      "            Q = 2*c[2] + c[1]\n",
      "            total = P + Q\n",
      "            p = P/total\n",
      "            q = Q/total\n",
      "            maf = min(p, q)\n",
      "            return maf, p, q, c "
     ],
     "language": "python",
     "metadata": {},
     "outputs": [],
     "prompt_number": ""
    },
    {
     "cell_type": "code",
     "collapsed": false,
     "input": [
      "z12 = h5.get(\"z12_df\") #012 matrix from vcftools"
     ],
     "language": "python",
     "metadata": {},
     "outputs": [],
     "prompt_number": ""
    },
    {
     "cell_type": "code",
     "collapsed": false,
     "input": [
      "af = z12.apply(get_allele_freqs, filter_missing=False) #allele frequencies"
     ],
     "language": "python",
     "metadata": {},
     "outputs": [],
     "prompt_number": ""
    },
    {
     "cell_type": "code",
     "collapsed": false,
     "input": [
      "def plot_corr(x, y, xlabel, ylabel, title):\n",
      "    plt.scatter(x, y)\n",
      "    plt.xlabel(xlabel)\n",
      "    plt.ylabel(ylabel)\n",
      "    ax = plt.gca()\n",
      "    ax.set_title(title)\n",
      "    plt.show()"
     ],
     "language": "python",
     "metadata": {},
     "outputs": [],
     "prompt_number": ""
    },
    {
     "cell_type": "code",
     "collapsed": false,
     "input": [
      "with open(\"maf_r_corr.csv\", \"w\") as o:\n",
      "    idx = [int(x[1:]) for x in all_r_c.index] #get numeric index for row label (S0 -> 0)\n",
      "    mafs = [x[0] for x in af[sorted(idx)]] #get first element of allele freqs (the MAF) using the sorted index as a filter\n",
      "    all_r_c['idx'] = idx #set column for sorting\n",
      "    all_r_u['idx'] = idx\n",
      "    all_r_c_sorted = all_r_c.sort('idx') #store sorted colum\n",
      "    all_r_u_sorted = all_r_u.sort('idx') #store sorted colum\n",
      "    #get correlations between MAF and r values\n",
      "    for col in all_r_c_sorted.ix[:,0:-1]:\n",
      "        r, p = pearsonr(all_r_c_sorted[col], mafs)\n",
      "        plot_corr(mafs, all_r_c_sorted[col], \"MAF\", col, \"Corrected\")\n",
      "        o.write(\"%s\\n\" % \",\".join([\"corrected\", col, str(r), str(p)]))\n",
      "        r, p = pearsonr(all_r_u_sorted[col], mafs)\n",
      "        plot_corr(mafs, all_r_u_sorted[col], \"MAF\", col, \"Uncorrected\")\n",
      "        \n",
      "        o.write(\"%s\\n\" % \",\".join([\"uncorrected\", col, str(r), str(p)]))"
     ],
     "language": "python",
     "metadata": {},
     "outputs": [],
     "prompt_number": ""
    },
    {
     "cell_type": "code",
     "collapsed": false,
     "input": [
      "FileLinks(\".\", included_suffixes=[\".csv\"])"
     ],
     "language": "python",
     "metadata": {},
     "outputs": [],
     "prompt_number": ""
    },
    {
     "cell_type": "markdown",
     "metadata": {},
     "source": [
      "##Get q-values (Storey and Tibshirani, 2003) "
     ]
    },
    {
     "cell_type": "code",
     "collapsed": false,
     "input": [
      "def get_q_values(series):\n",
      "    r = robs.r\n",
      "    robs.globalenv['p'] = series\n",
      "    q = r('qvalue(p)')\n",
      "    s = pd.Series(np.array(q.rx('qvalues')[0]))\n",
      "    s.index = pd.Index(series.index)\n",
      "    return s"
     ],
     "language": "python",
     "metadata": {},
     "outputs": [],
     "prompt_number": ""
    },
    {
     "cell_type": "code",
     "collapsed": false,
     "input": [
      "alpha = 0.1\n",
      "q_dict = {}\n",
      "def q_string(series):\n",
      "    if len(series) == 0:\n",
      "        return None\n",
      "    return series.to_dict()\n",
      "\n",
      "for env in sorted(all_p_c.columns):\n",
      "    q_dict[env] = {}\n",
      "    print \"%s @ %.1f\" % (env, alpha)\n",
      "    q = get_q_values(all_p_c[env])\n",
      "    key = \"all\"\n",
      "    vals = q_string(q[q<alpha])\n",
      "    print \"\\tcorrected\", vals\n",
      "    q_dict[env][key] = vals\n",
      "    \n",
      "    q = get_q_values(all_p_u[env])\n",
      "    print \"\\tuncorrected\", q_string(q[q<alpha])\n",
      "    print \"\\t----------------------------\"\n",
      "    \n",
      "    for node_path in bins:\n",
      "        r_c = h5.get(\"%s/r_c\" % (node_path))\n",
      "        r_u = h5.get(\"%s/r_u\" % (node_path))\n",
      "        p_c = get_p_values(r_c, 8)\n",
      "        p_u = get_p_values(r_u, 0)\n",
      "        bin_path = node_path.split(\"/\")[-1]\n",
      "        key = bin_path\n",
      "        print \"\\t\",bin_path\n",
      "        q = get_q_values(p_c[env])\n",
      "        vals =  q_string(q[q<alpha])\n",
      "        print \"\\t\\tcorrected\",vals\n",
      "        q_dict[env][key] = vals\n",
      "        q = get_q_values(p_u[env])\n",
      "        print \"\\t\\tuncorrected\", q_string(q[q<alpha])"
     ],
     "language": "python",
     "metadata": {},
     "outputs": [],
     "prompt_number": ""
    },
    {
     "cell_type": "code",
     "collapsed": false,
     "input": [
      "q_dict"
     ],
     "language": "python",
     "metadata": {},
     "outputs": [],
     "prompt_number": ""
    },
    {
     "cell_type": "code",
     "collapsed": false,
     "input": [
      "sig_snps = {}\n",
      "for pheno, data_dict in q_dict.items():\n",
      "    sig_snps[pheno] = set()\n",
      "    for key, data in data_dict.items():\n",
      "        if data:\n",
      "            [sig_snps[pheno].add(x) for x in data.keys()]"
     ],
     "language": "python",
     "metadata": {},
     "outputs": [],
     "prompt_number": ""
    },
    {
     "cell_type": "code",
     "collapsed": false,
     "input": [
      "for pheno, snps in sig_snps.items():\n",
      "    for snp in snps:\n",
      "        rec = get_snp_at(snp[1:])\n",
      "        fasta = record_dict[rec[-1].CHROM]\n",
      "        fasta.description = pheno\n",
      "        print fasta.format(\"fasta\")"
     ],
     "language": "python",
     "metadata": {},
     "outputs": [],
     "prompt_number": ""
    },
    {
     "cell_type": "code",
     "collapsed": false,
     "input": [
      "sig_contigs = [get_snp_at(x[1:]) for x in sig_snps]"
     ],
     "language": "python",
     "metadata": {},
     "outputs": [],
     "prompt_number": ""
    },
    {
     "cell_type": "code",
     "collapsed": false,
     "input": [
      "from Bio import SeqIO\n",
      "assembly = \"/home/cfriedline/data7/assemblies/gypsy/masurca/CA/10-gapclose/genome.ctg.fasta\"\n",
      "record_dict = SeqIO.index(assembly, \"fasta\")"
     ],
     "language": "python",
     "metadata": {},
     "outputs": [],
     "prompt_number": ""
    },
    {
     "cell_type": "markdown",
     "metadata": {},
     "source": [
      "##ANOVA"
     ]
    },
    {
     "cell_type": "code",
     "collapsed": false,
     "input": [
      "pheno = h5.get('pheno')"
     ],
     "language": "python",
     "metadata": {},
     "outputs": [],
     "prompt_number": ""
    },
    {
     "cell_type": "code",
     "collapsed": false,
     "input": [
      "pops = list(pheno.Population.unique())"
     ],
     "language": "python",
     "metadata": {},
     "outputs": [],
     "prompt_number": ""
    },
    {
     "cell_type": "code",
     "collapsed": false,
     "input": [
      "pheno.columns = [x.replace(\" \", \"_\") for x in pheno.columns]"
     ],
     "language": "python",
     "metadata": {},
     "outputs": [],
     "prompt_number": ""
    },
    {
     "cell_type": "code",
     "collapsed": false,
     "input": [
      "pheno.columns"
     ],
     "language": "python",
     "metadata": {},
     "outputs": [],
     "prompt_number": ""
    },
    {
     "cell_type": "code",
     "collapsed": false,
     "input": [
      "alpha = 0.05\n",
      "envs = [u'Mass', u'Pupual_Duration', u'Total_Dev_Time']"
     ],
     "language": "python",
     "metadata": {},
     "outputs": [],
     "prompt_number": ""
    },
    {
     "cell_type": "code",
     "collapsed": false,
     "input": [
      "%Rpush pheno\n",
      "%R aov_mass = aov(Mass ~ Population, data=pheno)\n",
      "%R aov_pup = aov(Pupual_Duration ~ Population, data=pheno)\n",
      "%R aov_dev = aov(Total_Dev_Time ~ Population, data=pheno)\n",
      "print"
     ],
     "language": "python",
     "metadata": {},
     "outputs": [],
     "prompt_number": ""
    },
    {
     "cell_type": "code",
     "collapsed": false,
     "input": [
      "%%R\n",
      "aovs = list(aov_mass, aov_pup, aov_dev)\n",
      "for (i in 1:length(aovs)) {\n",
      "    aov = aovs[[i]]\n",
      "    print(aov)\n",
      "    print(summary(aov))\n",
      "    if (i == 1) {\n",
      "        print(TukeyHSD(aov))\n",
      "    }\n",
      "}"
     ],
     "language": "python",
     "metadata": {},
     "outputs": [],
     "prompt_number": ""
    },
    {
     "cell_type": "code",
     "collapsed": false,
     "input": [
      "for col in sorted(cols):\n",
      "    plot_data = []\n",
      "    groups = []\n",
      "    for group, d in pheno[col].groupby(pheno.Population):\n",
      "        plot_data.append(d)\n",
      "        groups.append(group)\n",
      "    plt.boxplot(plot_data)\n",
      "    plt.title(col)\n",
      "    plt.xticks(np.arange(1, len(groups)+1), groups)\n",
      "    plt.savefig(\"env_%s.pdf\" % col, bbox_inches=\"tight\")\n",
      "    plt.show()"
     ],
     "language": "python",
     "metadata": {},
     "outputs": [],
     "prompt_number": ""
    },
    {
     "cell_type": "markdown",
     "metadata": {},
     "source": [
      "##Genotype boxplots"
     ]
    },
    {
     "cell_type": "code",
     "collapsed": false,
     "input": [
      "concat_data = h5.get(\"concat_data\")"
     ],
     "language": "python",
     "metadata": {},
     "outputs": [],
     "prompt_number": ""
    },
    {
     "cell_type": "code",
     "collapsed": false,
     "input": [
      "pos_file = \"/data7/eckertlab/gypsy_indiv/gypsy_freebayes_out.vcf.012.pos\"\n",
      "vcf_file = \"/data7/eckertlab/gypsy_indiv/gypsy_freebayes_out.vcf.gz\""
     ],
     "language": "python",
     "metadata": {},
     "outputs": [],
     "prompt_number": ""
    },
    {
     "cell_type": "code",
     "collapsed": false,
     "input": [
      "vcf_reader = vcf.Reader(filename=vcf_file)"
     ],
     "language": "python",
     "metadata": {},
     "outputs": [],
     "prompt_number": ""
    },
    {
     "cell_type": "code",
     "collapsed": false,
     "input": [
      "pos_df = pd.read_csv(pos_file, sep=\"\\t\", header=None, names=['contig', 'pos'])"
     ],
     "language": "python",
     "metadata": {},
     "outputs": [],
     "prompt_number": ""
    },
    {
     "cell_type": "code",
     "collapsed": false,
     "input": [
      "def get_snp_at(index):\n",
      "    index = int(index)\n",
      "    pos_entry = pos_df.ix[index,:]\n",
      "    rec = vcf_reader.fetch(pos_entry.contig, pos_entry.pos)\n",
      "#     print rec\n",
      "    ref = rec.REF\n",
      "    alt = str(rec.ALT).replace(\"[\",\"\").replace(\"]\",\"\")\n",
      "    return (index, \n",
      "            [\"%s/%s\" % (ref, ref),\n",
      "            \"%s/%s\" % (ref, alt),\n",
      "            \"%s/%s\" % (alt, alt)],\n",
      "            rec)\n",
      "\n",
      "def get_top_snp(series, index=0):\n",
      "    s = series\n",
      "    idx = index\n",
      "    row=s.index[idx]\n",
      "    snp = get_snp_at(row[1:])\n",
      "    if len(snp[-1].REF) > 1: #meaning DNP, TNP, ec\n",
      "        print \"%s is not a SNP\" % snp[-1]\n",
      "        return get_top_snp(series, idx+1)\n",
      "    return snp\n",
      "\n",
      "for col in all_p_c:\n",
      "    s = all_p_c.sort(col)\n",
      "    snp = get_top_snp(s[col])\n",
      "    p_value = all_p_c.ix[\"S%d\" % snp[0], col]\n",
      "    group = concat_data.groupby(\"L%d\" % snp[0])\n",
      "    plot_dict = {}\n",
      "    for geno in sorted(group.groups.keys()):\n",
      "        geno_data = group.get_group(geno)\n",
      "        if geno != -1:\n",
      "            plot_dict[geno] = geno_data[col]\n",
      "    plot_data = []\n",
      "    geno_class = [0, 1, 2]\n",
      "    for geno in geno_class:\n",
      "        if geno in plot_dict:\n",
      "            plot_data.append(plot_dict[geno])\n",
      "        else:\n",
      "            plot_data.append(pd.Series())\n",
      "    minval = min([min(x) for x in plot_data if len(x) > 0])\n",
      "    maxval = max([max(x) for x in plot_data if len(x) > 0])\n",
      "    print plot_dict.keys()\n",
      "    bp = plt.boxplot(plot_data)\n",
      "    plt.xticks(np.arange(1, 4), snp[1])\n",
      "    plt.title(\"%s (p = %.6f)\" % (col.replace(\"_\", \" \"), p_value))\n",
      "    plt.xlabel(\"Locus %d (%s/%d)\" % (snp[0], snp[2].CHROM, snp[2].POS))\n",
      "    plt.ylim((minval-(minval*.05), maxval+(maxval*.05)))\n",
      "    plt.savefig(\"%s_geno.pdf\" % col, bbox_inches=\"tight\")\n",
      "    plt.show()"
     ],
     "language": "python",
     "metadata": {},
     "outputs": [],
     "prompt_number": ""
    },
    {
     "cell_type": "code",
     "collapsed": false,
     "input": [
      "FileLinks(\".\", included_suffixes=[\".pdf\"])"
     ],
     "language": "python",
     "metadata": {},
     "outputs": [],
     "prompt_number": ""
    },
    {
     "cell_type": "markdown",
     "metadata": {},
     "source": [
      "##Multilocus "
     ]
    },
    {
     "cell_type": "code",
     "collapsed": false,
     "input": [
      "residuals = h5.get(\"model_fit/pca_all/residuals\")"
     ],
     "language": "python",
     "metadata": {},
     "outputs": [],
     "prompt_number": ""
    },
    {
     "cell_type": "code",
     "collapsed": false,
     "input": [
      "residuals"
     ],
     "language": "python",
     "metadata": {},
     "outputs": [],
     "prompt_number": ""
    },
    {
     "cell_type": "code",
     "collapsed": false,
     "input": [
      "def get_top_n_snps(series, num):\n",
      "    snps = []\n",
      "    found = 0\n",
      "    for idx in series.index:\n",
      "        snp = get_snp_at(idx[1:])\n",
      "        if len(snp[-1].REF) == 1:\n",
      "            snps.append(snp)\n",
      "            found += 1\n",
      "            if found == num:\n",
      "                break\n",
      "    return snps       \n",
      "    \n",
      "\n",
      "multiloc_fits = {}\n",
      "for col in all_p_c:\n",
      "    s = all_p_c.sort(col)\n",
      "    snps = get_top_n_snps(s[col], 25)\n",
      "    snp_ids = set(\"S%d\" % x[0] for x in snps)\n",
      "    pheno_cols = []\n",
      "    geno_cols = []\n",
      "    for resid_col in residuals.columns:\n",
      "        rc = resid_col.split(\"_\")\n",
      "        locus = rc[0]\n",
      "        phenotype = \"_\".join(rc[1:])\n",
      "        if locus in snp_ids and phenotype == col:\n",
      "            pheno_cols.append(resid_col)\n",
      "        if locus in snp_ids and rc[1] == rc[0]:\n",
      "            geno_cols.append(resid_col)\n",
      "        \n",
      "    pheno_df = residuals[pheno_cols]\n",
      "    pheno_df.to_csv(\"%s_pheno_df.txt\" % col)\n",
      "    geno_df = residuals[geno_cols]\n",
      "    geno_df.to_csv(\"%s_geno_df.txt\" % col)\n",
      "    geno_df.columns = [x.split(\"_\")[0] for x in geno_df.columns]\n",
      "    geno_df.corr().to_csv(\"%s_geno_corr.txt\" % col)\n",
      "    pheno_mean = pheno_df.apply(np.mean, axis=1)\n",
      "    pheno_mean.name = col\n",
      "    mean_df = pd.concat([pheno_mean, geno_df], axis=1)\n",
      "    mean_df.to_csv(\"%s_mean_df.txt\" % col)\n",
      "    f = \"%s ~ %s\" % (mean_df.columns[0], '+'.join(mean_df.columns[1:]))\n",
      "    try:\n",
      "        mod = smf.ols(formula=f, data=mean_df)\n",
      "        multiloc_fits[col] = mod.fit()\n",
      "    except:\n",
      "        print mean_df"
     ],
     "language": "python",
     "metadata": {},
     "outputs": [],
     "prompt_number": ""
    },
    {
     "cell_type": "code",
     "collapsed": false,
     "input": [
      "with open(\"multilocus.txt\", \"w\") as o:\n",
      "    for pheno, fit in multiloc_fits.items():\n",
      "        o.write(str(fit.summary()))\n",
      "        o.write(\"\\n\\n\")"
     ],
     "language": "python",
     "metadata": {},
     "outputs": [],
     "prompt_number": ""
    },
    {
     "cell_type": "code",
     "collapsed": false,
     "input": [
      "FileLinks(\".\", included_suffixes=['.txt'])"
     ],
     "language": "python",
     "metadata": {},
     "outputs": [],
     "prompt_number": ""
    },
    {
     "cell_type": "markdown",
     "metadata": {},
     "source": [
      "##Fst"
     ]
    },
    {
     "cell_type": "code",
     "collapsed": false,
     "input": [
      "hierfstat = h5.get(\"hierf\")"
     ],
     "language": "python",
     "metadata": {},
     "outputs": [],
     "prompt_number": ""
    },
    {
     "cell_type": "code",
     "collapsed": false,
     "input": [
      "hierfstat.ix[0:5, :]"
     ],
     "language": "python",
     "metadata": {},
     "outputs": [],
     "prompt_number": ""
    },
    {
     "cell_type": "code",
     "collapsed": false,
     "input": [
      "%%R\n",
      "library(hierfstat)\n",
      "data = read.table(\"hierfstat.txt\", header=T, sep=\"\\t\")\n",
      "levels = data.frame(data$popid)\n",
      "loci = data[,3:ncol(data)]"
     ],
     "language": "python",
     "metadata": {},
     "outputs": [],
     "prompt_number": ""
    },
    {
     "cell_type": "code",
     "collapsed": false,
     "input": [
      "%%R\n",
      "varcomp_res = readRDS(\"hierfstat.rds\")"
     ],
     "language": "python",
     "metadata": {},
     "outputs": [],
     "prompt_number": ""
    },
    {
     "cell_type": "code",
     "collapsed": false,
     "input": [
      "hierf"
     ],
     "language": "python",
     "metadata": {},
     "outputs": []
    },
    {
     "cell_type": "code",
     "collapsed": false,
     "input": [
      "res = com.convert_robj(robs.r('varcomp_res'))\n",
      "loc_df = res['loc']\n",
      "F_df = res['F']\n",
      "overall_df = res['overall']"
     ],
     "language": "python",
     "metadata": {},
     "outputs": [],
     "prompt_number": ""
    },
    {
     "cell_type": "code",
     "collapsed": false,
     "input": [
      "def compute_fst(series):\n",
      "    Hs = series[0]\n",
      "    Ht = sum(series)\n",
      "    Fst = (Ht-Hs)/Ht\n",
      "    return Fst"
     ],
     "language": "python",
     "metadata": {},
     "outputs": [],
     "prompt_number": ""
    },
    {
     "cell_type": "code",
     "collapsed": false,
     "input": [
      "def remove_neg_variance(val):\n",
      "    if val > 1:\n",
      "        return 1\n",
      "    return val\n",
      "loci_fst.apply(remove_neg_variance)"
     ],
     "language": "python",
     "metadata": {},
     "outputs": [],
     "prompt_number": ""
    },
    {
     "cell_type": "code",
     "collapsed": false,
     "input": [
      "loci_fst = loc_df.apply(compute_fst, axis=1)\n",
      "fst_data = loci_fst.apply(remove_neg_variance)\n",
      "plt.hist(fst_data, bins=20)\n",
      "plt.title(\"n=%d [%.2f, %.2f]\" % (len(loci_fst), np.min(loci_fst), np.max(loci_fst)))\n",
      "plt.xlabel(r'$F_{ST}\\ (\\mu=%.2f$)' % np.mean(fst_data))\n",
      "plt.savefig(\"fst.pdf\", bbox_inches=\"tight\")\n",
      "plt.show()"
     ],
     "language": "python",
     "metadata": {},
     "outputs": [],
     "prompt_number": ""
    },
    {
     "cell_type": "code",
     "collapsed": false,
     "input": [
      "FileLink(\"fst.pdf\")"
     ],
     "language": "python",
     "metadata": {},
     "outputs": [],
     "prompt_number": ""
    },
    {
     "cell_type": "markdown",
     "metadata": {},
     "source": [
      "##genepop"
     ]
    },
    {
     "cell_type": "code",
     "collapsed": false,
     "input": [
      "genepop_loci = hierfstat.columns[2:]"
     ],
     "language": "python",
     "metadata": {},
     "outputs": [],
     "prompt_number": ""
    },
    {
     "cell_type": "code",
     "collapsed": false,
     "input": [
      "genepop_pops = hierfstat.popid.unique()"
     ],
     "language": "python",
     "metadata": {},
     "outputs": [],
     "prompt_number": ""
    },
    {
     "cell_type": "code",
     "collapsed": false,
     "input": [
      "genepop_pops"
     ],
     "language": "python",
     "metadata": {},
     "outputs": [],
     "prompt_number": ""
    },
    {
     "cell_type": "code",
     "collapsed": false,
     "input": [
      "def get_genepop_value(val):\n",
      "    convert = {12:\"0102\",\n",
      "               11:\"0101\",\n",
      "               22:\"0202\",\n",
      "               \"NA\":\"0000\"}\n",
      "    return convert[val]\n",
      "\n",
      "def get_genepop_genotype(series):\n",
      "    return series.apply(get_genepop_value)\n",
      "\n",
      "with open(\"genepop.txt\", \"w\") as o:\n",
      "    o.write(\"gypsy moth loci\\n\")\n",
      "    for locus in genepop_loci:\n",
      "        o.write(\"%s\\n\" % locus)\n",
      "    for pop in genepop_pops:\n",
      "        o.write(\"Pop\\n\")\n",
      "        samples =  hierfstat[hierfstat.popid == pop]\n",
      "        genos = samples.ix[:, 2:].apply(get_genepop_genotype)\n",
      "        for row in genos.index:\n",
      "            o.write(\"%s,%s\\n\" % (hierfstat.ix[row, 'sample'].split(\"_\")[0], ' '.join(genos.ix[row, :])))"
     ],
     "language": "python",
     "metadata": {},
     "outputs": [],
     "prompt_number": ""
    },
    {
     "cell_type": "code",
     "collapsed": false,
     "input": [
      "#shutil.copy(\"genepop.txt\", \"genepop_work.txt\")\n",
      "ctrl = EasyController(\"genepop_work.txt\")\n",
      "loci = ctrl._controller.calc_fst_all(ctrl._fname)"
     ],
     "language": "python",
     "metadata": {},
     "outputs": [],
     "prompt_number": ""
    },
    {
     "cell_type": "code",
     "collapsed": false,
     "input": [
      "multiloc, loci_iterator = loci"
     ],
     "language": "python",
     "metadata": {},
     "outputs": [],
     "prompt_number": ""
    },
    {
     "cell_type": "code",
     "collapsed": false,
     "input": [
      "loci_list = list(loci_iterator)"
     ],
     "language": "python",
     "metadata": {},
     "outputs": [],
     "prompt_number": ""
    },
    {
     "cell_type": "code",
     "collapsed": false,
     "input": [
      "fsts = []\n",
      "fiss = []\n",
      "names = []\n",
      "for l in loci_list:\n",
      "    name, fis, fst, fit, qintra, qinter = l\n",
      "    fsts.append(fst)\n",
      "    fiss.append(fis)\n",
      "    names.append(name)\n",
      "fsts = pd.DataFrame(fsts, index=names, columns=[\"Fst\"])\n",
      "fiss = pd.DataFrame(fiss, index=names, columns=[\"Fis\"])"
     ],
     "language": "python",
     "metadata": {},
     "outputs": [],
     "prompt_number": ""
    },
    {
     "cell_type": "code",
     "collapsed": false,
     "input": [
      "fsts[fsts<0] = 0\n",
      "plt.hist(fsts, bins=20)\n",
      "plt.title(\"n=%d [%.2f, %.2f]\" % (len(fsts), np.min(fsts), np.max(fsts)))\n",
      "plt.xlabel(r'$F_{ST}\\ (\\mu=%.2f$)' % np.mean(fsts))\n",
      "plt.savefig(\"fst.pdf\", bbox_inches=\"tight\")\n",
      "plt.show()"
     ],
     "language": "python",
     "metadata": {},
     "outputs": [],
     "prompt_number": ""
    },
    {
     "cell_type": "code",
     "collapsed": false,
     "input": [
      "FileLink(\"fst.pdf\")"
     ],
     "language": "python",
     "metadata": {},
     "outputs": [],
     "prompt_number": ""
    },
    {
     "cell_type": "code",
     "collapsed": false,
     "input": [
      "plt.hist(fiss, bins=20)\n",
      "plt.title(\"n=%d [%.2f, %.2f]\" % (len(fiss), np.min(fiss), np.max(fiss)))\n",
      "plt.xlabel(r'$F_{IS}\\ (\\mu=%.2f$)' % np.mean(fiss))\n",
      "plt.savefig(\"fis.pdf\", bbox_inches=\"tight\")\n",
      "plt.show()"
     ],
     "language": "python",
     "metadata": {},
     "outputs": [],
     "prompt_number": ""
    },
    {
     "cell_type": "code",
     "collapsed": false,
     "input": [
      "print \"Multilocus Fis=%.4f, Fst=%.4f, Fit=%.4f\" % multiloc"
     ],
     "language": "python",
     "metadata": {},
     "outputs": [],
     "prompt_number": ""
    },
    {
     "cell_type": "code",
     "collapsed": false,
     "input": [
      "x2 = get_x2_values(all_r_c*all_r_c, 8)\n",
      "x2.index = [\"L%s\" % x[1:] for x in x2.index]"
     ],
     "language": "python",
     "metadata": {},
     "outputs": [],
     "prompt_number": ""
    },
    {
     "cell_type": "code",
     "collapsed": false,
     "input": [
      "fst_pheno = pd.concat([fsts.sort(), x2.sort()], axis=1)"
     ],
     "language": "python",
     "metadata": {},
     "outputs": [],
     "prompt_number": ""
    },
    {
     "cell_type": "code",
     "collapsed": false,
     "input": [
      "fst_pheno.corr().to_html(\"fst_pheno.html\")"
     ],
     "language": "python",
     "metadata": {},
     "outputs": [],
     "prompt_number": ""
    },
    {
     "cell_type": "code",
     "collapsed": false,
     "input": [
      "FileLink(\"fst_pheno.html\")"
     ],
     "language": "python",
     "metadata": {},
     "outputs": [],
     "prompt_number": ""
    },
    {
     "cell_type": "code",
     "collapsed": false,
     "input": [],
     "language": "python",
     "metadata": {},
     "outputs": []
    }
   ],
   "metadata": {}
  }
 ]
}
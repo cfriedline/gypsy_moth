{
 "cells": [
  {
   "cell_type": "code",
   "execution_count": 0,
   "metadata": {
    "collapsed": false
   },
   "outputs": [],
   "source": [
    "import sys\n",
    "import pandas as pd\n",
    "import seaborn as sns\n",
    "%matplotlib inline\n",
    "from array import array\n",
    "import matplotlib.pyplot as plt\n",
    "import numpy as np\n",
    "import warnings"
   ]
  },
  {
   "cell_type": "code",
   "execution_count": 0,
   "metadata": {
    "collapsed": true
   },
   "outputs": [],
   "source": [
    "from pandas.io.pytables import PerformanceWarning"
   ]
  },
  {
   "cell_type": "code",
   "execution_count": 0,
   "metadata": {
    "collapsed": false
   },
   "outputs": [],
   "source": [
    "warnings.filterwarnings(\"ignore\", category=PerformanceWarning) "
   ]
  },
  {
   "cell_type": "code",
   "execution_count": 0,
   "metadata": {
    "collapsed": false
   },
   "outputs": [],
   "source": [
    "sys.path.append(\"/home/cfriedline/ipynb/gypsy_moth/\")"
   ]
  },
  {
   "cell_type": "code",
   "execution_count": 0,
   "metadata": {
    "collapsed": true
   },
   "outputs": [],
   "source": [
    "from hdfstorehelper import HDFStoreHelper"
   ]
  },
  {
   "cell_type": "code",
   "execution_count": 0,
   "metadata": {
    "collapsed": true
   },
   "outputs": [],
   "source": [
    "sns.set_context(\"talk\")"
   ]
  },
  {
   "cell_type": "code",
   "execution_count": 0,
   "metadata": {
    "collapsed": false
   },
   "outputs": [],
   "source": [
    "cd /gpfs_fs/home/eckertlab/gypsy_indiv/masked/analysis/samtools1.2_no_otis/beagle40/"
   ]
  },
  {
   "cell_type": "markdown",
   "metadata": {},
   "source": [
    "## Compute pairwise LD \n",
    "\n",
    "```bash\n",
    "vcftools --gzvcf isect.vcf.gz.sorted.gz --interchrom-hap-r2  --out isect.vcf.gz.sorted.gz\n",
    "vcftools --gzvcf isect.vcf.gz.sorted.gz --hap-r2  --out isect.vcf.gz.sorted.gz\n",
    "vcftools --gzvcf isect.vcf.gz.sorted.gz --freq  --out isect.vcf.gz.sorted.gz\n",
    "```"
   ]
  },
  {
   "cell_type": "code",
   "execution_count": 0,
   "metadata": {
    "collapsed": true
   },
   "outputs": [],
   "source": [
    "intra = \"isect.vcf.gz.sorted.gz.hap.ld\"\n",
    "inter = \"isect.vcf.gz.sorted.gz.interchrom.hap.ld\""
   ]
  },
  {
   "cell_type": "code",
   "execution_count": 0,
   "metadata": {
    "collapsed": false
   },
   "outputs": [],
   "source": [
    "h = open(intra)\n",
    "intra_data = []\n",
    "for line in h:\n",
    "    intra_data.append(line.strip().split())\n",
    "intra_df = pd.DataFrame(data=intra_data[1:], columns=intra_data[0])\n",
    "intra_df.iloc[:,1:] = intra_df.iloc[:,1:].apply(pd.to_numeric)"
   ]
  },
  {
   "cell_type": "code",
   "execution_count": 0,
   "metadata": {
    "collapsed": false
   },
   "outputs": [],
   "source": [
    "intra_df['dist'] = intra_df.apply(lambda x: np.abs(x.POS1-x.POS2), axis=1)"
   ]
  },
  {
   "cell_type": "code",
   "execution_count": 0,
   "metadata": {
    "collapsed": false,
    "scrolled": false
   },
   "outputs": [],
   "source": [
    "plot_data = intra_df[intra_df['dist'] < 1000]\n",
    "g = sns.regplot(\"dist\", \"R^2\", \n",
    "            plot_data,\n",
    "           fit_reg=False)\n",
    "g.set(xlim=(0,500),ylim=(0,1),title=\"n=%d\" % len(plot_data));"
   ]
  },
  {
   "cell_type": "code",
   "execution_count": 0,
   "metadata": {
    "collapsed": false
   },
   "outputs": [],
   "source": [
    "z12_pos = pd.read_csv(\"../notimputed/isect.vcf.gz.sorted.gz.012.pos\", sep=\"\\t\", header=None)\n",
    "z12_pos.columns = [\"contig\", \"position\"]\n",
    "z12_pos['contig_pos'] = z12_pos.apply(lambda x: \"%s_%s\" % (x.contig, x.position), axis=1)\n",
    "z12_pos.head()"
   ]
  },
  {
   "cell_type": "code",
   "execution_count": 0,
   "metadata": {
    "collapsed": false
   },
   "outputs": [],
   "source": [
    "z12_indv = pd.read_csv(\"../notimputed/isect.vcf.gz.sorted.gz.012.indv\", header=None)\n",
    "z12_indv.index.name = \"sample\"\n",
    "z12_indv.head()"
   ]
  },
  {
   "cell_type": "code",
   "execution_count": 0,
   "metadata": {
    "collapsed": false
   },
   "outputs": [],
   "source": [
    "z12_data = pd.read_csv(\"../notimputed/isect.vcf.gz.sorted.gz.012\", sep=\"\\t\", header=None)\n",
    "z12_data = z12_data.drop(0, axis=1)\n",
    "z12_data.columns = z12_pos.contig_pos.values\n",
    "z12_data.index = z12_indv[0].values\n",
    "z12_data.head()"
   ]
  },
  {
   "cell_type": "code",
   "execution_count": 0,
   "metadata": {
    "collapsed": false
   },
   "outputs": [],
   "source": [
    "def get_percent_missing(snp):\n",
    "    c = snp.value_counts()\n",
    "    if -1 in c:\n",
    "        return c[-1]/len(snp)\n",
    "    return 0.0\n",
    "percent_missing = z12_data.apply(get_percent_missing)\n",
    "percent_missing = pd.DataFrame(percent_missing)\n",
    "percent_missing.columns = [\"missing\"]"
   ]
  },
  {
   "cell_type": "code",
   "execution_count": 0,
   "metadata": {
    "collapsed": false,
    "scrolled": true
   },
   "outputs": [],
   "source": [
    "percent_missing['contig'] = percent_missing.apply(lambda x: \"_\".join(x.name.split(\"_\")[0:-1]), axis=1)\n",
    "percent_missing['position'] = percent_missing.apply(lambda x: int(x.name.split(\"_\")[-1]), axis=1)"
   ]
  },
  {
   "cell_type": "code",
   "execution_count": 0,
   "metadata": {
    "collapsed": false
   },
   "outputs": [],
   "source": [
    "def assign_bin(val, bins):\n",
    "    for i, b in enumerate(bins):\n",
    "        if val < b:\n",
    "            return i\n",
    "        \n",
    "spaced_snps = []\n",
    "read_size=150\n",
    "for contig, data in percent_missing.groupby('contig'):\n",
    "    data = data.sort_values(\"missing\", ascending=True)\n",
    "    bins = list(range(data.position.min()+read_size, data.position.max()+read_size, read_size))\n",
    "    if len(data) == 1:\n",
    "        data['bin'] = 0\n",
    "    else:\n",
    "        data['bin'] = data.position.apply(assign_bin, args=(bins,))\n",
    "    for bin_id, bin_data in data.groupby('bin'):\n",
    "        spaced_snps.append(bin_data.index[0])"
   ]
  },
  {
   "cell_type": "code",
   "execution_count": 0,
   "metadata": {
    "collapsed": false
   },
   "outputs": [],
   "source": [
    "spaced_df = pd.DataFrame(data=spaced_snps, columns=['contig'])\n",
    "spaced_df.index = spaced_df.contig\n",
    "spaced_df['keep'] = True\n",
    "spaced_df = spaced_df.drop('contig', axis=1)\n",
    "spaced_df.head()"
   ]
  },
  {
   "cell_type": "code",
   "execution_count": 0,
   "metadata": {
    "collapsed": true
   },
   "outputs": [],
   "source": [
    "keep = percent_missing.join(spaced_df)"
   ]
  },
  {
   "cell_type": "code",
   "execution_count": 0,
   "metadata": {
    "collapsed": false
   },
   "outputs": [],
   "source": [
    "keep_snps = keep[keep.keep==True]"
   ]
  },
  {
   "cell_type": "code",
   "execution_count": 0,
   "metadata": {
    "collapsed": false
   },
   "outputs": [],
   "source": [
    "keep_snps.to_csv(\"/gpfs_fs/home/eckertlab/gypsy_indiv/masked/analysis/samtools1.2_no_otis/keep_snps.csv\", \n",
    "                sep=\"\\t\",\n",
    "                header=True,\n",
    "                index=True)"
   ]
  },
  {
   "cell_type": "code",
   "execution_count": 0,
   "metadata": {
    "collapsed": false,
    "scrolled": true
   },
   "outputs": [],
   "source": [
    "inter_data = []\n",
    "h = open(inter)\n",
    "for i, line in enumerate(h):\n",
    "    line = line.split()\n",
    "    inter_data.append(line)\n",
    "    if i % 5000000 == 0 and i > 0:\n",
    "        print((\"at %d\" % i))"
   ]
  },
  {
   "cell_type": "code",
   "execution_count": 0,
   "metadata": {
    "collapsed": false
   },
   "outputs": [],
   "source": [
    "inter_df = pd.DataFrame(data=inter_data[1:], columns=inter_data[0])"
   ]
  },
  {
   "cell_type": "code",
   "execution_count": 0,
   "metadata": {
    "collapsed": false
   },
   "outputs": [],
   "source": [
    "inter_df.iloc[:,-2:] = inter_df.iloc[:,-2:].apply(pd.to_numeric)"
   ]
  },
  {
   "cell_type": "code",
   "execution_count": 0,
   "metadata": {
    "collapsed": false
   },
   "outputs": [],
   "source": [
    "inter_df.shape"
   ]
  },
  {
   "cell_type": "code",
   "execution_count": 0,
   "metadata": {
    "collapsed": true
   },
   "outputs": [],
   "source": [
    "plot_data = inter_df['R^2']"
   ]
  },
  {
   "cell_type": "code",
   "execution_count": 0,
   "metadata": {
    "collapsed": false,
    "scrolled": false
   },
   "outputs": [],
   "source": [
    "g = sns.distplot(plot_data)\n",
    "g.set(title=\"n=%d\" % len(plot_data))"
   ]
  },
  {
   "cell_type": "code",
   "execution_count": 0,
   "metadata": {
    "collapsed": false
   },
   "outputs": [],
   "source": [
    "g."
   ]
  },
  {
   "cell_type": "code",
   "execution_count": 0,
   "metadata": {
    "collapsed": false,
    "run_control": {
     "marked": false
    },
    "scrolled": false
   },
   "outputs": [],
   "source": [
    "print(\"median\", inter_df['R^2'].median())\n",
    "print(\"max\", inter_df['R^2'].max())\n",
    "print(\"mean\", inter_df['R^2'].mean())"
   ]
  }
 ],
 "metadata": {
  "kernelspec": {
   "display_name": "Python 3",
   "language": "python",
   "name": "python3"
  },
  "language_info": {
   "codemirror_mode": {
    "name": "ipython",
    "version": 3
   },
   "file_extension": ".py",
   "mimetype": "text/x-python",
   "name": "python",
   "nbconvert_exporter": "python",
   "pygments_lexer": "ipython3",
   "version": "3.4.3"
  }
 },
 "nbformat": 4,
 "nbformat_minor": 0
}

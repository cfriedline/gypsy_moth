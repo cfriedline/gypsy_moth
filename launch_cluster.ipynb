{
 "metadata": {
  "name": "",
  "signature": "sha256:bfc88c3c589d4fa30c8dff395add5ee3ad0db8d895b7688233afc00aff6f2c50"
 },
 "nbformat": 3,
 "nbformat_minor": 0,
 "worksheets": [
  {
   "cells": [
    {
     "cell_type": "code",
     "collapsed": false,
     "input": [
      "profile=\"huge\""
     ],
     "language": "python",
     "metadata": {},
     "outputs": [],
     "prompt_number": ""
    },
    {
     "cell_type": "code",
     "collapsed": false,
     "input": [
      "qhost = !qhost | grep godel"
     ],
     "language": "python",
     "metadata": {},
     "outputs": [],
     "prompt_number": ""
    },
    {
     "cell_type": "code",
     "collapsed": false,
     "input": [
      "controller_script = \"/tmp/ipcontroller.sh\"\n",
      "with open(controller_script, \"w\") as o:\n",
      "    o.write(\"ipcontroller --profile=%s\\n\" % profile)\n",
      "!chmod +x $controller_script"
     ],
     "language": "python",
     "metadata": {},
     "outputs": [],
     "prompt_number": ""
    },
    {
     "cell_type": "code",
     "collapsed": false,
     "input": [
      "!qdel ipcontroller\n",
      "!qdel ipengine"
     ],
     "language": "python",
     "metadata": {},
     "outputs": [],
     "prompt_number": ""
    },
    {
     "cell_type": "code",
     "collapsed": false,
     "input": [
      "exclude_ipengine = {\"godel97\"}\n",
      "import time, tempfile, os\n",
      "cmd = \"qsub -o /tmp -e /tmp -cwd -V -N ipcontroller -q godel199@godel97 %s\" % controller_script\n",
      "print cmd\n",
      "!$cmd\n",
      "time.sleep(10)\n",
      "temp_files = []\n",
      "for elem in [x.split() for x in qhost]:\n",
      "    host = elem[0]\n",
      "    if not host in exclude_ipengine:\n",
      "        cpus = int(elem[2])\n",
      "        load = elem[3]\n",
      "        if cpus > 8 and load != \"-\":\n",
      "            tmp = tempfile.NamedTemporaryFile(delete=False)\n",
      "            temp_files.append(tmp.name)\n",
      "            tmp.write(\"bash -c 'pkill -9 ipengine'\\n\")\n",
      "            for i in xrange(cpus):\n",
      "                tmp.write(\"ipengine --profile=%s&\\nsleep 5\\n\" % profile)\n",
      "            tmp.write(\"sleep 365d\\n\")\n",
      "            tmp.close()\n",
      "            q = \"all.q\"\n",
      "            if host == \"godel97\" or host == \"godel199\":\n",
      "                q = \"godel199\"\n",
      "            cmd = \"qsub -o /tmp -e /tmp -cwd -V -N ipengine -q %s@%s %s\" % (q, host, tmp.name)\n",
      "            print cmd\n",
      "            !chmod +x {tmp.name}\n",
      "            !$cmd"
     ],
     "language": "python",
     "metadata": {},
     "outputs": [],
     "prompt_number": ""
    },
    {
     "cell_type": "code",
     "collapsed": false,
     "input": [
      "total_cpus = 0\n",
      "for elem in [x.split() for x in qhost]:\n",
      "    total_cpus += int(elem[2])\n",
      "total_cpus"
     ],
     "language": "python",
     "metadata": {},
     "outputs": [],
     "prompt_number": ""
    },
    {
     "cell_type": "markdown",
     "metadata": {},
     "source": [
      "##Check size of the cluster"
     ]
    },
    {
     "cell_type": "code",
     "collapsed": false,
     "input": [
      "from datetime import datetime\n",
      "from IPython.parallel import Client\n",
      "from IPython.display import clear_output\n",
      "rc = Client(profile=profile)"
     ],
     "language": "python",
     "metadata": {},
     "outputs": [],
     "prompt_number": ""
    },
    {
     "cell_type": "code",
     "collapsed": false,
     "input": [
      "dview = rc[:]\n",
      "print len(dview)"
     ],
     "language": "python",
     "metadata": {},
     "outputs": [],
     "prompt_number": ""
    },
    {
     "cell_type": "code",
     "collapsed": false,
     "input": [
      "num = 0\n",
      "while (1):\n",
      "    print datetime.now().time(), len(rc[:])\n",
      "    time.sleep(3)\n",
      "    num += 1\n",
      "    if num == 10:\n",
      "        num = 0\n",
      "        clear_output()"
     ],
     "language": "python",
     "metadata": {},
     "outputs": []
    },
    {
     "cell_type": "markdown",
     "metadata": {},
     "source": [
      "## Kill ipengines"
     ]
    },
    {
     "cell_type": "code",
     "collapsed": false,
     "input": [
      "clush_hosts = \"'godel[02-37,199,97,200]'\"\n",
      "clush = \"clush -b -w %s -u 10\" % clush_hosts\n",
      "clush_nob = \"clush -w %s -u 10\" % clush_hosts"
     ],
     "language": "python",
     "metadata": {},
     "outputs": []
    },
    {
     "cell_type": "code",
     "collapsed": false,
     "input": [
      "!$clush_nob ps ax | grep cfriedline | grep -v grep | grep ipengine"
     ],
     "language": "python",
     "metadata": {},
     "outputs": [],
     "prompt_number": ""
    },
    {
     "cell_type": "code",
     "collapsed": false,
     "input": [
      "!$clush pkill -9 ipcontroller\n",
      "!$clush pkill -9 ipengine"
     ],
     "language": "python",
     "metadata": {},
     "outputs": [],
     "prompt_number": ""
    },
    {
     "cell_type": "code",
     "collapsed": false,
     "input": [
      "!$clush pkill -9 ms"
     ],
     "language": "python",
     "metadata": {},
     "outputs": [],
     "prompt_number": ""
    },
    {
     "cell_type": "code",
     "collapsed": false,
     "input": [],
     "language": "python",
     "metadata": {},
     "outputs": []
    }
   ],
   "metadata": {}
  }
 ]
}
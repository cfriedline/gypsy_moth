{
 "metadata": {
  "name": "",
  "signature": "sha256:6c70f152c17adbb24dceaca2f177ded9a40b10d472834311eee6bb5f736a6899"
 },
 "nbformat": 3,
 "nbformat_minor": 0,
 "worksheets": [
  {
   "cells": [
    {
     "cell_type": "code",
     "collapsed": false,
     "input": [
      "import pandas as pd"
     ],
     "language": "python",
     "metadata": {},
     "outputs": [],
     "prompt_number": ""
    },
    {
     "cell_type": "code",
     "collapsed": false,
     "input": [
      "layouts = [\"i1.txt\", \"i3.txt\"]\n",
      "wells = \"wells.txt\""
     ],
     "language": "python",
     "metadata": {},
     "outputs": [],
     "prompt_number": ""
    },
    {
     "cell_type": "code",
     "collapsed": false,
     "input": [
      "well_data = {}\n",
      "for num, line in enumerate(open(wells)):\n",
      "    if num > 0:\n",
      "        line = line.strip().split(\"\\t\")\n",
      "        well_data[line[0]] = line[1:]"
     ],
     "language": "python",
     "metadata": {},
     "outputs": [],
     "prompt_number": ""
    },
    {
     "cell_type": "code",
     "collapsed": false,
     "input": [
      "for l in layouts:\n",
      "    with open(\"barcodes_%s\" % l, \"w\") as o:\n",
      "        o.write(\"sample\\tlocation\\twell\\tbarcode1\\tbarcode2\\tploidy\\n\")\n",
      "        data = pd.read_csv(l, sep=\"\\t\", index_col=0, header=0)\n",
      "        for i in data.index:\n",
      "            for j in data.columns:\n",
      "                key = \"%s%s\" % (i, j)\n",
      "                name = data.loc[i, j].split()\n",
      "                o.write(\"%s\\t%s\\t%s\\t%s\\n\" % (name[1],\n",
      "                                                  name[0],\n",
      "                                                  key,\n",
      "                                                  \"\\t\".join(well_data[key])))\n",
      "                print name, well_data[key]"
     ],
     "language": "python",
     "metadata": {},
     "outputs": [],
     "prompt_number": ""
    },
    {
     "cell_type": "code",
     "collapsed": false,
     "input": [
      "cat barcodes_i3.txt"
     ],
     "language": "python",
     "metadata": {},
     "outputs": [],
     "prompt_number": ""
    },
    {
     "cell_type": "code",
     "collapsed": false,
     "input": [],
     "language": "python",
     "metadata": {},
     "outputs": []
    }
   ],
   "metadata": {}
  }
 ]
}
{
 "cells": [
  {
   "cell_type": "code",
   "execution_count": 0,
   "metadata": {
    "ExecuteTime": {
     "end_time": "2016-03-25T11:50:25.128537",
     "start_time": "2016-03-25T11:50:25.109296"
    },
    "collapsed": false
   },
   "outputs": [],
   "source": [
    "%%writefile run_bayenv.ipy\n",
    "\n",
    "import psutil\n",
    "import numpy as np\n",
    "import sys\n",
    "import os\n",
    "import time\n",
    "\n",
    "def get_free_cpu():\n",
    "    procs = {}\n",
    "    affinities = set()\n",
    "    cpus = !cat /proc/cpuinfo | grep processor | wc -l\n",
    "    print(\"cpus = %s\" % cpus)\n",
    "    try:\n",
    "        cpus = int(cpus[0])\n",
    "    except ValueError as e:\n",
    "        cpus = int(cpus[2]) #account for stupid cluster error with BASH_FUNC_module\n",
    "    possible_cpus = set(range(cpus))\n",
    "    for proc in psutil.process_iter():\n",
    "        try:\n",
    "           if proc.username() == 'cfriedline' and proc.name() == 'bayenv2':\n",
    "            procs[proc.pid] = proc.cpu_affinity()\n",
    "            [affinities.add(x) for x in proc.cpu_affinity()]\n",
    "        except psutil.NoSuchProcess:\n",
    "            pass\n",
    "    available_cpus = possible_cpus.difference(affinities)\n",
    "    if len(available_cpus) == 0:\n",
    "        print(\"no cpus available.  trying again...\")\n",
    "        time.sleep(1)\n",
    "        return(get_free_cpu())\n",
    "    return np.random.choice(list(available_cpus))\n",
    "\n",
    "cmd = \"numactl --physcpubind=%d %s\" % (get_free_cpu(), sys.argv[1])\n",
    "print(cmd)\n",
    "!{cmd}"
   ]
  },
  {
   "cell_type": "code",
   "execution_count": 0,
   "metadata": {
    "collapsed": true
   },
   "outputs": [],
   "source": []
  }
 ],
 "metadata": {
  "_draft": {
   "nbviewer_url": "https://gist.github.com/0f4474a0a870bd9ef74c"
  },
  "gist": {
   "data": {
    "description": "gypsy_moth/free_cpu.ipynb",
    "public": true
   },
   "id": "0f4474a0a870bd9ef74c"
  },
  "kernelspec": {
   "display_name": "Python 3",
   "language": "python",
   "name": "python3"
  },
  "language_info": {
   "codemirror_mode": {
    "name": "ipython",
    "version": 3
   },
   "file_extension": ".py",
   "mimetype": "text/x-python",
   "name": "python",
   "nbconvert_exporter": "python",
   "pygments_lexer": "ipython3",
   "version": "3.4.4"
  }
 },
 "nbformat": 4,
 "nbformat_minor": 0
}

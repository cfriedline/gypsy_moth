{
 "cells": [
  {
   "cell_type": "code",
   "execution_count": 0,
   "metadata": {
    "ExecuteTime": {},
    "collapsed": false
   },
   "outputs": [],
   "source": [
    "import pandas as pd\n",
    "import numpy as np\n",
    "import scipy as sp\n",
    "import matplotlib.pyplot as plt\n",
    "import seaborn as sns\n",
    "%matplotlib inline\n",
    "from plotly.offline import download_plotlyjs, init_notebook_mode, plot, iplot"
   ]
  },
  {
   "cell_type": "code",
   "execution_count": 0,
   "metadata": {
    "ExecuteTime": {},
    "collapsed": false
   },
   "outputs": [],
   "source": [
    "init_notebook_mode(connected=False)"
   ]
  },
  {
   "cell_type": "code",
   "execution_count": 0,
   "metadata": {
    "ExecuteTime": {},
    "collapsed": false
   },
   "outputs": [],
   "source": [
    "gps = {'QC32':[47.2509807, -79.4060515],\n",
    "      'QC93': [46.90826, -70.8061075],\n",
    "      'NC': [36.449125, -76.024672],\n",
    "      'NY': [42.897768, -74.094761],\n",
    "      'VA1': [38.657615, -77.463603],\n",
    "      'VA2': [38.857470, -77.695003]}\n",
    "gps_df = pd.DataFrame(gps).T\n",
    "gps_df.columns = ['lat','lon']"
   ]
  },
  {
   "cell_type": "code",
   "execution_count": 0,
   "metadata": {
    "ExecuteTime": {},
    "collapsed": false
   },
   "outputs": [],
   "source": [
    "import plotly.plotly as py\n",
    "import pandas as pd\n",
    "\n",
    "df = pd.read_csv('https://raw.githubusercontent.com/plotly/datasets/master/2014_us_cities.csv')\n",
    "df.head()\n",
    "\n",
    "df['text'] = df['name'] + '<br>Population ' + (df['pop']/1e6).astype(str)+' million'\n",
    "limits = [(0,2),(3,10),(11,20),(21,50),(50,3000)]\n",
    "colors = [\"rgb(0,116,217)\",\"rgb(255,65,54)\",\"rgb(133,20,75)\",\"rgb(255,133,27)\",\"lightgrey\"]\n",
    "cities = []\n",
    "scale = 5000\n",
    "\n",
    "for i in range(len(limits)):\n",
    "    lim = limits[i]\n",
    "    df_sub = df[lim[0]:lim[1]]\n",
    "    city = dict(\n",
    "        type = 'scattergeo',\n",
    "        locationmode = 'USA-states',\n",
    "        lon = df_sub['lon'],\n",
    "        lat = df_sub['lat'],\n",
    "        text = df_sub['text'],\n",
    "        marker = dict(\n",
    "            size = df_sub['pop']/scale,\n",
    "            color = colors[i],\n",
    "            line = dict(width=0.5, color='rgb(40,40,40)'),\n",
    "            sizemode = 'area'\n",
    "        ),\n",
    "        name = '{0} - {1}'.format(lim[0],lim[1]) )\n",
    "    cities.append(city)\n",
    "\n",
    "layout = dict(\n",
    "        title = '2014 US city populations<br>(Click legend to toggle traces)',\n",
    "        showlegend = True,\n",
    "        geo = dict(\n",
    "            scope='usa',\n",
    "            projection=dict( type='albers usa' ),\n",
    "            showland = True,\n",
    "            landcolor = 'rgb(217, 217, 217)',\n",
    "            subunitwidth=1,\n",
    "            countrywidth=1,\n",
    "            subunitcolor=\"rgb(255, 255, 255)\",\n",
    "            countrycolor=\"rgb(255, 255, 255)\"\n",
    "        ),\n",
    "    )\n",
    "\n",
    "fig = dict( data=cities, layout=layout )\n",
    "py.iplot( fig, validate=False, filename='d3-bubble-map-populations' )"
   ]
  },
  {
   "cell_type": "code",
   "execution_count": 0,
   "metadata": {
    "ExecuteTime": {},
    "collapsed": false
   },
   "outputs": [],
   "source": [
    "cities"
   ]
  },
  {
   "cell_type": "code",
   "execution_count": 0,
   "metadata": {
    "ExecuteTime": {},
    "collapsed": false
   },
   "outputs": [],
   "source": [
    "labeled = pd.read_csv(\"labeled.csv\", sep=\"\\t\", index_col=0)"
   ]
  },
  {
   "cell_type": "code",
   "execution_count": 0,
   "metadata": {
    "ExecuteTime": {},
    "collapsed": false,
    "scrolled": false
   },
   "outputs": [],
   "source": [
    "num = 1\n",
    "sns.set_context(\"talk\")\n",
    "images = []\n",
    "fig = plt.gcf()\n",
    "fig2 = plt.Figure()\n",
    "for label, data in labeled.groupby(\"poplabel\"):\n",
    "    d = data.iloc[:,0:7].apply(np.mean)\n",
    "    plt.subplot(2,3,num)\n",
    "    patches, texts = plt.pie(d, shadow=False, startangle=0)\n",
    "    plt.title(label)\n",
    "    plt.axis('equal')\n",
    "    plt.tight_layout()\n",
    "    num+=1\n",
    "    \n",
    "plt.legend(patches, list(d.index), \n",
    "       loc = 'upper right', \n",
    "       bbox_to_anchor = (0,-0.35,1.1,1),\n",
    "       bbox_transform = plt.gcf().transFigure)\n",
    "plt.show()\n",
    "num = 0\n"
   ]
  },
  {
   "cell_type": "code",
   "execution_count": 0,
   "metadata": {
    "ExecuteTime": {},
    "collapsed": false
   },
   "outputs": [],
   "source": [
    "num = 1\n",
    "sns.set_context(\"talk\")\n",
    "fig = plt.gcf()\n",
    "for label, data in labeled.groupby(\"poplabel\"):\n",
    "    d = data.iloc[:,0:7].apply(np.mean)\n",
    "    patches, texts = plt.pie(d, shadow=False, startangle=0)\n",
    "    plt.title(label)\n",
    "    plt.axis('equal')\n",
    "    plt.tight_layout()\n",
    "    num+=1\n",
    "    fname = \"{}.png\".format(label)\n",
    "    plt.savefig(fname, bbox_inches=\"tight\", dpi=300)\n",
    "    plt.close()"
   ]
  },
  {
   "cell_type": "code",
   "execution_count": 0,
   "metadata": {
    "ExecuteTime": {},
    "collapsed": false
   },
   "outputs": [],
   "source": [
    "from mpl_toolkits.basemap import Basemap\n",
    "import matplotlib as mpl\n",
    "mpl.rcParams['figure.figsize'] = [20, 20]\n",
    "m = Basemap(ellps=\"WGS84\",\n",
    "            projection=\"tmerc\",\n",
    "            llcrnrlon=-85.950078, \n",
    "            llcrnrlat=34.565319, \n",
    "            urcrnrlon=-62.977811, \n",
    "            urcrnrlat=47.912892, \n",
    "            resolution=\"l\",\n",
    "            lon_0=-75.,\n",
    "            lat_0=40.)"
   ]
  },
  {
   "cell_type": "code",
   "execution_count": 0,
   "metadata": {
    "ExecuteTime": {},
    "collapsed": false
   },
   "outputs": [],
   "source": [
    "sns.set_context(\"talk\")\n",
    "m.readshapefile(\"/home/cfriedline/g/src/tl_2014_us_state/tl_2014_us_state\", name=\"states\", drawbounds=False);\n",
    "m.readshapefile(\"/home/cfriedline/g/src/ca_province/PROVINCE\", name=\"ca\", drawbounds=False);"
   ]
  },
  {
   "cell_type": "code",
   "execution_count": 0,
   "metadata": {
    "ExecuteTime": {},
    "collapsed": false
   },
   "outputs": [],
   "source": [
    "?plt.text"
   ]
  },
  {
   "cell_type": "code",
   "execution_count": 0,
   "metadata": {
    "ExecuteTime": {},
    "collapsed": false,
    "scrolled": false
   },
   "outputs": [],
   "source": [
    "from matplotlib.collections import PatchCollection\n",
    "import matplotlib.image as mpimg\n",
    "ax = plt.subplot(111)\n",
    "m.drawcoastlines()\n",
    "m.drawstates()\n",
    "m.drawmapboundary(fill_color='white')\n",
    "ims = []\n",
    "for label, data in labeled.groupby(\"poplabel\"):\n",
    "    im = None\n",
    "    d = data.iloc[:,0:7].apply(np.mean)\n",
    "    x, y = m(gps_df.ix[label].lon, gps_df.ix[label].lat)\n",
    "    im = mpimg.imread(\"{}.png\".format(label))\n",
    "    print(x, y)\n",
    "    m.plot(x, y,'wo', markersize=20)\n",
    "    if \"VA\" in label:\n",
    "        plt.text(x-110000, y, label, fontdict={\"size\": \"20\", 'color':'red'}, horizontalalignment='center', verticalalignment='center')\n",
    "    else:\n",
    "        plt.text(x+110000, y, label, fontdict={\"size\": \"20\", 'color':'red'}, horizontalalignment='center', verticalalignment='center')\n",
    "    if label == \"VA2\":\n",
    "        pass\n",
    "    else:\n",
    "        plt.imshow(im, interpolation='none', aspect=0.8, extent=(x-100000, x+100000, y-100000, y+100000))\n",
    "plt.gcf().set_size_inches(20, 20)\n",
    "plt.savefig(\"map.png\", dpi=150)\n",
    "plt.show()"
   ]
  },
  {
   "cell_type": "code",
   "execution_count": 0,
   "metadata": {
    "collapsed": true
   },
   "outputs": [],
   "source": []
  },
  {
   "cell_type": "code",
   "execution_count": 0,
   "metadata": {
    "collapsed": true
   },
   "outputs": [],
   "source": []
  }
 ],
 "metadata": {
  "kernelspec": {
   "display_name": "Python 3",
   "language": "python",
   "name": "python3"
  },
  "language_info": {
   "codemirror_mode": {
    "name": "ipython",
    "version": 3
   },
   "file_extension": ".py",
   "mimetype": "text/x-python",
   "name": "python",
   "nbconvert_exporter": "python",
   "pygments_lexer": "ipython3",
   "version": "3.5.2"
  }
 },
 "nbformat": 4,
 "nbformat_minor": 0
}

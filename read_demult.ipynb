{
 "cells": [
  {
   "cell_type": "code",
   "execution_count": 0,
   "metadata": {
    "ExecuteTime": {},
    "collapsed": false
   },
   "outputs": [],
   "source": [
    "import os, sys\n",
    "sys.path.append(\"/home/cfriedline/ipynb/include_utils\")\n",
    "import include_utils as u\n",
    "import pandas as pd\n",
    "import numpy as np\n",
    "from IPython.display import display"
   ]
  },
  {
   "cell_type": "code",
   "execution_count": 0,
   "metadata": {
    "ExecuteTime": {},
    "collapsed": false
   },
   "outputs": [],
   "source": [
    "file_dir = \"/home/cfriedline/eckertlab/gypsy_indiv/raw_demult_gbsx\"\n",
    "if not os.path.exists(file_dir):\n",
    "    os.mkdir(file_dir)\n",
    "os.chdir(file_dir)"
   ]
  },
  {
   "cell_type": "code",
   "execution_count": 0,
   "metadata": {
    "ExecuteTime": {},
    "collapsed": false
   },
   "outputs": [],
   "source": [
    "proc_files = ['/gpfs_fs/home/eckertlab/gypsy_indiv/HiSeq_140425/lane1_Undetermined_L001_R1_001.fastq',\n",
    "             '/gpfs_fs/home/eckertlab/gypsy_indiv/HiSeq_140425/lane2_Undetermined_L002_R1_001.fastq']"
   ]
  },
  {
   "cell_type": "code",
   "execution_count": 0,
   "metadata": {
    "ExecuteTime": {},
    "collapsed": false
   },
   "outputs": [],
   "source": [
    "proc_files"
   ]
  },
  {
   "cell_type": "code",
   "execution_count": 0,
   "metadata": {
    "ExecuteTime": {},
    "collapsed": false
   },
   "outputs": [],
   "source": [
    "pwd"
   ]
  },
  {
   "cell_type": "code",
   "execution_count": 0,
   "metadata": {
    "ExecuteTime": {},
    "collapsed": false,
    "scrolled": true
   },
   "outputs": [],
   "source": [
    "!mkdir I1\n",
    "!mkdir I3"
   ]
  },
  {
   "cell_type": "code",
   "execution_count": 0,
   "metadata": {
    "ExecuteTime": {},
    "collapsed": false
   },
   "outputs": [],
   "source": [
    "!cp /home/cfriedline/ipynb/gypsy_moth/barcodes_i1.txt I1/barcodes\n",
    "!cp /home/cfriedline/ipynb/gypsy_moth/barcodes_i3.txt I3/barcodes"
   ]
  },
  {
   "cell_type": "code",
   "execution_count": 0,
   "metadata": {
    "ExecuteTime": {},
    "collapsed": true
   },
   "outputs": [],
   "source": [
    "!ln -s /gpfs_fs/home/eckertlab/gypsy_indiv/HiSeq_140425/lane1_Undetermined_L001_R1_001.fastq I1/lane1_Undetermined_L001_R1_001.fastq"
   ]
  },
  {
   "cell_type": "code",
   "execution_count": 0,
   "metadata": {
    "ExecuteTime": {},
    "collapsed": false
   },
   "outputs": [],
   "source": [
    "!ln -s /gpfs_fs/home/eckertlab/gypsy_indiv/HiSeq_140425/lane2_Undetermined_L002_R1_001.fastq I3/lane2_Undetermined_L002_R1_001.fastq"
   ]
  },
  {
   "cell_type": "code",
   "execution_count": 0,
   "metadata": {
    "ExecuteTime": {},
    "collapsed": false
   },
   "outputs": [],
   "source": [
    "#redo barcodes for gbsx\n",
    "bcs = [\"I1/barcodes\", \"I3/barcodes\"]\n",
    "for b in bcs:\n",
    "    d = pd.read_csv(b, sep=\"\\t\")\n",
    "    d['bc'] = d.barcode2.apply(lambda x: x.replace(\"CTCTTTCCCTACACGACGCTCTTCCGATCT\", \"\").upper())\n",
    "    d['sample_name'] = d.apply(lambda row: \"{}_{}_{}\".format(row['location'], row['sample'], row['bc']), axis=1)\n",
    "    d['enz'] = \"EcoRI\"\n",
    "    out = os.path.join(os.path.dirname(b), \"barcodes_gbsx.txt\")\n",
    "    d[['sample_name', 'bc', 'enz']].to_csv(out, header=False, index=False, sep=\"\\t\")"
   ]
  },
  {
   "cell_type": "code",
   "execution_count": 0,
   "metadata": {
    "ExecuteTime": {},
    "collapsed": false
   },
   "outputs": [],
   "source": [
    "file_dir"
   ]
  },
  {
   "cell_type": "code",
   "execution_count": 0,
   "metadata": {
    "ExecuteTime": {},
    "collapsed": false
   },
   "outputs": [],
   "source": [
    "proc_files = ! find . | grep '.fastq$'"
   ]
  },
  {
   "cell_type": "code",
   "execution_count": 0,
   "metadata": {
    "ExecuteTime": {},
    "collapsed": false
   },
   "outputs": [],
   "source": [
    "proc_files = [os.path.abspath(x) for x in proc_files]\n",
    "proc_files"
   ]
  },
  {
   "cell_type": "code",
   "execution_count": 0,
   "metadata": {
    "ExecuteTime": {},
    "collapsed": false
   },
   "outputs": [],
   "source": [
    "def build_gbsx_cmd(fastq, bc, enz):\n",
    "    cmd = \"/home/cfriedline/g/src/jdk1.8.0_92/bin/java -jar /home/cfriedline/g/src/GBSX/GBSX_v1.2.jar --Demultiplexer\"\n",
    "    return \"{} -f1 {} -i {} -gzip false-rad true -mb 2 -me 1 -ea {}\".format(cmd, fastq, bc, enz), \"gbsx\"\n",
    "\n",
    "def write_qsub(workdir, cmd, label, run, cmd_label):\n",
    "    with open(os.path.join(workdir, \"run_{}.sh\".format(cmd_label)), \"w\") as o:\n",
    "        o.write(\"\"\"#!/bin/bash\n",
    "#$ -N {4}{0}\n",
    "#$ -cwd\n",
    "#$ -V\n",
    "#$ -S /bin/bash\n",
    "#$ -e {4}_{3}_{0}.err\n",
    "#$ -o {4}_{3}_{0}.out\n",
    "cd {1}\n",
    "{2}\n",
    "\"\"\".format(label, workdir, cmd, run, cmd_label))\n",
    "\n",
    "for s in proc_files:\n",
    "    run = os.path.basename(os.path.dirname(s))\n",
    "    label = 1\n",
    "    bc_file = os.path.join(os.path.dirname(s), \"barcodes_gbsx.txt\")\n",
    "    enz_file = os.path.join(file_dir, \"ecori.txt\")\n",
    "    workdir = os.path.dirname(s)\n",
    "    gbsx_cmd, gbsx_label = build_gbsx_cmd(s, bc_file, enz_file)\n",
    "    write_qsub(workdir, gbsx_cmd, label, run, gbsx_label)"
   ]
  },
  {
   "cell_type": "code",
   "execution_count": 0,
   "metadata": {
    "ExecuteTime": {},
    "collapsed": false
   },
   "outputs": [],
   "source": [
    "os.chdir(file_dir)"
   ]
  },
  {
   "cell_type": "code",
   "execution_count": 0,
   "metadata": {
    "ExecuteTime": {},
    "collapsed": false
   },
   "outputs": [],
   "source": [
    "pwd"
   ]
  },
  {
   "cell_type": "markdown",
   "metadata": {
    "ExecuteTime": {}
   },
   "source": [
    "### Submit jobs to SGE\n",
    "```\n",
    "cd /gpfs_fs/home/eckertlab/gypsy_indiv/raw_demult_gbsx\n",
    "find . -name \"run_gbsx.sh\" | xargs chmod +x\n",
    "find . -name \"run_gbsx.sh\" -exec qsub {} \\;\n",
    "```"
   ]
  },
  {
   "cell_type": "code",
   "execution_count": 0,
   "metadata": {
    "ExecuteTime": {},
    "collapsed": false
   },
   "outputs": [],
   "source": [
    "counts = {\"orig\": \"/home/cfriedline/eckertlab/gypsy_indiv/raw_demult/sample_counts.txt\",\n",
    "         \"gbsx_I1\": \"/home/cfriedline/eckertlab/gypsy_indiv/raw_demult_gbsx/I1/gbsDemultiplex.stats\",\n",
    "         \"gbsx_I3\": \"/home/cfriedline/eckertlab/gypsy_indiv/raw_demult_gbsx/I3/gbsDemultiplex.stats\"}\n",
    "\n",
    "\n",
    "orig = pd.read_csv(counts[\"orig\"], sep=\"\\t\", header=None, names=['sample', 'count'])\n",
    "\n",
    "i1 = pd.read_csv(counts[\"gbsx_I1\"], sep=\"\\t\", index_col=0)\n",
    "i1.index = [\"I1_\" + x if x.startswith(\"undeter\") else x[:-1] for x in i1.index]\n",
    "\n",
    "i3 = pd.read_csv(counts[\"gbsx_I3\"], sep=\"\\t\", index_col=0)\n",
    "i3.index = [\"I3_\" + x if x.startswith(\"undeter\") else x[:-1] for x in i3.index]\n",
    "\n",
    "gbsx = pd.concat([i1, i3]).sort_index()"
   ]
  },
  {
   "cell_type": "code",
   "execution_count": 0,
   "metadata": {
    "ExecuteTime": {},
    "collapsed": true
   },
   "outputs": [],
   "source": [
    "orig[\"sampleID\"] = orig['sample'].apply(lambda x: os.path.basename(x).split(\".\")[0])\n",
    "orig.index = orig['sampleID']"
   ]
  },
  {
   "cell_type": "code",
   "execution_count": 0,
   "metadata": {
    "ExecuteTime": {},
    "collapsed": false
   },
   "outputs": [],
   "source": [
    "joined = gbsx.join(orig).sort_index()"
   ]
  },
  {
   "cell_type": "code",
   "execution_count": 0,
   "metadata": {
    "ExecuteTime": {},
    "collapsed": false
   },
   "outputs": [],
   "source": [
    "counts_df = pd.DataFrame(joined[['total.count', 'count']])\n",
    "counts_df.columns = ['gbsx', 'cjf']\n",
    "counts_df.index.name = \"sampleID\""
   ]
  },
  {
   "cell_type": "code",
   "execution_count": 0,
   "metadata": {
    "ExecuteTime": {},
    "collapsed": false
   },
   "outputs": [],
   "source": [
    "def get_perc_diff(row):\n",
    "    if not \"undet\" in row.name:\n",
    "        return ((row.gbsx-row.cjf)*100)/row.cjf\n",
    "    return None\n",
    "\n",
    "counts_df[\"perc_diff\"] =counts_df.apply(get_perc_diff, axis=1)"
   ]
  },
  {
   "cell_type": "code",
   "execution_count": 0,
   "metadata": {
    "ExecuteTime": {},
    "collapsed": false
   },
   "outputs": [],
   "source": [
    "counts_df.to_csv(\"gbsx_vs_orig.txt\", sep=\"\\t\")"
   ]
  },
  {
   "cell_type": "code",
   "execution_count": 0,
   "metadata": {
    "ExecuteTime": {},
    "collapsed": false
   },
   "outputs": [],
   "source": [
    "i1"
   ]
  },
  {
   "cell_type": "code",
   "execution_count": 0,
   "metadata": {
    "collapsed": true
   },
   "outputs": [],
   "source": []
  }
 ],
 "metadata": {
  "kernelspec": {
   "display_name": "Python 3",
   "language": "python",
   "name": "python3"
  },
  "language_info": {
   "codemirror_mode": {
    "name": "ipython",
    "version": 3
   },
   "file_extension": ".py",
   "mimetype": "text/x-python",
   "name": "python",
   "nbconvert_exporter": "python",
   "pygments_lexer": "ipython3",
   "version": "3.4.4"
  }
 },
 "nbformat": 4,
 "nbformat_minor": 0
}

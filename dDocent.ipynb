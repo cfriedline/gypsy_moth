{
 "cells": [
  {
   "cell_type": "code",
   "execution_count": 0,
   "metadata": {
    "ExecuteTime": {},
    "collapsed": true
   },
   "outputs": [],
   "source": [
    "import os\n",
    "import sys\n",
    "import pandas as pd\n",
    "import numpy as np\n",
    "import scipy as sp\n",
    "import scandir\n",
    "import glob\n",
    "import shutil\n",
    "from ipyparallel import Client"
   ]
  },
  {
   "cell_type": "code",
   "execution_count": 0,
   "metadata": {
    "ExecuteTime": {},
    "collapsed": true
   },
   "outputs": [],
   "source": [
    "ddocent = \"/home/cfriedline/g/src/dDocent_run/dDocent\""
   ]
  },
  {
   "cell_type": "code",
   "execution_count": 0,
   "metadata": {
    "ExecuteTime": {},
    "collapsed": true
   },
   "outputs": [],
   "source": [
    "fastq_dirs = [\"/home/cfriedline/eckertlab/gypsy_indiv/raw_demult/I1\", \"/home/cfriedline/eckertlab/gypsy_indiv/raw_demult/I3\"]"
   ]
  },
  {
   "cell_type": "code",
   "execution_count": 0,
   "metadata": {
    "ExecuteTime": {},
    "collapsed": false
   },
   "outputs": [],
   "source": [
    "fastq_files = []\n",
    "for d in fastq_dirs:\n",
    "    fs = [os.path.join(d, x) for x in scandir.listdir(d) if \"fastq\" in x and not \"lane\" in x]\n",
    "    for elem in fs:\n",
    "        fastq_files.append(elem)"
   ]
  },
  {
   "cell_type": "code",
   "execution_count": 0,
   "metadata": {
    "ExecuteTime": {},
    "collapsed": false
   },
   "outputs": [],
   "source": [
    "fastq_files"
   ]
  },
  {
   "cell_type": "code",
   "execution_count": 0,
   "metadata": {
    "ExecuteTime": {},
    "collapsed": false
   },
   "outputs": [],
   "source": [
    "trans = pd.read_csv(\"translation_table.csv\", sep=\"\\t\")\n",
    "trans.index = trans.illumina_id\n",
    "trans = trans.drop(\"illumina_id\", axis=1)\n",
    "trans['name'] = trans.apply(lambda x: \"{}_{}\".format(x['pop'], x.indiv), axis=1)\n",
    "trans_dict = trans.T.to_dict()"
   ]
  },
  {
   "cell_type": "code",
   "execution_count": 0,
   "metadata": {
    "ExecuteTime": {},
    "collapsed": true
   },
   "outputs": [],
   "source": [
    "analysis_dir = \"/home/cfriedline/eckertlab/gypsy_indiv/raw_demult/analysis/dDocent/\""
   ]
  },
  {
   "cell_type": "code",
   "execution_count": 0,
   "metadata": {
    "ExecuteTime": {},
    "collapsed": false
   },
   "outputs": [],
   "source": [
    "rc = Client(profile=\"sge\")"
   ]
  },
  {
   "cell_type": "code",
   "execution_count": 0,
   "metadata": {
    "ExecuteTime": {},
    "collapsed": false
   },
   "outputs": [],
   "source": [
    "dv = rc[:]\n",
    "lv = rc.load_balanced_view()\n",
    "len(dv)"
   ]
  },
  {
   "cell_type": "code",
   "execution_count": 0,
   "metadata": {
    "ExecuteTime": {},
    "collapsed": false
   },
   "outputs": [],
   "source": [
    "with dv.sync_imports():\n",
    "    import os\n",
    "    import shutil"
   ]
  },
  {
   "cell_type": "code",
   "execution_count": 0,
   "metadata": {
    "ExecuteTime": {},
    "collapsed": true
   },
   "outputs": [],
   "source": [
    "def copy_file(args):\n",
    "    src, dst = args\n",
    "    shutil.copy(src, dst)\n",
    "    return dst"
   ]
  },
  {
   "cell_type": "code",
   "execution_count": 0,
   "metadata": {
    "ExecuteTime": {},
    "collapsed": true
   },
   "outputs": [],
   "source": [
    "dv['copy_file'] = copy_file"
   ]
  },
  {
   "cell_type": "code",
   "execution_count": 0,
   "metadata": {
    "ExecuteTime": {},
    "collapsed": false
   },
   "outputs": [],
   "source": [
    "jobs = []\n",
    "for i, f in enumerate(fastq_files):\n",
    "    fname = os.path.basename(f).split(\".\")[0]\n",
    "    if not fname in trans_dict:\n",
    "        print(fname)\n",
    "    dst = os.path.join(analysis_dir, \"{}.F.fq\".format(trans_dict[fname]['name']))\n",
    "    if not \"OTIS\" in fname:\n",
    "        jobs.append(lv.apply_async(copy_file, (f, dst)))"
   ]
  },
  {
   "cell_type": "code",
   "execution_count": 0,
   "metadata": {
    "ExecuteTime": {},
    "collapsed": false
   },
   "outputs": [],
   "source": [
    "np.sum([x.ready() for x in jobs]), len(jobs)"
   ]
  },
  {
   "cell_type": "markdown",
   "metadata": {},
   "source": [
    "### Compress fastq files\n",
    "\n",
    "```\n",
    "cd /home/cfriedline/eckertlab/gypsy_indiv/raw_demult/analysis/dDocent\n",
    "ls *.fq | parallel bgzip {}\n",
    "```\n",
    "\n",
    "### Choices during dDocent\n",
    "\n",
    "* Number of Unique Sequences with More than X Coverage (Counted within individuals): 3\n",
    "* Number of Unique Sequences present in more than X Individuals: 17 (10%)\n",
    "\n",
    "### makefile\n",
    "\n",
    "```\n",
    ">cat /home/cfriedline/eckertlab/gypsy_indiv/raw_demult/analysis/dDocent/makefile\n",
    "\n",
    "default:\n",
    "    export PATH=~/g/src/dDocent_run:~/g/src/dDocent_run/bwa:~/g/src/dDocent_run/seqtk:~/g/src/vcftools_0.1.11/bin:$$PATH; ~/g/src/dDocent_run/dDocent\n",
    "```\n",
    "\n",
    "### Run\n",
    "\n",
    "```\n",
    "qrsh -N dDocent -pe smp 40 -q godel199@godel96\n",
    "cd /home/cfriedline/eckertlab/gypsy_indiv/raw_demult/analysis/dDocent\n",
    "make\n",
    "```\n"
   ]
  },
  {
   "cell_type": "code",
   "execution_count": 0,
   "metadata": {
    "collapsed": true
   },
   "outputs": [],
   "source": []
  }
 ],
 "metadata": {
  "kernelspec": {
   "display_name": "Python 3",
   "language": "python",
   "name": "python3"
  },
  "language_info": {
   "codemirror_mode": {
    "name": "ipython",
    "version": 3
   },
   "file_extension": ".py",
   "mimetype": "text/x-python",
   "name": "python",
   "nbconvert_exporter": "python",
   "pygments_lexer": "ipython3",
   "version": "3.4.4"
  }
 },
 "nbformat": 4,
 "nbformat_minor": 0
}

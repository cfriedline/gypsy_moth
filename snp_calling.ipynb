{
 "metadata": {
  "name": "",
  "signature": "sha256:6bb63451d20a84dbd444cec348e70d192885c3e6196b64bf3ca51c3348fe8874"
 },
 "nbformat": 3,
 "nbformat_minor": 0,
 "worksheets": [
  {
   "cells": [
    {
     "cell_type": "code",
     "collapsed": false,
     "input": [
      "import os, sys, vcf\n",
      "from IPython.parallel import Client\n",
      "import matplotlib.pyplot as plt\n",
      "%matplotlib inline\n",
      "import numpy as np\n",
      "import scipy as sp\n",
      "import pandas as pd\n",
      "from __future__ import division\n",
      "os.environ['R_HOME'] = '/home/cfriedline/R3/lib64/R'\n",
      "os.environ['LD_LIBRARY_PATH'] = \"%s/lib:%s\" % (os.environ['R_HOME'], os.environ['LD_LIBRARY_PATH'])\n",
      "import rpy2.robjects as robjects\n",
      "%load_ext rpy2.ipython\n",
      "%load_ext autoreload"
     ],
     "language": "python",
     "metadata": {},
     "outputs": [],
     "prompt_number": ""
    },
    {
     "cell_type": "code",
     "collapsed": false,
     "input": [
      "rc = Client(profile='sge')\n",
      "dview = rc[:]\n",
      "lview = rc.load_balanced_view()"
     ],
     "language": "python",
     "metadata": {},
     "outputs": [],
     "prompt_number": ""
    },
    {
     "cell_type": "code",
     "collapsed": false,
     "input": [
      "vcftools = \"~/data7/src/vcftools_0.1.12a/bin/vcftools\""
     ],
     "language": "python",
     "metadata": {},
     "outputs": [],
     "prompt_number": ""
    },
    {
     "cell_type": "markdown",
     "metadata": {},
     "source": [
      "    /home/cfriedline/data7/src/freebayes/bin/freebayes -L /data7/eckertlab/gypsy_indiv/bamlist.txt -f /home/cfriedline/data7/assemblies/gypsy/masurca/CA/10-gapclose/genome.ctg.fasta -v /data7/eckertlab/gypsy_indiv/gypsy_freebayes_out.vcf"
     ]
    },
    {
     "cell_type": "code",
     "collapsed": false,
     "input": [
      "#vcf called from freebayes\n",
      "fb_vcf = \"/data7/eckertlab/gypsy_indiv/gypsy_freebayes_out.vcf\""
     ],
     "language": "python",
     "metadata": {},
     "outputs": [],
     "prompt_number": ""
    },
    {
     "cell_type": "code",
     "collapsed": false,
     "input": [
      "!$vcftools --vcf $fb_vcf"
     ],
     "language": "python",
     "metadata": {},
     "outputs": [],
     "prompt_number": ""
    },
    {
     "cell_type": "markdown",
     "metadata": {},
     "source": [
      "    VCFtools - v0.1.12a\n",
      "    (C) Adam Auton and Anthony Marcketta 2009\n",
      "\n",
      "    Parameters as interpreted:\n",
      "        --vcf /data7/eckertlab/gypsy_indiv/gypsy_freebayes_out.vcf\n",
      "\n",
      "    After filtering, kept 192 out of 192 Individuals\n",
      "    After filtering, kept 86785 out of a possible 86785 Sites\n",
      "    Run Time = 3.00 seconds"
     ]
    },
    {
     "cell_type": "markdown",
     "metadata": {},
     "source": [
      "___\n",
      "Outputs the allele frequency for each site in a file with the suffix \".frq\". "
     ]
    },
    {
     "cell_type": "code",
     "collapsed": false,
     "input": [
      "!$vcftools --freq --remove-indels --vcf $fb_vcf --out $fb_vcf"
     ],
     "language": "python",
     "metadata": {},
     "outputs": [],
     "prompt_number": ""
    },
    {
     "cell_type": "markdown",
     "metadata": {},
     "source": [
      "    VCFtools - v0.1.12a\n",
      "    (C) Adam Auton and Anthony Marcketta 2009\n",
      "\n",
      "    Parameters as interpreted:\n",
      "        --vcf /data7/eckertlab/gypsy_indiv/gypsy_freebayes_out.vcf\n",
      "        --freq\n",
      "        --out /data7/eckertlab/gypsy_indiv/gypsy_freebayes_out.vcf\n",
      "        --remove-indels\n",
      "\n",
      "    After filtering, kept 192 out of 192 Individuals\n",
      "    Outputting Frequency Statistics...\n",
      "    After filtering, kept 79761 out of a possible 86785 Sites\n",
      "    Run Time = 43.00 seconds"
     ]
    },
    {
     "cell_type": "markdown",
     "metadata": {},
     "source": [
      "___\n",
      "Outputs the raw allele counts for each site in a file with the suffix \".frq.count\""
     ]
    },
    {
     "cell_type": "code",
     "collapsed": false,
     "input": [
      "!$vcftools --counts --remove-indels --vcf $fb_vcf --out $fb_vcf"
     ],
     "language": "python",
     "metadata": {},
     "outputs": [],
     "prompt_number": ""
    },
    {
     "cell_type": "markdown",
     "metadata": {},
     "source": [
      "    VCFtools - v0.1.12a\n",
      "    (C) Adam Auton and Anthony Marcketta 2009\n",
      "\n",
      "    Parameters as interpreted:\n",
      "        --vcf /data7/eckertlab/gypsy_indiv/gypsy_freebayes_out.vcf\n",
      "        --counts\n",
      "        --out /data7/eckertlab/gypsy_indiv/gypsy_freebayes_out.vcf\n",
      "        --remove-indels\n",
      "\n",
      "    After filtering, kept 192 out of 192 Individuals\n",
      "    Outputting Frequency Statistics...\n",
      "    After filtering, kept 79761 out of a possible 86785 Sites\n",
      "    Run Time = 41.00 seconds"
     ]
    },
    {
     "cell_type": "markdown",
     "metadata": {},
     "source": [
      "___\n",
      "Calculates a measure of heterozygosity on a per-individual basis. Specfically, the inbreeding coefficient, F, is estimated for each individual using a method of moments. The resulting file has the suffix \".het\"."
     ]
    },
    {
     "cell_type": "code",
     "collapsed": false,
     "input": [
      "!$vcftools --het --remove-indels --vcf $fb_vcf --out $fb_vcf"
     ],
     "language": "python",
     "metadata": {},
     "outputs": [],
     "prompt_number": ""
    },
    {
     "cell_type": "markdown",
     "metadata": {},
     "source": [
      "    VCFtools - v0.1.12a\n",
      "    (C) Adam Auton and Anthony Marcketta 2009\n",
      "\n",
      "    Parameters as interpreted:\n",
      "        --vcf /data7/eckertlab/gypsy_indiv/gypsy_freebayes_out.vcf\n",
      "        --het\n",
      "        --out /data7/eckertlab/gypsy_indiv/gypsy_freebayes_out.vcf\n",
      "        --remove-indels\n",
      "\n",
      "    After filtering, kept 192 out of 192 Individuals\n",
      "    Outputting Individual Heterozygosity\n",
      "        Individual Heterozygosity: Only using fully diploid SNPs.\n",
      "        Individual Heterozygosity: Only using biallelic SNPs.\n",
      "    After filtering, kept 79761 out of a possible 86785 Sites\n",
      "    Run Time = 40.00 seconds"
     ]
    },
    {
     "cell_type": "markdown",
     "metadata": {},
     "source": [
      "___\n",
      "\n",
      "Reports a p-value for each site from a Hardy-Weinberg Equilibrium test (as defined by Wigginton, Cutler and Abecasis (2005)). The resulting file (with suffix \".hwe\") also contains the Observed numbers of Homozygotes and Heterozygotes and the corresponding Expected numbers under HWE."
     ]
    },
    {
     "cell_type": "code",
     "collapsed": false,
     "input": [
      "!$vcftools --hardy --vcf $fb_vcf --out $fb_vcf"
     ],
     "language": "python",
     "metadata": {},
     "outputs": [],
     "prompt_number": ""
    },
    {
     "cell_type": "markdown",
     "metadata": {},
     "source": [
      "___\n",
      "This option outputs the genotypes as a large matrix. Three files are produced. The first, with suffix \".012\", contains the genotypes of each individual on a separate line. Genotypes are represented as 0, 1 and 2, where the number represent that number of non-reference alleles. Missing genotypes are represented by -1. The second file, with suffix \".012.indv\" details the individuals included in the main file. The third file, with suffix \".012.pos\" details the site locations included in the main file."
     ]
    },
    {
     "cell_type": "code",
     "collapsed": false,
     "input": [
      "!$vcftools --remove-indels --min-alleles 2 --max-alleles 2 --mac 1 --remove-filtered-all --012 --vcf $fb_vcf --out $fb_vcf"
     ],
     "language": "python",
     "metadata": {},
     "outputs": [],
     "prompt_number": ""
    },
    {
     "cell_type": "markdown",
     "metadata": {},
     "source": [
      "    VCFtools - v0.1.12a\n",
      "    (C) Adam Auton and Anthony Marcketta 2009\n",
      "\n",
      "    Parameters as interpreted:\n",
      "        --vcf /data7/eckertlab/gypsy_indiv/gypsy_freebayes_out.vcf\n",
      "        --mac 1\n",
      "        --max-alleles 2\n",
      "        --min-alleles 2\n",
      "        --012\n",
      "        --out /data7/eckertlab/gypsy_indiv/gypsy_freebayes_out.vcf\n",
      "        --remove-filtered-all\n",
      "        --remove-indels\n",
      "\n",
      "    After filtering, kept 192 out of 192 Individuals\n",
      "    Writing 012 matrix files ... Done.\n",
      "    After filtering, kept 30791 out of a possible 86785 Sites\n",
      "    Run Time = 55.00 seconds"
     ]
    },
    {
     "cell_type": "code",
     "collapsed": false,
     "input": [
      "snp_quals = []\n",
      "snp_dp = []\n",
      "for i, rec in enumerate(vcf.Reader(open(fb_vcf))):\n",
      "    if rec.INFO['TYPE'][0] == 'snp':\n",
      "        snp_quals.append(rec.QUAL)\n",
      "        snp_dp.append(rec.INFO['DP'])\n",
      "    if i % 5000 == 0:\n",
      "        print \"at %d\" % i"
     ],
     "language": "python",
     "metadata": {},
     "outputs": [],
     "prompt_number": ""
    },
    {
     "cell_type": "code",
     "collapsed": false,
     "input": [
      "plt.hist(snp_quals, bins=100)\n",
      "plt.title(\"%.2f +/- %.2f [%d, %d]\" % (np.mean(snp_quals), np.std(snp_quals), np.min(snp_quals), np.max(snp_quals)))\n",
      "plt.xlabel(\"QUAL\")\n",
      "plt.xlim(0, 10000)\n",
      "plt.show()"
     ],
     "language": "python",
     "metadata": {},
     "outputs": [],
     "prompt_number": ""
    },
    {
     "cell_type": "code",
     "collapsed": false,
     "input": [
      "plt.hist(snp_dp, bins=100)\n",
      "plt.title(\"%.2f +/- %.2f [%d, %d]\" % (np.mean(snp_dp), np.std(snp_dp), np.min(snp_dp), np.max(snp_dp)))\n",
      "plt.xlabel(\"DP\")\n",
      "plt.xlim((0,700))\n",
      "plt.show()"
     ],
     "language": "python",
     "metadata": {},
     "outputs": [],
     "prompt_number": ""
    },
    {
     "cell_type": "markdown",
     "metadata": {},
     "source": [
      "___\n",
      "##Create file for afsource"
     ]
    },
    {
     "cell_type": "code",
     "collapsed": false,
     "input": [
      "def get_missing(rec):\n",
      "    missing = 0.0\n",
      "    for sample in rec.samples:\n",
      "        if not sample.data.AO:\n",
      "            missing += 1\n",
      "    return missing\n",
      "\n",
      "def is_valid_snp(rec, min_qual, missing_prob):\n",
      "    if rec.QUAL < min_qual:\n",
      "        return False\n",
      "    t = rec.INFO['TYPE']\n",
      "    if len(t) > 1:\n",
      "        return False\n",
      "    if t[0] != 'snp':\n",
      "        return False\n",
      "    if get_missing(rec)/len(rec.samples) >= missing_prob:\n",
      "        return False\n",
      "    return True    \n",
      "\n",
      "afsource_file = \"%s.afsource_missing_0.5\" % fb_vcf\n",
      "with open(afsource_file, \"w\") as o:\n",
      "    for i, rec in enumerate(vcf.Reader(open(fb_vcf))):\n",
      "        if is_valid_snp(rec, 20, 0.5):\n",
      "            o.write(\"%s\\n\" % \"locus %s pos %d %g\" % (rec.CHROM, rec.POS, 1/rec.QUAL))\n",
      "            for sample in rec.samples:\n",
      "                ref = 0\n",
      "                alt = 0\n",
      "                if sample.data.RO:\n",
      "                    ref = sample.data.RO\n",
      "                if sample.data.AO:\n",
      "                    alt = sample.data.AO\n",
      "                try:\n",
      "                    o.write(\"%s\\n\" % \"%d %d\" % (ref, alt))\n",
      "                except:\n",
      "                    print rec.INFO\n",
      "                    print sample.data\n",
      "        if i % 5000 == 0:\n",
      "            print \"at %d\" % i\n"
     ],
     "language": "python",
     "metadata": {},
     "outputs": [],
     "prompt_number": ""
    },
    {
     "cell_type": "code",
     "collapsed": false,
     "input": [
      "hardy_file = \"/data7/eckertlab/gypsy_indiv/gypsy_freebayes_out.vcf.hwe\"\n",
      "het_file = \"/data7/eckertlab/gypsy_indiv/gypsy_freebayes_out.vcf.het\"\n",
      "freq_file = \"/data7/eckertlab/gypsy_indiv/gypsy_freebayes_out.vcf.frq\"\n",
      "counts_file = \"/data7/eckertlab/gypsy_indiv/gypsy_freebayes_out.vcf.frq.count\"\n",
      "z12_file = \"/data7/eckertlab/gypsy_indiv/gypsy_freebayes_out.vcf.012\"\n",
      "pos_file = \"/data7/eckertlab/gypsy_indiv/gypsy_freebayes_out.vcf.012.pos\"\n",
      "indv_file = \"/data7/eckertlab/gypsy_indiv/gypsy_freebayes_out.vcf.012.indv\"\n",
      "trans_table = \"translation_table.csv\""
     ],
     "language": "python",
     "metadata": {},
     "outputs": [],
     "prompt_number": ""
    },
    {
     "cell_type": "markdown",
     "metadata": {},
     "source": [
      "___\n",
      "##Analysis"
     ]
    },
    {
     "cell_type": "markdown",
     "metadata": {},
     "source": [
      "###Read in 012 file from vcf tools"
     ]
    },
    {
     "cell_type": "code",
     "collapsed": false,
     "input": [
      "z12_df = pd.read_csv(z12_file, header=None, sep=\"\\t\")\n",
      "z12_df = z12_df.drop(0, axis=1)\n",
      "z12_df.columns = pd.Series(z12_df.columns)-1\n",
      "pos_df = pd.read_csv(pos_file, header=None, sep=\"\\t\", names=[\"contig\", \"pos\"])"
     ],
     "language": "python",
     "metadata": {},
     "outputs": [],
     "prompt_number": ""
    },
    {
     "cell_type": "markdown",
     "metadata": {},
     "source": [
      "###Get SNP F_is"
     ]
    },
    {
     "cell_type": "code",
     "collapsed": false,
     "input": [
      "def get_allele_counts(series):\n",
      "    P = 0.0\n",
      "    Q = 0.0\n",
      "    PQ = 0.0\n",
      "    missing = 0.0\n",
      "    c = series.value_counts()\n",
      "    if 0 in c:\n",
      "        P = c[0]\n",
      "    if 2 in c:\n",
      "        Q = c[2]\n",
      "    if 1 in c:\n",
      "        PQ = c[1]\n",
      "    if -1 in c:\n",
      "        missing = c[-1]\n",
      "    if missing/len(series) > 0.5:\n",
      "        P = PQ = Q = 0.0\n",
      "    return (P, PQ, Q)\n",
      "\n",
      "def get_correction(n):\n",
      "    #for finite sample size\n",
      "    return (2*n)/(2*n-1)\n",
      "\n",
      "def get_allele_freqs(series):\n",
      "    c = get_allele_counts(series)\n",
      "    if c:\n",
      "        if sum(c) == 0:\n",
      "            return 0.0, 0.0, c\n",
      "        else:\n",
      "            P = 2*c[0] + c[1]\n",
      "            Q = 2*c[2] + c[1]\n",
      "            total = P + Q\n",
      "            p = P/total\n",
      "            q = Q/total\n",
      "            return p, q, c\n",
      "        \n",
      "def get_he(series):\n",
      "    p, q, c = get_allele_freqs(series)\n",
      "    if p:\n",
      "        He = 2 * p * q * get_correction(sum(c))\n",
      "        return He\n",
      "    return None\n",
      "\n",
      "def get_ho(series):\n",
      "    c = get_allele_counts(series)\n",
      "    if c:\n",
      "        if sum(c) == 0:\n",
      "            return 0.0\n",
      "        else:\n",
      "            Ho = c[1]/(sum(c))\n",
      "            return Ho\n",
      "    return None\n",
      "    \n",
      "def get_Fis(df):\n",
      "#     df = df.ix[:,0:10]\n",
      "    obs = df.apply(get_ho)\n",
      "    exp = df.apply(get_he)\n",
      "    Fis = 1 - obs/exp\n",
      "    return obs, exp, Fis\n",
      "\n",
      "obs, exp, Fis = get_Fis(z12_df)"
     ],
     "language": "python",
     "metadata": {},
     "outputs": [],
     "prompt_number": ""
    },
    {
     "cell_type": "code",
     "collapsed": false,
     "input": [
      "x = Fis.replace([np.inf, -np.inf], np.nan).dropna()\n",
      "plt.hist(x, bins=12)\n",
      "plt.title(\"n=%d\" % len(x))\n",
      "plt.show()"
     ],
     "language": "python",
     "metadata": {},
     "outputs": [],
     "prompt_number": ""
    },
    {
     "cell_type": "markdown",
     "metadata": {},
     "source": [
      "###Remove based on F_is outliers"
     ]
    },
    {
     "cell_type": "code",
     "collapsed": false,
     "input": [
      "Fis_filter_fis = Fis[(Fis >= -0.5) & (Fis <= 0.5)] # by Fis value\n",
      "print \"removed\", (len(Fis)-len(Fis_filter_fis))"
     ],
     "language": "python",
     "metadata": {},
     "outputs": [],
     "prompt_number": ""
    },
    {
     "cell_type": "markdown",
     "metadata": {},
     "source": [
      "###Remove based on MAF < 0.01"
     ]
    },
    {
     "cell_type": "code",
     "collapsed": false,
     "input": [
      "rare = []\n",
      "for snp_index in Fis_filter_fis.index:\n",
      "    p, q, c = get_allele_freqs(z12_df[snp_index])\n",
      "    if min([p,q]) < 0.01:\n",
      "        rare.append(snp_index)\n",
      "print len(rare)"
     ],
     "language": "python",
     "metadata": {},
     "outputs": [],
     "prompt_number": ""
    },
    {
     "cell_type": "code",
     "collapsed": false,
     "input": [
      "Fis_filter_fis_rare = Fis_filter_fis.drop(rare)"
     ],
     "language": "python",
     "metadata": {},
     "outputs": [],
     "prompt_number": ""
    },
    {
     "cell_type": "code",
     "collapsed": true,
     "input": [
      "z12_df"
     ],
     "language": "python",
     "metadata": {},
     "outputs": [],
     "prompt_number": ""
    },
    {
     "cell_type": "markdown",
     "metadata": {},
     "source": [
      "###Put filtered data back with sample/pop"
     ]
    },
    {
     "cell_type": "code",
     "collapsed": false,
     "input": [
      "trans_df = pd.read_csv(trans_table, header=0, index_col=0, sep=\"\\t\")\n",
      "for i, line in enumerate(open(indv_file)):\n",
      "    line = line.strip()\n",
      "    trans = trans_df.ix[line]\n",
      "    z12_df.ix[i, 'sample'] = \"%s_%d\" % (trans['pop'], trans['indiv'])\n",
      "    z12_df.ix[i, 'pop'] = trans['pop']\n",
      "    z12_df.ix[i, 'dupl'] = trans['dup']\n",
      "df = z12_df[z12_df['dupl']==0]\n",
      "df = df.drop('dupl', axis=1)"
     ],
     "language": "python",
     "metadata": {},
     "outputs": [],
     "prompt_number": ""
    },
    {
     "cell_type": "code",
     "collapsed": false,
     "input": [
      "df"
     ],
     "language": "python",
     "metadata": {},
     "outputs": [],
     "prompt_number": ""
    },
    {
     "cell_type": "code",
     "collapsed": false,
     "input": [
      "pop_id = {}\n",
      "i = 0\n",
      "for p in sorted(z12_df['pop'].unique()):\n",
      "    pop_id[p] = i\n",
      "    i+=1\n",
      "pop_id"
     ],
     "language": "python",
     "metadata": {},
     "outputs": [],
     "prompt_number": ""
    },
    {
     "cell_type": "code",
     "collapsed": false,
     "input": [
      "hierf_trans = {0:11, 1:12, 2:22, -1:'NA'}\n",
      "def apply_hierf_trans(series):\n",
      "    return [hierf_trans[x] if x in hierf_trans else x for x in series]\n",
      "df = df.apply(apply_hierf_trans)"
     ],
     "language": "python",
     "metadata": {},
     "outputs": [],
     "prompt_number": ""
    },
    {
     "cell_type": "code",
     "collapsed": false,
     "input": [
      "def assign_popid(series):\n",
      "    series['popid'] = pop_id[series['pop']]\n",
      "    return series\n",
      "df = df.apply(assign_popid, axis=1)  "
     ],
     "language": "python",
     "metadata": {},
     "outputs": [],
     "prompt_number": ""
    },
    {
     "cell_type": "code",
     "collapsed": false,
     "input": [
      "import numbers\n",
      "hierfcols = ['sample', 'popid']\n",
      "# hierfcols.extend(df.columns.values[0:-3])\n",
      "hierfcols.extend(Fis_filter_fis_rare.index)\n",
      "hierf = df[hierfcols].sort('popid')\n",
      "cols = [None]*len(hierf.columns)\n",
      "for i, x in enumerate(hierf.columns):\n",
      "    if isinstance(x, numbers.Number):\n",
      "        cols[i] = \"L%d\" % x\n",
      "    else:\n",
      "        cols[i] = x\n",
      "hierf.columns = pd.Index(cols)"
     ],
     "language": "python",
     "metadata": {},
     "outputs": [],
     "prompt_number": ""
    },
    {
     "cell_type": "code",
     "collapsed": false,
     "input": [
      "hierf"
     ],
     "language": "python",
     "metadata": {},
     "outputs": [],
     "prompt_number": ""
    },
    {
     "cell_type": "code",
     "collapsed": false,
     "input": [
      "hierf.to_csv(\"hierfstat.txt\", header=True, index=False, sep=\"\\t\")"
     ],
     "language": "python",
     "metadata": {},
     "outputs": [],
     "prompt_number": ""
    },
    {
     "cell_type": "code",
     "collapsed": false,
     "input": [
      "%%R\n",
      "library(hierfstat)\n",
      "data = read.table(\"hierfstat.txt\", header=T, sep=\"\\t\")"
     ],
     "language": "python",
     "metadata": {},
     "outputs": [],
     "prompt_number": ""
    },
    {
     "cell_type": "code",
     "collapsed": false,
     "input": [
      "%%R\n",
      "levels = data.frame(data$popid)\n",
      "loci = data[,3:ncol(data)]"
     ],
     "language": "python",
     "metadata": {},
     "outputs": [],
     "prompt_number": ""
    },
    {
     "cell_type": "code",
     "collapsed": false,
     "input": [
      "%%R\n",
      "res = varcomp.glob(levels=levels, loci=loci, diploid=T)"
     ],
     "language": "python",
     "metadata": {},
     "outputs": [],
     "prompt_number": ""
    },
    {
     "cell_type": "code",
     "collapsed": false,
     "input": [
      "%%R\n",
      "saveRDS(res, \"hierfstat.rds\")"
     ],
     "language": "python",
     "metadata": {},
     "outputs": [],
     "prompt_number": ""
    },
    {
     "cell_type": "code",
     "collapsed": false,
     "input": [],
     "language": "python",
     "metadata": {},
     "outputs": []
    }
   ],
   "metadata": {}
  }
 ]
}
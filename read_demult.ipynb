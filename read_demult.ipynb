{
 "metadata": {
  "name": "",
  "signature": "sha256:08c165914cdf971db04377feef88212a64e8488acfc5ef1a481db5190fa9bc02"
 },
 "nbformat": 3,
 "nbformat_minor": 0,
 "worksheets": [
  {
   "cells": [
    {
     "cell_type": "code",
     "collapsed": false,
     "input": [
      "import os, sys"
     ],
     "language": "python",
     "metadata": {},
     "outputs": [],
     "prompt_number": ""
    },
    {
     "cell_type": "code",
     "collapsed": false,
     "input": [
      "from IPython.parallel import Client"
     ],
     "language": "python",
     "metadata": {},
     "outputs": [],
     "prompt_number": ""
    },
    {
     "cell_type": "code",
     "collapsed": false,
     "input": [
      "rc = Client(profile=\"sge\")\n",
      "dview = rc[:]\n",
      "lview = rc.load_balanced_view()"
     ],
     "language": "python",
     "metadata": {},
     "outputs": [],
     "prompt_number": ""
    },
    {
     "cell_type": "code",
     "collapsed": false,
     "input": [
      "file_dir = \"/home/cfriedline/eckertlab/gypsy_indiv/HiSeq_140425\"\n",
      "os.chdir(file_dir)"
     ],
     "language": "python",
     "metadata": {},
     "outputs": [],
     "prompt_number": ""
    },
    {
     "cell_type": "code",
     "collapsed": false,
     "input": [
      "proc_files = !ls *processed.fastq\n",
      "proc_files = [os.path.abspath(f) for f in proc_files]"
     ],
     "language": "python",
     "metadata": {},
     "outputs": [],
     "prompt_number": ""
    },
    {
     "cell_type": "code",
     "collapsed": false,
     "input": [
      "proc_files"
     ],
     "language": "python",
     "metadata": {},
     "outputs": [],
     "prompt_number": ""
    },
    {
     "cell_type": "code",
     "collapsed": false,
     "input": [
      "def format_fastq_tuple(title, seq, qual):\n",
      "    assert len(seq) == len(qual)\n",
      "    return \"@%s\\n%s\\n+\\n%s\\n\" % (title, seq, qual)\n",
      "\n",
      "def get_writers(barcodes):\n",
      "    w = defaultdict()\n",
      "    for b, name in barcodes.items():\n",
      "        w[b] = [name, tempfile.NamedTemporaryFile(delete=False)]\n",
      "    return w\n",
      "\n",
      "def get_barcodes(f):\n",
      "    bcs = defaultdict()\n",
      "    bc_lens = set()\n",
      "    b = os.path.join(os.path.dirname(f), \"barcodes\")\n",
      "    print b\n",
      "    h = open(b)\n",
      "    h.readline()\n",
      "    for line in h:\n",
      "        line = line.strip()\n",
      "        data = line.split(\"\\t\")\n",
      "        if len(data) > 1: #skip blank lines\n",
      "            if \",\" in data[0]:\n",
      "                data[0] = data[0].replace(\" \", \"\").replace(\",\", \"-\")\n",
      "            bc = data[4].upper().replace(\"CTCTTTCCCTACACGACGCTCTTCCGATCT\", \"\")[:-1]\n",
      "            bc_lens.add(len(bc))\n",
      "            bcs[bc] = data[1] + \"_\" + data[0]\n",
      "        \n",
      "    return bcs, bc_lens    \n",
      "\n",
      "def check_barcodes(barcodes):\n",
      "    for i in barcodes.keys():\n",
      "        for j in barcodes.keys():\n",
      "            if i != j:\n",
      "                assert not j.startswith(i)\n",
      "                \n",
      "def copy_file(src, dst):\n",
      "    shutil.copy(src, dst)\n",
      "                \n",
      "def demult(f):\n",
      "    print f\n",
      "    hostname = socket.gethostname()\n",
      "    timer = stopwatch.Timer()\n",
      "    out_dir = os.path.dirname(f)\n",
      "    barcodes, barcode_lens = get_barcodes(f)\n",
      "    check_barcodes(barcodes)\n",
      "    writers = get_writers(barcodes)\n",
      "    count = 0\n",
      "    found = defaultdict(int)\n",
      "    for title, seq, qual in FastqGeneralIterator(open(f)):\n",
      "        for l in barcode_lens: \n",
      "            bc = seq[0:l]\n",
      "            if bc in barcodes:\n",
      "                found[bc] += 1\n",
      "                w = writers[bc][1]\n",
      "                w.write(format_fastq_tuple(title, seq[l:], qual[l:]))\n",
      "                break\n",
      "            \n",
      "        count += 1\n",
      "            \n",
      "        if count % 10000 == 0:\n",
      "            print hostname, f, count\n",
      "            \n",
      "    print hostname, f, \"copying tmp files\"\n",
      "    \n",
      "    pool = Pool()\n",
      "    out_files = []\n",
      "    for k, v in writers.items():\n",
      "        v[1].close()\n",
      "        if k in found:\n",
      "            copy_timer = stopwatch.Timer()\n",
      "            out_file = os.path.join(out_dir, \"%s_%s.fastq\" % (v[0], k))\n",
      "            out_files.append(out_file)\n",
      "            pool.apply_async(copy_file, (v[1].name, out_file))\n",
      "            copy_timer.stop()\n",
      "    pool.close()\n",
      "    pool.join()\n",
      "    for k, v in writers.items():\n",
      "        os.remove(v[1].name)\n",
      "    timer.stop()\n",
      "    print timer.elapsed, out_files\n",
      "\n",
      "dview['format_fastq_tuple'] = format_fastq_tuple\n",
      "dview['demult'] = demult\n",
      "dview['check_barcodes'] = check_barcodes\n",
      "dview['get_writers'] = get_writers\n",
      "dview['get_barcodes'] = get_barcodes\n",
      "dview['copy_file'] = copy_file"
     ],
     "language": "python",
     "metadata": {},
     "outputs": [],
     "prompt_number": ""
    },
    {
     "cell_type": "code",
     "collapsed": false,
     "input": [
      "demult_jobs = []\n",
      "for f in proc_files:\n",
      "    demult_jobs.append()"
     ],
     "language": "python",
     "metadata": {},
     "outputs": [],
     "prompt_number": ""
    },
    {
     "cell_type": "code",
     "collapsed": false,
     "input": [],
     "language": "python",
     "metadata": {},
     "outputs": []
    }
   ],
   "metadata": {}
  }
 ]
}
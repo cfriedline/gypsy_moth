{
 "cells": [
  {
   "cell_type": "code",
   "execution_count": 0,
   "metadata": {
    "collapsed": false
   },
   "outputs": [],
   "source": [
    "import scandir\n",
    "import os, sys\n",
    "import rpy2\n",
    "from rpy2.robjects import pandas2ri\n",
    "pandas2ri.activate()\n",
    "import rpy2.robjects as ro\n",
    "import pandas as pd\n",
    "import matplotlib.pyplot as plt\n",
    "%matplotlib inline\n",
    "import seaborn as sns\n",
    "import numpy as np\n",
    "import dill\n",
    "import random\n",
    "import vcf\n",
    "from hdfstorehelper import HDFStoreHelper\n",
    "import statsmodels.api as sm\n",
    "import statsmodels.formula.api as smf\n",
    "import operator\n",
    "import traceback\n",
    "%load_ext rpy2.ipython\n",
    "from rpy2.robjects import pandas2ri as p2r\n",
    "p2r.activate()\n",
    "r = ro.r\n",
    "import shutil\n",
    "from utils import read_df, save_df\n",
    "from pathlib import Path, PurePath\n",
    "from ipyparallel import Client\n",
    "from collections import Counter, defaultdict, namedtuple, OrderedDict\n",
    "from scipy.stats import mannwhitneyu, ks_2samp\n",
    "import tables\n",
    "import ujson\n",
    "import pickle"
   ]
  },
  {
   "cell_type": "code",
   "execution_count": 0,
   "metadata": {
    "collapsed": true
   },
   "outputs": [],
   "source": [
    "rc = Client(profile=\"sge\")"
   ]
  },
  {
   "cell_type": "code",
   "execution_count": 0,
   "metadata": {
    "collapsed": false
   },
   "outputs": [],
   "source": [
    "dview = rc[:]\n",
    "lview = rc.load_balanced_view()\n",
    "len(dview)"
   ]
  },
  {
   "cell_type": "code",
   "execution_count": 0,
   "metadata": {
    "collapsed": true
   },
   "outputs": [],
   "source": [
    "analysis_dir = \"/home/cfriedline/eckertlab/gypsy_indiv/raw_demult/analysis/samtools1.3_masurca3/beagle40/\""
   ]
  },
  {
   "cell_type": "code",
   "execution_count": 0,
   "metadata": {
    "collapsed": true
   },
   "outputs": [],
   "source": [
    "phenos = [\"mass\", \"tdt\", \"pd\"]"
   ]
  },
  {
   "cell_type": "code",
   "execution_count": 0,
   "metadata": {
    "collapsed": true
   },
   "outputs": [],
   "source": [
    "hmeans = {\"mass\": os.path.join(analysis_dir, \"mcmc_mass_hmean.txt\"),\n",
    "         \"tdt\": os.path.join(analysis_dir, \"mcmc_tdt_hmean.txt\"),\n",
    "         \"pd\": os.path.join(analysis_dir, \"mcmc_pd_hmean.txt\")}\n",
    "\n",
    "quants = {\"mass\": os.path.join(analysis_dir, \"mass_quant.txt\"),\n",
    "         \"tdt\": os.path.join(analysis_dir, \"tdt_quant.txt\"),\n",
    "         \"pd\": os.path.join(analysis_dir, \"pd_quant.txt\")}"
   ]
  },
  {
   "cell_type": "code",
   "execution_count": 0,
   "metadata": {
    "collapsed": true
   },
   "outputs": [],
   "source": [
    "def read_hmean(key):\n",
    "    return pd.read_csv(hmeans[key], sep=\"\\t\", index_col=0).apply(pd.to_numeric, errors=\"ignore\")"
   ]
  },
  {
   "cell_type": "code",
   "execution_count": 0,
   "metadata": {
    "collapsed": true
   },
   "outputs": [],
   "source": [
    "def read_quant(key):\n",
    "    return pd.read_csv(quants[key], sep=\"\\t\", index_col=0).apply(pd.to_numeric, errors=\"ignore\")"
   ]
  },
  {
   "cell_type": "code",
   "execution_count": 0,
   "metadata": {
    "collapsed": false
   },
   "outputs": [],
   "source": [
    "mass_hmean = read_hmean(\"mass\")\n",
    "pd_hmean = read_hmean(\"pd\")\n",
    "tdt_hmean = read_hmean(\"tdt\")\n"
   ]
  },
  {
   "cell_type": "code",
   "execution_count": 0,
   "metadata": {
    "collapsed": false
   },
   "outputs": [],
   "source": [
    "mass_quant = read_quant(\"mass\")\n",
    "pd_quant = read_quant(\"pd\")\n",
    "tdt_quant = read_quant(\"tdt\")"
   ]
  },
  {
   "cell_type": "code",
   "execution_count": 0,
   "metadata": {
    "collapsed": false
   },
   "outputs": [],
   "source": [
    "mass_sig = mass_hmean[mass_hmean.postrb_hmean > mass_quant.ix['cutoff'].values[0]]\n",
    "mass_relaxed = mass_hmean[mass_hmean.postrb_hmean > mass_quant.ix['relaxed_cutoff'].values[0]]"
   ]
  },
  {
   "cell_type": "code",
   "execution_count": 0,
   "metadata": {
    "collapsed": true,
    "run_control": {
     "marked": false
    }
   },
   "outputs": [],
   "source": [
    "mass_sig = mass_hmean.sort_values('postrb_hmean', ascending=False).head(20)\n",
    "pd_sig = pd_hmean.sort_values('postrb_hmean', ascending=False).head(20)\n",
    "tdt_sig = tdt_hmean.sort_values('postrb_hmean', ascending=False).head(20)\n",
    "\n",
    "tdt_sig = tdt_hmean.sort_values('postrb_hmean', ascending=False).tail(20)"
   ]
  },
  {
   "cell_type": "code",
   "execution_count": 0,
   "metadata": {
    "collapsed": false
   },
   "outputs": [],
   "source": [
    "sns.distplot(mass_sig.postrb_hmean);"
   ]
  },
  {
   "cell_type": "code",
   "execution_count": 0,
   "metadata": {
    "collapsed": false
   },
   "outputs": [],
   "source": [
    "sns.distplot(pd_sig.postrb_hmean);"
   ]
  },
  {
   "cell_type": "code",
   "execution_count": 0,
   "metadata": {
    "collapsed": false
   },
   "outputs": [],
   "source": [
    "sns.distplot(tdt_sig.postrb_hmean);"
   ]
  },
  {
   "cell_type": "code",
   "execution_count": 0,
   "metadata": {
    "collapsed": true
   },
   "outputs": [],
   "source": [
    "gt_base_df = read_df(analysis_dir, 'gt_base_df')"
   ]
  },
  {
   "cell_type": "code",
   "execution_count": 0,
   "metadata": {
    "collapsed": false
   },
   "outputs": [],
   "source": [
    "pops = sorted(set([x.split(\"_\")[0] for x in gt_base_df.index]))"
   ]
  },
  {
   "cell_type": "code",
   "execution_count": 0,
   "metadata": {
    "collapsed": true
   },
   "outputs": [],
   "source": [
    "def count_genotypes(snp):\n",
    "    counts = Counter()\n",
    "    for gt in snp:\n",
    "        try:\n",
    "            float(gt) #if gt is nan\n",
    "        except:\n",
    "            counts[gt[0]]+=1\n",
    "            counts[gt[-1]]+=1\n",
    "    return sorted(counts.items(), key=operator.itemgetter(1))"
   ]
  },
  {
   "cell_type": "code",
   "execution_count": 0,
   "metadata": {
    "collapsed": true
   },
   "outputs": [],
   "source": [
    "gt_base_df['population'] = gt_base_df.apply(lambda x: x.name.split(\"_\")[0], axis=1)"
   ]
  },
  {
   "cell_type": "code",
   "execution_count": 0,
   "metadata": {
    "collapsed": false
   },
   "outputs": [],
   "source": [
    "pop_allele_data = {}\n",
    "\n",
    "def add_allele_freq(gt_list):\n",
    "    data = gt_list\n",
    "    ret = OrderedDict()\n",
    "    if len(gt_list) == 2:\n",
    "        total = data[0][1]+data[1][1]\n",
    "        ret[data[0][0]] = [data[0][1], data[0][1]/total]\n",
    "        ret[data[1][0]] = [data[1][1], data[1][1]/total]\n",
    "    else:\n",
    "        ret[data[0][0]] = [data[0][1], 1.0]\n",
    "    return ret\n",
    "\n",
    "for group, data in gt_base_df.groupby('population'):\n",
    "    data = data.drop('population', axis=1)\n",
    "    print(group, data.shape)\n",
    "    gt = data.apply(count_genotypes).apply(add_allele_freq)\n",
    "    pop_allele_data[group] = gt.to_dict()"
   ]
  },
  {
   "cell_type": "code",
   "execution_count": 0,
   "metadata": {
    "collapsed": false
   },
   "outputs": [],
   "source": [
    "pimass_gt = read_df(analysis_dir, '_pimass_gt').replace(\"NA\", np.nan)"
   ]
  },
  {
   "cell_type": "code",
   "execution_count": 0,
   "metadata": {
    "collapsed": false
   },
   "outputs": [],
   "source": [
    "pimass_gt.head()"
   ]
  },
  {
   "cell_type": "code",
   "execution_count": 0,
   "metadata": {
    "collapsed": false,
    "scrolled": true
   },
   "outputs": [],
   "source": [
    "pd.DataFrame(pop_allele_data['VA1'])"
   ]
  },
  {
   "cell_type": "code",
   "execution_count": 0,
   "metadata": {
    "collapsed": true
   },
   "outputs": [],
   "source": [
    "gt_counts = gt_base_df.apply(count_genotypes)"
   ]
  },
  {
   "cell_type": "code",
   "execution_count": 0,
   "metadata": {
    "collapsed": false
   },
   "outputs": [],
   "source": [
    "gt_counts_af = gt_counts.apply(add_allele_freq)"
   ]
  },
  {
   "cell_type": "code",
   "execution_count": 0,
   "metadata": {
    "collapsed": false
   },
   "outputs": [],
   "source": [
    "gt_counts_af.head()"
   ]
  },
  {
   "cell_type": "code",
   "execution_count": 0,
   "metadata": {
    "collapsed": true
   },
   "outputs": [],
   "source": [
    "dview['pimass_gt'] = pimass_gt"
   ]
  },
  {
   "cell_type": "code",
   "execution_count": 0,
   "metadata": {
    "collapsed": true
   },
   "outputs": [],
   "source": [
    "dview['pops'] = pops"
   ]
  },
  {
   "cell_type": "code",
   "execution_count": 0,
   "metadata": {
    "collapsed": true
   },
   "outputs": [],
   "source": [
    "dview['analysis_dir'] = analysis_dir"
   ]
  },
  {
   "cell_type": "code",
   "execution_count": 0,
   "metadata": {
    "collapsed": true
   },
   "outputs": [],
   "source": [
    "%px import os, pickle, traceback"
   ]
  },
  {
   "cell_type": "code",
   "execution_count": 0,
   "metadata": {
    "collapsed": false
   },
   "outputs": [],
   "source": [
    "with open(os.path.join(analysis_dir, \"pop_allele_data.pkl\"), \"wb\") as o:\n",
    "    pickle.dump(pop_allele_data, o, pickle.HIGHEST_PROTOCOL)"
   ]
  },
  {
   "cell_type": "code",
   "execution_count": 0,
   "metadata": {
    "collapsed": false
   },
   "outputs": [],
   "source": [
    "%px pop_allele_data = pickle.load(open(os.path.join(analysis_dir, \"pop_allele_data.pkl\"), \"rb\"))"
   ]
  },
  {
   "cell_type": "code",
   "execution_count": 0,
   "metadata": {
    "collapsed": true
   },
   "outputs": [],
   "source": [
    "def compute_heterozygosity(snp):\n",
    "    het = 0\n",
    "    total = 0\n",
    "    for gt in snp:\n",
    "        if gt[0] != gt[-1]:\n",
    "            het += 1\n",
    "        if gt[1] == \"/\" or gt[1] == \"|\":\n",
    "            total += 1\n",
    "    return het/total\n",
    "Ho = gt_base_df.drop(\"population\", axis=1).apply(compute_heterozygosity)\n",
    "Ho = pd.DataFrame(Ho, columns=[\"Ho\"])\n",
    "Ho['rs'] = Ho.index\n",
    "\n",
    "het_bins = np.linspace(0,1,10)"
   ]
  },
  {
   "cell_type": "code",
   "execution_count": 0,
   "metadata": {
    "collapsed": false
   },
   "outputs": [],
   "source": [
    "tdt_ho = tdt_hmean.join(Ho, on=\"rs\", rsuffix=\"_ho\", how=\"inner\")\n",
    "mass_ho = mass_hmean.join(Ho, on=\"rs\", rsuffix=\"_ho\", how=\"inner\")\n",
    "pd_ho = pd_hmean.join(Ho, on=\"rs\", rsuffix=\"_ho\", how=\"inner\")"
   ]
  },
  {
   "cell_type": "code",
   "execution_count": 0,
   "metadata": {
    "collapsed": true
   },
   "outputs": [],
   "source": [
    "tdt_ho['het_bin'] = np.digitize(tdt_ho.Ho, het_bins)\n",
    "mass_ho['het_bin'] = np.digitize(mass_ho.Ho, het_bins)\n",
    "pd_ho['het_bin'] = np.digitize(pd_ho.Ho, het_bins)"
   ]
  },
  {
   "cell_type": "code",
   "execution_count": 0,
   "metadata": {
    "collapsed": false
   },
   "outputs": [],
   "source": [
    "plt.scatter(tdt_ho.postrb_hmean, tdt_ho.Ho)\n",
    "plt.xlabel(\"PIP\")\n",
    "plt.ylabel(r\"$H_{O}$\")\n",
    "plt.title(\"TDT\")\n",
    "plt.show()\n",
    "\n",
    "plt.scatter(mass_ho.postrb_hmean, tdt_ho.Ho)\n",
    "plt.xlabel(\"PIP\")\n",
    "plt.ylabel(r\"$H_{O}$\")\n",
    "plt.title(\"Mass\")\n",
    "plt.show()\n",
    "\n",
    "plt.scatter(pd_ho.postrb_hmean, tdt_ho.Ho)\n",
    "plt.xlabel(\"PIP\")\n",
    "plt.ylabel(r\"$H_{O}$\")\n",
    "plt.title(\"PD\")\n",
    "plt.show()"
   ]
  },
  {
   "cell_type": "code",
   "execution_count": 0,
   "metadata": {
    "collapsed": false
   },
   "outputs": [],
   "source": [
    "@lview.remote()\n",
    "def do_pairwise(sig_list):\n",
    "    import numpy as np\n",
    "    import traceback\n",
    "    ret = []\n",
    "    for i, snp in enumerate(sig_list):\n",
    "        snp_i = snp\n",
    "        minor_allele_i = pimass_gt.ix[snp_i, \"minor\"]\n",
    "        for j in range(i):\n",
    "            snp_j = sig_list[j]\n",
    "            minor_allele_j = pimass_gt.ix[snp_j, \"minor\"]\n",
    "            in_prods = []\n",
    "            freqs = {snp_i: [], snp_j: []}\n",
    "            for p in pops:\n",
    "                paf_i = paf_j = 0.0\n",
    "                try:\n",
    "                    paf_i = pop_allele_data[p][snp][minor_allele_i][1]\n",
    "                    paf_j = pop_allele_data[p][snp_j][minor_allele_j][1]\n",
    "                    freqs[snp_i].append(paf_i)\n",
    "                    freqs[snp_j].append(paf_j)\n",
    "                    in_prods.append(paf_i * paf_j)\n",
    "                    avg_in_prod = np.mean(in_prods)\n",
    "                    freqs_avg = {k: np.mean(freqs[k]) for k in freqs}\n",
    "                    across_freqs = list(freqs_avg.values())\n",
    "                    across_prod = across_freqs[0] * across_freqs[1]\n",
    "                    ret.append(avg_in_prod-across_prod)\n",
    "                except KeyError as e:\n",
    "                    pass #in case allele is fixed in pop\n",
    "                except:\n",
    "                    traceback.print_exc()\n",
    "    return ret"
   ]
  },
  {
   "cell_type": "code",
   "execution_count": 0,
   "metadata": {
    "collapsed": false
   },
   "outputs": [],
   "source": [
    "def get_nulls(n, sig_df, df):\n",
    "    unassoc = df.drop(sig_df.index)\n",
    "    het_bins = df.ix[sig_df.index]['het_bin'].unique()\n",
    "    unassoc = unassoc[unassoc['het_bin'].isin(het_bins)]\n",
    "    return [unassoc.rs.sample(len(sig_df)).tolist() for x in range(n)]"
   ]
  },
  {
   "cell_type": "code",
   "execution_count": 0,
   "metadata": {
    "collapsed": true
   },
   "outputs": [],
   "source": [
    "dview['get_nulls'] = get_nulls"
   ]
  },
  {
   "cell_type": "code",
   "execution_count": 0,
   "metadata": {
    "collapsed": true
   },
   "outputs": [],
   "source": [
    "ld = do_pairwise(tdt_sig.rs.tolist()).r"
   ]
  },
  {
   "cell_type": "code",
   "execution_count": 0,
   "metadata": {
    "collapsed": true
   },
   "outputs": [],
   "source": [
    "nulls = get_nulls(1000, tdt_sig, tdt_ho)"
   ]
  },
  {
   "cell_type": "code",
   "execution_count": 0,
   "metadata": {
    "collapsed": false
   },
   "outputs": [],
   "source": [
    "test = []\n",
    "for i, n in enumerate(nulls):\n",
    "    if i % 100 == 0:\n",
    "        print(i)\n",
    "    test.append(do_pairwise(n))"
   ]
  },
  {
   "cell_type": "code",
   "execution_count": 0,
   "metadata": {
    "collapsed": false
   },
   "outputs": [],
   "source": [
    "sum([x.ready() for x in test])"
   ]
  },
  {
   "cell_type": "code",
   "execution_count": 0,
   "metadata": {
    "collapsed": false,
    "run_control": {
     "marked": false
    }
   },
   "outputs": [],
   "source": [
    "@lview.remote()\n",
    "def ks_test(arr1, arr2):\n",
    "    from scipy.stats import ks_2samp\n",
    "    return ks_2samp(arr1, arr2)\n",
    "\n",
    "@lview.remote()\n",
    "def mwu_test(arr1, arr2):\n",
    "    from scipy.stats import mannwhitneyu\n",
    "    return mannwhitneyu(arr1, arr2)"
   ]
  },
  {
   "cell_type": "code",
   "execution_count": 0,
   "metadata": {
    "collapsed": true
   },
   "outputs": [],
   "source": [
    "test_r = [x.r for x in test]"
   ]
  },
  {
   "cell_type": "code",
   "execution_count": 0,
   "metadata": {
    "collapsed": false
   },
   "outputs": [],
   "source": [
    "ks = [ks_test(ld, x) for x in test_r]"
   ]
  },
  {
   "cell_type": "code",
   "execution_count": 0,
   "metadata": {
    "collapsed": false,
    "run_control": {
     "marked": false
    }
   },
   "outputs": [],
   "source": [
    "ks_r = [x.r for x in ks]"
   ]
  },
  {
   "cell_type": "code",
   "execution_count": 0,
   "metadata": {
    "collapsed": true
   },
   "outputs": [],
   "source": [
    "ks_pvals = []\n",
    "for stat, pval in ks_r:\n",
    "    ks_pvals.append(pval)"
   ]
  },
  {
   "cell_type": "code",
   "execution_count": 0,
   "metadata": {
    "collapsed": false
   },
   "outputs": [],
   "source": [
    "sns.distplot(ks_pvals, bins=25, label=\"KW\")\n",
    "plt.legend()"
   ]
  },
  {
   "cell_type": "code",
   "execution_count": 0,
   "metadata": {
    "collapsed": false
   },
   "outputs": [],
   "source": [
    "mwu = [mwu_test(ld, x) for x in test_r]"
   ]
  },
  {
   "cell_type": "code",
   "execution_count": 0,
   "metadata": {
    "collapsed": false
   },
   "outputs": [],
   "source": [
    "sum([x.ready() for x in mwu])"
   ]
  },
  {
   "cell_type": "code",
   "execution_count": 0,
   "metadata": {
    "collapsed": true
   },
   "outputs": [],
   "source": [
    "mwu_r = [x.r for x in mwu]"
   ]
  },
  {
   "cell_type": "code",
   "execution_count": 0,
   "metadata": {
    "collapsed": true
   },
   "outputs": [],
   "source": [
    "mwu_pvals = []\n",
    "for stat, pval in mwu_r:\n",
    "    mwu_pvals.append(pval)"
   ]
  },
  {
   "cell_type": "code",
   "execution_count": 0,
   "metadata": {
    "collapsed": false
   },
   "outputs": [],
   "source": [
    "sns.distplot(mwu_pvals, label=\"MW\");\n",
    "plt.legend()"
   ]
  },
  {
   "cell_type": "code",
   "execution_count": 0,
   "metadata": {
    "collapsed": true
   },
   "outputs": [],
   "source": [
    "nulls2 = get_nulls(1000, tdt_sig, tdt_ho)\n",
    "nulls3 = get_nulls(1000, tdt_sig, tdt_ho)"
   ]
  },
  {
   "cell_type": "code",
   "execution_count": 0,
   "metadata": {
    "collapsed": true
   },
   "outputs": [],
   "source": [
    "n2 = [do_pairwise(x) for x in nulls2]\n",
    "n3 = [do_pairwise(x) for x in nulls3]"
   ]
  },
  {
   "cell_type": "code",
   "execution_count": 0,
   "metadata": {
    "collapsed": false
   },
   "outputs": [],
   "source": [
    "sum(x.ready() for x in n2)"
   ]
  },
  {
   "cell_type": "code",
   "execution_count": 0,
   "metadata": {
    "collapsed": false
   },
   "outputs": [],
   "source": [
    "sum(x.ready() for x in n3)"
   ]
  },
  {
   "cell_type": "code",
   "execution_count": 0,
   "metadata": {
    "collapsed": false,
    "run_control": {
     "marked": false
    }
   },
   "outputs": [],
   "source": [
    "n2_r = [x.r for x in n2]"
   ]
  },
  {
   "cell_type": "code",
   "execution_count": 0,
   "metadata": {
    "collapsed": true
   },
   "outputs": [],
   "source": [
    "n3_r = [x.r for x in n3]"
   ]
  },
  {
   "cell_type": "code",
   "execution_count": 0,
   "metadata": {
    "collapsed": true
   },
   "outputs": [],
   "source": [
    "null_pvals = []\n",
    "for x, y in zip(n2_r, n3_r):\n",
    "    stat, p = ks_2samp(x, y)\n",
    "    null_pvals.append(p)"
   ]
  },
  {
   "cell_type": "code",
   "execution_count": 0,
   "metadata": {
    "collapsed": false
   },
   "outputs": [],
   "source": [
    "sns.distplot(null_pvals);"
   ]
  },
  {
   "cell_type": "code",
   "execution_count": 0,
   "metadata": {
    "collapsed": false
   },
   "outputs": [],
   "source": [
    "sns.distplot(ks_pvals);"
   ]
  },
  {
   "cell_type": "code",
   "execution_count": 0,
   "metadata": {
    "collapsed": false
   },
   "outputs": [],
   "source": [
    "len(ks_pvals), len(null_pvals)"
   ]
  },
  {
   "cell_type": "code",
   "execution_count": 0,
   "metadata": {
    "collapsed": false
   },
   "outputs": [],
   "source": [
    "ks_2samp(ks_pvals, null_pvals)"
   ]
  },
  {
   "cell_type": "code",
   "execution_count": 0,
   "metadata": {
    "collapsed": false
   },
   "outputs": [],
   "source": [
    "mannwhitneyu(ks_pvals, null_pvals)"
   ]
  },
  {
   "cell_type": "code",
   "execution_count": 0,
   "metadata": {
    "collapsed": true
   },
   "outputs": [],
   "source": []
  }
 ],
 "metadata": {
  "kernelspec": {
   "display_name": "Python 3",
   "language": "python",
   "name": "python3"
  },
  "language_info": {
   "codemirror_mode": {
    "name": "ipython",
    "version": 3
   },
   "file_extension": ".py",
   "mimetype": "text/x-python",
   "name": "python",
   "nbconvert_exporter": "python",
   "pygments_lexer": "ipython3",
   "version": "3.4.4"
  }
 },
 "nbformat": 4,
 "nbformat_minor": 0
}

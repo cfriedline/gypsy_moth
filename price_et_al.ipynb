{
 "cells": [
  {
   "cell_type": "code",
   "execution_count": "",
   "metadata": {
    "collapsed": false
   },
   "outputs": [],
   "source": [
    "import include_utils as u\n",
    "from hdfstorehelper import HDFStoreHelper\n",
    "import dill\n",
    "from IPython.parallel import Client\n",
    "import stopwatch\n",
    "import rpy2.robjects as robjects\n",
    "import pandas.rpy.common as com\n",
    "from pandas import DataFrame, Series\n",
    "import numpy as np"
   ]
  },
  {
   "cell_type": "code",
   "execution_count": "",
   "metadata": {
    "collapsed": true
   },
   "outputs": [],
   "source": [
    "hdf = HDFStoreHelper(\"gypsy_samtools12.hd5\")"
   ]
  },
  {
   "cell_type": "code",
   "execution_count": "",
   "metadata": {
    "collapsed": true
   },
   "outputs": [],
   "source": [
    "pca_data = hdf.get('pca_std_data_snps')"
   ]
  },
  {
   "cell_type": "code",
   "execution_count": "",
   "metadata": {
    "collapsed": false
   },
   "outputs": [],
   "source": [
    "pca_data[0:5]"
   ]
  },
  {
   "cell_type": "code",
   "execution_count": "",
   "metadata": {
    "collapsed": false
   },
   "outputs": [],
   "source": [
    "rc = Client(profile=\"moth\")"
   ]
  },
  {
   "cell_type": "code",
   "execution_count": "",
   "metadata": {
    "collapsed": false
   },
   "outputs": [],
   "source": [
    "dview, lview = u.get_views(rc)\n",
    "len(dview)"
   ]
  },
  {
   "cell_type": "code",
   "execution_count": "",
   "metadata": {
    "collapsed": false
   },
   "outputs": [],
   "source": [
    "def do_pca(col):\n",
    "    try:\n",
    "        import os, sys, socket, stopwatch\n",
    "        os.environ['R_HOME'] = '/home/cfriedline/R3/lib64/R'\n",
    "        os.environ['LD_LIBRARY_PATH'] = \"%s/lib:%s\" % (os.environ['R_HOME'], \n",
    "                                                   os.environ['LD_LIBRARY_PATH'])\n",
    "        import rpy2.robjects as robjects\n",
    "        import pandas.rpy.common as com\n",
    "        r = robjects.r\n",
    "        t = stopwatch.Timer()\n",
    "        sys.path.append(\"/home/cfriedline/ipynb/gypsy_moth/\")\n",
    "        print socket.gethostname()\n",
    "        from hdfstorehelper import HDFStoreHelper\n",
    "        hdf = HDFStoreHelper(\"/data7/cfriedline/ipython/notebooks/gypsy_moth/gypsy_samtools12.hd5\")\n",
    "        d = hdf.get('pca_std_data_snps')\n",
    "        d2 = d.drop(col, axis=1)\n",
    "        prcomp = r('prcomp')\n",
    "        res = prcomp(com.convert_to_r_matrix(d2), scale=False, center=False)\n",
    "        x = com.convert_robj(res.rx2(\"x\"))\n",
    "        path = \"price_in/%s\" % col\n",
    "        t.stop()\n",
    "        return socket.gethostname(), path, str(t), x.to_dict()\n",
    "    except Exception as e:\n",
    "        return \"ERROR\""
   ]
  },
  {
   "cell_type": "code",
   "execution_count": "",
   "metadata": {
    "collapsed": false
   },
   "outputs": [],
   "source": [
    "dview['do_pca'] = do_pca"
   ]
  },
  {
   "cell_type": "code",
   "execution_count": "",
   "metadata": {
    "collapsed": false
   },
   "outputs": [],
   "source": [
    "jobs = dview.map_async(do_pca, pca_data.columns)"
   ]
  }
 ],
 "metadata": {
  "kernelspec": {
   "display_name": "Python 2",
   "language": "python",
   "name": "python2"
  },
  "language_info": {
   "codemirror_mode": {
    "name": "ipython",
    "version": 2
   },
   "file_extension": ".py",
   "mimetype": "text/x-python",
   "name": "python",
   "nbconvert_exporter": "python",
   "pygments_lexer": "ipython2",
   "version": "2.7.9"
  }
 },
 "nbformat": 4,
 "nbformat_minor": 0
}
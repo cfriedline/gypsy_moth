{
 "cells": [
  {
   "cell_type": "code",
   "execution_count": 0,
   "metadata": {
    "collapsed": false
   },
   "outputs": [],
   "source": [
    "import os, sys\n",
    "from IPython.parallel import Client\n",
    "import matplotlib.pyplot as plt\n",
    "%matplotlib inline"
   ]
  },
  {
   "cell_type": "code",
   "execution_count": 0,
   "metadata": {
    "collapsed": false
   },
   "outputs": [],
   "source": [
    "cd /data7/eckertlab/gypsy_indiv"
   ]
  },
  {
   "cell_type": "code",
   "execution_count": 0,
   "metadata": {
    "collapsed": false
   },
   "outputs": [],
   "source": [
    "fastq_files = !find . -type f | grep '.fastq$' | grep -v HiSeq\n",
    "fastq_files = sorted([os.path.abspath(x) for x in fastq_files])"
   ]
  },
  {
   "cell_type": "code",
   "execution_count": 0,
   "metadata": {
    "collapsed": false
   },
   "outputs": [],
   "source": [
    "rc = Client()\n",
    "dview = rc[:]\n",
    "lview = rc.load_balanced_view()\n",
    "print(len(rc))"
   ]
  },
  {
   "cell_type": "code",
   "execution_count": 0,
   "metadata": {
    "collapsed": false
   },
   "outputs": [],
   "source": [
    "assembly = \"/home/cfriedline/data7/assemblies/gypsy/masurca/CA/10-gapclose/genome.ctg.fasta\""
   ]
  },
  {
   "cell_type": "code",
   "execution_count": 0,
   "metadata": {
    "collapsed": false
   },
   "outputs": [],
   "source": [
    "!/home/cfriedline/data7/src/bowtie2-2.2.2/bowtie2-build -f $assembly $assembly"
   ]
  },
  {
   "cell_type": "code",
   "execution_count": 0,
   "metadata": {
    "collapsed": false
   },
   "outputs": [],
   "source": [
    "@lview.remote()\n",
    "def run_bowtie2(args):\n",
    "    import os, stopwatch, multiprocessing\n",
    "    timer = stopwatch.Timer()\n",
    "    cpus = multiprocessing.cpu_count()\n",
    "    assembly, reads = args\n",
    "    sam = \"%s.sam\" % reads\n",
    "    cmd = \"/home/cfriedline/data7/src/bowtie2-2.2.2/bowtie2 --local --very-sensitive-local -p %d -x %s -U %s -S %s\" % (cpus, assembly, reads, sam)\n",
    "    if not os.path.exists(sam):\n",
    "        !$cmd\n",
    "    timer.stop()\n",
    "    return assembly, sam, cmd, timer.elapsed\n"
   ]
  },
  {
   "cell_type": "code",
   "execution_count": 0,
   "metadata": {
    "collapsed": false
   },
   "outputs": [],
   "source": [
    "@lview.remote()\n",
    "def convert_sam_to_bam(sam):\n",
    "    timer = stopwatch.Timer()\n",
    "    cpus = multiprocessing.cpu_count()\n",
    "    bam = sam.replace(\".sam\", \".bam\")\n",
    "    bam_sorted = \"%s_sorted.bam\" % bam.replace(\".bam\", \"\")\n",
    "    bam_index = bam_sorted.replace(\".bam\", \".bai\")\n",
    "    if not os.path.exists(bam):\n",
    "        !/home/cfriedline/data7/src/samtools-0.1.19/samtools view -bS $sam > $bam\n",
    "        !/home/cfriedline/data7/src/samtools-0.1.19/samtools sort -@ $cpus -f $bam $bam_sorted\n",
    "        !/home/cfriedline/data7/src/samtools-0.1.19/samtools index $bam_sorted $bam_index\n",
    "    timer.stop()\n",
    "    return bam, bam_sorted, bam_index, timer.elapsed"
   ]
  },
  {
   "cell_type": "code",
   "execution_count": 0,
   "metadata": {
    "collapsed": false
   },
   "outputs": [],
   "source": [
    "bowtie_jobs = []\n",
    "for f in fastq_files:\n",
    "    bowtie_jobs.append(run_bowtie2((assembly, f)))"
   ]
  },
  {
   "cell_type": "code",
   "execution_count": 0,
   "metadata": {
    "collapsed": false
   },
   "outputs": [],
   "source": [
    "bowtie_ready = 0\n",
    "for j in bowtie_jobs:\n",
    "    if j.ready():\n",
    "        bowtie_ready += 1\n",
    "    else:\n",
    "        pass\n",
    "print(\"%d/%d\" % (bowtie_ready, len(bowtie_jobs)))"
   ]
  },
  {
   "cell_type": "code",
   "execution_count": 0,
   "metadata": {
    "collapsed": false
   },
   "outputs": [],
   "source": [
    "sam_bam_jobs = []\n",
    "sam_files = !find . -type f | grep '.sam$'\n",
    "sam_files = [os.path.abspath(x) for x in sam_files]\n",
    "for f in sam_files:\n",
    "    sam_bam_jobs.append(convert_sam_to_bam(os.path.abspath(f)))"
   ]
  },
  {
   "cell_type": "code",
   "execution_count": 0,
   "metadata": {
    "collapsed": false
   },
   "outputs": [],
   "source": [
    "sam_bam_count = 0\n",
    "for j in sam_bam_jobs:\n",
    "    if j.ready():\n",
    "        sam_bam_count+=1\n",
    "print(\"%d/%d\" % (sam_bam_count, len(sam_bam_jobs)))"
   ]
  },
  {
   "cell_type": "code",
   "execution_count": 0,
   "metadata": {
    "collapsed": false
   },
   "outputs": [],
   "source": [
    "@lview.remote()\n",
    "def mark_duplicates(bam_file):\n",
    "    output = bam_file.replace(\".bam\", \"_dedup.bam\")\n",
    "    metrics = output.replace(\".bam\", \".metrics\")\n",
    "    prog = \"/home/cfriedline/data7/src/picard-tools-1.112/MarkDuplicates.jar\"\n",
    "    cmd = \"java -jar %s INPUT=%s OUTPUT=%s METRICS_FILE=%s REMOVE_DUPLICATES=true CREATE_INDEX=true\" % (prog,\n",
    "                                                               bam_file,\n",
    "                                                               output,\n",
    "                                                               metrics)\n",
    "    !$cmd\n",
    "    return output, metrics"
   ]
  },
  {
   "cell_type": "code",
   "execution_count": 0,
   "metadata": {
    "collapsed": false
   },
   "outputs": [],
   "source": [
    "@lview.remote()\n",
    "def index_bam(bam_file):\n",
    "    bam_index = bam_file.replace(\".bam\", \".bai\")\n",
    "    !/home/cfriedline/data7/src/samtools-0.1.19/samtools index $bam_file $bam_index\n",
    "    return bam_index"
   ]
  },
  {
   "cell_type": "code",
   "execution_count": 0,
   "metadata": {
    "collapsed": false
   },
   "outputs": [],
   "source": [
    "sorted_bams = !find . -type f | grep 'sorted.bam$'\n",
    "sorted_bams = sorted([os.path.abspath(x) for x in sorted_bams])"
   ]
  },
  {
   "cell_type": "code",
   "execution_count": 0,
   "metadata": {
    "collapsed": false
   },
   "outputs": [],
   "source": [
    "dedup_jobs = []\n",
    "for f in sorted_bams:\n",
    "    dedup_jobs.append(mark_duplicates(f))"
   ]
  },
  {
   "cell_type": "code",
   "execution_count": 0,
   "metadata": {
    "collapsed": false
   },
   "outputs": [],
   "source": [
    "dedup_count = 0\n",
    "for j in dedup_jobs:\n",
    "#     print j.stdout\n",
    "    if j.ready():\n",
    "        dedup_count += 1\n",
    "print(\"%d/%d\" % (dedup_count, len(dedup_jobs)))"
   ]
  },
  {
   "cell_type": "code",
   "execution_count": 0,
   "metadata": {
    "collapsed": false
   },
   "outputs": [],
   "source": [
    "index_jobs = []\n",
    "for j in dedup_jobs:\n",
    "    if j.ready():\n",
    "        dedup_bam = j.r[0]\n",
    "        index_jobs.append(index_bam(dedup_bam))"
   ]
  },
  {
   "cell_type": "code",
   "execution_count": 0,
   "metadata": {
    "collapsed": false
   },
   "outputs": [],
   "source": [
    "index_count = 0\n",
    "for j in index_jobs:\n",
    "    if j.ready():\n",
    "        index_count += 1\n",
    "print(\"%d/%d\" % (index_count, len(index_jobs)))"
   ]
  },
  {
   "cell_type": "code",
   "execution_count": 0,
   "metadata": {
    "collapsed": false
   },
   "outputs": [],
   "source": [
    "dedup_bams = !find . -type f | grep 'dedup.bam$'\n",
    "dedup_bams = sorted([os.path.abspath(x) for x in dedup_bams])"
   ]
  },
  {
   "cell_type": "code",
   "execution_count": 0,
   "metadata": {
    "collapsed": false
   },
   "outputs": [],
   "source": [
    "@lview.remote()\n",
    "def run_realigner_target_creator(bam, assembly):\n",
    "    import os, socket, sys\n",
    "    java = \"/home/cfriedline/jdk1.7.0_25/bin/java\"\n",
    "    gatk = \"%s -Xmx4g -jar /home/cfriedline/data7/src/GATK-3.1.1/GenomeAnalysisTK.jar\" % java\n",
    "    intervals = \"%s.intervals\" % bam\n",
    "    cmd = \"%s -T RealignerTargetCreator -R %s -I %s -o %s -nt 8\" % (gatk,\n",
    "                                                              assembly,\n",
    "                                                              bam,\n",
    "                                                              intervals)\n",
    "    print socket.gethostname(), cmd\n",
    "    !$cmd\n",
    "    return cmd, socket.gethostname(), intervals"
   ]
  },
  {
   "cell_type": "code",
   "execution_count": 0,
   "metadata": {
    "collapsed": false
   },
   "outputs": [],
   "source": [
    "@lview.remote()\n",
    "def add_rg_info_to_bam(bam):\n",
    "    import os\n",
    "    lane_map = {\"I1\": 1, \"I3\":2}\n",
    "    cmd = \"java -jar /home/cfriedline/data7/src/picard-tools-1.112/AddOrReplaceReadGroups.jar\"\n",
    "    base = os.path.basename(bam).split(\".\")\n",
    "    bam_rg = bam.replace(\".bam\", \"_rg.bam\")\n",
    "    rglb = os.path.basename(os.path.dirname(bam))\n",
    "    rgpu = base[0].split(\"_\")[-1]\n",
    "    rgsm = base[0]\n",
    "    rgid = \"FLOWCELL.LANE%d.%s\" % (lane_map[os.path.basename(os.path.dirname(bam))],\n",
    "                                   rgsm)\n",
    "    rg_string = \"RGID=%s RGLB=%s RGPL=illumina RGPU=%s RGSM=%s\" % (rgid,\n",
    "                                                                   rglb,\n",
    "                                                                   rgpu,\n",
    "                                                                   rgsm)\n",
    "    cmd = \"%s INPUT=%s OUTPUT=%s %s CREATE_INDEX=true\" % (cmd,\n",
    "                                                          bam,\n",
    "                                                          bam_rg,\n",
    "                                                          rg_string)\n",
    "    !$cmd\n",
    "    return bam_rg, rg_string, cmd\n",
    "    "
   ]
  },
  {
   "cell_type": "code",
   "execution_count": 0,
   "metadata": {
    "collapsed": false
   },
   "outputs": [],
   "source": [
    "add_rg = []\n",
    "for f in sorted_bams:\n",
    "    add_rg.append(add_rg_info_to_bam(f))\n"
   ]
  },
  {
   "cell_type": "code",
   "execution_count": 0,
   "metadata": {
    "collapsed": false
   },
   "outputs": [],
   "source": [
    "rg_count = 0\n",
    "for j in add_rg:\n",
    "    if j.ready():\n",
    "        rg_count += 1\n",
    "    else:\n",
    "        pass\n",
    "#         print j.stdout\n",
    "print(\"%d/%d\" % (rg_count, len(add_rg)))"
   ]
  },
  {
   "cell_type": "code",
   "execution_count": 0,
   "metadata": {
    "collapsed": false
   },
   "outputs": [],
   "source": [
    "rg_bams = !find . -type f | grep 'rg.bam$'\n",
    "rg_bams = sorted([os.path.abspath(x) for x in rg_bams])"
   ]
  },
  {
   "cell_type": "code",
   "execution_count": 0,
   "metadata": {
    "collapsed": false
   },
   "outputs": [],
   "source": [
    "rg_dedup = []\n",
    "for f in rg_bams:\n",
    "    rg_dedup.append(mark_duplicates(f))"
   ]
  },
  {
   "cell_type": "code",
   "execution_count": 0,
   "metadata": {
    "collapsed": false
   },
   "outputs": [],
   "source": [
    "rg_dedup_count = 0\n",
    "for j in rg_dedup:\n",
    "    if j.ready():\n",
    "        rg_dedup_count += 1\n",
    "    else:\n",
    "        pass\n",
    "        print(j.stdout)\n",
    "print(\"%d/%d\" % (rg_dedup_count, len(rg_dedup)))"
   ]
  },
  {
   "cell_type": "markdown",
   "metadata": {},
   "source": [
    "## get the deduped bam files with rg info added"
   ]
  },
  {
   "cell_type": "code",
   "execution_count": 0,
   "metadata": {
    "collapsed": false
   },
   "outputs": [],
   "source": [
    "rg_dedup_bams = !find . -type f | grep 'rg_dedup.bam$'\n",
    "rg_dedup_bams = sorted([os.path.abspath(x) for x in rg_dedup_bams])"
   ]
  },
  {
   "cell_type": "code",
   "execution_count": 0,
   "metadata": {
    "collapsed": false
   },
   "outputs": [],
   "source": [
    "rg_dedup_bams"
   ]
  },
  {
   "cell_type": "code",
   "execution_count": 0,
   "metadata": {
    "collapsed": false
   },
   "outputs": [],
   "source": [
    "#checking file sizes between sorted_rg bam files and sorted_rg_dedup\n",
    "rg_sizes = []\n",
    "rgd_sizes = []\n",
    "for rgd in rg_dedup_bams:\n",
    "    rg = rgd.replace(\"_dedup\", \"\")\n",
    "    rgsize = os.path.getsize(rg)/1e6\n",
    "    rgdsize = os.path.getsize(rgd)/1e6\n",
    "    rg_sizes.append(rgsize)\n",
    "    rgd_sizes.append(rgdsize)\n",
    "plt.plot(rg_sizes)\n",
    "plt.plot(rgd_sizes)\n",
    "plt.show()"
   ]
  },
  {
   "cell_type": "markdown",
   "metadata": {},
   "source": [
    "##setting up for freebayes"
   ]
  },
  {
   "cell_type": "code",
   "execution_count": 0,
   "metadata": {
    "collapsed": false
   },
   "outputs": [],
   "source": [
    "bamlist_out = \"bamlist.txt\"\n",
    "with open(bamlist_out, \"w\") as o:\n",
    "    for x in rg_dedup_bams:\n",
    "        o.write(\"%s\\n\" % x)\n",
    "freebayes = \"/home/cfriedline/data7/src/freebayes/bin/freebayes\"\n",
    "cmd = \"%s -L %s -f %s -v %s\" % (freebayes, \n",
    "                                   os.path.abspath(bamlist_out),\n",
    "                                   assembly,\n",
    "                                   os.path.abspath(os.path.join(os.path.dirname(bamlist_out), \"gypsy_freebayes_out.vcf\")))\n",
    "print(cmd)\n"
   ]
  }
 ],
 "metadata": {
  "kernelspec": {
   "display_name": "Python 3",
   "language": "python",
   "name": "python3"
  },
  "language_info": {
   "codemirror_mode": {
    "name": "ipython",
    "version": 3
   },
   "file_extension": ".py",
   "mimetype": "text/x-python",
   "name": "python",
   "nbconvert_exporter": "python",
   "pygments_lexer": "ipython3"
  }
 },
 "nbformat": 4,
 "nbformat_minor": 0
}

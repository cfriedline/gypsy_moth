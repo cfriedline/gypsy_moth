{
 "metadata": {
  "name": "",
  "signature": "sha256:8c8ff33212f7fd0cc8c3acca9c4e09c75feb4c219901f0d2c787702145a989c0"
 },
 "nbformat": 3,
 "nbformat_minor": 0,
 "worksheets": [
  {
   "cells": [
    {
     "cell_type": "code",
     "collapsed": false,
     "input": [
      "import os, sys\n",
      "from IPython.parallel import Client"
     ],
     "language": "python",
     "metadata": {},
     "outputs": [],
     "prompt_number": ""
    },
    {
     "cell_type": "code",
     "collapsed": false,
     "input": [
      "cd ~/eckertlab/gypsy_indiv"
     ],
     "language": "python",
     "metadata": {},
     "outputs": [],
     "prompt_number": ""
    },
    {
     "cell_type": "code",
     "collapsed": false,
     "input": [
      "fastq_files = !find . -type f | grep '.fastq$' | grep -v HiSeq\n",
      "fastq_files = sorted([os.path.abspath(x) for x in fastq_files])"
     ],
     "language": "python",
     "metadata": {},
     "outputs": [],
     "prompt_number": ""
    },
    {
     "cell_type": "code",
     "collapsed": false,
     "input": [
      "rc = Client()\n",
      "dview = rc[:]\n",
      "lview = rc.load_balanced_view()"
     ],
     "language": "python",
     "metadata": {},
     "outputs": [],
     "prompt_number": ""
    },
    {
     "cell_type": "code",
     "collapsed": false,
     "input": [
      "assembly = \"/home/cfriedline/data7/assemblies/gypsy/masurca/CA/10-gapclose/genome.ctg.fasta\""
     ],
     "language": "python",
     "metadata": {},
     "outputs": [],
     "prompt_number": ""
    },
    {
     "cell_type": "code",
     "collapsed": false,
     "input": [
      "!/home/cfriedline/data7/src/bowtie2-2.2.2/bowtie2-build -f $assembly $assembly"
     ],
     "language": "python",
     "metadata": {},
     "outputs": []
    },
    {
     "cell_type": "code",
     "collapsed": false,
     "input": [
      "@lview.remote()\n",
      "def run_bowtie2(args):\n",
      "    import os, stopwatch, multiprocessing\n",
      "    timer = stopwatch.Timer()\n",
      "    cpus = multiprocessing.cpu_count()\n",
      "    assembly, reads = args\n",
      "    sam = \"%s.sam\" % reads\n",
      "    cmd = \"/home/cfriedline/data7/src/bowtie2-2.2.2/bowtie2 --local --very-sensitive-local -p %d -x %s -U %s -S %s\" % (cpus, assembly, reads, sam)\n",
      "    if not os.path.exists(sam):\n",
      "        !$cmd\n",
      "    timer.stop()\n",
      "    return assembly, sam, cmd, timer.elapsed\n"
     ],
     "language": "python",
     "metadata": {},
     "outputs": [],
     "prompt_number": ""
    },
    {
     "cell_type": "code",
     "collapsed": false,
     "input": [
      "@lview.remote()\n",
      "def convert_sam_to_bam(sam):\n",
      "    timer = stopwatch.Timer()\n",
      "    cpus = multiprocessing.cpu_count()\n",
      "    bam = sam.replace(\".sam\", \".bam\")\n",
      "    bam_sorted = \"%s_sorted.bam\" % bam.replace(\".bam\", \"\")\n",
      "    bam_index = bam_sorted.replace(\".bam\", \".bai\")\n",
      "    if not os.path.exists(bam):\n",
      "        !/home/cfriedline/data7/src/samtools-0.1.19/samtools view -bS $sam > $bam\n",
      "        !/home/cfriedline/data7/src/samtools-0.1.19/samtools sort -@ $cpus -f $bam $bam_sorted\n",
      "        !/home/cfriedline/data7/src/samtools-0.1.19/samtools index $bam_sorted $bam_index\n",
      "    timer.stop()\n",
      "    return bam, bam_sorted, bam_index, timer.elapsed"
     ],
     "language": "python",
     "metadata": {},
     "outputs": [],
     "prompt_number": ""
    },
    {
     "cell_type": "code",
     "collapsed": false,
     "input": [
      "bowtie_jobs = []\n",
      "for f in fastq_files:\n",
      "    bowtie_jobs.append(run_bowtie2((assembly, f)))"
     ],
     "language": "python",
     "metadata": {},
     "outputs": [],
     "prompt_number": ""
    },
    {
     "cell_type": "code",
     "collapsed": false,
     "input": [
      "bowtie_ready = 0\n",
      "for j in bowtie_jobs:\n",
      "    if j.ready():\n",
      "        bowtie_ready += 1\n",
      "    else:\n",
      "        pass\n",
      "print \"%d/%d\" % (bowtie_ready, len(bowtie_jobs))"
     ],
     "language": "python",
     "metadata": {},
     "outputs": [],
     "prompt_number": ""
    },
    {
     "cell_type": "code",
     "collapsed": false,
     "input": [
      "sam_bam_jobs = []\n",
      "sam_files = !find . -type f | grep '.sam$'\n",
      "sam_files = [os.path.abspath(x) for x in sam_files]\n",
      "for f in sam_files:\n",
      "    sam_bam_jobs.append(convert_sam_to_bam(os.path.abspath(f)))"
     ],
     "language": "python",
     "metadata": {},
     "outputs": [],
     "prompt_number": ""
    },
    {
     "cell_type": "code",
     "collapsed": false,
     "input": [
      "sam_bam_count = 0\n",
      "for j in sam_bam_jobs:\n",
      "    if j.ready():\n",
      "        sam_bam_count+=1\n",
      "print \"%d/%d\" % (sam_bam_count, len(sam_bam_jobs))"
     ],
     "language": "python",
     "metadata": {},
     "outputs": [],
     "prompt_number": ""
    },
    {
     "cell_type": "code",
     "collapsed": false,
     "input": [
      "@lview.remote()\n",
      "def mark_duplicates(bam_file):\n",
      "    output = bam_file.replace(\".bam\", \"_dedup.bam\")\n",
      "    metrics = output.replace(\".bam\", \".metrics\")\n",
      "    prog = \"/home/cfriedline/data7/src/picard-tools-1.112/MarkDuplicates.jar\"\n",
      "    cmd = \"java -jar %s INPUT=%s OUTPUT=%s METRICS_FILE=%s\" % (prog,\n",
      "                                                               bam_file,\n",
      "                                                               output,\n",
      "                                                               metrics)\n",
      "    !$cmd\n",
      "    return output, metrics"
     ],
     "language": "python",
     "metadata": {},
     "outputs": [],
     "prompt_number": ""
    },
    {
     "cell_type": "code",
     "collapsed": false,
     "input": [
      "sorted_bams = !find . -type f | grep 'sorted.bam$'\n",
      "sorted_bams = sorted([os.path.abspath(x) for x in sorted_bams])"
     ],
     "language": "python",
     "metadata": {},
     "outputs": [],
     "prompt_number": ""
    },
    {
     "cell_type": "code",
     "collapsed": false,
     "input": [
      "dedup_jobs = []\n",
      "for f in sorted_bams:\n",
      "    dedup_jobs.append(mark_duplicates(f))"
     ],
     "language": "python",
     "metadata": {},
     "outputs": [],
     "prompt_number": ""
    },
    {
     "cell_type": "code",
     "collapsed": false,
     "input": [
      "dedup_count = 0\n",
      "for j in dedup_jobs:\n",
      "    if j.ready():\n",
      "        dedup_count += 1\n",
      "print \"%d/%d\" % (dedup_count, len(dedup_jobs))"
     ],
     "language": "python",
     "metadata": {},
     "outputs": [],
     "prompt_number": ""
    },
    {
     "cell_type": "code",
     "collapsed": false,
     "input": [],
     "language": "python",
     "metadata": {},
     "outputs": []
    }
   ],
   "metadata": {}
  }
 ]
}
{
 "metadata": {
  "name": "",
  "signature": "sha256:ac690f5af921e798ca904b443d619b8979f2e1b3c2a0ee6c9100e45cc5719fd3"
 },
 "nbformat": 3,
 "nbformat_minor": 0,
 "worksheets": [
  {
   "cells": [
    {
     "cell_type": "code",
     "collapsed": false,
     "input": [
      "from IPython.parallel import Client\n",
      "import os, time\n",
      "import include_utils as u\n",
      "import pandas as pd\n",
      "import numpy as np\n",
      "import scipy as sp\n",
      "import numbers\n",
      "import matplotlib.pyplot as plt\n",
      "import matplotlib.patches as mpatches\n",
      "import matplotlib.cm as cm\n",
      "import matplotlib.colors as mcolors\n",
      "import vcf\n",
      "from sklearn import preprocessing"
     ],
     "language": "python",
     "metadata": {},
     "outputs": []
    },
    {
     "cell_type": "code",
     "collapsed": false,
     "input": [
      "%reload_ext autoreload\n",
      "%autoreload 2"
     ],
     "language": "python",
     "metadata": {},
     "outputs": []
    },
    {
     "cell_type": "code",
     "collapsed": false,
     "input": [
      "R_HOME = '/home/cfriedline/R3/lib64/R'\n",
      "os.environ['LD_LIBRARY_PATH'] = \"%s/lib:%s\" % (os.environ['R_HOME'], os.environ['LD_LIBRARY_PATH'])\n",
      "%load_ext rpy2.ipython"
     ],
     "language": "python",
     "metadata": {},
     "outputs": []
    },
    {
     "cell_type": "code",
     "collapsed": false,
     "input": [
      "import rpy2.robjects as robjects\n",
      "import pandas.rpy.common as com"
     ],
     "language": "python",
     "metadata": {},
     "outputs": []
    },
    {
     "cell_type": "code",
     "collapsed": false,
     "input": [
      "rc = u.get_client(\"huge\")"
     ],
     "language": "python",
     "metadata": {},
     "outputs": []
    },
    {
     "cell_type": "code",
     "collapsed": false,
     "input": [
      "dview, lview = u.get_views(rc)"
     ],
     "language": "python",
     "metadata": {},
     "outputs": []
    },
    {
     "cell_type": "code",
     "collapsed": false,
     "input": [
      "dview, lview = u.get_idle_engines(rc)"
     ],
     "language": "python",
     "metadata": {},
     "outputs": []
    },
    {
     "cell_type": "code",
     "collapsed": false,
     "input": [
      "len(dview)"
     ],
     "language": "python",
     "metadata": {},
     "outputs": []
    },
    {
     "cell_type": "code",
     "collapsed": false,
     "input": [
      "with dview.sync_imports():\n",
      "    import os\n",
      "    import sys\n",
      "    import socket\n",
      "    import stopwatch"
     ],
     "language": "python",
     "metadata": {},
     "outputs": []
    },
    {
     "cell_type": "code",
     "collapsed": false,
     "input": [
      "hlview = u.get_single_host_lview(rc, \"all\")\n",
      "len(hlview)"
     ],
     "language": "python",
     "metadata": {},
     "outputs": []
    },
    {
     "cell_type": "code",
     "collapsed": false,
     "input": [
      "bam_dir = \"/data7/eckertlab/gypsy_indiv/analysis\"\n",
      "analysis_dir = os.path.join(bam_dir, \"samtools1.1\")\n",
      "if not os.path.exists(analysis_dir):\n",
      "    os.makedirs(analysis_dir)\n",
      "assert os.path.exists(analysis_dir)"
     ],
     "language": "python",
     "metadata": {},
     "outputs": []
    },
    {
     "cell_type": "code",
     "collapsed": false,
     "input": [
      "bam_files = [x.strip() for x in open(\"/data7/eckertlab/gypsy_indiv/bamlist.txt\").readlines()]"
     ],
     "language": "python",
     "metadata": {},
     "outputs": []
    },
    {
     "cell_type": "code",
     "collapsed": false,
     "input": [
      "samtools = \"/home/cfriedline/data7/src/samtools-1.1/samtools-1.1/samtools\"\n",
      "bcftools = \"/home/cfriedline/data7/src/samtools-1.1/bcftools-1.1/bcftools\"\n",
      "picard = \"/home/cfriedline/data7/src/broadinstitute-picard-03a1d72/dist/picard.jar\"\n",
      "java = \"/home/cfriedline/jdk1.7.0_25/bin/java\"\n",
      "perl = \"/home/cfriedline/data7/opt/ActivePerl-5.16/bin/perl\""
     ],
     "language": "python",
     "metadata": {},
     "outputs": []
    },
    {
     "cell_type": "code",
     "collapsed": false,
     "input": [
      "def mark_duplicates(args):\n",
      "    java, picard, bam_file, analysis_dir = args\n",
      "    out_bam = os.path.join(\"%s_dedup.bam\" % os.path.basename(bam_file))\n",
      "    t = tempfile.NamedTemporaryFile(delete=False)\n",
      "    cmd = \"%s -jar %s MarkDuplicates \\\n",
      "    INPUT=%s OUTPUT=%s METRICS_FILE=%s.metrics\" %     (java,\n",
      "                              picard,\n",
      "                              bam_file,\n",
      "                              t.name,\n",
      "                              out_bam)\n",
      "    print cmd\n",
      "    !$cmd\n",
      "    shutil.move(t.name, out_bam)\n",
      "    return cmd, out_bam\n",
      "dview['mark_duplicates'] = mark_duplicates"
     ],
     "language": "python",
     "metadata": {},
     "outputs": []
    },
    {
     "cell_type": "code",
     "collapsed": false,
     "input": [
      "rmdup_jobs = []\n",
      "for b in bam_files:\n",
      "    rmdup_jobs.append(hlview.apply_async(mark_duplicates, (java, picard, b, analysis_dir)))"
     ],
     "language": "python",
     "metadata": {},
     "outputs": []
    },
    {
     "cell_type": "code",
     "collapsed": false,
     "input": [
      "get_async_progress(rmdup_jobs)"
     ],
     "language": "python",
     "metadata": {},
     "outputs": []
    },
    {
     "cell_type": "code",
     "collapsed": false,
     "input": [
      "rmdup_jobs[0].get()"
     ],
     "language": "python",
     "metadata": {},
     "outputs": []
    },
    {
     "cell_type": "code",
     "collapsed": false,
     "input": [
      "assembly = \"/home/cfriedline/data7/assemblies/gypsy/masurca/CA/10-gapclose/genome.ctg.fasta\""
     ],
     "language": "python",
     "metadata": {},
     "outputs": []
    },
    {
     "cell_type": "code",
     "collapsed": false,
     "input": [
      "bam_rmdup_files = bam_files \n",
      "bam_rmdup_files[0:5]"
     ],
     "language": "python",
     "metadata": {},
     "outputs": []
    },
    {
     "cell_type": "code",
     "collapsed": false,
     "input": [
      "for b in bam_rmdup_files:\n",
      "    rg = !$samtools view -H {b} | grep '^@RG'\n",
      "    print \"\\t\".join(rg)\n",
      "    break"
     ],
     "language": "python",
     "metadata": {},
     "outputs": []
    },
    {
     "cell_type": "code",
     "collapsed": false,
     "input": [
      "def create_ploidy_file(args):\n",
      "    bam_files, analysis_dir = args\n",
      "    ploidy_file = os.path.join(analysis_dir, \"%s.ploidy\" % \"all\")\n",
      "    with open(ploidy_file, \"w\") as o:\n",
      "        for b in bam_files:\n",
      "            name = \"%s\" % os.path.basename(b).split(\".fastq\")[0]\n",
      "            ploidy = 2\n",
      "            o.write(\"%s\\t%d\\n\" % (name, ploidy))\n",
      "    return ploidy_file\n",
      "dview['create_ploidy_file'] = create_ploidy_file"
     ],
     "language": "python",
     "metadata": {},
     "outputs": []
    },
    {
     "cell_type": "code",
     "collapsed": false,
     "input": [
      "def call_snps(args):\n",
      "    print socket.gethostname()\n",
      "    timer = stopwatch.Timer()\n",
      "    samtools, reference, bam_sorted, bcftools, raw_vcf, out_dir = args \n",
      "    if not out_dir:\n",
      "        out_dir = os.environ['TMPDIR']\n",
      "    raw_vcf = os.path.join(out_dir, raw_vcf)\n",
      "    ploidy_file = create_ploidy_file((bam_sorted, out_dir))\n",
      "    pileup = \"%s mpileup -ugf %s %s | %s call -S %s -vmO z -o %s\" % (samtools, \n",
      "                                                                     reference, \n",
      "                                                                     ' '.join(bam_sorted), \n",
      "                                                                     bcftools, \n",
      "                                                                     ploidy_file, \n",
      "                                                                     raw_vcf) \n",
      "    \n",
      "    print pileup\n",
      "    !$pileup\n",
      "    timer.stop()\n",
      "    return pileup, timer.elapsed\n",
      "dview['call_snps'] = call_snps"
     ],
     "language": "python",
     "metadata": {},
     "outputs": []
    },
    {
     "cell_type": "code",
     "collapsed": false,
     "input": [
      "args = [samtools, \n",
      "        assembly, \n",
      "        bam_rmdup_files, \n",
      "        bcftools, \n",
      "        \"samtools_1.1.vcf.gz\", \n",
      "        analysis_dir]"
     ],
     "language": "python",
     "metadata": {},
     "outputs": []
    },
    {
     "cell_type": "code",
     "collapsed": false,
     "input": [
      "samtools_job = lview.apply_async(call_snps, args)"
     ],
     "language": "python",
     "metadata": {},
     "outputs": []
    },
    {
     "cell_type": "code",
     "collapsed": false,
     "input": [
      "%connect_info"
     ],
     "language": "python",
     "metadata": {},
     "outputs": []
    },
    {
     "cell_type": "markdown",
     "metadata": {},
     "source": [
      "##some snp analysis"
     ]
    },
    {
     "cell_type": "code",
     "collapsed": false,
     "input": [
      "vcf = os.path.join(analysis_dir, \"samtools_1.1.vcf.gz\")"
     ],
     "language": "python",
     "metadata": {},
     "outputs": []
    },
    {
     "cell_type": "code",
     "collapsed": false,
     "input": [
      "vcftools = \"/home/cfriedline/data7/src/vcftools_0.1.12b/bin/vcftools\"\n",
      "bcftools = \"/home/cfriedline/data7/src/samtools-1.1/bcftools-1.1/bcftools\"\n",
      "tabix = \"/home/cfriedline/data7/src/samtools-1.1/htslib-1.1/tabix\"\n",
      "bgzip = \"/home/cfriedline/data7/src/samtools-1.1/htslib-1.1/bgzip\""
     ],
     "language": "python",
     "metadata": {},
     "outputs": []
    },
    {
     "cell_type": "code",
     "collapsed": false,
     "input": [
      "!$vcftools --remove-indels --min-alleles 2 --max-alleles 2 --mac 1 --remove-filtered-all --012 --gzvcf $vcf --out $vcf"
     ],
     "language": "python",
     "metadata": {},
     "outputs": []
    },
    {
     "cell_type": "markdown",
     "metadata": {},
     "source": [
      "## snp filtering"
     ]
    },
    {
     "cell_type": "code",
     "collapsed": false,
     "input": [
      "from hdfstorehelper import HDFStoreHelper"
     ],
     "language": "python",
     "metadata": {},
     "outputs": []
    },
    {
     "cell_type": "code",
     "collapsed": false,
     "input": [
      "hdf = HDFStoreHelper(\"gypsy_samtools11.hd5\")"
     ],
     "language": "python",
     "metadata": {},
     "outputs": []
    },
    {
     "cell_type": "code",
     "collapsed": false,
     "input": [
      "z12_file = os.path.join(analysis_dir, \"%s.012\" % vcf)"
     ],
     "language": "python",
     "metadata": {},
     "outputs": [],
     "prompt_number": ""
    },
    {
     "cell_type": "code",
     "collapsed": false,
     "input": [
      "z12_df = None\n",
      "z12_df = pd.read_csv(z12_file, header=None, sep=\"\\t\")\n",
      "z12_df = z12_df.drop(0, axis=1)\n",
      "z12_df.columns = pd.Series(z12_df.columns)-1"
     ],
     "language": "python",
     "metadata": {},
     "outputs": []
    },
    {
     "cell_type": "code",
     "collapsed": false,
     "input": [
      "z12_df"
     ],
     "language": "python",
     "metadata": {},
     "outputs": []
    },
    {
     "cell_type": "code",
     "collapsed": false,
     "input": [
      "hdf.put(\"z12_df\", z12_df)"
     ],
     "language": "python",
     "metadata": {},
     "outputs": []
    },
    {
     "cell_type": "code",
     "collapsed": false,
     "input": [
      "len(z12_df.columns)"
     ],
     "language": "python",
     "metadata": {},
     "outputs": []
    },
    {
     "cell_type": "code",
     "collapsed": false,
     "input": [
      "def get_percent_missing(col):\n",
      "    return len(col[col==-1])*1.0/len(col)   "
     ],
     "language": "python",
     "metadata": {},
     "outputs": []
    },
    {
     "cell_type": "code",
     "collapsed": false,
     "input": [
      "percent_missing = z12_df.apply(get_percent_missing, axis=0)"
     ],
     "language": "python",
     "metadata": {},
     "outputs": []
    },
    {
     "cell_type": "code",
     "collapsed": false,
     "input": [
      "percent_missing[percent_missing >= 0.5]"
     ],
     "language": "python",
     "metadata": {},
     "outputs": []
    },
    {
     "cell_type": "code",
     "collapsed": false,
     "input": [
      "z12_df_50_perc = z12_df.ix[:,percent_missing < 0.5]"
     ],
     "language": "python",
     "metadata": {},
     "outputs": []
    },
    {
     "cell_type": "code",
     "collapsed": false,
     "input": [
      "z12_df_50_perc[0:5]"
     ],
     "language": "python",
     "metadata": {},
     "outputs": []
    },
    {
     "cell_type": "code",
     "collapsed": false,
     "input": [
      "def is_monomorphic(col):\n",
      "    u = col[col != -1].value_counts()\n",
      "    if len(u) == 1:\n",
      "        return True\n",
      "    return False\n",
      "\n",
      "monomorphic_loci = z12_df_50_perc.apply(is_monomorphic, axis=0)\n",
      "monomorphic_loci = monomorphic_loci[monomorphic_loci==True]"
     ],
     "language": "python",
     "metadata": {},
     "outputs": []
    },
    {
     "cell_type": "code",
     "collapsed": false,
     "input": [
      "len(monomorphic_loci)"
     ],
     "language": "python",
     "metadata": {},
     "outputs": []
    },
    {
     "cell_type": "code",
     "collapsed": false,
     "input": [
      "z12_df_50_perc_polymorphic = z12_df_50_perc.drop(monomorphic_loci.index, axis=1)"
     ],
     "language": "python",
     "metadata": {},
     "outputs": []
    },
    {
     "cell_type": "code",
     "collapsed": false,
     "input": [
      "z12_df_50_perc_polymorphic[0:5]"
     ],
     "language": "python",
     "metadata": {},
     "outputs": []
    },
    {
     "cell_type": "code",
     "collapsed": false,
     "input": [
      "translation_df = pd.read_csv(\"translation_table.csv\", sep=\"\\t\", index_col=0)\n",
      "indv = os.path.join(analysis_dir, \"%s.indv\" % os.path.basename(z12_file))"
     ],
     "language": "python",
     "metadata": {},
     "outputs": [],
     "prompt_number": ""
    },
    {
     "cell_type": "code",
     "collapsed": false,
     "input": [
      "translation_df.ix[\"NC_131_ATAATCCA\"]"
     ],
     "language": "python",
     "metadata": {},
     "outputs": [],
     "prompt_number": ""
    },
    {
     "cell_type": "code",
     "collapsed": false,
     "input": [
      "def get_translated_name(n):\n",
      "    row = translation_df.ix[n.strip()]\n",
      "    return \"%s_%d_%d\" % (row['pop'], row.indiv, row.dup)"
     ],
     "language": "python",
     "metadata": {},
     "outputs": [],
     "prompt_number": ""
    },
    {
     "cell_type": "code",
     "collapsed": false,
     "input": [
      "names = [get_translated_name(x) for x in open(indv).readlines()]"
     ],
     "language": "python",
     "metadata": {},
     "outputs": []
    },
    {
     "cell_type": "code",
     "collapsed": false,
     "input": [
      "z12_df_50_perc_polymorphic.index = names"
     ],
     "language": "python",
     "metadata": {},
     "outputs": []
    },
    {
     "cell_type": "code",
     "collapsed": false,
     "input": [
      "z12_df_50_perc_polymorphic['pop'] = z12_df_50_perc_polymorphic.apply(lambda row: row.name.split(\"_\")[0], \n",
      "                                                                     axis=1)"
     ],
     "language": "python",
     "metadata": {},
     "outputs": []
    },
    {
     "cell_type": "code",
     "collapsed": false,
     "input": [
      "z12_df_50_perc_polymorphic['duplicate'] = z12_df_50_perc_polymorphic.apply(lambda row: row.name[-1],\n",
      "                                                                           axis=1)"
     ],
     "language": "python",
     "metadata": {},
     "outputs": []
    },
    {
     "cell_type": "code",
     "collapsed": false,
     "input": [
      "def get_correction(n):\n",
      "    #for finite sample size\n",
      "    return (2*n)/(2*n-1)\n",
      "\n",
      "def get_allele_freqs(locus):\n",
      "    c = locus[locus != -1].value_counts()\n",
      "    total_alleles = 2.0*sum(c)\n",
      "    num_individuals = sum(c)\n",
      "    P = 0\n",
      "    Q = 0\n",
      "    PQ = 0\n",
      "    if 0 in c:\n",
      "        P = 2*c[0]\n",
      "    if 2 in c:\n",
      "        Q = 2*c[2]\n",
      "    if 1 in c:\n",
      "        PQ = c[1]\n",
      "    P += PQ\n",
      "    Q += PQ\n",
      "    p = P/total_alleles\n",
      "    q = Q/total_alleles\n",
      "    assert p + q == 1.0\n",
      "    He = 2 * p * q * get_correction(num_individuals)\n",
      "    Ho = PQ*1.0/num_individuals\n",
      "    Fis = 1 - (Ho/He)\n",
      "    #print p, q, He, Ho, Fis\n",
      "    return pd.Series({\"p\":p, \n",
      "                      \"q\":q,\n",
      "                      \"P\":P,\n",
      "                      \"Q\":Q,\n",
      "                      \"He\":He,\n",
      "                      \"Ho\":Ho, \n",
      "                      \"Fis\":Fis})"
     ],
     "language": "python",
     "metadata": {},
     "outputs": [],
     "prompt_number": ""
    },
    {
     "cell_type": "code",
     "collapsed": false,
     "input": [
      "allele_freqs = z12_df_50_perc_polymorphic.ix[:,:-1].apply(get_allele_freqs)"
     ],
     "language": "python",
     "metadata": {},
     "outputs": []
    },
    {
     "cell_type": "code",
     "collapsed": false,
     "input": [
      "allele_freqs"
     ],
     "language": "python",
     "metadata": {},
     "outputs": []
    },
    {
     "cell_type": "code",
     "collapsed": false,
     "input": [
      "mafs = allele_freqs.apply(lambda x: min(x[\"p\"], x[\"q\"]))"
     ],
     "language": "python",
     "metadata": {},
     "outputs": []
    },
    {
     "cell_type": "code",
     "collapsed": false,
     "input": [
      "mafs[mafs<0.01]"
     ],
     "language": "python",
     "metadata": {},
     "outputs": []
    },
    {
     "cell_type": "code",
     "collapsed": false,
     "input": [
      "z12_df_50_perc_polymorphic_maf = z12_df_50_perc_polymorphic.drop(mafs[mafs<0.01].index, axis=1)"
     ],
     "language": "python",
     "metadata": {},
     "outputs": []
    },
    {
     "cell_type": "code",
     "collapsed": false,
     "input": [
      "z12_df_50_perc_polymorphic_maf[0:5]"
     ],
     "language": "python",
     "metadata": {},
     "outputs": []
    },
    {
     "cell_type": "code",
     "collapsed": false,
     "input": [
      "global_fis = allele_freqs.apply(lambda x: x[\"Fis\"])"
     ],
     "language": "python",
     "metadata": {},
     "outputs": []
    },
    {
     "cell_type": "code",
     "collapsed": false,
     "input": [
      "fis_outliers = global_fis[(global_fis < -0.5) | (global_fis > 0.5)]"
     ],
     "language": "python",
     "metadata": {},
     "outputs": []
    },
    {
     "cell_type": "code",
     "collapsed": false,
     "input": [
      "len(fis_outliers)"
     ],
     "language": "python",
     "metadata": {},
     "outputs": []
    },
    {
     "cell_type": "code",
     "collapsed": false,
     "input": [
      "z12_df_50_perc_polymorphic_maf_fis = z12_df_50_perc_polymorphic_maf.drop(fis_outliers.index, axis=1)"
     ],
     "language": "python",
     "metadata": {},
     "outputs": []
    },
    {
     "cell_type": "code",
     "collapsed": false,
     "input": [
      "duplicates = z12_df_50_perc_polymorphic_maf_fis[z12_df_50_perc_polymorphic_maf_fis.duplicate==\"1\"]"
     ],
     "language": "python",
     "metadata": {},
     "outputs": []
    },
    {
     "cell_type": "code",
     "collapsed": false,
     "input": [
      "duplicates"
     ],
     "language": "python",
     "metadata": {},
     "outputs": []
    },
    {
     "cell_type": "code",
     "collapsed": false,
     "input": [
      "z12_df_50_perc_polymorphic_maf_fis_dedup = z12_df_50_perc_polymorphic_maf_fis.drop(duplicates.index)"
     ],
     "language": "python",
     "metadata": {},
     "outputs": []
    },
    {
     "cell_type": "code",
     "collapsed": false,
     "input": [
      "z12_df_50_perc_polymorphic_maf_fis_dedup"
     ],
     "language": "python",
     "metadata": {},
     "outputs": []
    },
    {
     "cell_type": "code",
     "collapsed": false,
     "input": [
      "working_df = z12_df_50_perc_polymorphic_maf_fis_dedup"
     ],
     "language": "python",
     "metadata": {},
     "outputs": []
    },
    {
     "cell_type": "code",
     "collapsed": false,
     "input": [
      "working_df.to_csv(os.path.join(analysis_dir,\n",
      "                               \"z12_df_50_perc_polymorphic_maf_fis_dedup.txt\"),\n",
      "                                          header=True,\n",
      "                                          index=True,\n",
      "                                          sep=\"\\t\")"
     ],
     "language": "python",
     "metadata": {},
     "outputs": []
    },
    {
     "cell_type": "code",
     "collapsed": false,
     "input": [
      "working_df = pd.read_csv(os.path.join(analysis_dir, \n",
      "                                      \"z12_df_50_perc_polymorphic_maf_fis_dedup.txt\"),\n",
      "                                      sep=\"\\t\",\n",
      "                                      index_col=0)"
     ],
     "language": "python",
     "metadata": {},
     "outputs": []
    },
    {
     "cell_type": "code",
     "collapsed": false,
     "input": [
      "cols = [int(x) for x in working_df.columns.tolist()[:-2]]\n",
      "cols.extend(working_df.columns.tolist()[-2:])\n",
      "working_df.columns = cols"
     ],
     "language": "python",
     "metadata": {},
     "outputs": [],
     "prompt_number": ""
    },
    {
     "cell_type": "code",
     "collapsed": false,
     "input": [
      "working_df[:5]"
     ],
     "language": "python",
     "metadata": {},
     "outputs": [],
     "prompt_number": ""
    },
    {
     "cell_type": "code",
     "collapsed": false,
     "input": [
      "hierf_trans = {0:11, 1:12, 2:22, -1:'NA'}"
     ],
     "language": "python",
     "metadata": {},
     "outputs": [],
     "prompt_number": ""
    },
    {
     "cell_type": "code",
     "collapsed": false,
     "input": [
      "def apply_hierf_trans(series):\n",
      "    return [hierf_trans[x] if x in hierf_trans else x for x in series]"
     ],
     "language": "python",
     "metadata": {},
     "outputs": [],
     "prompt_number": ""
    },
    {
     "cell_type": "code",
     "collapsed": false,
     "input": [
      "hierf_trans_df = working_df.apply(apply_hierf_trans)"
     ],
     "language": "python",
     "metadata": {},
     "outputs": [],
     "prompt_number": ""
    },
    {
     "cell_type": "code",
     "collapsed": false,
     "input": [
      "import urllib2\n",
      "url = 'https://docs.google.com/uc?export=download&id=0B4xHxBFoPCoWT0NneHJadUI0OHM'\n",
      "response = urllib2.urlopen(url)\n",
      "pheno = pd.read_excel(response, \"Males-forGenomics-final\")\n",
      "pheno=pheno[['Population', 'Number', 'Mass', 'Pupual Duration', 'Total Dev Time']]\n",
      "for x in pheno.index:\n",
      "    pheno.ix[x, 'sample_pheno'] = \"%s_%d\" % (pheno.ix[x, 'Population'], pheno.ix[x, 'Number'])"
     ],
     "language": "python",
     "metadata": {},
     "outputs": [],
     "prompt_number": ""
    },
    {
     "cell_type": "code",
     "collapsed": false,
     "input": [
      "pop_id = {}\n",
      "i = 0\n",
      "for p in sorted(working_df['pop'].unique()):\n",
      "    pop_id[p] = i\n",
      "    i+=1\n",
      "pop_id"
     ],
     "language": "python",
     "metadata": {},
     "outputs": [],
     "prompt_number": ""
    },
    {
     "cell_type": "code",
     "collapsed": false,
     "input": [
      "def assign_popid(series):\n",
      "    series['popid'] = pop_id[series['pop']]\n",
      "    return series"
     ],
     "language": "python",
     "metadata": {},
     "outputs": [],
     "prompt_number": ""
    },
    {
     "cell_type": "code",
     "collapsed": false,
     "input": [
      "hierf_trans_df = hierf_trans_df.apply(assign_popid, axis=1)"
     ],
     "language": "python",
     "metadata": {},
     "outputs": [],
     "prompt_number": ""
    },
    {
     "cell_type": "code",
     "collapsed": false,
     "input": [
      "hierf_trans_df.columns = [\"L%d\" % x if isinstance(x, numbers.Number) else x for x in hierf_trans_df.columns]"
     ],
     "language": "python",
     "metadata": {},
     "outputs": [],
     "prompt_number": ""
    },
    {
     "cell_type": "markdown",
     "metadata": {},
     "source": [
      "##Make sure we're only working with SNPs (not DNPs, MNPs, etc)"
     ]
    },
    {
     "cell_type": "code",
     "collapsed": false,
     "input": [
      "hierf_trans_df.columns[:-3][-1]"
     ],
     "language": "python",
     "metadata": {},
     "outputs": [],
     "prompt_number": ""
    },
    {
     "cell_type": "code",
     "collapsed": false,
     "input": [
      "snp_pos = pd.read_csv(os.path.join(analysis_dir, \"samtools_1.1.vcf.gz.012.pos\"), \n",
      "                              sep=\"\\t\",\n",
      "                              header=None,\n",
      "                              names=['contig', 'pos'])\n",
      "snps = pd.DataFrame([int(x[1:]) for x in hierf_trans_df.columns[:-3]])\n",
      "snps.columns = ['snp_id']\n",
      "snps.index=snps.snp_id\n",
      "snp_id_pos = pd.merge(snps, snp_pos, how=\"inner\", left_index=True, right_index=True)\n",
      "snp_id_pos.index = [\"L%d\" % x for x in snp_id_pos.index]"
     ],
     "language": "python",
     "metadata": {},
     "outputs": [],
     "prompt_number": ""
    },
    {
     "cell_type": "code",
     "collapsed": false,
     "input": [
      "snp_id_pos[:5]"
     ],
     "language": "python",
     "metadata": {},
     "outputs": [],
     "prompt_number": ""
    },
    {
     "cell_type": "code",
     "collapsed": false,
     "input": [
      "# remove malformed header in vcf\n",
      "# sed '/ID=VDB/d' samtools_1.1.vcf > samtools_1.1.vcf_novdb.vcf\n",
      "# bgzip samtools_1.1.vcf_novdb.vcf.gz\n",
      "# tabix samtools_1.1.vcf_novdb.vcf.gz\n",
      "reader = vcf.VCFReader(filename=os.path.join(analysis_dir, \"samtools_1.1.vcf_novdb.vcf.gz\"))\n",
      "def get_ref_alt_alleles(row):\n",
      "    alleles = reader.fetch(row.contig, row.pos)\n",
      "    row['ref'] = alleles.REF\n",
      "    row['alt'] = alleles.ALT\n",
      "    return row\n",
      "snp_id_pos_ref_alt = snp_id_pos.apply(get_ref_alt_alleles, axis=1)\n",
      "snp_id_pos_ref_alt.to_csv(\"snp_id_pos_ref_alt.csv\", header=True, index=True, sep=\"\\t\")\n",
      "snp_id_pos_ref_alt['ref_len'] = snp_id_pos_ref_alt.apply(lambda x: len(x.ref), axis=1)\n",
      "snp_id_pos_ref_alt_snps_only = snp_id_pos_ref_alt[snp_id_pos_ref_alt.ref_len==1]"
     ],
     "language": "python",
     "metadata": {},
     "outputs": [],
     "prompt_number": ""
    },
    {
     "cell_type": "code",
     "collapsed": false,
     "input": [
      "cols = ['popid']\n",
      "# cols.extend(hierf_trans_df.columns[:-3])\n",
      "cols.extend(snp_id_pos_ref_alt_snps_only.index)"
     ],
     "language": "python",
     "metadata": {},
     "outputs": [],
     "prompt_number": ""
    },
    {
     "cell_type": "code",
     "collapsed": true,
     "input": [
      "hierf_trans_df2 = hierf_trans_df[cols]"
     ],
     "language": "python",
     "metadata": {},
     "outputs": [],
     "prompt_number": ""
    },
    {
     "cell_type": "code",
     "collapsed": false,
     "input": [
      "hierf_trans_df2[0:5]"
     ],
     "language": "python",
     "metadata": {},
     "outputs": [],
     "prompt_number": ""
    },
    {
     "cell_type": "code",
     "collapsed": false,
     "input": [
      "hierf_trans_df2.popid.unique()"
     ],
     "language": "python",
     "metadata": {},
     "outputs": [],
     "prompt_number": ""
    },
    {
     "cell_type": "code",
     "collapsed": false,
     "input": [
      "hierf_trans_df2.to_csv(\"hierfstat_samtools.txt\", header=True, index=False, sep=\"\\t\")"
     ],
     "language": "python",
     "metadata": {},
     "outputs": []
    },
    {
     "cell_type": "markdown",
     "metadata": {},
     "source": [
      "##Put into R (because it can be slow)\n",
      "\n",
      "    library(hierfstat)\n",
      "    data = read.table(\"hierfstat_samtools.txt\", header=T, sep=\"\\t\")\n",
      "    levels = data.frame(data$popid)\n",
      "    loci = data[,2:ncol(data)]\n",
      "    res = varcomp.glob(levels=levels, loci=loci, diploid=T)\n",
      "    saveRDS(res, \"hierfstat_samtools.rds\")\n",
      "    "
     ]
    },
    {
     "cell_type": "code",
     "collapsed": false,
     "input": [
      "%%R\n",
      "res = readRDS(\"hierfstat_samtools.rds\")"
     ],
     "language": "python",
     "metadata": {},
     "outputs": [],
     "prompt_number": ""
    },
    {
     "cell_type": "code",
     "collapsed": false,
     "input": [
      "res = com.convert_robj(robjects.r('res'))"
     ],
     "language": "python",
     "metadata": {},
     "outputs": [],
     "prompt_number": ""
    },
    {
     "cell_type": "code",
     "collapsed": false,
     "input": [
      "loc_df = res['loc']\n",
      "F_df = res['F']\n",
      "overall_df = res['overall']"
     ],
     "language": "python",
     "metadata": {},
     "outputs": [],
     "prompt_number": ""
    },
    {
     "cell_type": "code",
     "collapsed": false,
     "input": [
      "F_df"
     ],
     "language": "python",
     "metadata": {},
     "outputs": [],
     "prompt_number": ""
    },
    {
     "cell_type": "code",
     "collapsed": false,
     "input": [
      "def compute_fst(series):\n",
      "    Hs = series[0]\n",
      "    Ht = sum(series)\n",
      "    return Hs/Ht"
     ],
     "language": "python",
     "metadata": {},
     "outputs": [],
     "prompt_number": ""
    },
    {
     "cell_type": "code",
     "collapsed": false,
     "input": [
      "loci_fst = loc_df.apply(compute_fst, axis=1)"
     ],
     "language": "python",
     "metadata": {},
     "outputs": [],
     "prompt_number": ""
    },
    {
     "cell_type": "code",
     "collapsed": false,
     "input": [
      "pop_id"
     ],
     "language": "python",
     "metadata": {},
     "outputs": [],
     "prompt_number": ""
    },
    {
     "cell_type": "code",
     "collapsed": false,
     "input": [
      "plt.hist(loci_fst, bins=20)\n",
      "plt.title(\"n=%d mean=%.2f +/- %.2f [%.2f, %.2f]\" % (len(loci_fst), \n",
      "                                                    np.mean(loci_fst), \n",
      "                                                    np.std(loci_fst),\n",
      "                                                    np.min(loci_fst), \n",
      "                                                    np.max(loci_fst)))\n",
      "plt.show()"
     ],
     "language": "python",
     "metadata": {},
     "outputs": [],
     "prompt_number": ""
    },
    {
     "cell_type": "code",
     "collapsed": false,
     "input": [
      "working_df = z12_df_50_perc_polymorphic_maf_fis_dedup"
     ],
     "language": "python",
     "metadata": {},
     "outputs": []
    },
    {
     "cell_type": "code",
     "collapsed": false,
     "input": [
      "working_df.columns = [\"L%d\" % x if isinstance(x, numbers.Number) else x for x in working_df.columns]"
     ],
     "language": "python",
     "metadata": {},
     "outputs": [],
     "prompt_number": ""
    },
    {
     "cell_type": "code",
     "collapsed": false,
     "input": [
      "allele_freqs = working_df.ix[:,:-2].apply(get_allele_freqs)"
     ],
     "language": "python",
     "metadata": {},
     "outputs": [],
     "prompt_number": ""
    },
    {
     "cell_type": "code",
     "collapsed": false,
     "input": [
      "allele_freqs.iallele_freqs]"
     ],
     "language": "python",
     "metadata": {},
     "outputs": [],
     "prompt_number": ""
    },
    {
     "cell_type": "code",
     "collapsed": false,
     "input": [
      "def swap_alleles(locus):\n",
      "    if locus.name.startswith(\"L\"):\n",
      "        #locus_id = int(locus.name[1:]) #drop the L and convert\n",
      "        locus_id = locus.name\n",
      "        freqs = allele_freqs[locus_id]\n",
      "        maf = min(freqs[\"p\"], freqs[\"q\"])\n",
      "        if maf == freqs[\"p\"]:\n",
      "            return locus.replace({0:2,2:0})\n",
      "        return locus\n",
      "    else:\n",
      "        return locus"
     ],
     "language": "python",
     "metadata": {},
     "outputs": [],
     "prompt_number": ""
    },
    {
     "cell_type": "code",
     "collapsed": false,
     "input": [
      "working_df[:5]"
     ],
     "language": "python",
     "metadata": {},
     "outputs": [],
     "prompt_number": ""
    },
    {
     "cell_type": "code",
     "collapsed": false,
     "input": [
      "pca_maf = working_df.apply(swap_alleles)"
     ],
     "language": "python",
     "metadata": {},
     "outputs": [],
     "prompt_number": ""
    },
    {
     "cell_type": "code",
     "collapsed": false,
     "input": [
      "def center_and_standardize_value(val, u, var):\n",
      "    if val == -1:\n",
      "        return 0.0\n",
      "    return (val-u)/var"
     ],
     "language": "python",
     "metadata": {},
     "outputs": [],
     "prompt_number": ""
    },
    {
     "cell_type": "code",
     "collapsed": false,
     "input": [
      "def center_and_standardize(locus):\n",
      "    if locus.name.startswith(\"L\"):\n",
      "        #locus_id = int(locus.name[1:])\n",
      "        locus_id = locus.name\n",
      "        freqs = allele_freqs[locus_id]\n",
      "        maf = min(freqs[\"p\"], freqs[\"q\"])\n",
      "        var = np.sqrt(maf*(1-maf))\n",
      "        return locus.apply(center_and_standardize_value, args=(maf, var))\n",
      "    return locus"
     ],
     "language": "python",
     "metadata": {},
     "outputs": [],
     "prompt_number": ""
    },
    {
     "cell_type": "code",
     "collapsed": false,
     "input": [
      "pca_maf[:5]"
     ],
     "language": "python",
     "metadata": {},
     "outputs": [],
     "prompt_number": ""
    },
    {
     "cell_type": "code",
     "collapsed": false,
     "input": [
      "pca_std = pca_maf.apply(center_and_standardize)"
     ],
     "language": "python",
     "metadata": {},
     "outputs": [],
     "prompt_number": ""
    },
    {
     "cell_type": "code",
     "collapsed": false,
     "input": [
      "pca_std_data = pca_std.ix[:,:-2]"
     ],
     "language": "python",
     "metadata": {},
     "outputs": [],
     "prompt_number": ""
    },
    {
     "cell_type": "code",
     "collapsed": false,
     "input": [
      "pca_std_data = pca_std_data.ix[:,snp_id_pos_ref_alt_snps_only.index]"
     ],
     "language": "python",
     "metadata": {},
     "outputs": [],
     "prompt_number": ""
    },
    {
     "cell_type": "code",
     "collapsed": false,
     "input": [
      "r = robjects.r"
     ],
     "language": "python",
     "metadata": {},
     "outputs": [],
     "prompt_number": ""
    },
    {
     "cell_type": "code",
     "collapsed": false,
     "input": [
      "prcomp = r('prcomp')\n",
      "summary = r('summary')"
     ],
     "language": "python",
     "metadata": {},
     "outputs": [],
     "prompt_number": ""
    },
    {
     "cell_type": "code",
     "collapsed": false,
     "input": [
      "pca_std_data[:5]"
     ],
     "language": "python",
     "metadata": {},
     "outputs": [],
     "prompt_number": ""
    },
    {
     "cell_type": "code",
     "collapsed": false,
     "input": [
      "prcomp_res = prcomp(pca_std_data, scale=False, center=False)"
     ],
     "language": "python",
     "metadata": {},
     "outputs": [],
     "prompt_number": ""
    },
    {
     "cell_type": "code",
     "collapsed": false,
     "input": [
      "print summary(prcomp_res)"
     ],
     "language": "python",
     "metadata": {},
     "outputs": [],
     "prompt_number": ""
    },
    {
     "cell_type": "code",
     "collapsed": false,
     "input": [
      "x = com.convert_robj(prcomp_res.rx2(\"x\"))\n",
      "x.index = pca_std_data.index\n",
      "joined = x.join(pca_maf)"
     ],
     "language": "python",
     "metadata": {},
     "outputs": [],
     "prompt_number": ""
    },
    {
     "cell_type": "code",
     "collapsed": false,
     "input": [
      "norm = mcolors.Normalize(min(pop_id.values()), max(pop_id.values()))"
     ],
     "language": "python",
     "metadata": {},
     "outputs": [],
     "prompt_number": ""
    },
    {
     "cell_type": "code",
     "collapsed": false,
     "input": [
      "legend = {}\n",
      "for row in joined.iterrows():\n",
      "    pop = row[1]['pop']\n",
      "    n = norm(pop_id[pop])\n",
      "    color = cm.rainbow(n)\n",
      "    legend[pop] = color\n",
      "    plt.scatter(row[1].PC1, \n",
      "                row[1].PC2, \n",
      "                s=50, \n",
      "                c=color)\n",
      "fig = plt.gcf()\n",
      "ax = plt.gca()\n",
      "cmap = plt.get_cmap()\n",
      "fig.set_size_inches(10,8)\n",
      "plt.title(\"PCA of n=%d samples on %d loci\" % (len(joined), len(pca_std_data.columns)))\n",
      "plt.xlabel(\"PC1 (6.9%)\")\n",
      "plt.ylabel(\"PC2 (2.5%)\")\n",
      "\n",
      "handles = []\n",
      "for pop in sorted(legend):\n",
      "    handles.append(mpatches.Patch(color=legend[pop], label=pop))\n",
      "plt.legend(handles=sorted(handles))\n",
      "plt.show()"
     ],
     "language": "python",
     "metadata": {},
     "outputs": [],
     "prompt_number": ""
    },
    {
     "cell_type": "code",
     "collapsed": false,
     "input": [
      "TWcalc = r('TWcalc')"
     ],
     "language": "python",
     "metadata": {},
     "outputs": []
    },
    {
     "cell_type": "code",
     "collapsed": false,
     "input": [
      "tw = TWcalc(com.convert_to_r_matrix(pca_std_data), 15)"
     ],
     "language": "python",
     "metadata": {},
     "outputs": []
    },
    {
     "cell_type": "code",
     "collapsed": false,
     "input": [
      "tw_p = com.convert_robj(tw.rx2(2))\n",
      "tw_e = com.convert_robj(tw.rx2(1))"
     ],
     "language": "python",
     "metadata": {},
     "outputs": []
    },
    {
     "cell_type": "code",
     "collapsed": false,
     "input": [
      "tw_num = 0\n",
      "for i, p in enumerate(tw_p):\n",
      "    if p > 0.05:\n",
      "        tw_num = i\n",
      "        break\n",
      "print \"Tracy-Widom test yields %d axes of pop structure\" % tw_num"
     ],
     "language": "python",
     "metadata": {},
     "outputs": []
    },
    {
     "cell_type": "markdown",
     "metadata": {},
     "source": [
      "Tracy-Widom test yields 10 axes of pop structure"
     ]
    },
    {
     "cell_type": "code",
     "collapsed": false,
     "input": [
      "pca_cov = x.ix[:,0:10]"
     ],
     "language": "python",
     "metadata": {},
     "outputs": [],
     "prompt_number": ""
    },
    {
     "cell_type": "code",
     "collapsed": false,
     "input": [
      "pca_cov[:5]"
     ],
     "language": "python",
     "metadata": {},
     "outputs": [],
     "prompt_number": ""
    },
    {
     "cell_type": "code",
     "collapsed": false,
     "input": [
      "pheno['sample_id'] = pheno.apply(lambda x: \"%s_0\" % x.sample_pheno, axis=1)\n",
      "pheno.index = pheno['sample_id']\n",
      "pheno.drop('sample_id', axis=1)"
     ],
     "language": "python",
     "metadata": {},
     "outputs": [],
     "prompt_number": ""
    },
    {
     "cell_type": "code",
     "collapsed": false,
     "input": [
      "pca_std_pheno = pheno.join(pca_cov, how=\"inner\").join(pca_maf[snp_id_pos_ref_alt_snps_only.index], how=\"inner\")"
     ],
     "language": "python",
     "metadata": {},
     "outputs": [],
     "prompt_number": ""
    },
    {
     "cell_type": "code",
     "collapsed": false,
     "input": [
      "set(pca_std_data.index) - set(pca_std_pheno.index)"
     ],
     "language": "python",
     "metadata": {},
     "outputs": [],
     "prompt_number": ""
    },
    {
     "cell_type": "code",
     "collapsed": false,
     "input": [
      "pca_std_pheno[:5]"
     ],
     "language": "python",
     "metadata": {},
     "outputs": [],
     "prompt_number": ""
    },
    {
     "cell_type": "code",
     "collapsed": false,
     "input": [
      "translation_df[:5]"
     ],
     "language": "python",
     "metadata": {},
     "outputs": [],
     "prompt_number": ""
    },
    {
     "cell_type": "code",
     "collapsed": false,
     "input": [
      "def get_correct_name(name):\n",
      "    row = translation_df.ix[name,:]\n",
      "    return \"%s_%d_%d\" % (row['pop'], row.indiv, row.dup)\n",
      "\n",
      "gt_base_data = {}\n",
      "for i, row in enumerate(snp_id_pos_ref_alt_snps_only.iterrows()):\n",
      "    snp_id = row[0]\n",
      "    snp = reader.fetch(row[1].contig, row[1].pos)\n",
      "    for sample in snp.samples:\n",
      "        if not snp_id in gt_base_data:\n",
      "            gt_base_data[snp_id] = {}\n",
      "        sample_name = get_correct_name(sample.sample)\n",
      "        gt_base_data[snp_id][sample_name] = sample.gt_base==\n",
      "    if i % 10 == 0:\n",
      "        print i\n",
      "gt_base_df = pd.DataFrame(gt_base_data)"
     ],
     "language": "python",
     "metadata": {},
     "outputs": []
    },
    {
     "cell_type": "code",
     "collapsed": false,
     "input": [
      "gt_base_df.to_csv(\"gt_base_df.csv\", header=True, index=True, sep=\"\\t\")"
     ],
     "language": "python",
     "metadata": {},
     "outputs": []
    },
    {
     "cell_type": "code",
     "collapsed": false,
     "input": [
      "gt_base_df = pd.read_csv(\"gt_base_df.csv\", index_col=0, sep=\"\\t\", dtype=str)"
     ],
     "language": "python",
     "metadata": {},
     "outputs": [],
     "prompt_number": ""
    },
    {
     "cell_type": "code",
     "collapsed": false,
     "input": [
      "gt_base_df[:5]"
     ],
     "language": "python",
     "metadata": {},
     "outputs": [],
     "prompt_number": ""
    },
    {
     "cell_type": "code",
     "collapsed": false,
     "input": [
      "%%R\n",
      "library(SNPassoc)"
     ],
     "language": "python",
     "metadata": {},
     "outputs": [],
     "prompt_number": ""
    },
    {
     "cell_type": "code",
     "collapsed": false,
     "input": [
      "pheno.columns"
     ],
     "language": "python",
     "metadata": {},
     "outputs": [],
     "prompt_number": ""
    },
    {
     "cell_type": "code",
     "collapsed": false,
     "input": [
      "pheno_cols = ['Mass','Pupual Duration','Total Dev Time']\n",
      "pheno_cols.extend(gt_base_df.columns)"
     ],
     "language": "python",
     "metadata": {},
     "outputs": [],
     "prompt_number": ""
    },
    {
     "cell_type": "code",
     "collapsed": false,
     "input": [
      "pheno_gt_base = pheno.merge(gt_base_df, left_index=True, right_index=True, how=\"inner\")"
     ],
     "language": "python",
     "metadata": {},
     "outputs": [],
     "prompt_number": ""
    },
    {
     "cell_type": "code",
     "collapsed": false,
     "input": [
      "pheno_gt_base = pheno_gt_base[pheno_cols]"
     ],
     "language": "python",
     "metadata": {},
     "outputs": [],
     "prompt_number": ""
    },
    {
     "cell_type": "code",
     "collapsed": false,
     "input": [
      "pheno_gt_base_pca = pheno_gt_base.merge(pca_cov, left_index=True, right_index=True, how=\"inner\")"
     ],
     "language": "python",
     "metadata": {},
     "outputs": [],
     "prompt_number": ""
    },
    {
     "cell_type": "code",
     "collapsed": false,
     "input": [
      "pheno_gt_base_pca.columns = pheno_gt_base_pca.apply(lambda x: x.name.replace(\" \", \"_\"))"
     ],
     "language": "python",
     "metadata": {},
     "outputs": [],
     "prompt_number": ""
    },
    {
     "cell_type": "code",
     "collapsed": false,
     "input": [
      "pheno_gt_base_pca.ix[:,0:3] = preprocessing.scale(pheno_gt_base_pca.ix[:,0:3])"
     ],
     "language": "python",
     "metadata": {},
     "outputs": [],
     "prompt_number": ""
    },
    {
     "cell_type": "code",
     "collapsed": false,
     "input": [
      "pheno_gt_base_pca[:5]"
     ],
     "language": "python",
     "metadata": {},
     "outputs": [],
     "prompt_number": ""
    },
    {
     "cell_type": "code",
     "collapsed": false,
     "input": [
      "%R -i pheno_gt_base_pca"
     ],
     "language": "python",
     "metadata": {},
     "outputs": [],
     "prompt_number": ""
    },
    {
     "cell_type": "code",
     "collapsed": false,
     "input": [
      "%%R\n",
      "pheno_gt_base_pca[pheno_gt_base_pca==\"None\"] = NA"
     ],
     "language": "python",
     "metadata": {},
     "outputs": []
    },
    {
     "cell_type": "code",
     "collapsed": false,
     "input": [
      "%%R\n",
      "save.image(\"session.Rdata\")"
     ],
     "language": "python",
     "metadata": {},
     "outputs": [],
     "prompt_number": ""
    },
    {
     "cell_type": "markdown",
     "metadata": {},
     "source": [
      "## Do this in R b/c slow\n",
      "\n",
      "\n",
      "    #subtract 10 b/c those are the PCA axes\n",
      "    snp_cols = 4:(ncol(pheno_gt_base_pca)-10)\n",
      "    \n",
      "    snp_data = setupSNP(pheno_gt_base_pca, colSNPs=snp_cols, sep=\"/\")\n",
      "    \n",
      "    pca_cols = (ncol(pheno_gt_base_pca)-9):ncol(pheno_gt_base_pca)\n",
      "    pca_data = pheno_gt_base_pca[,pca_cols]\n",
      "    \n",
      "    wg_mass_co = WGassociation(Mass~1+pca_data$PC1+pca_data$PC2+pca_data$PC3+pca_data$PC4+pca_data$PC5+pca_data$PC6+pca_data$PC7+pca_data$PC8+pca_data$PC9+pca_data$PC10, data=snp_data, model=\"co\")\n",
      "    \n",
      "    wg_pd_co = WGassociation(Pupual_Duration~1+pca_data$PC1+pca_data$PC2+pca_data$PC3+pca_data$PC4+pca_data$PC5+pca_data$PC6+pca_data$PC7+pca_data$PC8+pca_data$PC9+pca_data$PC10, data=snp_data, model=\"co\")\n",
      "    \n",
      "    wg_tdt_co = WGassociation(Total_Dev_Time~1+pca_data$PC1+pca_data$PC2+pca_data$PC3+pca_data$PC4+pca_data$PC5+pca_data$PC6+pca_data$PC7+pca_data$PC8+pca_data$PC9+pca_data$PC10, data=snp_data, model=\"co\")"
     ]
    },
    {
     "cell_type": "code",
     "collapsed": false,
     "input": [],
     "language": "python",
     "metadata": {},
     "outputs": []
    }
   ],
   "metadata": {}
  }
 ]
}
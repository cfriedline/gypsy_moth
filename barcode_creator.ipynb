{
 "metadata": {
  "name": "",
  "signature": "sha256:6e96e44aa7d15ed19b0e717b96c05e531d8d3cb73ad517cd6af0194a759df56d"
 },
 "nbformat": 3,
 "nbformat_minor": 0,
 "worksheets": [
  {
   "cells": [
    {
     "cell_type": "code",
     "collapsed": false,
     "input": [
      "import pandas as pd"
     ],
     "language": "python",
     "metadata": {},
     "outputs": [],
     "prompt_number": ""
    },
    {
     "cell_type": "code",
     "collapsed": false,
     "input": [
      "layouts = [\"i1.txt\", \"i3.txt\"]\n",
      "wells = \"wells.txt\""
     ],
     "language": "python",
     "metadata": {},
     "outputs": [],
     "prompt_number": ""
    },
    {
     "cell_type": "code",
     "collapsed": false,
     "input": [
      "well_data = {}\n",
      "for num, line in enumerate(open(wells)):\n",
      "    if num > 0:\n",
      "        line = line.strip().split(\"\\t\")\n",
      "        well_data[line[0]] = line[1:]"
     ],
     "language": "python",
     "metadata": {},
     "outputs": [],
     "prompt_number": ""
    },
    {
     "cell_type": "code",
     "collapsed": false,
     "input": [
      "for l in layouts:\n",
      "    names = set()\n",
      "    with open(\"barcodes_%s\" % l, \"w\") as o:\n",
      "        o.write(\"sample\\tlocation\\twell\\tbarcode1\\tbarcode2\\tploidy\\n\")\n",
      "        data = pd.read_csv(l, sep=\"\\t\", index_col=0, header=0)\n",
      "        for i in data.index:\n",
      "            for j in data.columns:\n",
      "                key = \"%s%s\" % (i, j)\n",
      "                name = data.loc[i, j].split()\n",
      "                name_comb = \"\".join(name)\n",
      "                if not name_comb in names:\n",
      "                    names.add(name_comb)\n",
      "                else:\n",
      "                    raise Exception(\"duplicate at %s in %s at %s\" % (name_comb, l, key))\n",
      "                names.add(name_comb)\n",
      "                o.write(\"%s\\t%s\\t%s\\t%s\\n\" % (name[1],\n",
      "                                                  name[0],\n",
      "                                                  key,\n",
      "                                                  \"\\t\".join(well_data[key])))"
     ],
     "language": "python",
     "metadata": {},
     "outputs": [],
     "prompt_number": ""
    },
    {
     "cell_type": "code",
     "collapsed": false,
     "input": [],
     "language": "python",
     "metadata": {},
     "outputs": []
    }
   ],
   "metadata": {}
  }
 ]
}
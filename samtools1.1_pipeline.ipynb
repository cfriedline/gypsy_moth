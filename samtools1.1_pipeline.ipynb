{
 "metadata": {
  "name": "",
  "signature": "sha256:de3a8dd68ddb44a38cd95ffc64d870f23b181de5610b08c0456ee0ce79156a70"
 },
 "nbformat": 3,
 "nbformat_minor": 0,
 "worksheets": [
  {
   "cells": [
    {
     "cell_type": "code",
     "collapsed": false,
     "input": [
      "from IPython.parallel import Client\n",
      "import os, time\n",
      "import include_utils as u\n",
      "import pandas as pd\n",
      "import numpy as np\n",
      "import scipy as sp\n",
      "import numbers\n"
     ],
     "language": "python",
     "metadata": {},
     "outputs": [],
     "prompt_number": ""
    },
    {
     "cell_type": "code",
     "collapsed": false,
     "input": [
      "%reload_ext autoreload\n",
      "%autoreload 2"
     ],
     "language": "python",
     "metadata": {},
     "outputs": [],
     "prompt_number": ""
    },
    {
     "cell_type": "code",
     "collapsed": false,
     "input": [
      "R_HOME = '/home/cfriedline/R3/lib64/R'\n",
      "os.environ['LD_LIBRARY_PATH'] = \"%s/lib:%s\" % (os.environ['R_HOME'], os.environ['LD_LIBRARY_PATH'])\n",
      "%load_ext rpy2.ipython"
     ],
     "language": "python",
     "metadata": {},
     "outputs": [],
     "prompt_number": ""
    },
    {
     "cell_type": "code",
     "collapsed": false,
     "input": [
      "import rpy2.robjects as robjects\n",
      "import pandas.rpy.common as com"
     ],
     "language": "python",
     "metadata": {},
     "outputs": [],
     "prompt_number": ""
    },
    {
     "cell_type": "code",
     "collapsed": false,
     "input": [
      "rc = u.get_client(\"huge\")"
     ],
     "language": "python",
     "metadata": {},
     "outputs": [],
     "prompt_number": ""
    },
    {
     "cell_type": "code",
     "collapsed": false,
     "input": [
      "dview, lview = u.get_views(rc)"
     ],
     "language": "python",
     "metadata": {},
     "outputs": [],
     "prompt_number": ""
    },
    {
     "cell_type": "code",
     "collapsed": false,
     "input": [
      "dview, lview = u.get_idle_engines(rc)"
     ],
     "language": "python",
     "metadata": {},
     "outputs": [],
     "prompt_number": ""
    },
    {
     "cell_type": "code",
     "collapsed": false,
     "input": [
      "len(dview)"
     ],
     "language": "python",
     "metadata": {},
     "outputs": [],
     "prompt_number": ""
    },
    {
     "cell_type": "code",
     "collapsed": false,
     "input": [
      "with dview.sync_imports():\n",
      "    import os\n",
      "    import sys\n",
      "    import socket\n",
      "    import stopwatch"
     ],
     "language": "python",
     "metadata": {},
     "outputs": [],
     "prompt_number": ""
    },
    {
     "cell_type": "code",
     "collapsed": false,
     "input": [
      "hlview = u.get_single_host_lview(rc, \"all\")\n",
      "len(hlview)"
     ],
     "language": "python",
     "metadata": {},
     "outputs": [],
     "prompt_number": ""
    },
    {
     "cell_type": "code",
     "collapsed": false,
     "input": [
      "bam_dir = \"/data7/eckertlab/gypsy_indiv/analysis\"\n",
      "analysis_dir = os.path.join(bam_dir, \"samtools1.1\")\n",
      "if not os.path.exists(analysis_dir):\n",
      "    os.makedirs(analysis_dir)\n",
      "assert os.path.exists(analysis_dir)"
     ],
     "language": "python",
     "metadata": {},
     "outputs": [],
     "prompt_number": ""
    },
    {
     "cell_type": "code",
     "collapsed": false,
     "input": [
      "bam_files = [x.strip() for x in open(\"/data7/eckertlab/gypsy_indiv/bamlist.txt\").readlines()]"
     ],
     "language": "python",
     "metadata": {},
     "outputs": [],
     "prompt_number": ""
    },
    {
     "cell_type": "code",
     "collapsed": false,
     "input": [
      "samtools = \"/home/cfriedline/data7/src/samtools-1.1/samtools-1.1/samtools\"\n",
      "bcftools = \"/home/cfriedline/data7/src/samtools-1.1/bcftools-1.1/bcftools\"\n",
      "picard = \"/home/cfriedline/data7/src/broadinstitute-picard-03a1d72/dist/picard.jar\"\n",
      "java = \"/home/cfriedline/jdk1.7.0_25/bin/java\"\n",
      "perl = \"/home/cfriedline/data7/opt/ActivePerl-5.16/bin/perl\""
     ],
     "language": "python",
     "metadata": {},
     "outputs": [],
     "prompt_number": ""
    },
    {
     "cell_type": "code",
     "collapsed": false,
     "input": [
      "def mark_duplicates(args):\n",
      "    java, picard, bam_file, analysis_dir = args\n",
      "    out_bam = os.path.join(\"%s_dedup.bam\" % os.path.basename(bam_file))\n",
      "    t = tempfile.NamedTemporaryFile(delete=False)\n",
      "    cmd = \"%s -jar %s MarkDuplicates \\\n",
      "    INPUT=%s OUTPUT=%s METRICS_FILE=%s.metrics\" %     (java,\n",
      "                              picard,\n",
      "                              bam_file,\n",
      "                              t.name,\n",
      "                              out_bam)\n",
      "    print cmd\n",
      "    !$cmd\n",
      "    shutil.move(t.name, out_bam)\n",
      "    return cmd, out_bam\n",
      "dview['mark_duplicates'] = mark_duplicates"
     ],
     "language": "python",
     "metadata": {},
     "outputs": [],
     "prompt_number": ""
    },
    {
     "cell_type": "code",
     "collapsed": false,
     "input": [
      "rmdup_jobs = []\n",
      "for b in bam_files:\n",
      "    rmdup_jobs.append(hlview.apply_async(mark_duplicates, (java, picard, b, analysis_dir)))"
     ],
     "language": "python",
     "metadata": {},
     "outputs": [],
     "prompt_number": ""
    },
    {
     "cell_type": "code",
     "collapsed": false,
     "input": [
      "get_async_progress(rmdup_jobs)"
     ],
     "language": "python",
     "metadata": {},
     "outputs": [],
     "prompt_number": ""
    },
    {
     "cell_type": "code",
     "collapsed": false,
     "input": [
      "rmdup_jobs[0].get()"
     ],
     "language": "python",
     "metadata": {},
     "outputs": [],
     "prompt_number": ""
    },
    {
     "cell_type": "code",
     "collapsed": false,
     "input": [
      "assembly = \"/home/cfriedline/data7/assemblies/gypsy/masurca/CA/10-gapclose/genome.ctg.fasta\""
     ],
     "language": "python",
     "metadata": {},
     "outputs": [],
     "prompt_number": ""
    },
    {
     "cell_type": "code",
     "collapsed": false,
     "input": [
      "bam_rmdup_files = bam_files \n",
      "bam_rmdup_files[0:5]"
     ],
     "language": "python",
     "metadata": {},
     "outputs": [],
     "prompt_number": ""
    },
    {
     "cell_type": "code",
     "collapsed": false,
     "input": [
      "for b in bam_rmdup_files:\n",
      "    rg = !$samtools view -H {b} | grep '^@RG'\n",
      "    print \"\\t\".join(rg)\n",
      "    break"
     ],
     "language": "python",
     "metadata": {},
     "outputs": [],
     "prompt_number": ""
    },
    {
     "cell_type": "code",
     "collapsed": false,
     "input": [
      "def create_ploidy_file(args):\n",
      "    bam_files, analysis_dir = args\n",
      "    ploidy_file = os.path.join(analysis_dir, \"%s.ploidy\" % \"all\")\n",
      "    with open(ploidy_file, \"w\") as o:\n",
      "        for b in bam_files:\n",
      "            name = \"%s\" % os.path.basename(b).split(\".fastq\")[0]\n",
      "            ploidy = 2\n",
      "            o.write(\"%s\\t%d\\n\" % (name, ploidy))\n",
      "    return ploidy_file\n",
      "dview['create_ploidy_file'] = create_ploidy_file"
     ],
     "language": "python",
     "metadata": {},
     "outputs": [],
     "prompt_number": ""
    },
    {
     "cell_type": "code",
     "collapsed": false,
     "input": [
      "def call_snps(args):\n",
      "    print socket.gethostname()\n",
      "    timer = stopwatch.Timer()\n",
      "    samtools, reference, bam_sorted, bcftools, raw_vcf, out_dir = args \n",
      "    if not out_dir:\n",
      "        out_dir = os.environ['TMPDIR']\n",
      "    raw_vcf = os.path.join(out_dir, raw_vcf)\n",
      "    ploidy_file = create_ploidy_file((bam_sorted, out_dir))\n",
      "    pileup = \"%s mpileup -ugf %s %s | %s call -S %s -vmO z -o %s\" % (samtools, \n",
      "                                                                     reference, \n",
      "                                                                     ' '.join(bam_sorted), \n",
      "                                                                     bcftools, \n",
      "                                                                     ploidy_file, \n",
      "                                                                     raw_vcf) \n",
      "    \n",
      "    print pileup\n",
      "    !$pileup\n",
      "    timer.stop()\n",
      "    return pileup, timer.elapsed\n",
      "dview['call_snps'] = call_snps"
     ],
     "language": "python",
     "metadata": {},
     "outputs": [],
     "prompt_number": ""
    },
    {
     "cell_type": "code",
     "collapsed": false,
     "input": [
      "args = [samtools, \n",
      "        assembly, \n",
      "        bam_rmdup_files, \n",
      "        bcftools, \n",
      "        \"samtools_1.1.vcf.gz\", \n",
      "        analysis_dir]"
     ],
     "language": "python",
     "metadata": {},
     "outputs": [],
     "prompt_number": ""
    },
    {
     "cell_type": "code",
     "collapsed": false,
     "input": [
      "samtools_job = lview.apply_async(call_snps, args)"
     ],
     "language": "python",
     "metadata": {},
     "outputs": [],
     "prompt_number": ""
    },
    {
     "cell_type": "code",
     "collapsed": false,
     "input": [
      "%connect_info"
     ],
     "language": "python",
     "metadata": {},
     "outputs": [],
     "prompt_number": ""
    },
    {
     "cell_type": "markdown",
     "metadata": {},
     "source": [
      "##some snp analysis"
     ]
    },
    {
     "cell_type": "code",
     "collapsed": false,
     "input": [
      "vcf = os.path.join(analysis_dir, \"samtools_1.1.vcf.gz\")"
     ],
     "language": "python",
     "metadata": {},
     "outputs": [],
     "prompt_number": ""
    },
    {
     "cell_type": "code",
     "collapsed": false,
     "input": [
      "vcftools = \"/home/cfriedline/data7/src/vcftools_0.1.12b/bin/vcftools\"\n",
      "bcftools = \"/home/cfriedline/data7/src/samtools-1.1/bcftools-1.1/bcftools\"\n",
      "tabix = \"/home/cfriedline/data7/src/samtools-1.1/htslib-1.1/tabix\"\n",
      "bgzip = \"/home/cfriedline/data7/src/samtools-1.1/htslib-1.1/bgzip\""
     ],
     "language": "python",
     "metadata": {},
     "outputs": [],
     "prompt_number": ""
    },
    {
     "cell_type": "code",
     "collapsed": false,
     "input": [
      "!$vcftools --remove-indels --min-alleles 2 --max-alleles 2 --mac 1 --remove-filtered-all --012 --gzvcf $vcf --out $vcf"
     ],
     "language": "python",
     "metadata": {},
     "outputs": []
    },
    {
     "cell_type": "code",
     "collapsed": false,
     "input": [
      "!$bgzip -c /data7/eckertlab/gypsy_indiv/gypsy_freebayes_out.vcf > /data7/eckertlab/gypsy_indiv/gypsy_freebayes_out.vcf.gz"
     ],
     "language": "python",
     "metadata": {},
     "outputs": []
    },
    {
     "cell_type": "code",
     "collapsed": false,
     "input": [
      "!$tabix /data7/eckertlab/gypsy_indiv/gypsy_freebayes_out.vcf.gz\n",
      "!$tabix $vcf"
     ],
     "language": "python",
     "metadata": {},
     "outputs": []
    },
    {
     "cell_type": "code",
     "collapsed": false,
     "input": [
      "!$bcftools isec -p {analysis_dir}/samtools_freebayes_isec $vcf /data7/eckertlab/gypsy_indiv/gypsy_freebayes_out.vcf.gz"
     ],
     "language": "python",
     "metadata": {},
     "outputs": []
    },
    {
     "cell_type": "markdown",
     "metadata": {},
     "source": [
      "## snp filtering"
     ]
    },
    {
     "cell_type": "code",
     "collapsed": false,
     "input": [
      "from hdfstorehelper import HDFStoreHelper"
     ],
     "language": "python",
     "metadata": {},
     "outputs": [],
     "prompt_number": ""
    },
    {
     "cell_type": "code",
     "collapsed": false,
     "input": [
      "hdf = HDFStoreHelper(\"gypsy_samtools11.hd5\")"
     ],
     "language": "python",
     "metadata": {},
     "outputs": [],
     "prompt_number": ""
    },
    {
     "cell_type": "code",
     "collapsed": false,
     "input": [
      "z12_file = os.path.join(analysis_dir, \"%s.012\" % vcf)\n",
      "z12_df = None\n",
      "z12_df = pd.read_csv(z12_file, header=None, sep=\"\\t\")\n",
      "z12_df = z12_df.drop(0, axis=1)\n",
      "z12_df.columns = pd.Series(z12_df.columns)-1"
     ],
     "language": "python",
     "metadata": {},
     "outputs": [],
     "prompt_number": ""
    },
    {
     "cell_type": "code",
     "collapsed": false,
     "input": [
      "len(z12_df.columns)"
     ],
     "language": "python",
     "metadata": {},
     "outputs": [],
     "prompt_number": ""
    },
    {
     "cell_type": "code",
     "collapsed": false,
     "input": [
      "def get_percent_missing(col):\n",
      "    return len(col[col==-1])*1.0/len(col)   "
     ],
     "language": "python",
     "metadata": {},
     "outputs": [],
     "prompt_number": ""
    },
    {
     "cell_type": "code",
     "collapsed": false,
     "input": [
      "percent_missing = z12_df.apply(get_percent_missing, axis=0)"
     ],
     "language": "python",
     "metadata": {},
     "outputs": [],
     "prompt_number": ""
    },
    {
     "cell_type": "code",
     "collapsed": false,
     "input": [
      "percent_missing[percent_missing >= 0.5]"
     ],
     "language": "python",
     "metadata": {},
     "outputs": [],
     "prompt_number": ""
    },
    {
     "cell_type": "code",
     "collapsed": false,
     "input": [
      "z12_df_50_perc = z12_df.ix[:,percent_missing < 0.5]"
     ],
     "language": "python",
     "metadata": {},
     "outputs": [],
     "prompt_number": ""
    },
    {
     "cell_type": "code",
     "collapsed": false,
     "input": [
      "z12_df_50_perc[0:5]"
     ],
     "language": "python",
     "metadata": {},
     "outputs": []
    },
    {
     "cell_type": "code",
     "collapsed": false,
     "input": [
      "def is_monomorphic(col):\n",
      "    u = col[col != -1].value_counts()\n",
      "    if len(u) == 1:\n",
      "        return True\n",
      "    return False\n",
      "\n",
      "monomorphic_loci = z12_df_50_perc.apply(is_monomorphic, axis=0)\n",
      "monomorphic_loci = monomorphic_loci[monomorphic_loci==True]"
     ],
     "language": "python",
     "metadata": {},
     "outputs": [],
     "prompt_number": ""
    },
    {
     "cell_type": "code",
     "collapsed": false,
     "input": [
      "len(monomorphic_loci)"
     ],
     "language": "python",
     "metadata": {},
     "outputs": [],
     "prompt_number": ""
    },
    {
     "cell_type": "code",
     "collapsed": false,
     "input": [
      "z12_df_50_perc_polymorphic = z12_df_50_perc.drop(monomorphic_loci.index, axis=1)"
     ],
     "language": "python",
     "metadata": {},
     "outputs": [],
     "prompt_number": ""
    },
    {
     "cell_type": "code",
     "collapsed": false,
     "input": [
      "z12_df_50_perc_polymorphic[0:5]"
     ],
     "language": "python",
     "metadata": {},
     "outputs": [],
     "prompt_number": ""
    },
    {
     "cell_type": "code",
     "collapsed": false,
     "input": [
      "indv = os.path.join(analysis_dir, \"%s.indv\" % os.path.basename(z12_file))\n",
      "names = [\"_\".join(x.strip().split(\"_\")[:-1]) for x in open(indv).readlines()]"
     ],
     "language": "python",
     "metadata": {},
     "outputs": [],
     "prompt_number": ""
    },
    {
     "cell_type": "code",
     "collapsed": false,
     "input": [
      "z12_df_50_perc_polymorphic.index = names"
     ],
     "language": "python",
     "metadata": {},
     "outputs": [],
     "prompt_number": ""
    },
    {
     "cell_type": "code",
     "collapsed": false,
     "input": [
      "z12_df_50_perc_polymorphic['pop'] = z12_df_50_perc_polymorphic.apply(lambda row: row.name.split(\"_\")[0], axis=1)"
     ],
     "language": "python",
     "metadata": {},
     "outputs": [],
     "prompt_number": ""
    },
    {
     "cell_type": "code",
     "collapsed": false,
     "input": [
      "def get_correction(n):\n",
      "    #for finite sample size\n",
      "    return (2*n)/(2*n-1)\n",
      "\n",
      "def get_allele_freqs(locus):\n",
      "    c = locus[locus != -1].value_counts()\n",
      "    total_alleles = 2.0*sum(c)\n",
      "    num_individuals = sum(c)\n",
      "    p = 0\n",
      "    q = 0\n",
      "    pq = 0\n",
      "    if 0 in c:\n",
      "        p = 2*c[0]\n",
      "    if 2 in c:\n",
      "        q = 2*c[2]\n",
      "    if 1 in c:\n",
      "        pq = c[1]\n",
      "    p += pq\n",
      "    q += pq\n",
      "    p = p/total_alleles\n",
      "    q = q/total_alleles\n",
      "    assert p + q == 1.0\n",
      "    He = 2 * p * q * get_correction(num_individuals)\n",
      "    Ho = pq*1.0/num_individuals\n",
      "    Fis = 1 - (Ho/He)\n",
      "    return p, q, He, Ho, Fis"
     ],
     "language": "python",
     "metadata": {},
     "outputs": [],
     "prompt_number": ""
    },
    {
     "cell_type": "code",
     "collapsed": false,
     "input": [
      "allele_freqs = z12_df_50_perc_polymorphic.ix[:,:-1].apply(get_allele_freqs)"
     ],
     "language": "python",
     "metadata": {},
     "outputs": [],
     "prompt_number": ""
    },
    {
     "cell_type": "code",
     "collapsed": false,
     "input": [
      "mafs = allele_freqs.apply(lambda x: min(x[0:2]))"
     ],
     "language": "python",
     "metadata": {},
     "outputs": [],
     "prompt_number": ""
    },
    {
     "cell_type": "code",
     "collapsed": false,
     "input": [
      "mafs[mafs<0.01]"
     ],
     "language": "python",
     "metadata": {},
     "outputs": [],
     "prompt_number": ""
    },
    {
     "cell_type": "code",
     "collapsed": false,
     "input": [
      "z12_df_50_perc_polymorphic_maf = z12_df_50_perc_polymorphic.drop(mafs[mafs<0.01].index, axis=1)"
     ],
     "language": "python",
     "metadata": {},
     "outputs": [],
     "prompt_number": ""
    },
    {
     "cell_type": "code",
     "collapsed": false,
     "input": [
      "z12_df_50_perc_polymorphic_maf[0:5]"
     ],
     "language": "python",
     "metadata": {},
     "outputs": [],
     "prompt_number": ""
    },
    {
     "cell_type": "code",
     "collapsed": false,
     "input": [
      "global_fis = allele_freqs.apply(lambda x: x[-1])"
     ],
     "language": "python",
     "metadata": {},
     "outputs": [],
     "prompt_number": ""
    },
    {
     "cell_type": "code",
     "collapsed": false,
     "input": [
      "fis_outliers = global_fis[(global_fis < -0.5) | (global_fis > 0.5)]"
     ],
     "language": "python",
     "metadata": {},
     "outputs": [],
     "prompt_number": ""
    },
    {
     "cell_type": "code",
     "collapsed": false,
     "input": [
      "len(fis_outliers)"
     ],
     "language": "python",
     "metadata": {},
     "outputs": [],
     "prompt_number": ""
    },
    {
     "cell_type": "code",
     "collapsed": false,
     "input": [
      "z12_df_50_perc_polymorphic_maf_fis = z12_df_50_perc_polymorphic_maf.drop(fis_outliers.index, axis=1)"
     ],
     "language": "python",
     "metadata": {},
     "outputs": [],
     "prompt_number": ""
    },
    {
     "cell_type": "code",
     "collapsed": false,
     "input": [
      "z12_df_50_perc_polymorphic_maf_fis[0:5]"
     ],
     "language": "python",
     "metadata": {},
     "outputs": [],
     "prompt_number": ""
    },
    {
     "cell_type": "code",
     "collapsed": false,
     "input": [
      "working_df = z12_df_50_perc_polymorphic_maf_fis"
     ],
     "language": "python",
     "metadata": {},
     "outputs": [],
     "prompt_number": ""
    },
    {
     "cell_type": "code",
     "collapsed": false,
     "input": [
      "working_df.to_csv(os.path.join(analysis_dir,\n",
      "                               \"z12_df_50_perc_polymorphic_maf_fis.txt\"),\n",
      "                                          header=True,\n",
      "                                          index=True,\n",
      "                                          sep=\"\\t\")"
     ],
     "language": "python",
     "metadata": {},
     "outputs": []
    },
    {
     "cell_type": "code",
     "collapsed": false,
     "input": [
      "hierf_trans = {0:11, 1:12, 2:22, -1:'NA'}"
     ],
     "language": "python",
     "metadata": {},
     "outputs": [],
     "prompt_number": ""
    },
    {
     "cell_type": "code",
     "collapsed": false,
     "input": [
      "def apply_hierf_trans(series):\n",
      "    return [hierf_trans[x] if x in hierf_trans else x for x in series]"
     ],
     "language": "python",
     "metadata": {},
     "outputs": [],
     "prompt_number": ""
    },
    {
     "cell_type": "code",
     "collapsed": false,
     "input": [
      "hierf_trans_df = working_df.apply(apply_hierf_trans)"
     ],
     "language": "python",
     "metadata": {},
     "outputs": [],
     "prompt_number": ""
    },
    {
     "cell_type": "code",
     "collapsed": false,
     "input": [
      "pop_id = {}\n",
      "i = 0\n",
      "for p in sorted(working_df['pop'].unique()):\n",
      "    pop_id[p] = i\n",
      "    i+=1\n",
      "pop_id"
     ],
     "language": "python",
     "metadata": {},
     "outputs": [],
     "prompt_number": ""
    },
    {
     "cell_type": "code",
     "collapsed": false,
     "input": [
      "def assign_popid(series):\n",
      "    series['popid'] = pop_id[series['pop']]\n",
      "    return series"
     ],
     "language": "python",
     "metadata": {},
     "outputs": [],
     "prompt_number": ""
    },
    {
     "cell_type": "code",
     "collapsed": false,
     "input": [
      "hierf_trans_df = hierf_trans_df.apply(assign_popid, axis=1)"
     ],
     "language": "python",
     "metadata": {},
     "outputs": [],
     "prompt_number": ""
    },
    {
     "cell_type": "code",
     "collapsed": false,
     "input": [
      "hierf_trans_df.columns = [\"L%d\" % x if isinstance(x, numbers.Number) else x for x in hierf_trans_df.columns]"
     ],
     "language": "python",
     "metadata": {},
     "outputs": [],
     "prompt_number": ""
    },
    {
     "cell_type": "code",
     "collapsed": false,
     "input": [
      "cols = ['popid']\n",
      "cols.extend(hierf_trans_df.columns[:-2])"
     ],
     "language": "python",
     "metadata": {},
     "outputs": [],
     "prompt_number": ""
    },
    {
     "cell_type": "code",
     "collapsed": true,
     "input": [
      "hierf_trans_df2 = hierf_trans_df[cols]"
     ],
     "language": "python",
     "metadata": {},
     "outputs": [],
     "prompt_number": ""
    },
    {
     "cell_type": "code",
     "collapsed": false,
     "input": [],
     "language": "python",
     "metadata": {},
     "outputs": []
    },
    {
     "cell_type": "code",
     "collapsed": false,
     "input": [],
     "language": "python",
     "metadata": {},
     "outputs": []
    },
    {
     "cell_type": "code",
     "collapsed": false,
     "input": [
      "hierf_trans_df2[0:5]"
     ],
     "language": "python",
     "metadata": {},
     "outputs": [],
     "prompt_number": ""
    },
    {
     "cell_type": "code",
     "collapsed": false,
     "input": [
      "hierf_trans_df2.to_csv(\"hierfstat_samtools.txt\", header=True, index=False, sep=\"\\t\")"
     ],
     "language": "python",
     "metadata": {},
     "outputs": [],
     "prompt_number": ""
    },
    {
     "cell_type": "code",
     "collapsed": false,
     "input": [
      "%%R\n",
      "library(hierfstat)\n",
      "data = read.table(\"hierfstat_samtools.txt\", header=T, sep=\"\\t\")\n",
      "levels = data.frame(data$popid)\n",
      "loci = data[,3:ncol(data)]\n",
      "res = varcomp.glob(levels=levels, loci=loci, diploid=T)\n",
      "saveRDS(res, \"hierfstat_samtools.rds\")"
     ],
     "language": "python",
     "metadata": {},
     "outputs": [],
     "prompt_number": ""
    },
    {
     "cell_type": "code",
     "collapsed": false,
     "input": [
      "%%R\n",
      "res = readRDS(\"hierfstat.rds\")"
     ],
     "language": "python",
     "metadata": {},
     "outputs": []
    },
    {
     "cell_type": "code",
     "collapsed": false,
     "input": [
      "res = com.convert_robj(robjects.r('res'))"
     ],
     "language": "python",
     "metadata": {},
     "outputs": []
    },
    {
     "cell_type": "code",
     "collapsed": false,
     "input": [
      "loc_df = res['loc']\n",
      "F_df = res['F']\n",
      "overall_df = res['overall']"
     ],
     "language": "python",
     "metadata": {},
     "outputs": []
    },
    {
     "cell_type": "code",
     "collapsed": false,
     "input": [
      "def compute_fst(series):\n",
      "    Hs = series[0]\n",
      "    Ht = sum(series)\n",
      "    return (Ht-Hs)/Ht"
     ],
     "language": "python",
     "metadata": {},
     "outputs": [],
     "prompt_number": ""
    },
    {
     "cell_type": "code",
     "collapsed": false,
     "input": [
      "loci_fst = loc_df.apply(compute_fst, axis=1)"
     ],
     "language": "python",
     "metadata": {},
     "outputs": []
    }
   ],
   "metadata": {}
  }
 ]
}
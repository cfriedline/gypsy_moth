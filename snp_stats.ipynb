{
 "metadata": {
  "name": "",
  "signature": "sha256:11cf4050d380cc455c05f0f031fd60aa0d4fad8dd7c0ff36d471fd7c56bc4a52"
 },
 "nbformat": 3,
 "nbformat_minor": 0,
 "worksheets": [
  {
   "cells": [
    {
     "cell_type": "code",
     "collapsed": false,
     "input": [
      "import pandas as pd\n",
      "import pandas.rpy.common as com\n",
      "import rpy2.robjects as robs\n",
      "import rpy2\n",
      "import matplotlib.pyplot as plt\n",
      "%load_ext rpy2.ipython\n",
      "%load_ext autoreload\n",
      "%matplotlib inline\n",
      "%autoreload 2\n",
      "from IPython.display import FileLink, FileLinks\n",
      "from __future__ import division "
     ],
     "language": "python",
     "metadata": {},
     "outputs": [],
     "prompt_number": ""
    },
    {
     "cell_type": "code",
     "collapsed": false,
     "input": [
      "from hdfstorehelper import HDFStoreHelper"
     ],
     "language": "python",
     "metadata": {},
     "outputs": [],
     "prompt_number": ""
    },
    {
     "cell_type": "code",
     "collapsed": false,
     "input": [
      "h5 = HDFStoreHelper(\"/data7/cfriedline/store_gypsy.h5\")"
     ],
     "language": "python",
     "metadata": {},
     "outputs": [],
     "prompt_number": ""
    },
    {
     "cell_type": "code",
     "collapsed": false,
     "input": [
      "h5.in_store(\"model_fit/pca_all/r_c\")"
     ],
     "language": "python",
     "metadata": {},
     "outputs": [],
     "prompt_number": ""
    },
    {
     "cell_type": "code",
     "collapsed": false,
     "input": [
      "all_r_c = h5.get('model_fit/pca_all/r_c') # g vs. p as function of TW PCA axes\n",
      "all_r_u = h5.get('model_fit/pca_all/r_u') # g vs. p w/o pca"
     ],
     "language": "python",
     "metadata": {},
     "outputs": [],
     "prompt_number": ""
    },
    {
     "cell_type": "code",
     "collapsed": false,
     "input": [
      "%%R\n",
      "get_p = function(data) {\n",
      "    return(pchisq(data,df=1,lower.tail=F))\n",
      "}"
     ],
     "language": "python",
     "metadata": {},
     "outputs": [],
     "prompt_number": ""
    },
    {
     "cell_type": "code",
     "collapsed": false,
     "input": [
      "def get_x2_values(r2_values, k):\n",
      "    return r2_values * (188 - k - 1)"
     ],
     "language": "python",
     "metadata": {},
     "outputs": [],
     "prompt_number": ""
    },
    {
     "cell_type": "code",
     "collapsed": false,
     "input": [
      "def get_p_values(r_values, k):\n",
      "    r2 = r_values*r_values\n",
      "    x2 = get_x2_values(r2, k)\n",
      "    robs.globalenv['x2'] = com.convert_to_r_matrix(x2)\n",
      "    return com.convert_robj(robs.r('get_p(x2)'))"
     ],
     "language": "python",
     "metadata": {},
     "outputs": [],
     "prompt_number": ""
    },
    {
     "cell_type": "code",
     "collapsed": false,
     "input": [
      "all_p_c = get_p_values(all_r_c, 8)\n",
      "all_p_u = get_p_values(all_r_u, 0)"
     ],
     "language": "python",
     "metadata": {},
     "outputs": [],
     "prompt_number": ""
    },
    {
     "cell_type": "code",
     "collapsed": false,
     "input": [
      "all_p_c.to_csv(\"all_p_corrected.csv\", header=True, index=True)\n",
      "all_p_u.to_csv(\"all_p_uncorrected.csv\", header=True, index=True)"
     ],
     "language": "python",
     "metadata": {},
     "outputs": [],
     "prompt_number": ""
    },
    {
     "cell_type": "markdown",
     "metadata": {},
     "source": [
      "##Entire data set p-values"
     ]
    },
    {
     "cell_type": "code",
     "collapsed": false,
     "input": [
      "def plot_hists(data, title):\n",
      "    for col in data:\n",
      "        plt.hist(data[col])\n",
      "        plt.title(title)\n",
      "        plt.xlabel(\"%s\" % (col))\n",
      "        plt.show()"
     ],
     "language": "python",
     "metadata": {},
     "outputs": [],
     "prompt_number": ""
    },
    {
     "cell_type": "code",
     "collapsed": false,
     "input": [
      "plot_hists(p_c, \"Corrected\")\n",
      "plot_hists(p_u, \"Uncorrected\")"
     ],
     "language": "python",
     "metadata": {},
     "outputs": [],
     "prompt_number": ""
    },
    {
     "cell_type": "markdown",
     "metadata": {},
     "source": [
      "##MAF bins p-values"
     ]
    },
    {
     "cell_type": "code",
     "collapsed": false,
     "input": [
      "bins = h5.get_children_paths(\"model_fit/pca_bin\")"
     ],
     "language": "python",
     "metadata": {},
     "outputs": [],
     "prompt_number": ""
    },
    {
     "cell_type": "code",
     "collapsed": false,
     "input": [
      "for node_path in sorted(bins):\n",
      "    r_c = h5.get(\"%s/r_c\" % (node_path))\n",
      "    r_u = h5.get(\"%s/r_u\" % (node_path))\n",
      "    p_c = get_p_values(r_c, 8)\n",
      "    p_u = get_p_values(r_u, 0)\n",
      "    bin_path = node_path.split(\"/\")[-1]\n",
      "    p_c.to_csv(\"%s_p_corrected.csv\" % bin_path, header=True, index=True)\n",
      "    p_u.to_csv(\"%s_p_uncorrected.csv\" % bin_path, header=True, index=True)\n",
      "    plot_hists(p_c, \"%s (Corrected)\" % bin_path)\n",
      "    plot_hists(p_u, \"%s (Uncorrected)\" % bin_path)"
     ],
     "language": "python",
     "metadata": {},
     "outputs": [],
     "prompt_number": ""
    },
    {
     "cell_type": "markdown",
     "metadata": {},
     "source": [
      "##Fraction of p-values < 0.05"
     ]
    },
    {
     "cell_type": "code",
     "collapsed": false,
     "input": [
      "alpha = 0.05\n",
      "with open(\"p_fraction_%.2f.csv\" % alpha, \"w\") as o:\n",
      "    for node_path in sorted(bins):\n",
      "        r_c = h5.get(\"%s/r_c\" % (node_path))\n",
      "        r_u = h5.get(\"%s/r_u\" % (node_path))\n",
      "        p_c = get_p_values(r_c, 8)\n",
      "        p_u = get_p_values(r_u, 0)\n",
      "        bin_path = node_path.split(\"/\")[-1]\n",
      "        for col in p_c:\n",
      "            o.write(','.join([str(x) for x in [bin_path, \"corrected\", col, len(p_c[p_c[col] < alpha])/len(p_c[col])]]))\n",
      "            o.write(\"\\n\")\n",
      "        for col in p_u:\n",
      "            o.write(','.join([str(x) for x in [bin_path, \"uncorrected\", col, len(p_u[p_u[col] < alpha])/len(p_u[col])]]))\n",
      "            o.write(\"\\n\")\n",
      "\n",
      "    cols = all_p_c.columns\n",
      "    for col in cols:\n",
      "        for col in all_p_c:\n",
      "            o.write(','.join([str(x) for x in [\"all\", \"corrected\", col, len(p_c[p_c[col] < alpha])/len(p_c[col])]]))\n",
      "            o.write(\"\\n\")\n",
      "        for col in all_p_u:\n",
      "            o.write(','.join([str(x) for x in [\"all\", \"uncorrected\", col, len(p_u[p_u[col] < alpha])/len(p_u[col])]]))\n",
      "            o.write(\"\\n\")"
     ],
     "language": "python",
     "metadata": {},
     "outputs": [],
     "prompt_number": ""
    },
    {
     "cell_type": "code",
     "collapsed": false,
     "input": [
      "FileLinks(\".\", included_suffixes=[\".csv\"])"
     ],
     "language": "python",
     "metadata": {},
     "outputs": [],
     "prompt_number": ""
    },
    {
     "cell_type": "markdown",
     "metadata": {},
     "source": [
      "## X^2 pairs"
     ]
    },
    {
     "cell_type": "code",
     "collapsed": false,
     "input": [
      "with open(\"chisq_corr.txt\", \"w\") as o:\n",
      "    for node_path in sorted(bins):\n",
      "        r_c = h5.get(\"%s/r_c\" % (node_path))\n",
      "        r_u = h5.get(\"%s/r_u\" % (node_path))\n",
      "        x2_c = get_x2_values(r_c*r_c, 8)\n",
      "        x2_u = get_x2_values(r_u*r_u, 0)\n",
      "        bin_path = node_path.split(\"/\")[-1]\n",
      "        o.write(\"%s\\n\" % bin_path) \n",
      "        o.write(\"%s\\n\" % \"corrected\")\n",
      "        o.write(\"%s\\n\" % x2_c.corr()) \n",
      "        o.write(\"%s\\n\" % \"\\nuncorrected\")\n",
      "        o.write(\"%s\\n\" % x2_u.corr())\n",
      "        o.write(\"%s\\n\" % \"\".join([\"-\"]*60))\n",
      "\n",
      "    all_x2_c = get_x2_values(all_r_c*all_r_c, 8)\n",
      "    all_x2_u = get_x2_values(all_r_u*all_r_u, 0)\n",
      "    o.write(\"%s\\n\" % \"all\")\n",
      "    o.write(\"%s\\n\" % \"corrected\")\n",
      "    o.write(\"%s\\n\" % all_x2_c.corr())\n",
      "    o.write(\"%s\\n\" % \"\\nuncorrected\")\n",
      "    o.write(\"%s\\n\" % all_x2_u.corr())"
     ],
     "language": "python",
     "metadata": {},
     "outputs": [],
     "prompt_number": ""
    },
    {
     "cell_type": "code",
     "collapsed": false,
     "input": [],
     "language": "python",
     "metadata": {},
     "outputs": []
    }
   ],
   "metadata": {}
  }
 ]
}
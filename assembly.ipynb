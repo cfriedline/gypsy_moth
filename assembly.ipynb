{
 "metadata": {
  "name": "",
  "signature": "sha256:90b4b21d520b7e2aa1150d528861d85a88528b12a383092b4533f8f1eb01718c"
 },
 "nbformat": 3,
 "nbformat_minor": 0,
 "worksheets": [
  {
   "cells": [
    {
     "cell_type": "markdown",
     "metadata": {},
     "source": [
      "##Assembly procedure\n",
      "\n",
      "/home/cfriedline/data7/src/MaSuRCA-2.3.2\n",
      "\n",
      "config files in ~/data7/assemblies/gypsy/masurca-2.3.2\n",
      "\n",
      "\n"
     ]
    },
    {
     "cell_type": "code",
     "collapsed": false,
     "input": [
      "cd ~/data7/assemblies/gypsy/masurca-2.3.2"
     ],
     "language": "python",
     "metadata": {},
     "outputs": [],
     "prompt_number": ""
    },
    {
     "cell_type": "markdown",
     "metadata": {},
     "source": [
      "##MaSuRCA config file\n",
      "\n",
      "```cat sr_config_gypsy.txt\n",
      "```\n",
      "    \n",
      "    # example configuration file \n",
      "\n",
      "    # DATA is specified as type {PE,JUMP,OTHER} and 5 fields:\n",
      "    # 1)two_letter_prefix 2)mean 3)stdev 4)fastq(.gz)_fwd_reads\n",
      "    # 5)fastq(.gz)_rev_reads. The PE reads are always assumed to be\n",
      "    # innies, i.e. --->.<---, and JUMP are assumed to be outties\n",
      "    # <---.--->. If there are any jump libraries that are innies, such as\n",
      "    # longjump, specify them as JUMP and specify NEGATIVE mean. Reverse reads\n",
      "    # are optional for PE libraries and mandatory for JUMP libraries. Any\n",
      "    # OTHER sequence data (454, Sanger, Ion torrent, etc) must be first\n",
      "    # converted into Celera Assembler compatible .frg files (see\n",
      "    # http://wgs-assembler.sourceforge.com)\n",
      "    DATA\n",
      "    PE= pe 400 60 ../Gypsy_moth01_TGACCA_L004_R1_001.fastq_processed.fastq ../Gypsy_moth01_TGACCA_L004_R2_001.fastq_processed.fastq\n",
      "    END\n",
      "\n",
      "    PARAMETERS\n",
      "    #this is k-mer size for deBruijn graph values between 25 and 101 are supported, auto will compute the optimal size based on the read data and GC content\n",
      "    GRAPH_KMER_SIZE=auto\n",
      "    #set this to 1 for Illumina-only assemblies and to 0 if you have 1x or more long (Sanger, 454) reads, you can also set this to 0 for large data sets with high jumping clone coverage, e.g. >50x\n",
      "    USE_LINKING_MATES=1\n",
      "    #this parameter is useful if you have too many jumping library mates. Typically set it to 60 for bacteria and something large (300) for mammals\n",
      "    LIMIT_JUMP_COVERAGE = 60\n",
      "    #these are the additional parameters to Celera Assembler.  do not worry about performance, number or processors or batch sizes -- these are computed automatically. for mammals do not set cgwErrorRate above 0.15!!!\n",
      "    CA_PARAMETERS = ovlMerSize=30 cgwErrorRate=0.25 ovlMemory=4GB\n",
      "    #minimum count k-mers used in error correction 1 means all k-mers are used.  one can increase to 2 if coverage >100\n",
      "    KMER_COUNT_THRESHOLD = 1\n",
      "    #auto-detected number of cpus to use\n",
      "    NUM_THREADS= 64\n",
      "    #this is mandatory jellyfish hash size\n",
      "    JF_SIZE=10000000000\n",
      "    #this specifies if we do (1) or do not (0) want to trim long runs of homopolymers (e.g. GGGGGGGG) from 3' read ends, use it for high GC genomes\n",
      "    DO_HOMOPOLYMER_TRIM=0\n",
      "    END"
     ]
    },
    {
     "cell_type": "code",
     "collapsed": false,
     "input": [
      "!/home/cfriedline/data7/src/MaSuRCA-2.3.2/bin/masurca sr_config_gypsy.txt"
     ],
     "language": "python",
     "metadata": {},
     "outputs": [],
     "prompt_number": ""
    },
    {
     "cell_type": "markdown",
     "metadata": {},
     "source": [
      "    Verifying PATHS...\n",
      "    jellyfish-2.0 OK\n",
      "    runCA OK\n",
      "    createSuperReadsForDirectory.perl OK\n",
      "    creating script file for the actions...done.\n",
      "    execute assemble.sh to run the assembly"
     ]
    },
    {
     "cell_type": "markdown",
     "metadata": {},
     "source": [
      "`cat run_masurca.sh`\n",
      "<pre>\n",
      "#!/bin/bash\n",
      "#$ -N masurca\n",
      "#$ -V\n",
      "#$ -cwd\n",
      "#$ -q godel199@godel97\n",
      "\n",
      "./assemble.sh\n",
      "</pre>"
     ]
    },
    {
     "cell_type": "code",
     "collapsed": false,
     "input": [
      "!qsub run_masurca.sh"
     ],
     "language": "python",
     "metadata": {},
     "outputs": [],
     "prompt_number": ""
    },
    {
     "cell_type": "code",
     "collapsed": false,
     "input": [
      "ls -lrth"
     ],
     "language": "python",
     "metadata": {},
     "outputs": []
    },
    {
     "cell_type": "code",
     "collapsed": false,
     "input": [
      "ls -lrth ../masurca/*.fa"
     ],
     "language": "python",
     "metadata": {},
     "outputs": [],
     "prompt_number": ""
    },
    {
     "cell_type": "code",
     "collapsed": false,
     "input": [
      "!less masurca.o1204037"
     ],
     "language": "python",
     "metadata": {},
     "outputs": []
    },
    {
     "cell_type": "markdown",
     "metadata": {},
     "source": [
      "##Assembly tweak #1\n",
      "\n",
      "Based on the above config, the following error was thrown: \n",
      "\n",
      "<pre>\n",
      "WARNING! CA_PARAMETERS = cgwErrorRate=0.25 and LIMIT_JUMP_COVERAGE = 60 in config file should only be used for bacterial genomes; set cgwErrorRate=0.15 and  LIMIT_JUMP_COVERAGE=300 for eukaryotes and plants!\n",
      "</pre>\n",
      "\n",
      "As such, a new directory ` ~/data7/assemblies/gypsy/masurca-2.3.2` was created with the above tweaks and a new assembly was started"
     ]
    },
    {
     "cell_type": "code",
     "collapsed": false,
     "input": [],
     "language": "python",
     "metadata": {},
     "outputs": []
    }
   ],
   "metadata": {}
  }
 ]
}
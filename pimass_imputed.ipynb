{
 "cells": [
  {
   "cell_type": "code",
   "execution_count": 0,
   "metadata": {
    "code_folding": [],
    "collapsed": false,
    "init_cell": true,
    "run_control": {
     "marked": false
    }
   },
   "outputs": [],
   "source": [
    "import scandir\n",
    "import os\n",
    "import rpy2\n",
    "from rpy2.robjects import pandas2ri\n",
    "pandas2ri.activate()\n",
    "import rpy2.robjects as ro\n",
    "import pandas as pd\n",
    "import matplotlib.pyplot as plt\n",
    "%matplotlib inline\n",
    "import seaborn as sns\n",
    "import numpy as np\n",
    "import dill"
   ]
  },
  {
   "cell_type": "code",
   "execution_count": 0,
   "metadata": {
    "collapsed": true,
    "run_control": {
     "marked": false
    }
   },
   "outputs": [],
   "source": [
    "assembly = \"/home/cfriedline/gpfs/assemblies/gypsy/masurca_new/CA/10-gapclose/genome.ctg.fasta\""
   ]
  },
  {
   "cell_type": "code",
   "execution_count": 0,
   "metadata": {
    "collapsed": false,
    "run_control": {
     "marked": false
    }
   },
   "outputs": [],
   "source": [
    "%load_ext rpy2.ipython\n",
    "r = ro.r"
   ]
  },
  {
   "cell_type": "code",
   "execution_count": 0,
   "metadata": {
    "collapsed": true,
    "run_control": {
     "marked": false
    }
   },
   "outputs": [],
   "source": [
    "filedir = \"/home/cfriedline/eckertlab/gypsy_indiv/masked/analysis/samtools1.2_no_otis/beagle40/output_comeault_isect/\""
   ]
  },
  {
   "cell_type": "code",
   "execution_count": 0,
   "metadata": {
    "collapsed": false,
    "deletable": true,
    "hide_input": false,
    "init_cell": true,
    "locked": false,
    "run_control": {
     "marked": false
    }
   },
   "outputs": [],
   "source": [
    "def dump_session():\n",
    "    dill.settings['recurse'] = True\n",
    "    dill.settings['fmode'] = dill.HANDLE_FMODE\n",
    "    dill.dump_session(filename=os.path.join(filedir, \"pimass.dill\"))"
   ]
  },
  {
   "cell_type": "code",
   "execution_count": 0,
   "metadata": {
    "collapsed": false,
    "run_control": {
     "marked": false
    }
   },
   "outputs": [],
   "source": [
    "path_files = {}\n",
    "mcmc_files = {}\n",
    "gamma_files = {}\n",
    "snp_files = {}\n",
    "for root, dirs, files in scandir.walk(filedir):\n",
    "    for f in files:\n",
    "        d = f.split(\"_\")\n",
    "        pheno = d[1]\n",
    "        if not pheno in path_files:\n",
    "            path_files[pheno] = []\n",
    "            mcmc_files[pheno]= []\n",
    "            gamma_files[pheno] = []\n",
    "            snp_files[pheno] = []\n",
    "        if 'path' in f:\n",
    "            path_files[pheno].append(os.path.join(root, f))\n",
    "        elif 'mcmc' in f:\n",
    "            mcmc_files[pheno].append(os.path.join(root, f))\n",
    "        elif 'gamma' in f:\n",
    "            gamma_files[pheno].append(os.path.join(root, f))\n",
    "        elif 'snp' in f:\n",
    "            snp_files[pheno].append(os.path.join(root, f))"
   ]
  },
  {
   "cell_type": "code",
   "execution_count": 0,
   "metadata": {
    "collapsed": false,
    "run_control": {
     "marked": false
    }
   },
   "outputs": [],
   "source": [
    "%%R\n",
    "library(coda)"
   ]
  },
  {
   "cell_type": "code",
   "execution_count": 0,
   "metadata": {
    "collapsed": false,
    "run_control": {
     "marked": false
    }
   },
   "outputs": [],
   "source": [
    "mcmc = r('mcmc')\n",
    "mcmc_list = r('mcmc.list')"
   ]
  },
  {
   "cell_type": "code",
   "execution_count": 0,
   "metadata": {
    "collapsed": false,
    "run_control": {
     "marked": false
    }
   },
   "outputs": [],
   "source": [
    "dfs = {}\n",
    "phenos = [\"mass\", \"pd\", \"tdt\"]\n",
    "for pheno in phenos:\n",
    "    frames = [pd.read_csv(x,sep=\"\\t\") for x in path_files[pheno]]\n",
    "    frames = [x.ix[:,:-1] for x in frames]\n",
    "    for df in frames:\n",
    "        df.columns = [x.strip() for x in df.columns]\n",
    "    dfs[pheno] = frames"
   ]
  },
  {
   "cell_type": "code",
   "execution_count": 0,
   "metadata": {
    "collapsed": false,
    "run_control": {
     "marked": false
    }
   },
   "outputs": [],
   "source": [
    "dfs['mass'][0].head()"
   ]
  },
  {
   "cell_type": "code",
   "execution_count": 0,
   "metadata": {
    "collapsed": false,
    "run_control": {
     "marked": false
    }
   },
   "outputs": [],
   "source": [
    "path_mcmc_r = {}\n",
    "path_mcmc = {}\n",
    "thin = 1\n",
    "for key, dflist in dfs.items():\n",
    "    path_mcmc_r[key] = [mcmc(pandas2ri.DataFrame(x.sample(frac=thin).sort_index())) for x in dflist]\n",
    "    path_mcmc[key] = [x.sample(frac=thin).sort_index() for x in dflist]"
   ]
  },
  {
   "cell_type": "code",
   "execution_count": 0,
   "metadata": {
    "collapsed": false,
    "run_control": {
     "marked": false
    },
    "scrolled": false
   },
   "outputs": [],
   "source": [
    "path_mcmc_list_mass = mcmc_list(path_mcmc_r['mass'])\n",
    "path_mcmc_list_pd = mcmc_list(path_mcmc_r['pd'])\n",
    "path_mcmc_list_tdt = mcmc_list(path_mcmc_r['tdt'])"
   ]
  },
  {
   "cell_type": "code",
   "execution_count": 0,
   "metadata": {
    "collapsed": false,
    "run_control": {
     "marked": false
    }
   },
   "outputs": [],
   "source": [
    "%R -i path_mcmc_list_mass -i path_mcmc_list_pd -i path_mcmc_list_tdt"
   ]
  },
  {
   "cell_type": "code",
   "execution_count": 0,
   "metadata": {
    "collapsed": false,
    "run_control": {
     "marked": false
    }
   },
   "outputs": [],
   "source": [
    "%%R\n",
    "effective_sizes_mass = lapply(path_mcmc_list_mass,effectiveSize)\n",
    "effective_sizes_pd = lapply(path_mcmc_list_pd,effectiveSize)\n",
    "effective_sizes_tdt = lapply(path_mcmc_list_tdt,effectiveSize)"
   ]
  },
  {
   "cell_type": "code",
   "execution_count": 0,
   "metadata": {
    "collapsed": false,
    "run_control": {
     "marked": false
    }
   },
   "outputs": [],
   "source": [
    "def get_effective_sizes(r_name):\n",
    "    df = pd.DataFrame([pandas2ri.ri2py(x) for x in r[r_name]])\n",
    "    test = r[r_name].rx2(1)\n",
    "    df.columns = r('names')(test)\n",
    "    return df\n",
    "ne_tdt = get_effective_sizes('effective_sizes_tdt')\n",
    "ne_pd= get_effective_sizes('effective_sizes_pd')\n",
    "ne_mass= get_effective_sizes('effective_sizes_mass')\n"
   ]
  },
  {
   "cell_type": "code",
   "execution_count": 0,
   "metadata": {
    "collapsed": false,
    "run_control": {
     "marked": false
    }
   },
   "outputs": [],
   "source": [
    "print ne_tdt.mean()\n",
    "print ne_tdt.std()\n"
   ]
  },
  {
   "cell_type": "code",
   "execution_count": 0,
   "metadata": {
    "collapsed": false,
    "run_control": {
     "marked": false
    }
   },
   "outputs": [],
   "source": [
    "ne_pd.mean()"
   ]
  },
  {
   "cell_type": "code",
   "execution_count": 0,
   "metadata": {
    "collapsed": false,
    "run_control": {
     "marked": false
    }
   },
   "outputs": [],
   "source": [
    "ne_mass.mean()"
   ]
  },
  {
   "cell_type": "code",
   "execution_count": 0,
   "metadata": {
    "collapsed": false,
    "run_control": {
     "marked": false
    }
   },
   "outputs": [],
   "source": [
    "print \"MASS\", r(\"summary\")(path_mcmc_list_mass)\n",
    "print \"PD\", r(\"summary\")(path_mcmc_list_pd)\n",
    "print \"TDT\", r(\"summary\")(path_mcmc_list_tdt)"
   ]
  },
  {
   "cell_type": "code",
   "execution_count": 0,
   "metadata": {
    "collapsed": false,
    "run_control": {
     "marked": false
    },
    "scrolled": false
   },
   "outputs": [],
   "source": [
    "%%R\n",
    "plot(path_mcmc_list_mass)\n",
    "plot(path_mcmc_list_pd)\n",
    "plot(path_mcmc_list_tdt)"
   ]
  },
  {
   "cell_type": "code",
   "execution_count": 0,
   "metadata": {
    "collapsed": false,
    "run_control": {
     "marked": false
    }
   },
   "outputs": [],
   "source": [
    "mcmc = {}\n",
    "for pheno, files in mcmc_files.items():\n",
    "    if not pheno in mcmc:\n",
    "        mcmc[pheno] = pd.DataFrame()\n",
    "    for f in files:\n",
    "        index = os.path.basename(f).split(\"_\")[-1].split(\".\")[0]\n",
    "        testdf = pd.read_csv(f, sep=\"\\t\")\n",
    "        testdf.columns = [\"%s_%s\" % (x.strip(), index) for x in testdf.columns]\n",
    "        mcmc[pheno] = pd.concat([mcmc[pheno], testdf], axis=1)"
   ]
  },
  {
   "cell_type": "code",
   "execution_count": 0,
   "metadata": {
    "collapsed": false,
    "run_control": {
     "marked": false
    }
   },
   "outputs": [],
   "source": [
    "mcmc_mass = mcmc['mass']\n",
    "avg_pip_mass = mcmc_mass[[x for x in mcmc_mass.columns if 'postc' in x]].apply(np.mean, axis=1)\n",
    "avg_effect_mass = mcmc_mass[[x for x in mcmc_mass.columns if 'beta_' in x]].apply(np.mean, axis=1)\n",
    "avg_pip_mass_rb = mcmc_mass[[x for x in mcmc_mass.columns if 'postrb' in x]].apply(np.mean, axis=1)\n",
    "avg_effect_mass_rb = mcmc_mass[[x for x in mcmc_mass.columns if 'betarb' in x]].apply(np.mean, axis=1)"
   ]
  },
  {
   "cell_type": "code",
   "execution_count": 0,
   "metadata": {
    "collapsed": false,
    "run_control": {
     "marked": false
    }
   },
   "outputs": [],
   "source": [
    "contig_pips = {}\n",
    "def get_contig_pip(row, pheno):\n",
    "    if not pheno in contig_pips:\n",
    "        contig_pips[pheno] = {}\n",
    "        \n",
    "    d = row.rs_1.split(\"_\")\n",
    "    contig = \"_\".join(d[:-1])\n",
    "    if not contig in contig_pips[pheno]:\n",
    "        contig_pips[pheno][contig] = {'postc':0,\n",
    "                              'beta':0,\n",
    "                              'betarb':0,\n",
    "                              'postrb':0}\n",
    "    contig_pips[pheno][contig]['postc'] += row.postc_1\n",
    "    contig_pips[pheno][contig]['postrb'] += row.postrb_1\n",
    "    contig_pips[pheno][contig]['beta'] += row.beta_1\n",
    "    contig_pips[pheno][contig]['betarb'] += row.betarb_1\n",
    "\n",
    "for pheno, df in mcmc.items():\n",
    "    print pheno\n",
    "    df.apply(get_contig_pip, args=(pheno,), axis=1)\n"
   ]
  },
  {
   "cell_type": "code",
   "execution_count": 0,
   "metadata": {
    "collapsed": false,
    "run_control": {
     "marked": false
    }
   },
   "outputs": [],
   "source": [
    "contig_pip_dfs = {}\n",
    "for pheno, data in contig_pips.items():\n",
    "    contig_pip_dfs[pheno] = pd.DataFrame(data).T"
   ]
  },
  {
   "cell_type": "code",
   "execution_count": 0,
   "metadata": {
    "collapsed": false,
    "run_control": {
     "marked": false
    }
   },
   "outputs": [],
   "source": [
    "from Bio import SeqIO\n",
    "contig_lengths = {}\n",
    "for rec in SeqIO.parse(assembly,\"fasta\"):\n",
    "    contig_lengths[rec.name] = {\"length\":len(rec)}"
   ]
  },
  {
   "cell_type": "code",
   "execution_count": 0,
   "metadata": {
    "collapsed": false,
    "run_control": {
     "marked": false
    }
   },
   "outputs": [],
   "source": [
    "contig_length_df = pd.DataFrame(contig_lengths).T"
   ]
  },
  {
   "cell_type": "code",
   "execution_count": 0,
   "metadata": {
    "collapsed": false,
    "run_control": {
     "marked": false
    }
   },
   "outputs": [],
   "source": [
    "contig_length_df.head()"
   ]
  },
  {
   "cell_type": "code",
   "execution_count": 0,
   "metadata": {
    "collapsed": false,
    "run_control": {
     "marked": false
    }
   },
   "outputs": [],
   "source": [
    "contig_pip_mass = contig_pip_dfs['mass'].join(contig_length_df)"
   ]
  },
  {
   "cell_type": "code",
   "execution_count": 0,
   "metadata": {
    "collapsed": false,
    "run_control": {
     "marked": false
    }
   },
   "outputs": [],
   "source": [
    "plt.plot(contig_pip_dfs['tdt'].postrb, label=\"TDT\")\n",
    "plt.legend()\n",
    "plt.show()"
   ]
  },
  {
   "cell_type": "code",
   "execution_count": 0,
   "metadata": {
    "collapsed": true,
    "run_control": {
     "marked": false
    }
   },
   "outputs": [],
   "source": [
    "mcmc_pd = mcmc['pd']\n",
    "avg_pip_pd = mcmc_pd[[x for x in mcmc_pd.columns if 'postc' in x]].apply(np.mean, axis=1)\n",
    "avg_effect_pd = mcmc_pd[[x for x in mcmc_pd.columns if 'beta_' in x]].apply(np.mean, axis=1)\n",
    "avg_pip_pd_rb = mcmc_pd[[x for x in mcmc_pd.columns if 'postrb' in x]].apply(np.mean, axis=1)\n",
    "avg_effect_pd_rb = mcmc_pd[[x for x in mcmc_pd.columns if 'betarb' in x]].apply(np.mean, axis=1)"
   ]
  },
  {
   "cell_type": "code",
   "execution_count": 0,
   "metadata": {
    "collapsed": true,
    "run_control": {
     "marked": false
    }
   },
   "outputs": [],
   "source": [
    "mcmc_tdt = mcmc['tdt']\n",
    "avg_pip_tdt = mcmc_tdt[[x for x in mcmc_tdt.columns if 'postc' in x]].apply(np.mean, axis=1)\n",
    "avg_effect_tdt = mcmc_tdt[[x for x in mcmc_tdt.columns if 'beta_' in x]].apply(np.mean, axis=1)\n",
    "avg_pip_tdt_rb = mcmc_tdt[[x for x in mcmc_tdt.columns if 'postrb' in x]].apply(np.mean, axis=1)\n",
    "avg_effect_tdt_rb = mcmc_tdt[[x for x in mcmc_tdt.columns if 'betarb' in x]].apply(np.mean, axis=1)"
   ]
  },
  {
   "cell_type": "code",
   "execution_count": 0,
   "metadata": {
    "collapsed": false,
    "run_control": {
     "marked": false
    }
   },
   "outputs": [],
   "source": [
    "plt.xlim(0, len(mcmc_mass))\n",
    "#plt.plot(avg_pip_mass, label=\"PIP\")\n",
    "#plt.plot(avg_effect_mass, alpha=0.5, label=\"Beta\")\n",
    "plt.plot(avg_pip_mass_rb, alpha=0.5, label=\"PIP (RB)\")\n",
    "plt.plot(avg_effect_mass_rb, alpha=0.5, label=\"Beta (RB)\")\n",
    "plt.title(\"Mass\")\n",
    "plt.xlabel(\"SNP\")\n",
    "plt.legend()\n",
    "plt.show()"
   ]
  },
  {
   "cell_type": "code",
   "execution_count": 0,
   "metadata": {
    "collapsed": false,
    "run_control": {
     "marked": false
    }
   },
   "outputs": [],
   "source": [
    "plt.xlim(0, len(mcmc_pd))\n",
    "#plt.plot(avg_pip_pd, label=\"PIP\")\n",
    "#plt.plot(avg_effect_pd, alpha=0.5, label=\"Beta\")\n",
    "plt.plot(avg_pip_pd_rb, alpha=0.5, label=\"PIP (RB)\")\n",
    "plt.plot(avg_effect_pd_rb, alpha=0.5, label=\"Beta (RB)\")\n",
    "plt.title(\"PD\")\n",
    "plt.xlabel(\"SNP\")\n",
    "plt.legend()\n",
    "plt.show()"
   ]
  },
  {
   "cell_type": "code",
   "execution_count": 0,
   "metadata": {
    "collapsed": false,
    "run_control": {
     "marked": false
    }
   },
   "outputs": [],
   "source": [
    "plt.xlim(0, len(mcmc_tdt))\n",
    "#plt.plot(avg_pip_tdt, label=\"PIP\")\n",
    "#plt.plot(avg_effect_tdt, alpha=0.5, label=\"Beta\")\n",
    "plt.plot(avg_pip_tdt_rb, alpha=0.5, label=\"PIP (RB)\")\n",
    "plt.plot(avg_effect_tdt_rb, alpha=0.5, label=\"Beta (RB)\")\n",
    "plt.title(\"TDT\")\n",
    "plt.xlabel(\"SNP\")\n",
    "plt.legend()\n",
    "plt.show()"
   ]
  },
  {
   "cell_type": "code",
   "execution_count": 0,
   "metadata": {
    "collapsed": false,
    "run_control": {
     "marked": false
    }
   },
   "outputs": [],
   "source": [
    "mcmc_pd.head()"
   ]
  },
  {
   "cell_type": "code",
   "execution_count": 0,
   "metadata": {
    "collapsed": false,
    "run_control": {
     "marked": false
    }
   },
   "outputs": [],
   "source": [
    "snps = {}\n",
    "for pheno, files in snp_files.items():\n",
    "    if not pheno in snps:\n",
    "        snps[pheno] = pd.DataFrame()\n",
    "    for f in files:\n",
    "        index = os.path.basename(f).split(\"_\")[-1].split(\".\")[0]\n",
    "        h = open(f)\n",
    "        h.readline() ##skip header\n",
    "        header = h.readline().strip().split()\n",
    "        data = []\n",
    "        for line in h:\n",
    "            line = line.strip().split()\n",
    "            data.append(line)\n",
    "            \n",
    "        testdf = pd.DataFrame(data, columns=header)\n",
    "        testdf.columns = [\"%s_%s\" % (x.strip(), index) for x in testdf.columns]\n",
    "        snps[pheno] = pd.concat([snps[pheno], testdf], axis=1)"
   ]
  },
  {
   "cell_type": "code",
   "execution_count": 0,
   "metadata": {
    "collapsed": false,
    "run_control": {
     "marked": false
    }
   },
   "outputs": [],
   "source": [
    "snps_mass = snps['mass'][[x for x in snps['mass'] if '_1' in x]]"
   ]
  },
  {
   "cell_type": "code",
   "execution_count": 0,
   "metadata": {
    "collapsed": false,
    "run_control": {
     "marked": false
    }
   },
   "outputs": [],
   "source": [
    "snps_mass.head()"
   ]
  },
  {
   "cell_type": "code",
   "execution_count": 0,
   "metadata": {
    "collapsed": false,
    "run_control": {
     "marked": false
    }
   },
   "outputs": [],
   "source": [
    "def read_gamma(f):\n",
    "    d = []\n",
    "    h = open(f)\n",
    "    header = h.readline().strip().split()\n",
    "    for line in h:\n",
    "        line = line.strip().split()\n",
    "        d.append(line)\n",
    "    df = pd.DataFrame(d, columns=header)\n",
    "    return df.replace('NA', np.nan).astype(float)\n",
    "gamma_mass = read_gamma(gamma_files['mass'][0])\n",
    "gamma_pd = read_gamma(gamma_files['pd'][0])\n",
    "gamma_tdt = read_gamma(gamma_files['tdt'][0])"
   ]
  },
  {
   "cell_type": "code",
   "execution_count": 0,
   "metadata": {
    "collapsed": false,
    "run_control": {
     "marked": false
    },
    "scrolled": false
   },
   "outputs": [],
   "source": [
    "snp_density = {}\n",
    "def get_snp_density(row):\n",
    "    included = row[1:].dropna()\n",
    "    for snp_id in included:\n",
    "        if not snp_id in snp_density:\n",
    "            snp_density[snp_id] = 0\n",
    "        snp_density[snp_id] += 1\n",
    "    \n",
    "x=gamma_mass.apply(get_snp_density, axis=1)\n"
   ]
  },
  {
   "cell_type": "code",
   "execution_count": 0,
   "metadata": {
    "collapsed": false,
    "run_control": {
     "marked": false
    }
   },
   "outputs": [],
   "source": [
    "def percent_difference(x, y):\n",
    "    x = float(x)\n",
    "    y = float(y)\n",
    "    return (np.abs(x-y)/np.mean([x, y]))*100"
   ]
  },
  {
   "cell_type": "code",
   "execution_count": 0,
   "metadata": {
    "collapsed": false,
    "run_control": {
     "marked": false
    }
   },
   "outputs": [],
   "source": [
    "def get_quantile_max(name, data, q):\n",
    "    d = data.quantile(q)\n",
    "    d.index = [str(x) for x in d.index]\n",
    "    d['median_val'] = data.median()\n",
    "    d['mean_val'] = data.mean()\n",
    "    d['cutoff'] = 0.01\n",
    "    d[\"x99_cutoff\"] = percent_difference(d['0.99'], d['cutoff'])\n",
    "    d[\"x99_median\"] =  percent_difference(d['0.99'], d['median_val'])\n",
    "    d['relaxed_cutoff'] = d['0.99']\n",
    "    d.name = name\n",
    "    return d"
   ]
  },
  {
   "cell_type": "code",
   "execution_count": 0,
   "metadata": {
    "collapsed": false,
    "run_control": {
     "marked": false
    }
   },
   "outputs": [],
   "source": [
    "mass_quant = get_quantile_max(\"mass\", mcmc_mass.postrb_0, [0.95,0.99])\n",
    "pd_quant = get_quantile_max(\"pd\", mcmc_pd.postrb_0, [0.95,0.99])\n",
    "tdt_quant =get_quantile_max(\"tdt\", mcmc_tdt.postrb_0, [0.95,0.99]) "
   ]
  },
  {
   "cell_type": "code",
   "execution_count": 0,
   "metadata": {
    "collapsed": false,
    "run_control": {
     "marked": false
    },
    "scrolled": false
   },
   "outputs": [],
   "source": [
    "print \"%s\\n\\n%s\\n\\n%s\\n\" % (mass_quant, pd_quant, tdt_quant)"
   ]
  },
  {
   "cell_type": "code",
   "execution_count": 0,
   "metadata": {
    "collapsed": false,
    "run_control": {
     "marked": false
    }
   },
   "outputs": [],
   "source": [
    "sig_snps_mass = mcmc_mass[mcmc_mass.postrb_0 > mass_quant.cutoff]\n",
    "sig_snps_tdt = mcmc_tdt[mcmc_tdt.postrb_0 > tdt_quant.cutoff]\n",
    "sig_snps_pd = mcmc_pd[mcmc_pd.postrb_0 > pd_quant.cutoff]\n",
    "\n",
    "relaxed_sig_snps_mass = mcmc_mass[mcmc_mass.postrb_0 > mass_quant.relaxed_cutoff]\n",
    "relaxed_sig_snps_tdt = mcmc_tdt[mcmc_tdt.postrb_0 > tdt_quant.relaxed_cutoff]\n",
    "relaxed_sig_snps_pd = mcmc_pd[mcmc_pd.postrb_0 > pd_quant.relaxed_cutoff]"
   ]
  },
  {
   "cell_type": "code",
   "execution_count": 0,
   "metadata": {
    "collapsed": false,
    "run_control": {
     "marked": false
    }
   },
   "outputs": [],
   "source": [
    "plt.hist(np.abs(sig_snps_mass.betarb_0.values))\n",
    "plt.text(0.03, 20, r\"$n = %d$\" % len(sig_snps_mass))\n",
    "plt.title(r\"Mass ($> %.2f$)\" % mass_quant.cutoff)\n",
    "plt.xlabel(r\"$\\beta$\")\n",
    "plt.show()\n",
    "plt.hist(np.abs(relaxed_sig_snps_mass.betarb_0.values))\n",
    "plt.text(0.03, 50, r\"$n = %d$\" % len(relaxed_sig_snps_mass))\n",
    "plt.title(r\"Mass 99th($> %.5f$)\" % mass_quant.relaxed_cutoff)\n",
    "plt.xlabel(r\"$\\beta$\")\n",
    "plt.show()"
   ]
  },
  {
   "cell_type": "code",
   "execution_count": 0,
   "metadata": {
    "collapsed": false,
    "run_control": {
     "marked": false
    }
   },
   "outputs": [],
   "source": [
    "plt.hist(np.abs(sig_snps_tdt.betarb_0.values))\n",
    "plt.text(0.05, 80, r\"$n = %d$\" % len(sig_snps_tdt))\n",
    "plt.title(r\"TDT ($> %.2f$)\" % tdt_quant.cutoff)\n",
    "plt.xlabel(r\"$\\beta$\")\n",
    "plt.show()\n",
    "plt.hist(np.abs(relaxed_sig_snps_tdt.betarb_0.values))\n",
    "plt.text(0.05, 100, r\"$n = %d$\" % len(relaxed_sig_snps_tdt))\n",
    "plt.title(r\"TDT 99th ($> %.5f$)\" % tdt_quant.relaxed_cutoff)\n",
    "plt.xlabel(r\"$\\beta$\")\n",
    "plt.show()"
   ]
  },
  {
   "cell_type": "code",
   "execution_count": 0,
   "metadata": {
    "collapsed": false,
    "run_control": {
     "marked": false
    }
   },
   "outputs": [],
   "source": [
    "plt.hist(np.abs(sig_snps_pd.betarb_0.values))\n",
    "plt.text(0.02, 12, r\"$n = %d$\" % len(sig_snps_pd))\n",
    "plt.title(r\"PD ($> %.2f$)\" % pd_quant.cutoff)\n",
    "plt.xlabel(r\"$\\beta$\")\n",
    "plt.show()\n",
    "plt.hist(np.abs(relaxed_sig_snps_pd.betarb_0.values))\n",
    "plt.text(0.02, 60, r\"$n = %d$\" % len(relaxed_sig_snps_pd))\n",
    "plt.title(r\"PD 99th ($> %.5f$)\" % pd_quant.relaxed_cutoff)\n",
    "plt.xlabel(r\"$\\beta$\")\n",
    "plt.show()"
   ]
  },
  {
   "cell_type": "code",
   "execution_count": 0,
   "metadata": {
    "collapsed": false,
    "run_control": {
     "marked": false
    }
   },
   "outputs": [],
   "source": [
    "sig_snps_mass.shape"
   ]
  },
  {
   "cell_type": "code",
   "execution_count": 0,
   "metadata": {
    "collapsed": false,
    "run_control": {
     "marked": false
    }
   },
   "outputs": [],
   "source": [
    "sig_snps_tdt.shape"
   ]
  },
  {
   "cell_type": "code",
   "execution_count": 0,
   "metadata": {
    "collapsed": false,
    "run_control": {
     "marked": false
    }
   },
   "outputs": [],
   "source": [
    "sig_snps_pd.shape"
   ]
  },
  {
   "cell_type": "code",
   "execution_count": 0,
   "metadata": {
    "collapsed": false,
    "run_control": {
     "marked": false
    }
   },
   "outputs": [],
   "source": [
    "gamma_mass['snp'].describe()"
   ]
  },
  {
   "cell_type": "code",
   "execution_count": 0,
   "metadata": {
    "collapsed": false,
    "run_control": {
     "marked": false
    }
   },
   "outputs": [],
   "source": [
    "gamma_tdt['snp'].describe()"
   ]
  },
  {
   "cell_type": "code",
   "execution_count": 0,
   "metadata": {
    "collapsed": false,
    "run_control": {
     "marked": false
    }
   },
   "outputs": [],
   "source": [
    "gamma_pd['snp'].describe()"
   ]
  },
  {
   "cell_type": "code",
   "execution_count": 0,
   "metadata": {
    "collapsed": false,
    "run_control": {
     "marked": false
    }
   },
   "outputs": [],
   "source": [
    "mass_pip_mean = np.mean(mcmc_mass[[x for x in mcmc_mass if 'postrb' in x]].apply(np.mean, axis=1))\n",
    "pd_pip_mean = np.mean(mcmc_pd[[x for x in mcmc_pd if 'postrb' in x]].apply(np.mean, axis=1))\n",
    "tdt_pip_mean = np.mean(mcmc_tdt[[x for x in mcmc_tdt if 'postrb' in x]].apply(np.mean, axis=1))"
   ]
  },
  {
   "cell_type": "code",
   "execution_count": 0,
   "metadata": {
    "collapsed": true,
    "run_control": {
     "marked": false
    }
   },
   "outputs": [],
   "source": [
    "mass_beta_mean = np.mean(mcmc_mass[[x for x in mcmc_mass if 'betarb' in x]].apply(np.abs, axis=1).apply(np.mean, axis=1))\n",
    "pd_beta_mean = np.mean(mcmc_pd[[x for x in mcmc_pd if 'betarb' in x]].apply(np.abs, axis=1).apply(np.mean, axis=1))\n",
    "tdt_beta_mean = np.mean(mcmc_tdt[[x for x in mcmc_tdt if 'betarb' in x]].apply(np.abs, axis=1).apply(np.mean, axis=1))"
   ]
  },
  {
   "cell_type": "code",
   "execution_count": 0,
   "metadata": {
    "collapsed": false,
    "run_control": {
     "marked": false
    }
   },
   "outputs": [],
   "source": [
    "mass_pip_mean, pd_pip_mean, tdt_pip_mean"
   ]
  },
  {
   "cell_type": "code",
   "execution_count": 0,
   "metadata": {
    "collapsed": false,
    "run_control": {
     "marked": false
    }
   },
   "outputs": [],
   "source": [
    "mass_beta_mean, pd_beta_mean, tdt_beta_mean"
   ]
  },
  {
   "cell_type": "code",
   "execution_count": 0,
   "metadata": {
    "collapsed": false,
    "run_control": {
     "marked": false
    }
   },
   "outputs": [],
   "source": [
    "mass_pip = mcmc_mass[[x for x in mcmc_mass if 'postrb' in x]]\n",
    "pd_pip = mcmc_pd[[x for x in mcmc_pd if 'postrb' in x]]\n",
    "tdt_pip = mcmc_tdt[[x for x in mcmc_tdt if 'postrb' in x]]"
   ]
  },
  {
   "cell_type": "code",
   "execution_count": 0,
   "metadata": {
    "collapsed": false,
    "run_control": {
     "marked": false
    }
   },
   "outputs": [],
   "source": [
    "mass_pip.corr()"
   ]
  },
  {
   "cell_type": "code",
   "execution_count": 0,
   "metadata": {
    "collapsed": false,
    "run_control": {
     "marked": false
    }
   },
   "outputs": [],
   "source": [
    "pd_pip.corr()"
   ]
  },
  {
   "cell_type": "code",
   "execution_count": 0,
   "metadata": {
    "collapsed": false,
    "run_control": {
     "marked": false
    }
   },
   "outputs": [],
   "source": [
    "tdt_pip.corr()"
   ]
  },
  {
   "cell_type": "code",
   "execution_count": 0,
   "metadata": {
    "collapsed": false,
    "run_control": {
     "marked": false
    }
   },
   "outputs": [],
   "source": [
    "mcmc_mass.postrb_0.quantile(q=[0.95])"
   ]
  },
  {
   "cell_type": "code",
   "execution_count": 0,
   "metadata": {
    "collapsed": false,
    "run_control": {
     "marked": false
    }
   },
   "outputs": [],
   "source": [
    "dump_session()"
   ]
  },
  {
   "cell_type": "code",
   "execution_count": 0,
   "metadata": {
    "collapsed": true
   },
   "outputs": [],
   "source": []
  }
 ],
 "metadata": {
  "kernelspec": {
   "display_name": "Python 2",
   "language": "python",
   "name": "python2"
  },
  "language_info": {
   "codemirror_mode": {
    "name": "ipython",
    "version": 2
   },
   "file_extension": ".py",
   "mimetype": "text/x-python",
   "name": "python",
   "nbconvert_exporter": "python",
   "pygments_lexer": "ipython2",
   "version": "2.7.10"
  }
 },
 "nbformat": 4,
 "nbformat_minor": 0
}

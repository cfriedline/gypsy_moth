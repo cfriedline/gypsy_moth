{
 "metadata": {
  "name": "",
  "signature": "sha256:9e5e04bbdf638020cd7f7f5f202f9c5ab6d8d444395297ece42bfc1c78da9b04"
 },
 "nbformat": 3,
 "nbformat_minor": 0,
 "worksheets": [
  {
   "cells": [
    {
     "cell_type": "code",
     "collapsed": false,
     "input": [
      "profile=\"huge\""
     ],
     "language": "python",
     "metadata": {},
     "outputs": [],
     "prompt_number": ""
    },
    {
     "cell_type": "code",
     "collapsed": false,
     "input": [
      "qhost = !qhost | grep godel"
     ],
     "language": "python",
     "metadata": {},
     "outputs": [],
     "prompt_number": ""
    },
    {
     "cell_type": "code",
     "collapsed": false,
     "input": [
      "controller_script = \"/tmp/ipcontroller.sh\"\n",
      "with open(controller_script, \"w\") as o:\n",
      "    o.write(\"ipcontroller --profile=%s\\n\" % profile)\n",
      "!chmod +x $controller_script"
     ],
     "language": "python",
     "metadata": {},
     "outputs": [],
     "prompt_number": ""
    },
    {
     "cell_type": "code",
     "collapsed": false,
     "input": [
      "!qdel ipcontroller\n",
      "!qdel iengine\n",
      "!rm iengine*\n",
      "!rm ipcontroller*"
     ],
     "language": "python",
     "metadata": {},
     "outputs": [],
     "prompt_number": ""
    },
    {
     "cell_type": "code",
     "collapsed": false,
     "input": [
      "import time, tempfile, os\n",
      "cmd = \"qsub -cwd -V -N ipcontroller -q godel199@godel97 %s\" % controller_script\n",
      "print cmd\n",
      "!$cmd\n",
      "time.sleep(20)\n",
      "temp_files = []\n",
      "for elem in [x.split() for x in qhost]:\n",
      "    host = elem[0]\n",
      "    cpus = int(elem[2])\n",
      "    if cpus > 8:\n",
      "        tmp = tempfile.NamedTemporaryFile(delete=False)\n",
      "        temp_files.append(tmp.name)\n",
      "        tmp.write(\"pkill -9 ipengine\\n\")\n",
      "        for i in xrange(cpus):\n",
      "            tmp.write(\"ipengine --profile=%s&\\nsleep 10\\n\" % profile)\n",
      "        tmp.write(\"sleep 365d\\n\")\n",
      "        tmp.close()\n",
      "        q = \"all.q\"\n",
      "        if host == \"godel97\" or host == \"godel199\":\n",
      "            q = \"godel199\"\n",
      "        cmd = \"qsub -cwd -V -N iengine -q %s@%s %s\" % (q, host, tmp.name)\n",
      "        print cmd\n",
      "        !chmod +x {tmp.name}\n",
      "        !$cmd"
     ],
     "language": "python",
     "metadata": {},
     "outputs": [],
     "prompt_number": ""
    },
    {
     "cell_type": "code",
     "collapsed": false,
     "input": [
      "total_cpus = 0\n",
      "for elem in [x.split() for x in qhost]:\n",
      "    total_cpus += int(elem[2])\n",
      "total_cpus"
     ],
     "language": "python",
     "metadata": {},
     "outputs": [],
     "prompt_number": ""
    },
    {
     "cell_type": "markdown",
     "metadata": {},
     "source": [
      "##Check size of the cluster"
     ]
    },
    {
     "cell_type": "code",
     "collapsed": false,
     "input": [
      "from IPython.parallel import Client\n",
      "rc = Client(profile=profile)"
     ],
     "language": "python",
     "metadata": {},
     "outputs": [],
     "prompt_number": ""
    },
    {
     "cell_type": "code",
     "collapsed": false,
     "input": [
      "import datetime\n",
      "for i in xrange(100):\n",
      "    print datetime.datetime.now().time().isoformat(), len(rc)\n",
      "    time.sleep(10)"
     ],
     "language": "python",
     "metadata": {},
     "outputs": []
    },
    {
     "cell_type": "code",
     "collapsed": false,
     "input": [],
     "language": "python",
     "metadata": {},
     "outputs": []
    }
   ],
   "metadata": {}
  }
 ]
}
{
 "cells": [
  {
   "cell_type": "code",
   "execution_count": "",
   "metadata": {
    "collapsed": false
   },
   "outputs": [],
   "source": [
    "import gzip, os, sys\n",
    "from Bio.SeqIO.QualityIO import FastqGeneralIterator\n",
    "from IPython.parallel import Client"
   ]
  },
  {
   "cell_type": "code",
   "execution_count": "",
   "metadata": {
    "collapsed": false
   },
   "outputs": [],
   "source": [
    "file_dir = \"/home/cfriedline/eckertlab/gypsy_indiv/HiSeq_140425\"\n",
    "os.chdir(file_dir)"
   ]
  },
  {
   "cell_type": "code",
   "execution_count": "",
   "metadata": {
    "collapsed": false
   },
   "outputs": [],
   "source": [
    "gz_files = !ls *.gz"
   ]
  },
  {
   "cell_type": "code",
   "execution_count": "",
   "metadata": {
    "collapsed": false
   },
   "outputs": [],
   "source": [
    "rc = Client(profile=\"sge\")\n",
    "dview = rc[:]\n",
    "lview = rc.load_balanced_view()\n",
    "len(rc)"
   ]
  },
  {
   "cell_type": "code",
   "execution_count": "",
   "metadata": {
    "collapsed": false
   },
   "outputs": [],
   "source": [
    "@dview.remote(block=True)\n",
    "def get_cpu_count():\n",
    "    import multiprocessing as mp\n",
    "    import socket\n",
    "    return socket.gethostname(), mp.cpu_count()\n",
    "cpu_counts = get_cpu_count()\n",
    "from collections import defaultdict\n",
    "cpu_dict = defaultdict(list)\n",
    "for i, c in enumerate(cpu_counts):\n",
    "    if c[1] >= 16:\n",
    "        cpu_dict[c[0]].append(i)  \n",
    "print cpu_dict\n",
    "cview = rc.load_balanced_view(targets=[v[0] for k, v in cpu_dict.items()])"
   ]
  },
  {
   "cell_type": "code",
   "execution_count": "",
   "metadata": {
    "collapsed": false
   },
   "outputs": [],
   "source": [
    "with dview.sync_imports():\n",
    "    import stopwatch\n",
    "    import numpy\n",
    "    import numpy as np\n",
    "    import scipy\n",
    "    import pandas\n",
    "    import gzip\n",
    "    import os\n",
    "    import tempfile\n",
    "    import shutil\n",
    "    import socket\n",
    "    from Bio.SeqIO.QualityIO import FastqGeneralIterator\n",
    "    from collections import deque, defaultdict\n",
    "    import multiprocessing \n",
    "    from multiprocessing import Pool, Manager\n",
    "    import traceback\n",
    "    from itertools import izip"
   ]
  },
  {
   "cell_type": "code",
   "execution_count": "",
   "metadata": {
    "collapsed": false
   },
   "outputs": [],
   "source": [
    "@lview.remote()\n",
    "def get_num_seqs(f):\n",
    "    count = !zgrep -c . $f\n",
    "    return (f, int(count[0])/4)"
   ]
  },
  {
   "cell_type": "code",
   "execution_count": "",
   "metadata": {
    "collapsed": false
   },
   "outputs": [],
   "source": [
    "count_jobs = []\n",
    "for f in gz_files:\n",
    "    f = os.path.abspath(f)\n",
    "    count_jobs.append(get_num_seqs(f))"
   ]
  },
  {
   "cell_type": "code",
   "execution_count": "",
   "metadata": {
    "collapsed": false
   },
   "outputs": [],
   "source": [
    "[j.ready() for j in count_jobs]"
   ]
  },
  {
   "cell_type": "code",
   "execution_count": "",
   "metadata": {
    "collapsed": false
   },
   "outputs": [],
   "source": [
    "seq_nums = {}\n",
    "with open(\"seq_nums.txt\", \"w\") as o:\n",
    "    for j in count_jobs:\n",
    "        if j.ready():\n",
    "            seq_nums[j.r[0]] = j.r\n",
    "            o.write(\"%s\\n\" % \"\\t\".join([str(x) for x in j.r]))"
   ]
  },
  {
   "cell_type": "code",
   "execution_count": "",
   "metadata": {
    "collapsed": false
   },
   "outputs": [],
   "source": [
    "seq_nums"
   ]
  },
  {
   "cell_type": "code",
   "execution_count": "",
   "metadata": {
    "collapsed": false
   },
   "outputs": [],
   "source": [
    "seq_pairs = []\n",
    "for k, v in seq_nums.items():\n",
    "    if \"_R1_\" in v[0]:\n",
    "        read2 = v[0].replace(\"_R1_\", \"_R2_\")\n",
    "        if os.path.exists(read2):\n",
    "            seq_pairs.append([v, seq_nums[read2]])\n",
    "        else:\n",
    "            seq_pairs.append([v])\n",
    "for p in seq_pairs:\n",
    "    print p"
   ]
  },
  {
   "cell_type": "code",
   "execution_count": "",
   "metadata": {
    "collapsed": false
   },
   "outputs": [],
   "source": [
    "def format_fastq_tuple(title, seq, qual):\n",
    "    assert len(seq) == len(qual)\n",
    "    return \"@%s\\n%s\\n+\\n%s\\n\" % (title, seq, qual)\n",
    "\n",
    "def convert_qual(q):\n",
    "    return ord(q)-33\n",
    "\n",
    "def get_qual_scores(q):\n",
    "    qual = [ord(x)-33 for x in q] #list comps seems to be fastest here\n",
    "    return numpy.array([qual, numpy.mean(qual)])\n",
    "\n",
    "def eval_quality(q):\n",
    "    qual = get_qual_scores(q)\n",
    "    scores = qual[0]\n",
    "    win_size = 5\n",
    "    qual_cutoff = 30\n",
    "    len_cutoff = 0.5\n",
    "    \n",
    "    if qual[1] < qual_cutoff:\n",
    "        return False\n",
    "    \n",
    "    below_cutoff = 0.0\n",
    "    window = deque(maxlen=win_size)\n",
    "    qual_perc_cutoff = 0.20\n",
    "    win_end = win_size\n",
    "    last_good = None\n",
    "    for s in scores:\n",
    "        window.append(s)\n",
    "        if s < qual_cutoff:\n",
    "            below_cutoff += 1 #keep track of scores below the quality cutoff\n",
    "        if len(window) == win_size:\n",
    "            if numpy.mean(window) < qual_cutoff:\n",
    "                if last_good is None:\n",
    "                    last_good = win_end                    \n",
    "                    if float(last_good)/len(scores) < len_cutoff:\n",
    "                        return False    # then it's too short                \n",
    "            win_end += 1 \n",
    "    perc_below = below_cutoff/len(scores)\n",
    "    if last_good:\n",
    "        scores = scores[0:(last_good-1)] #trim the scores if it will be long enough\n",
    "    perc_len = float(len(scores))/len(qual[0])\n",
    "    if perc_below > qual_perc_cutoff:\n",
    "        return False #drop reads if overall bases have quality values < cutoff, even if average is ok\n",
    "    return scores\n",
    "\n",
    "def split_file(seqs):\n",
    "    d = defaultdict(list)\n",
    "    num_cpu = multiprocessing.cpu_count()\n",
    "    for seq in seqs:\n",
    "        print \"seq=\", seq\n",
    "        f, num = seq\n",
    "        print f\n",
    "        reads_per_file = float(num)//num_cpu\n",
    "        read_idx = 0\n",
    "        file_num = 0\n",
    "        for title, seq, qual in FastqGeneralIterator(gzip.open(f)):\n",
    "            if read_idx == 0:\n",
    "                t = tempfile.NamedTemporaryFile(delete=False)\n",
    "                print socket.gethostname(), t.name, file_num + 1, \"/\", num_cpu\n",
    "                d[f].append(t)\n",
    "            t.write(format_fastq_tuple(title, seq, qual))\n",
    "            read_idx += 1\n",
    "            \n",
    "            if read_idx == reads_per_file:\n",
    "                read_idx = 0\n",
    "                file_num += 1\n",
    "    for k, l in d.items():\n",
    "        [x.close() for x in l]\n",
    "        d[k] = [x.name for x in l]\n",
    "    return d\n",
    "\n",
    "def collapse_results(source, results):\n",
    "    out = source.replace(\".gz\", \"_processed.fastq\")\n",
    "    temp = tempfile.NamedTemporaryFile(delete=False)\n",
    "    for r in results:\n",
    "        for line in open(r):\n",
    "            temp.write(line)\n",
    "    temp.close()\n",
    "    shutil.copy(temp.name, out)\n",
    "    os.remove(temp.name)\n",
    "    x = [os.remove(x) for x in results]\n",
    "    return out \n",
    "\n",
    "def process_single_file(f):\n",
    "    tmp = tempfile.NamedTemporaryFile(delete=False)\n",
    "    basename = os.path.basename(f)\n",
    "    count = 0\n",
    "    n = 0\n",
    "    trimmed = 0\n",
    "    for title, seq, qual in FastqGeneralIterator(open(f)):\n",
    "        if seq.startswith(\"N\"):\n",
    "            seq = seq[1:]\n",
    "            qual = qual[1:]\n",
    "            \n",
    "        if not \"N\" in seq:\n",
    "            scores = eval_quality(qual)\n",
    "            if scores:\n",
    "                if len(scores) != len(seq):\n",
    "                    seq = seq[0:len(scores)]\n",
    "                    qual = qual[0:len(scores)]\n",
    "                    trimmed += 1\n",
    "                tmp.write(format_fastq_tuple(title, seq, qual))\n",
    "        else:\n",
    "            n += 1\n",
    "            \n",
    "        count += 1\n",
    "        \n",
    "        if count % 10000 == 0:\n",
    "            print(\"%s, %s, %d, %d, %d\" % (socket.gethostname(), basename, count, n, trimmed))\n",
    "    tmp.close()\n",
    "    return tmp.name\n",
    "\n",
    "\n",
    "def process_single(seqs):\n",
    "    timer = stopwatch.Timer()\n",
    "    pool = Pool()\n",
    "    hostname = socket.gethostname()\n",
    "    print \"processing on %s\" % hostname\n",
    "    splits = split_file(seqs)\n",
    "    results = []\n",
    "    source = None\n",
    "    for k, temp_files in splits.items():\n",
    "        source = k\n",
    "        for f in temp_files:\n",
    "            try:\n",
    "                p = pool.apply_async(process_single_file, (f,))\n",
    "                results.append(p) \n",
    "            except:\n",
    "                traceback.print_exc()\n",
    "    pool.close() \n",
    "    pool.join()\n",
    "    \n",
    "    #collapse processed temp files\n",
    "    res = collapse_results(source, [x.get() for x in results])\n",
    "    \n",
    "    #remove temp split source files\n",
    "    for k, v in splits.items():\n",
    "        x = [os.remove(x) for x in v]   \n",
    "    timer.stop()\n",
    "    return socket.gethostname(), source, res, timer.elapsed\n",
    "\n",
    "dview['format_fastq_tuple'] = format_fastq_tuple\n",
    "dview['eval_quality'] = eval_quality\n",
    "dview['get_qual_scores'] = get_qual_scores\n",
    "dview['convert_qual'] = convert_qual\n",
    "dview['split_file'] = split_file\n",
    "dview['process_single'] = process_single\n",
    "dview['collapse_results'] = collapse_results\n",
    "dview['process_single_file'] = process_single_file "
   ]
  },
  {
   "cell_type": "code",
   "execution_count": "",
   "metadata": {
    "collapsed": false
   },
   "outputs": [],
   "source": [
    "process_jobs = []\n",
    "for s in seq_pairs:\n",
    "    process_jobs.append(cview.apply_async(process_single, s))"
   ]
  },
  {
   "cell_type": "code",
   "execution_count": "",
   "metadata": {
    "collapsed": false
   },
   "outputs": [],
   "source": [
    "[j.ready() for j in process_jobs]"
   ]
  },
  {
   "cell_type": "code",
   "execution_count": "",
   "metadata": {
    "collapsed": false
   },
   "outputs": [],
   "source": [
    "@lview.remote()\n",
    "def run_cmd(cmd, dirname):\n",
    "    print \"running %s on %s\" % (cmd, socket.gethostname())\n",
    "    os.chdir(dirname)\n",
    "    !$cmd\n",
    "    return cmd, dirname"
   ]
  },
  {
   "cell_type": "code",
   "execution_count": "",
   "metadata": {
    "collapsed": false
   },
   "outputs": [],
   "source": [
    "fastqc_jobs = []\n",
    "fastqc_submitted = set()"
   ]
  },
  {
   "cell_type": "code",
   "execution_count": "",
   "metadata": {
    "collapsed": false
   },
   "outputs": [],
   "source": [
    "fastqc_submitted"
   ]
  },
  {
   "cell_type": "code",
   "execution_count": "",
   "metadata": {
    "collapsed": false
   },
   "outputs": [],
   "source": [
    "[r.ready() for r in fastqc_jobs]"
   ]
  },
  {
   "cell_type": "code",
   "execution_count": "",
   "metadata": {
    "collapsed": false
   },
   "outputs": [],
   "source": [
    "for j in process_jobs:\n",
    "    if j.ready():\n",
    "        proc_file = j.r[2]\n",
    "        if not proc_file in fastqc_submitted:\n",
    "            fastqc_submitted.add(proc_file)\n",
    "            fastqc_jobs.append(run_cmd(\"/home/cfriedline/src/FastQC/fastqc %s\" % proc_file, os.path.dirname(proc_file)))"
   ]
  },
  {
   "cell_type": "code",
   "execution_count": "",
   "metadata": {
    "collapsed": false
   },
   "outputs": [],
   "source": [
    "from IPython.display import Image"
   ]
  },
  {
   "cell_type": "code",
   "execution_count": "",
   "metadata": {
    "collapsed": false
   },
   "outputs": [],
   "source": [
    "Image(\"lane1_Undetermined_L001_R1_001.fastq_processed_fastqc/Images/per_base_quality.png\")"
   ]
  },
  {
   "cell_type": "code",
   "execution_count": "",
   "metadata": {
    "collapsed": false
   },
   "outputs": [],
   "source": [
    "Image(\"lane2_Undetermined_L002_R1_001.fastq_processed_fastqc/Images/per_base_quality.png\")"
   ]
  },
  {
   "cell_type": "code",
   "execution_count": "",
   "metadata": {
    "collapsed": false
   },
   "outputs": [],
   "source": []
  }
 ],
 "metadata": {
  "kernelspec": {
   "display_name": "Python 2",
   "language": "python",
   "name": "python2"
  }
 },
 "nbformat": 4,
 "nbformat_minor": 0
}
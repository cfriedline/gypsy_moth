{
 "cells": [
  {
   "cell_type": "code",
   "execution_count": 0,
   "metadata": {
    "collapsed": false
   },
   "outputs": [],
   "source": [
    "import os, sys"
   ]
  },
  {
   "cell_type": "code",
   "execution_count": 0,
   "metadata": {
    "collapsed": false
   },
   "outputs": [],
   "source": [
    "from IPython.parallel import Client"
   ]
  },
  {
   "cell_type": "code",
   "execution_count": 0,
   "metadata": {
    "collapsed": false
   },
   "outputs": [],
   "source": [
    "rc = Client(profile=\"sge\")\n",
    "dview = rc[:]\n",
    "lview = rc.load_balanced_view()"
   ]
  },
  {
   "cell_type": "code",
   "execution_count": 0,
   "metadata": {
    "collapsed": false
   },
   "outputs": [],
   "source": [
    "len(dview)"
   ]
  },
  {
   "cell_type": "code",
   "execution_count": 0,
   "metadata": {
    "collapsed": false
   },
   "outputs": [],
   "source": [
    "file_dir = \"/home/cfriedline/eckertlab/gypsy_indiv/masked\"\n",
    "if not os.path.exists(file_dir):\n",
    "    os.mkdir(file_dir)\n",
    "os.chdir(file_dir)"
   ]
  },
  {
   "cell_type": "code",
   "execution_count": 0,
   "metadata": {
    "collapsed": false
   },
   "outputs": [],
   "source": [
    "proc_files = ['/gpfs_fs/home/eckertlab/gypsy_indiv/HiSeq_140425/lane1_Undetermined_L001_R1_001.fastq_masked_34.fastq_dropped_0.50.fastq',\n",
    "             '/gpfs_fs/home/eckertlab/gypsy_indiv/HiSeq_140425/lane2_Undetermined_L002_R1_001.fastq_masked_34.fastq_dropped_0.50.fastq']"
   ]
  },
  {
   "cell_type": "code",
   "execution_count": 0,
   "metadata": {
    "collapsed": false
   },
   "outputs": [],
   "source": [
    "proc_files"
   ]
  },
  {
   "cell_type": "code",
   "execution_count": 0,
   "metadata": {
    "collapsed": false
   },
   "outputs": [],
   "source": [
    "!mkdir I1\n",
    "!mkdir I3"
   ]
  },
  {
   "cell_type": "code",
   "execution_count": 0,
   "metadata": {
    "collapsed": false
   },
   "outputs": [],
   "source": [
    "ls"
   ]
  },
  {
   "cell_type": "code",
   "execution_count": 0,
   "metadata": {
    "collapsed": false
   },
   "outputs": [],
   "source": [
    "!cp /home/cfriedline/ipynb/gypsy_moth/barcodes_i1.txt I1/barcodes\n",
    "!cp /home/cfriedline/ipynb/gypsy_moth/barcodes_i3.txt I3/barcodes"
   ]
  },
  {
   "cell_type": "code",
   "execution_count": 0,
   "metadata": {
    "collapsed": false
   },
   "outputs": [],
   "source": [
    "def format_fastq_tuple(title, seq, qual):\n",
    "    assert len(seq) == len(qual)\n",
    "    return \"@%s\\n%s\\n+\\n%s\\n\" % (title, seq, qual)\n",
    "\n",
    "def get_writers(barcodes):\n",
    "    import tempfile\n",
    "    from collections import defaultdict\n",
    "    w = defaultdict()\n",
    "    for b, name in list(barcodes.items()):\n",
    "        w[b] = [name, tempfile.NamedTemporaryFile(delete=False)]\n",
    "    return w\n",
    "\n",
    "def get_barcodes(f):\n",
    "    from collections import defaultdict\n",
    "    import os\n",
    "    bcs = defaultdict()\n",
    "    bc_lens = set()\n",
    "    b = os.path.join(os.path.dirname(f), \"barcodes\")\n",
    "    print(b)\n",
    "    h = open(b)\n",
    "    h.readline()\n",
    "    for line in h:\n",
    "        line = line.strip()\n",
    "        data = line.split(\"\\t\")\n",
    "        if len(data) > 1: #skip blank lines\n",
    "            if \",\" in data[0]:\n",
    "                data[0] = data[0].replace(\" \", \"\").replace(\",\", \"-\")\n",
    "            bc = data[4].upper().replace(\"CTCTTTCCCTACACGACGCTCTTCCGATCT\", \"\")[:-1]\n",
    "            bc_lens.add(len(bc))\n",
    "            bcs[bc] = data[1] + \"_\" + data[0]        \n",
    "    return bcs, bc_lens    \n",
    "\n",
    "def check_barcodes(barcodes):\n",
    "    for i in list(barcodes.keys()):\n",
    "        for j in list(barcodes.keys()):\n",
    "            if i != j:\n",
    "                assert not j.startswith(i)\n",
    "                \n",
    "def copy_file(src, dst):\n",
    "    import shutil\n",
    "    shutil.copy(src, dst)\n",
    "                \n",
    "def demult(f):\n",
    "    print(f)\n",
    "    import socket, stopwatch, os\n",
    "    from Bio.SeqIO.QualityIO import FastqGeneralIterator\n",
    "    from multiprocessing import Pool\n",
    "    from collections import defaultdict\n",
    "    hostname = socket.gethostname()\n",
    "    timer = stopwatch.Timer()\n",
    "    out_dir = os.path.dirname(f)\n",
    "    barcodes, barcode_lens = get_barcodes(f)\n",
    "    check_barcodes(barcodes)\n",
    "    writers = get_writers(barcodes)\n",
    "    count = 0\n",
    "    found = defaultdict(int)\n",
    "    for title, seq, qual in FastqGeneralIterator(open(f)):\n",
    "        for l in barcode_lens: \n",
    "            bc = seq[0:l]\n",
    "            if bc in barcodes:\n",
    "                found[bc] += 1\n",
    "                w = writers[bc][1]\n",
    "                w.write(format_fastq_tuple(title, seq[l:], qual[l:]))\n",
    "                break\n",
    "            \n",
    "        count += 1\n",
    "            \n",
    "        if count % 10000 == 0:\n",
    "            print(hostname, f, count)\n",
    "            \n",
    "    print(hostname, f, \"copying tmp files\")\n",
    "    \n",
    "    pool = Pool()\n",
    "    out_files = []\n",
    "    for k, v in list(writers.items()):\n",
    "        v[1].close()\n",
    "        if k in found:\n",
    "            copy_timer = stopwatch.Timer()\n",
    "            out_file = os.path.join(out_dir, \"%s_%s.fastq\" % (v[0], k))\n",
    "            out_files.append(out_file)\n",
    "            pool.apply_async(copy_file, (v[1].name, out_file))\n",
    "            copy_timer.stop()\n",
    "    pool.close()\n",
    "    pool.join()\n",
    "    for k, v in list(writers.items()):\n",
    "        os.remove(v[1].name)\n",
    "    timer.stop()\n",
    "    print(timer.elapsed, out_files)\n",
    "\n",
    "dview['format_fastq_tuple'] = format_fastq_tuple\n",
    "dview['demult'] = demult\n",
    "dview['check_barcodes'] = check_barcodes\n",
    "dview['get_writers'] = get_writers\n",
    "dview['get_barcodes'] = get_barcodes\n",
    "dview['copy_file'] = copy_file"
   ]
  },
  {
   "cell_type": "code",
   "execution_count": 0,
   "metadata": {
    "collapsed": false
   },
   "outputs": [],
   "source": [
    "file_dir"
   ]
  },
  {
   "cell_type": "code",
   "execution_count": 0,
   "metadata": {
    "collapsed": false
   },
   "outputs": [],
   "source": [
    "for f in proc_files:\n",
    "    if 'lane1' in f:\n",
    "        !cp {f} {os.path.join(file_dir, \"I1\")}\n",
    "    else:\n",
    "        !cp {f} {os.path.join(file_dir, \"I3\")}"
   ]
  },
  {
   "cell_type": "code",
   "execution_count": 0,
   "metadata": {
    "collapsed": false
   },
   "outputs": [],
   "source": [
    "pwd"
   ]
  },
  {
   "cell_type": "code",
   "execution_count": 0,
   "metadata": {
    "collapsed": false
   },
   "outputs": [],
   "source": [
    "proc_files = ! find . | grep '.fastq$'"
   ]
  },
  {
   "cell_type": "code",
   "execution_count": 0,
   "metadata": {
    "collapsed": false
   },
   "outputs": [],
   "source": [
    "proc_files = [os.path.abspath(x) for x in proc_files]\n",
    "proc_files"
   ]
  },
  {
   "cell_type": "code",
   "execution_count": 0,
   "metadata": {
    "collapsed": false
   },
   "outputs": [],
   "source": [
    "demult_jobs = []\n",
    "for f in proc_files:\n",
    "    print(f)\n",
    "    demult_jobs.append(lview.apply_async(demult, f))"
   ]
  },
  {
   "cell_type": "code",
   "execution_count": 0,
   "metadata": {
    "collapsed": false
   },
   "outputs": [],
   "source": [
    "for r in demult_jobs:\n",
    "    print(r.stdout.split(\"\\n\")[-2:])"
   ]
  },
  {
   "cell_type": "code",
   "execution_count": 0,
   "metadata": {
    "collapsed": false
   },
   "outputs": [],
   "source": [
    "fastq_files = !ls I1/*.fastq | grep -v lane\n",
    "fastq_files2 = !ls I3/*.fastq | grep -v lane\n",
    "fastq_files.extend(fastq_files2)\n",
    "fastq_files = [os.path.abspath(x) for x in fastq_files]\n",
    "len(fastq_files)"
   ]
  },
  {
   "cell_type": "code",
   "execution_count": 0,
   "metadata": {
    "collapsed": false
   },
   "outputs": [],
   "source": [
    "@lview.remote()\n",
    "def run_cmd(cmd):\n",
    "    res = !$cmd\n",
    "    return res, cmd\n",
    "    "
   ]
  },
  {
   "cell_type": "code",
   "execution_count": 0,
   "metadata": {
    "collapsed": false
   },
   "outputs": [],
   "source": [
    "indiv_count_jobs = []\n",
    "for f in fastq_files:\n",
    "    indiv_count_jobs.append(run_cmd(\"wc -l %s\" % f))"
   ]
  },
  {
   "cell_type": "code",
   "execution_count": 0,
   "metadata": {
    "collapsed": false
   },
   "outputs": [],
   "source": [
    "count_ready = 0\n",
    "for f in indiv_count_jobs:\n",
    "    if r.ready():\n",
    "        count_ready +=1 \n",
    "print(\"%d/%d\" % (count_ready, len(indiv_count_jobs)))"
   ]
  },
  {
   "cell_type": "code",
   "execution_count": 0,
   "metadata": {
    "collapsed": false
   },
   "outputs": [],
   "source": [
    "indiv_counts = {}\n",
    "for j in indiv_count_jobs:\n",
    "    data = j.r[0][0].split()\n",
    "    count = int(data[0])/4\n",
    "    indiv_counts[data[1]] = count"
   ]
  },
  {
   "cell_type": "code",
   "execution_count": 0,
   "metadata": {
    "collapsed": false
   },
   "outputs": [],
   "source": [
    "os.chdir(\"/home/cfriedline/eckertlab/gypsy_indiv/masked/\")\n",
    "with open(\"sample_counts.txt\", \"w\") as o:\n",
    "    keys = sorted(indiv_counts.keys())\n",
    "    for f in keys:\n",
    "        count = indiv_counts[f]\n",
    "        o.write(\"%s\\t%d\\n\" % (f, count))"
   ]
  },
  {
   "cell_type": "code",
   "execution_count": 0,
   "metadata": {
    "collapsed": false
   },
   "outputs": [],
   "source": []
  }
 ],
 "metadata": {
  "kernelspec": {
   "display_name": "Python 3",
   "language": "python",
   "name": "python3"
  },
  "language_info": {
   "codemirror_mode": {
    "name": "ipython",
    "version": 3
   },
   "file_extension": ".py",
   "mimetype": "text/x-python",
   "name": "python",
   "nbconvert_exporter": "python",
   "pygments_lexer": "ipython3"
  }
 },
 "nbformat": 4,
 "nbformat_minor": 0
}

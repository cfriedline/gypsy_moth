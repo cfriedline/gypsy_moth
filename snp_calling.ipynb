{
 "cells": [
  {
   "cell_type": "code",
   "execution_count": 0,
   "metadata": {
    "collapsed": false
   },
   "outputs": [],
   "source": [
    "import sys\n",
    "\n",
    "sys.path.append(\"../include_utils/\")\n",
    "\n",
    "#from IPython.parallel import Client\n",
    "import ipyparallel as ipp\n",
    "import os, time\n",
    "import include_utils as u\n",
    "import pandas as pd\n",
    "import numpy as np\n",
    "import scipy as sp\n",
    "import numbers\n",
    "import matplotlib.pyplot as plt\n",
    "import matplotlib.patches as mpatches\n",
    "import matplotlib.cm as cm\n",
    "import matplotlib.colors as mcolors\n",
    "import vcf\n",
    "from sklearn import preprocessing\n",
    "from subprocess import Popen, PIPE\n",
    "import seaborn as sns\n",
    "from IPython.display import FileLink\n",
    "import urllib.request as urllib2\n",
    "import dill\n",
    "import traceback\n",
    "from pandas import Series, DataFrame\n",
    "import gzip\n",
    "import warnings\n",
    "warnings.filterwarnings('ignore',category=pd.io.pytables.PerformanceWarning)\n",
    "%config InlineBackend.figure_format = 'retina'\n",
    "from Bio import SeqIO\n",
    "import pysam\n",
    "from collections import OrderedDict, namedtuple\n",
    "import operator\n",
    "import multiprocessing as mp"
   ]
  },
  {
   "cell_type": "code",
   "execution_count": 0,
   "metadata": {
    "collapsed": true
   },
   "outputs": [],
   "source": [
    "def setup_r():\n",
    "    os.environ['R_HOME'] = '/home/cfriedline/g/R3/lib64/R'\n",
    "    os.environ['LD_LIBRARY_PATH'] = \"%s/lib:%s:%s\" % (os.environ['R_HOME'], \n",
    "                                                   os.environ['LD_LIBRARY_PATH'],\n",
    "                                                     \"/home/cfriedline/lib64\")"
   ]
  },
  {
   "cell_type": "code",
   "execution_count": 0,
   "metadata": {
    "collapsed": true
   },
   "outputs": [],
   "source": [
    "setup_r()\n",
    "import rpy2.robjects as robjects\n",
    "from rpy2.robjects import pandas2ri\n",
    "pandas2ri.activate()\n",
    "r = robjects.r"
   ]
  },
  {
   "cell_type": "code",
   "execution_count": 0,
   "metadata": {
    "collapsed": true
   },
   "outputs": [],
   "source": [
    "%reload_ext autoreload\n",
    "%autoreload 2\n",
    "%matplotlib inline\n",
    "%reload_ext rpy2.ipython"
   ]
  },
  {
   "cell_type": "code",
   "execution_count": 0,
   "metadata": {
    "collapsed": true
   },
   "outputs": [],
   "source": [
    "rc = u.get_client(\"sge\")"
   ]
  },
  {
   "cell_type": "code",
   "execution_count": 0,
   "metadata": {
    "collapsed": false
   },
   "outputs": [],
   "source": [
    "dview, lview = u.get_views(rc)\n",
    "len(dview)"
   ]
  },
  {
   "cell_type": "code",
   "execution_count": 0,
   "metadata": {
    "collapsed": false
   },
   "outputs": [],
   "source": [
    "with dview.sync_imports():\n",
    "    import os\n",
    "    import sys\n",
    "    import socket\n",
    "    import stopwatch\n",
    "    from subprocess import Popen, PIPE\n",
    "    import tempfile\n",
    "    import shutil"
   ]
  },
  {
   "cell_type": "code",
   "execution_count": 0,
   "metadata": {
    "collapsed": false
   },
   "outputs": [],
   "source": [
    "hlview = u.get_single_host_lview(rc, \"all\")\n",
    "len(hlview)"
   ]
  },
  {
   "cell_type": "code",
   "execution_count": 0,
   "metadata": {
    "collapsed": true
   },
   "outputs": [],
   "source": [
    "bam_dir = \"/home/cfriedline/eckertlab/gypsy_indiv/masked/analysis\"\n",
    "analysis_dir = os.path.join(bam_dir, \"samtools1.2_masurca3\")\n",
    "if not os.path.exists(analysis_dir):\n",
    "    os.makedirs(analysis_dir)\n",
    "assert os.path.exists(analysis_dir)"
   ]
  },
  {
   "cell_type": "code",
   "execution_count": 0,
   "metadata": {
    "collapsed": false
   },
   "outputs": [],
   "source": [
    "bam_files = !find /home/cfriedline/eckertlab/gypsy_indiv/masked | grep masurca3 | grep 'rg.bam$' | grep -v OTIS\n",
    "bam_files = [os.path.abspath(x) for x in bam_files if '.bam' in x]\n",
    "len(bam_files)"
   ]
  },
  {
   "cell_type": "code",
   "execution_count": 0,
   "metadata": {
    "collapsed": true
   },
   "outputs": [],
   "source": [
    "samtools = \"/home/cfriedline/gpfs/src/samtools-1.2/samtools\"\n",
    "bcftools = \"/home/cfriedline/gpfs/src/bcftools-1.2/bcftools\"\n",
    "picard = \"/home/cfriedline/gpfs/src/broadinstitute-picard-03a1d72/dist/picard.jar\"\n",
    "java = \"/home/cfriedline/g/src/jdk1.8.0_60/bin/java\"\n",
    "perl = \"/home/cfriedline/gpfs/opt/ActivePerl-5.16/bin/perl\""
   ]
  },
  {
   "cell_type": "code",
   "execution_count": 0,
   "metadata": {
    "collapsed": false
   },
   "outputs": [],
   "source": [
    "def mark_duplicates(args):\n",
    "    java, picard, bam_file, analysis_dir = args\n",
    "    out_bam = os.path.join(\"%s_dedup.bam\" % os.path.basename(bam_file))\n",
    "    out_bam = os.path.join(analysis_dir, out_bam)\n",
    "    t = tempfile.NamedTemporaryFile(delete=False)\n",
    "    cmd = \"%s -jar %s MarkDuplicates \\\n",
    "    INPUT=%s OUTPUT=%s METRICS_FILE=%s.metrics\" %     (java,\n",
    "                              picard,\n",
    "                              bam_file,\n",
    "                              t.name,\n",
    "                              out_bam)\n",
    "    print(cmd)\n",
    "    #if os.path.getsize(out_bam) == 0 or not os.path.exists(out_bam):\n",
    "    !$cmd\n",
    "    shutil.move(t.name, out_bam)\n",
    "    return cmd, out_bam"
   ]
  },
  {
   "cell_type": "code",
   "execution_count": 0,
   "metadata": {
    "collapsed": true
   },
   "outputs": [],
   "source": [
    "dview['mark_duplicates'] = mark_duplicates"
   ]
  },
  {
   "cell_type": "code",
   "execution_count": 0,
   "metadata": {
    "collapsed": false
   },
   "outputs": [],
   "source": [
    "rmdup_jobs = []\n",
    "for b in bam_files:\n",
    "    rmdup_jobs.append(hlview.apply_async(mark_duplicates, (java, picard, b, analysis_dir)))"
   ]
  },
  {
   "cell_type": "code",
   "execution_count": 0,
   "metadata": {
    "collapsed": false
   },
   "outputs": [],
   "source": [
    "u.get_async_progress(rmdup_jobs)"
   ]
  },
  {
   "cell_type": "code",
   "execution_count": 0,
   "metadata": {
    "collapsed": false
   },
   "outputs": [],
   "source": [
    "assembly = \"/home/cfriedline/eckertlab/projects/gypsy_moth/assemblies/masurca3/CA/10-gapclose/genome.ctg.fasta\""
   ]
  },
  {
   "cell_type": "code",
   "execution_count": 0,
   "metadata": {
    "collapsed": false
   },
   "outputs": [],
   "source": [
    "bam_rmdup_files = !ls {analysis_dir} | grep 'dedup.bam$' | grep -v OTIS\n",
    "bam_rmdup_files = sorted([os.path.join(analysis_dir, x) for x in bam_rmdup_files])\n",
    "len(bam_rmdup_files)"
   ]
  },
  {
   "cell_type": "code",
   "execution_count": 0,
   "metadata": {
    "collapsed": true
   },
   "outputs": [],
   "source": [
    "def create_ploidy_file(args):\n",
    "    import os\n",
    "    bam_files, analysis_dir = args\n",
    "    ploidy_file = os.path.join(analysis_dir, \"%s.ploidy\" % \"all\")\n",
    "    if not os.path.exists(ploidy_file):\n",
    "        with open(ploidy_file, \"w\") as o:\n",
    "            for b in bam_files:\n",
    "                name = \"%s\" % os.path.basename(b).split(\".fastq\")[0]\n",
    "                ploidy = 2\n",
    "                o.write(\"%s\\t%d\\n\" % (name, ploidy))\n",
    "    return ploidy_file"
   ]
  },
  {
   "cell_type": "code",
   "execution_count": 0,
   "metadata": {
    "collapsed": true
   },
   "outputs": [],
   "source": [
    "dview['create_ploidy_file'] = create_ploidy_file"
   ]
  },
  {
   "cell_type": "code",
   "execution_count": 0,
   "metadata": {
    "collapsed": false
   },
   "outputs": [],
   "source": [
    "def call_snps(args):\n",
    "    import socket, os, stopwatch\n",
    "    print(socket.gethostname())\n",
    "    timer = stopwatch.Timer()\n",
    "    samtools, reference, bam_sorted, bcftools, raw_vcf, out_dir, contig_names = args \n",
    "    if not out_dir:\n",
    "        out_dir = os.environ['TMPDIR']\n",
    "    raw_vcf = os.path.join(out_dir, os.path.basename(raw_vcf))\n",
    "    ploidy_file = create_ploidy_file((bam_sorted, out_dir))\n",
    "    pileup = \"%s mpileup -t DP,AD,ADF,ADR,SP,INFO/AD,INFO/ADF,INFO/ADR %s -ugf %s %s | %s call -f GP,GQ -S %s -vmO z -o %s\" % (samtools, \n",
    "                                                                     contig_names, reference, \n",
    "                                                                     ' '.join(bam_sorted), \n",
    "                                                                     bcftools, \n",
    "                                                                     ploidy_file, \n",
    "                                                                     raw_vcf) \n",
    "    \n",
    "    #print(pileup)\n",
    "    #!$pileup\n",
    "    timer.stop()\n",
    "    return pileup, timer.elapsed"
   ]
  },
  {
   "cell_type": "code",
   "execution_count": 0,
   "metadata": {
    "collapsed": true
   },
   "outputs": [],
   "source": [
    "#dview['call_snps'] = call_snps"
   ]
  },
  {
   "cell_type": "code",
   "execution_count": 0,
   "metadata": {
    "collapsed": true
   },
   "outputs": [],
   "source": [
    "args = [\"/home/cfriedline/g/src/samtools-1.3/samtools\", \n",
    "        assembly, \n",
    "        bam_rmdup_files, \n",
    "        bcftools, \n",
    "        \"samtools_1.3.vcf.gz\", \n",
    "        '/home/cfriedline/eckertlab/gypsy_indiv/masked/analysis/samtools1.2_masurca3',\n",
    "        \"\"]"
   ]
  },
  {
   "cell_type": "code",
   "execution_count": 0,
   "metadata": {
    "collapsed": false
   },
   "outputs": [],
   "source": [
    "pileup, elapsed = call_snps(args)"
   ]
  },
  {
   "cell_type": "code",
   "execution_count": 0,
   "metadata": {
    "collapsed": true
   },
   "outputs": [],
   "source": [
    "with open(os.path.join(analysis_dir, \"samtools.sh\"), \"w\") as o:\n",
    "    o.write(\"#!/bin/bash\\n\")\n",
    "    o.write(\"%s\\n\" % pileup)"
   ]
  },
  {
   "cell_type": "markdown",
   "metadata": {},
   "source": [
    "## Run on SGE\n",
    "```bash\n",
    "cd /gpfs_fs/home/eckertlab/gypsy_indiv/masked/analysis/samtools1.2_masurca3\n",
    "qsub -cwd -N samtools -j y -V samtools.sh\n",
    "```"
   ]
  },
  {
   "cell_type": "code",
   "execution_count": 0,
   "metadata": {
    "collapsed": true
   },
   "outputs": [],
   "source": []
  }
 ],
 "metadata": {
  "kernelspec": {
   "display_name": "Python 3",
   "language": "python",
   "name": "python3"
  },
  "language_info": {
   "codemirror_mode": {
    "name": "ipython",
    "version": 3
   },
   "file_extension": ".py",
   "mimetype": "text/x-python",
   "name": "python",
   "nbconvert_exporter": "python",
   "pygments_lexer": "ipython3",
   "version": "3.4.3"
  }
 },
 "nbformat": 4,
 "nbformat_minor": 0
}

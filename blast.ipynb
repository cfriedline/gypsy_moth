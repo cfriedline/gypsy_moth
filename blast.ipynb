{
 "cells": [
  {
   "cell_type": "code",
   "execution_count": 0,
   "metadata": {
    "collapsed": false
   },
   "outputs": [],
   "source": [
    "import sys\n",
    "import os\n",
    "import pandas as pd\n",
    "import numpy as np\n",
    "import scipy as sp\n",
    "import shutil\n",
    "import matplotlib.pyplot as plt\n",
    "import seaborn as sns\n",
    "import Bio\n",
    "from Bio.Blast.Applications import NcbiblastxCommandline\n",
    "from IPython.display import display\n",
    "from utils import read_df, save_df\n",
    "from Bio import SeqIO"
   ]
  },
  {
   "cell_type": "code",
   "execution_count": 0,
   "metadata": {
    "collapsed": false
   },
   "outputs": [],
   "source": [
    "!uname -a"
   ]
  },
  {
   "cell_type": "code",
   "execution_count": 0,
   "metadata": {
    "collapsed": true
   },
   "outputs": [],
   "source": [
    "bombyx = \"/gpfs_fs/home/eckertlab/genomes/Bombyx_mori/protein/protein.fa\"\n",
    "plutella = \"/gpfs_fs/home/eckertlab/genomes/Plutella_xylostella/protein/protein.fa\""
   ]
  },
  {
   "cell_type": "markdown",
   "metadata": {},
   "source": [
    "## Create blast databases\n",
    "\n",
    "```bash\n",
    "~/g/src/ncbi-blast-2.2.30+/bin/makeblastdb -in protein.fa -dbtype prot\n",
    "```"
   ]
  },
  {
   "cell_type": "code",
   "execution_count": 0,
   "metadata": {
    "collapsed": true
   },
   "outputs": [],
   "source": [
    "blastx = \"/home/cfriedline/g/src/ncbi-blast-2.2.30+/bin/blastx\"\n",
    "assembly = \"/home/cfriedline/eckertlab/projects/gypsy_moth/assemblies/masurca3/CA/10-gapclose/genome.ctg.fasta\"\n",
    "analysis_dir = \"/home/cfriedline/eckertlab/gypsy_indiv/raw_demult/analysis/samtools1.3_masurca3/\""
   ]
  },
  {
   "cell_type": "code",
   "execution_count": 0,
   "metadata": {
    "collapsed": true
   },
   "outputs": [],
   "source": [
    "outfmt = \"'6 qseqid sseqid sgi sacc pident length mismatch gapopen qstart qend sstart send evalue bitscore qcov qcovhsp qlen slen ppos'\""
   ]
  },
  {
   "cell_type": "code",
   "execution_count": 0,
   "metadata": {
    "collapsed": false
   },
   "outputs": [],
   "source": [
    "outfiles = []\n",
    "clines = []\n",
    "for org, db in list({'bombyx': bombyx, 'plutella': plutella}.items()):\n",
    "    outdir = os.path.join(analysis_dir, \"blast\")\n",
    "    if not os.path.exists(outdir):\n",
    "        os.mkdir(outdir)\n",
    "    out = os.path.join(outdir, \"%s.txt\" % org)\n",
    "    outfiles.append(out)\n",
    "    cline = NcbiblastxCommandline(cmd=blastx,\n",
    "                                 out=out,\n",
    "                                 db=db,\n",
    "                                 query=assembly,\n",
    "                                 outfmt=outfmt,\n",
    "                                 max_target_seqs=5,\n",
    "                                 num_threads=20,\n",
    "                                 evalue=1e-5)\n",
    "    clines.append(cline)"
   ]
  },
  {
   "cell_type": "code",
   "execution_count": 0,
   "metadata": {
    "collapsed": true
   },
   "outputs": [],
   "source": [
    "with open(os.path.join(analysis_dir, \"blast.sh\"), \"w\") as o:\n",
    "    for cline in clines:\n",
    "        o.write(\"%s\\n\" % cline)"
   ]
  },
  {
   "cell_type": "markdown",
   "metadata": {},
   "source": [
    "```bash\n",
    "~/bin/parallel --no-notice --bar -a blast.sh\n",
    "```"
   ]
  },
  {
   "cell_type": "code",
   "execution_count": 0,
   "metadata": {
    "collapsed": false
   },
   "outputs": [],
   "source": [
    "header = outfmt[1:-1].split()[1:]"
   ]
  },
  {
   "cell_type": "code",
   "execution_count": 0,
   "metadata": {
    "collapsed": true
   },
   "outputs": [],
   "source": [
    "z12_dir = os.path.join(analysis_dir, \"beagle40\")\n",
    "z12_swapped = read_df(z12_dir, \"z12_swapped\")"
   ]
  },
  {
   "cell_type": "code",
   "execution_count": 0,
   "metadata": {
    "collapsed": true
   },
   "outputs": [],
   "source": [
    "snp_names = set(z12_swapped.columns[:-2])\n",
    "\n",
    "len(snp_names)\n",
    "\n",
    "snp_name_only = sorted(set([\"_\".join(x.split(\"_\")[0:-1]) for x in snp_names]))"
   ]
  },
  {
   "cell_type": "code",
   "execution_count": 0,
   "metadata": {
    "collapsed": true
   },
   "outputs": [],
   "source": [
    "assembly_dir = os.path.dirname(assembly)\n",
    "contigs_with_snps = os.path.join(assembly_dir, \"contigs_with_snps.fa\")\n",
    "seq_index = SeqIO.index(assembly, \"fasta\")"
   ]
  },
  {
   "cell_type": "code",
   "execution_count": 0,
   "metadata": {
    "collapsed": false
   },
   "outputs": [],
   "source": [
    "len(snp_name_only)"
   ]
  },
  {
   "cell_type": "code",
   "execution_count": 0,
   "metadata": {
    "collapsed": false
   },
   "outputs": [],
   "source": [
    "snp_df = pd.DataFrame(pd.Series(list(snp_names)), columns=['snp'])\n",
    "snp_df['loc'] = snp_df.snp.apply(lambda x: int(x.split(\"_\")[-1]))\n",
    "snp_df['contig'] = snp_df.snp.apply(lambda x: \"_\".join(x.split(\"_\")[0:-1]))\n",
    "snp_df.index = snp_df.snp\n",
    "snp_df = snp_df.drop(\"snp\", axis=1)\n",
    "snp_df = snp_df.reindex(columns=sorted(snp_df.columns))"
   ]
  },
  {
   "cell_type": "code",
   "execution_count": 0,
   "metadata": {
    "collapsed": false
   },
   "outputs": [],
   "source": [
    "snp_df.to_csv(\"contigs_with_snps.txt\", index=False, header=True, sep=\"\\t\")"
   ]
  },
  {
   "cell_type": "code",
   "execution_count": 0,
   "metadata": {
    "collapsed": false
   },
   "outputs": [],
   "source": [
    "contigs_with_snps"
   ]
  },
  {
   "cell_type": "code",
   "execution_count": 0,
   "metadata": {
    "collapsed": true
   },
   "outputs": [],
   "source": [
    "with open(contigs_with_snps, \"w\") as o:\n",
    "    for rec in snp_name_only:\n",
    "        SeqIO.write(seq_index[rec], o, \"fasta\")"
   ]
  }
 ],
 "metadata": {
  "kernelspec": {
   "display_name": "Python 3",
   "language": "python",
   "name": "python3"
  },
  "language_info": {
   "codemirror_mode": {
    "name": "ipython",
    "version": 3
   },
   "file_extension": ".py",
   "mimetype": "text/x-python",
   "name": "python",
   "nbconvert_exporter": "python",
   "pygments_lexer": "ipython3",
   "version": "3.4.4"
  }
 },
 "nbformat": 4,
 "nbformat_minor": 0
}

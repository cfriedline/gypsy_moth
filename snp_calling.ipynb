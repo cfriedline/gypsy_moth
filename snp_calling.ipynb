{
 "metadata": {
  "name": "",
  "signature": "sha256:533b0a0cc2dc7f12ea65fd85cc59a3ef77d41496d1b40f80cd88b2f808de8be7"
 },
 "nbformat": 3,
 "nbformat_minor": 0,
 "worksheets": [
  {
   "cells": [
    {
     "cell_type": "code",
     "collapsed": false,
     "input": [
      "import os, sys, vcf\n",
      "from IPython.parallel import Client\n",
      "import matplotlib.pyplot as plt\n",
      "%matplotlib inline\n",
      "import numpy as np\n",
      "import scipy as sp\n",
      "import pandas"
     ],
     "language": "python",
     "metadata": {},
     "outputs": [],
     "prompt_number": ""
    },
    {
     "cell_type": "code",
     "collapsed": false,
     "input": [
      "rc = Client(profile='sge')\n",
      "dview = rc[:]\n",
      "lview = rc.load_balanced_view()"
     ],
     "language": "python",
     "metadata": {},
     "outputs": [],
     "prompt_number": ""
    },
    {
     "cell_type": "code",
     "collapsed": false,
     "input": [
      "vcftools = \"~/data7/src/vcftools_0.1.12a/bin/vcftools\""
     ],
     "language": "python",
     "metadata": {},
     "outputs": [],
     "prompt_number": ""
    },
    {
     "cell_type": "markdown",
     "metadata": {},
     "source": [
      "    /home/cfriedline/data7/src/freebayes/bin/freebayes -L /data7/eckertlab/gypsy_indiv/bamlist.txt -f /home/cfriedline/data7/assemblies/gypsy/masurca/CA/10-gapclose/genome.ctg.fasta -v /data7/eckertlab/gypsy_indiv/gypsy_freebayes_out.vcf"
     ]
    },
    {
     "cell_type": "code",
     "collapsed": false,
     "input": [
      "#vcf called from freebayes\n",
      "fb_vcf = \"/data7/eckertlab/gypsy_indiv/gypsy_freebayes_out.vcf\""
     ],
     "language": "python",
     "metadata": {},
     "outputs": [],
     "prompt_number": ""
    },
    {
     "cell_type": "code",
     "collapsed": false,
     "input": [
      "!$vcftools --vcf $fb_vcf"
     ],
     "language": "python",
     "metadata": {},
     "outputs": [],
     "prompt_number": ""
    },
    {
     "cell_type": "markdown",
     "metadata": {},
     "source": [
      "    VCFtools - v0.1.12a\n",
      "    (C) Adam Auton and Anthony Marcketta 2009\n",
      "\n",
      "    Parameters as interpreted:\n",
      "        --vcf /data7/eckertlab/gypsy_indiv/gypsy_freebayes_out.vcf\n",
      "\n",
      "    After filtering, kept 192 out of 192 Individuals\n",
      "    After filtering, kept 86785 out of a possible 86785 Sites\n",
      "    Run Time = 3.00 seconds"
     ]
    },
    {
     "cell_type": "code",
     "collapsed": false,
     "input": [
      "!$vcftools --freq --remove-indels --vcf $fb_vcf --out $fb_vcf"
     ],
     "language": "python",
     "metadata": {},
     "outputs": [],
     "prompt_number": ""
    },
    {
     "cell_type": "markdown",
     "metadata": {},
     "source": [
      "    VCFtools - v0.1.12a\n",
      "    (C) Adam Auton and Anthony Marcketta 2009\n",
      "\n",
      "    Parameters as interpreted:\n",
      "        --vcf /data7/eckertlab/gypsy_indiv/gypsy_freebayes_out.vcf\n",
      "        --freq\n",
      "        --out /data7/eckertlab/gypsy_indiv/gypsy_freebayes_out.vcf\n",
      "        --remove-indels\n",
      "\n",
      "    After filtering, kept 192 out of 192 Individuals\n",
      "    Outputting Frequency Statistics...\n",
      "    After filtering, kept 79761 out of a possible 86785 Sites\n",
      "    Run Time = 43.00 seconds"
     ]
    },
    {
     "cell_type": "code",
     "collapsed": false,
     "input": [
      "!$vcftools --counts --remove-indels --vcf $fb_vcf --out $fb_vcf"
     ],
     "language": "python",
     "metadata": {},
     "outputs": [],
     "prompt_number": ""
    },
    {
     "cell_type": "markdown",
     "metadata": {},
     "source": [
      "    VCFtools - v0.1.12a\n",
      "    (C) Adam Auton and Anthony Marcketta 2009\n",
      "\n",
      "    Parameters as interpreted:\n",
      "        --vcf /data7/eckertlab/gypsy_indiv/gypsy_freebayes_out.vcf\n",
      "        --counts\n",
      "        --out /data7/eckertlab/gypsy_indiv/gypsy_freebayes_out.vcf\n",
      "        --remove-indels\n",
      "\n",
      "    After filtering, kept 192 out of 192 Individuals\n",
      "    Outputting Frequency Statistics...\n",
      "    After filtering, kept 79761 out of a possible 86785 Sites\n",
      "    Run Time = 41.00 seconds"
     ]
    },
    {
     "cell_type": "code",
     "collapsed": false,
     "input": [
      "!$vcftools --het --vcf $fb_vcf --out $fb_vcf"
     ],
     "language": "python",
     "metadata": {},
     "outputs": [],
     "prompt_number": ""
    },
    {
     "cell_type": "markdown",
     "metadata": {},
     "source": [
      "    VCFtools - v0.1.12a\n",
      "    (C) Adam Auton and Anthony Marcketta 2009\n",
      "\n",
      "    Parameters as interpreted:\n",
      "        --vcf /data7/eckertlab/gypsy_indiv/gypsy_freebayes_out.vcf\n",
      "        --het\n",
      "        --out /data7/eckertlab/gypsy_indiv/gypsy_freebayes_out.vcf\n",
      "\n",
      "    After filtering, kept 192 out of 192 Individuals\n",
      "    Outputting Individual Heterozygosity\n",
      "        Individual Heterozygosity: Only using fully diploid SNPs.\n",
      "        Individual Heterozygosity: Only using biallelic SNPs.\n",
      "    After filtering, kept 86785 out of a possible 86785 Sites\n",
      "    Run Time = 43.00 seconds"
     ]
    },
    {
     "cell_type": "code",
     "collapsed": false,
     "input": [
      "!$vcftools --hardy --vcf $fb_vcf --out $fb_vcf"
     ],
     "language": "python",
     "metadata": {},
     "outputs": [],
     "prompt_number": ""
    },
    {
     "cell_type": "code",
     "collapsed": false,
     "input": [
      "snp_quals = []\n",
      "snp_dp = []\n",
      "for i, rec in enumerate(vcf.Reader(open(fb_vcf))):\n",
      "    if rec.INFO['TYPE'][0] == 'snp':\n",
      "        snp_quals.append(rec.QUAL)\n",
      "        snp_dp.append(rec.INFO['DP'])\n",
      "    if i % 5000 == 0:\n",
      "        print \"at %d\" % i"
     ],
     "language": "python",
     "metadata": {},
     "outputs": [],
     "prompt_number": ""
    },
    {
     "cell_type": "code",
     "collapsed": false,
     "input": [
      "plt.hist(snp_quals, bins=100)\n",
      "plt.title(\"%.2f +/- %.2f [%d, %d]\" % (np.mean(snp_quals), np.std(snp_quals), np.min(snp_quals), np.max(snp_quals)))\n",
      "plt.xlabel(\"QUAL\")\n",
      "plt.xlim(0, 10000)\n",
      "plt.show()"
     ],
     "language": "python",
     "metadata": {},
     "outputs": [],
     "prompt_number": ""
    },
    {
     "cell_type": "code",
     "collapsed": false,
     "input": [
      "plt.hist(snp_dp, bins=100)\n",
      "plt.title(\"%.2f +/- %.2f [%d, %d]\" % (np.mean(snp_dp), np.std(snp_dp), np.min(snp_dp), np.max(snp_dp)))\n",
      "plt.xlabel(\"DP\")\n",
      "plt.xlim((0,700))\n",
      "plt.show()"
     ],
     "language": "python",
     "metadata": {},
     "outputs": [],
     "prompt_number": ""
    },
    {
     "cell_type": "markdown",
     "metadata": {},
     "source": [
      "##Create file for afsource"
     ]
    },
    {
     "cell_type": "code",
     "collapsed": false,
     "input": [
      "def get_missing(rec):\n",
      "    missing = 0.0\n",
      "    for sample in rec.samples:\n",
      "        if not sample.data.AO:\n",
      "            missing += 1\n",
      "    return missing\n",
      "\n",
      "def is_valid_snp(rec, min_qual, missing_prob):\n",
      "    if rec.QUAL < min_qual:\n",
      "        return False\n",
      "    t = rec.INFO['TYPE']\n",
      "    if len(t) > 1:\n",
      "        return False\n",
      "    if t[0] != 'snp':\n",
      "        return False\n",
      "    if get_missing(rec)/len(rec.samples) >= missing_prob:\n",
      "        return False\n",
      "    return True    \n",
      "\n",
      "afsource_file = \"%s.afsource_missing_0.5\" % fb_vcf\n",
      "with open(afsource_file, \"w\") as o:\n",
      "    for i, rec in enumerate(vcf.Reader(open(fb_vcf))):\n",
      "        if is_valid_snp(rec, 20, 0.5):\n",
      "            o.write(\"%s\\n\" % \"locus %s pos %d %g\" % (rec.CHROM, rec.POS, 1/rec.QUAL))\n",
      "            for sample in rec.samples:\n",
      "                ref = 0\n",
      "                alt = 0\n",
      "                if sample.data.RO:\n",
      "                    ref = sample.data.RO\n",
      "                if sample.data.AO:\n",
      "                    alt = sample.data.AO\n",
      "                try:\n",
      "                    o.write(\"%s\\n\" % \"%d %d\" % (ref, alt))\n",
      "                except:\n",
      "                    print rec.INFO\n",
      "                    print sample.data\n",
      "        if i % 5000 == 0:\n",
      "            print \"at %d\" % i\n"
     ],
     "language": "python",
     "metadata": {},
     "outputs": [],
     "prompt_number": ""
    },
    {
     "cell_type": "code",
     "collapsed": false,
     "input": [
      "def calc_fis(obs, exp):\n",
      "    o = obs[1]\n",
      "    e = exp[1]\n",
      "    if e == 0:\n",
      "        return 2\n",
      "    return 1-(o/e)\n",
      "\n",
      "hwe_file = \"/data7/eckertlab/gypsy_indiv/gypsy_freebayes_out.vcf.hwe\"\n",
      "h = open(hwe_file)\n",
      "h.readline()\n",
      "fis = []\n",
      "for line in h:\n",
      "    data = line.strip().split()\n",
      "    obs = [float(x) for x in data[2].split(\"/\")]\n",
      "    exp = [float(x) for x in data[3].split(\"/\")]\n",
      "    fis.append(calc_fis(obs, exp))"
     ],
     "language": "python",
     "metadata": {},
     "outputs": [],
     "prompt_number": ""
    },
    {
     "cell_type": "code",
     "collapsed": false,
     "input": [
      "plt.hist(fis, bins=50)\n",
      "plt.xlabel(\"F_is\")\n",
      "plt.show()"
     ],
     "language": "python",
     "metadata": {},
     "outputs": [],
     "prompt_number": ""
    },
    {
     "cell_type": "code",
     "collapsed": false,
     "input": [],
     "language": "python",
     "metadata": {},
     "outputs": []
    }
   ],
   "metadata": {}
  }
 ]
}
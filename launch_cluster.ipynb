{
 "cells": [
  {
   "cell_type": "code",
   "execution_count": 0,
   "metadata": {
    "collapsed": false
   },
   "outputs": [],
   "source": [
    "profile=\"moth\""
   ]
  },
  {
   "cell_type": "code",
   "execution_count": 0,
   "metadata": {
    "collapsed": false
   },
   "outputs": [],
   "source": [
    "qhost = !qhost | grep godel"
   ]
  },
  {
   "cell_type": "code",
   "execution_count": 0,
   "metadata": {
    "collapsed": false
   },
   "outputs": [],
   "source": [
    "controller_script = \"/tmp/ipcontroller.sh\"\n",
    "with open(controller_script, \"w\") as o:\n",
    "    o.write(\". activate conda\\nipcontroller --profile=%s --debug\\n\" % profile)\n",
    "!chmod +x $controller_script"
   ]
  },
  {
   "cell_type": "code",
   "execution_count": 0,
   "metadata": {
    "collapsed": false
   },
   "outputs": [],
   "source": [
    "!qdel ipcontroller\n",
    "!qdel ipengine"
   ]
  },
  {
   "cell_type": "code",
   "execution_count": 0,
   "metadata": {
    "collapsed": false
   },
   "outputs": [],
   "source": [
    "exclude_ipengine = {\"godel97\", \"godel199\"}\n",
    "import time, tempfile, os\n",
    "cmd = \"qsub -o /tmp -e /tmp -cwd -V -N ipcontroller -q godel199@godel199 %s\" % controller_script\n",
    "print cmd\n",
    "!$cmd\n",
    "time.sleep(10)\n",
    "temp_files = []\n",
    "for elem in [x.split() for x in qhost]:\n",
    "    host = elem[0]\n",
    "    if not host in exclude_ipengine:\n",
    "        cpus = int(elem[2])\n",
    "        load = elem[3]\n",
    "        if cpus >= 8 and load != \"-\":\n",
    "            tmp = tempfile.NamedTemporaryFile(delete=False)\n",
    "            temp_files.append(tmp.name)\n",
    "            tmp.write(\"bash -c 'pkill -9 ipengine'\\n\")\n",
    "            for i in xrange(cpus):\n",
    "                tmp.write(\". activate conda\\nipengine --profile=%s&\\nsleep 5\\n\" % profile)\n",
    "            tmp.write(\"sleep 365d\\n\")\n",
    "            tmp.close()\n",
    "            q = \"all.q\"\n",
    "            if host == \"godel97\" or host == \"godel199\":\n",
    "                q = \"godel199\"\n",
    "            cmd = \"qsub -o /tmp -e /tmp -cwd -V -N ipengine -q %s@%s -l mem_free=10g %s\" % (q, host, tmp.name)\n",
    "            print cmd\n",
    "            !chmod +x {tmp.name}\n",
    "            !$cmd"
   ]
  },
  {
   "cell_type": "markdown",
   "metadata": {},
   "source": [
    "##Check size of the cluster"
   ]
  },
  {
   "cell_type": "code",
   "execution_count": 0,
   "metadata": {
    "collapsed": false
   },
   "outputs": [],
   "source": [
    "cpu_dict = {}\n",
    "for elem in qhost:\n",
    "    d = [x.strip() for x in elem.split()]\n",
    "    cpu_dict[d[0]] = int(d[2])\n",
    "qstat = !qstat | grep godel\n",
    "total_cpus = 0\n",
    "for elem in qstat:\n",
    "    d = [x.strip() for x in elem.split()]\n",
    "#     print d\n",
    "    host = d[-2].split(\"@\")[-1]\n",
    "    if d[2] == 'ipengine':\n",
    "        total_cpus += cpu_dict[host]\n",
    "total_cpus"
   ]
  },
  {
   "cell_type": "code",
   "execution_count": 0,
   "metadata": {
    "collapsed": false
   },
   "outputs": [],
   "source": [
    "qstat  =!qstat | grep ipengine | grep qw\n",
    "print len(qstat)\n",
    "for elem in qstat:\n",
    "    d = [x.strip() for x in elem.split()]\n",
    "    print d\n",
    "    !qdel {d[0]}"
   ]
  },
  {
   "cell_type": "code",
   "execution_count": 0,
   "metadata": {
    "collapsed": false
   },
   "outputs": [],
   "source": [
    "from datetime import datetime\n",
    "from IPython.parallel import Client\n",
    "from IPython.display import clear_output\n",
    "rc = Client(profile=profile)\n",
    "dview = rc[:]\n",
    "print len(dview)"
   ]
  },
  {
   "cell_type": "code",
   "execution_count": 0,
   "metadata": {
    "collapsed": false
   },
   "outputs": [],
   "source": [
    "num = 0\n",
    "while (1):\n",
    "    print datetime.now().time(), len(rc[:])\n",
    "    time.sleep(3)\n",
    "    num += 1\n",
    "    if num == 10:\n",
    "        num = 0\n",
    "        clear_output()"
   ]
  },
  {
   "cell_type": "markdown",
   "metadata": {},
   "source": [
    "## Kill ipengines"
   ]
  },
  {
   "cell_type": "code",
   "execution_count": 0,
   "metadata": {
    "collapsed": false
   },
   "outputs": [],
   "source": [
    "clush_hosts = \"'godel[02-37,26,33,199,97,200]'\"\n",
    "clush = \"clush -b -w %s -u 10 -t 20\" % clush_hosts\n",
    "clush_nob = \"clush -w %s -u 10 -t 20\" % clush_hosts"
   ]
  },
  {
   "cell_type": "code",
   "execution_count": 0,
   "metadata": {
    "collapsed": false
   },
   "outputs": [],
   "source": [
    "!$clush_nob ps ax | grep cfriedline | grep -v grep | grep ipengine"
   ]
  },
  {
   "cell_type": "code",
   "execution_count": 0,
   "metadata": {
    "collapsed": false
   },
   "outputs": [],
   "source": [
    "!qdel ipcontroller\n",
    "!qdel ipengine"
   ]
  },
  {
   "cell_type": "code",
   "execution_count": 0,
   "metadata": {
    "collapsed": false
   },
   "outputs": [],
   "source": [
    "!$clush pkill -9 ipcontroller\n",
    "!$clush pkill -9 ipengine"
   ]
  },
  {
   "cell_type": "code",
   "execution_count": 0,
   "metadata": {
    "collapsed": false
   },
   "outputs": [],
   "source": [
    "!$clush pkill -9 ms"
   ]
  },
  {
   "cell_type": "code",
   "execution_count": 0,
   "metadata": {
    "collapsed": true
   },
   "outputs": [],
   "source": [
    "import netifaces"
   ]
  },
  {
   "cell_type": "code",
   "execution_count": 0,
   "metadata": {
    "collapsed": false
   },
   "outputs": [],
   "source": [
    "eth0 = netifaces.ifaddresses('eth0')\n",
    "for i in eth0:\n",
    "    if '192' in eth0[i][0]['addr']:\n",
    "        print eth0[i][0]['addr']"
   ]
  },
  {
   "cell_type": "code",
   "execution_count": 0,
   "metadata": {
    "collapsed": false
   },
   "outputs": [],
   "source": [
    "!$clush_nob ps aux | grep bowtie"
   ]
  },
  {
   "cell_type": "code",
   "execution_count": 0,
   "metadata": {
    "collapsed": false
   },
   "outputs": [],
   "source": [
    "!$clush_nob pkill -9 bowtie2"
   ]
  },
  {
   "cell_type": "code",
   "execution_count": 0,
   "metadata": {
    "collapsed": false
   },
   "outputs": [],
   "source": [
    "!$clush_nob pkill -9 bcftools"
   ]
  },
  {
   "cell_type": "code",
   "execution_count": 0,
   "metadata": {
    "collapsed": true
   },
   "outputs": [],
   "source": []
  }
 ],
 "metadata": {
  "kernelspec": {
   "display_name": "Python 2",
   "language": "python",
   "name": "python2"
  },
  "language_info": {
   "codemirror_mode": {
    "name": "ipython",
    "version": 2
   },
   "file_extension": ".py",
   "mimetype": "text/x-python",
   "name": "python",
   "nbconvert_exporter": "python",
   "pygments_lexer": "ipython2",
   "version": "2.7.9"
  }
 },
 "nbformat": 4,
 "nbformat_minor": 0
}

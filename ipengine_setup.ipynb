{
 "cells": [
  {
   "cell_type": "code",
   "execution_count": 0,
   "metadata": {
    "ExecuteTime": {},
    "collapsed": true
   },
   "outputs": [],
   "source": [
    "import os\n",
    "from ipyparallel import Client"
   ]
  },
  {
   "cell_type": "code",
   "execution_count": 0,
   "metadata": {
    "ExecuteTime": {},
    "collapsed": true
   },
   "outputs": [],
   "source": [
    "qhost = !qhost | grep godel"
   ]
  },
  {
   "cell_type": "code",
   "execution_count": 0,
   "metadata": {
    "ExecuteTime": {},
    "collapsed": false
   },
   "outputs": [],
   "source": [
    "hosts = [x.split()[0] for x in qhost]\n"
   ]
  },
  {
   "cell_type": "code",
   "execution_count": 0,
   "metadata": {
    "ExecuteTime": {},
    "collapsed": true
   },
   "outputs": [],
   "source": [
    "outdir = \"/home/cfriedline/ipython/\""
   ]
  },
  {
   "cell_type": "code",
   "execution_count": 0,
   "metadata": {
    "ExecuteTime": {},
    "collapsed": false
   },
   "outputs": [],
   "source": [
    "cpus = [int(x.split()[2]) for x in qhost]"
   ]
  },
  {
   "cell_type": "code",
   "execution_count": 0,
   "metadata": {
    "ExecuteTime": {},
    "collapsed": false
   },
   "outputs": [],
   "source": [
    "for i, h in enumerate(hosts):\n",
    "    q = os.path.join(outdir, \"{}.q\".format(h))\n",
    "    queue = \"all.q\"\n",
    "    if 'godel97' in h or 'godel96' in h:\n",
    "        queue = \"godel199\"\n",
    "    cpu = int(cpus[i]/3)\n",
    "    with open(q, \"w\") as o:\n",
    "        o.write(\"\"\"\n",
    "#$ -S /bin/bash\n",
    "#$ -V\n",
    "#$ -cwd\n",
    "#$ -N ipengine\n",
    "#$ -q {}@{}\n",
    "pkill -9 ipengine\n",
    "parallel \"ipengine --profile=sge\" ::: {{1..{}}}\n",
    "\"\"\".format(queue, h, cpu))"
   ]
  },
  {
   "cell_type": "code",
   "execution_count": 0,
   "metadata": {
    "ExecuteTime": {},
    "collapsed": false
   },
   "outputs": [],
   "source": [
    "rc = Client(profile=\"sge\")"
   ]
  },
  {
   "cell_type": "code",
   "execution_count": 0,
   "metadata": {
    "ExecuteTime": {},
    "collapsed": false
   },
   "outputs": [],
   "source": [
    "dv = rc[:]\n",
    "lv = rc.load_balanced_view()\n",
    "len(dv)"
   ]
  },
  {
   "cell_type": "code",
   "execution_count": 0,
   "metadata": {
    "ExecuteTime": {},
    "collapsed": false
   },
   "outputs": [],
   "source": [
    "conda_list = !conda list"
   ]
  },
  {
   "cell_type": "code",
   "execution_count": 0,
   "metadata": {
    "ExecuteTime": {},
    "collapsed": false
   },
   "outputs": [],
   "source": [
    "for x in conda_list:\n",
    "    y = x.split()\n",
    "    if 'jupyter' in y[0] or 'notebook' in y[0] or y[0].startswith(\"ipy\"):\n",
    "        print(x)"
   ]
  },
  {
   "cell_type": "code",
   "execution_count": 0,
   "metadata": {
    "collapsed": true
   },
   "outputs": [],
   "source": []
  }
 ],
 "metadata": {
  "kernelspec": {
   "display_name": "Python 3",
   "language": "python",
   "name": "python3"
  },
  "language_info": {
   "codemirror_mode": {
    "name": "ipython",
    "version": 3
   },
   "file_extension": ".py",
   "mimetype": "text/x-python",
   "name": "python",
   "nbconvert_exporter": "python",
   "pygments_lexer": "ipython3",
   "version": "3.5.2"
  }
 },
 "nbformat": 4,
 "nbformat_minor": 0
}

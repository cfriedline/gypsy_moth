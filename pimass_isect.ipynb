{
 "cells": [
  {
   "cell_type": "code",
   "execution_count": 0,
   "metadata": {
    "collapsed": false
   },
   "outputs": [],
   "source": [
    "import scandir\n",
    "import os\n",
    "import rpy2\n",
    "from rpy2.robjects import pandas2ri\n",
    "pandas2ri.activate()\n",
    "import rpy2.robjects as ro\n",
    "import pandas as pd\n",
    "import matplotlib.pyplot as plt\n",
    "%matplotlib inline\n",
    "import seaborn as sns\n",
    "import numpy as np\n",
    "import scipy as sp\n",
    "import dill\n",
    "import random\n",
    "import cyvcf\n",
    "from hdfstorehelper import HDFStoreHelper\n",
    "import statsmodels.api as sm\n",
    "import statsmodels.formula.api as smf\n",
    "import operator\n",
    "import traceback\n",
    "%load_ext rpy2.ipython\n",
    "r = ro.r"
   ]
  },
  {
   "cell_type": "code",
   "execution_count": 0,
   "metadata": {
    "collapsed": true
   },
   "outputs": [],
   "source": [
    "analysis_dir_imputed = \"/home/cfriedline/eckertlab/gypsy_indiv/masked/analysis/samtools1.2_no_otis/beagle40/\"\n",
    "snp_file_gz_imputed = \"isect.vcf.gz.sorted.gz\"\n",
    "\n",
    "analysis_dir_notimputed = \"/home/cfriedline/eckertlab/gypsy_indiv/masked/analysis/samtools1.2_no_otis/notimputed/\"\n",
    "snp_file_gz_notimputed = \"isect.vcf.gz.sorted.gz\"\n",
    "\n",
    "hdf_notimputed = HDFStoreHelper(os.path.join(analysis_dir_notimputed, \"isect.hd5\"))\n",
    "hdf_all_notimputed = HDFStoreHelper(os.path.join(analysis_dir_notimputed, \"gypsy_samtools12.vcf.gz.hd5\"))\n",
    "hdf_imputed = HDFStoreHelper(os.path.join(analysis_dir_imputed, \"isect.hd5\"))\n",
    "hdf_all_imputed = HDFStoreHelper(os.path.join(analysis_dir_imputed, \"gypsy_samtools12_imputed40.vcf.gz.hd5\"))"
   ]
  },
  {
   "cell_type": "code",
   "execution_count": 0,
   "metadata": {
    "collapsed": false
   },
   "outputs": [],
   "source": [
    "hdf_imputed.get_group_names()"
   ]
  },
  {
   "cell_type": "code",
   "execution_count": 0,
   "metadata": {
    "collapsed": false
   },
   "outputs": [],
   "source": [
    "hdf_notimputed.get_group_names() == hdf_imputed.get_group_names()"
   ]
  },
  {
   "cell_type": "code",
   "execution_count": 0,
   "metadata": {
    "collapsed": false
   },
   "outputs": [],
   "source": [
    "sig_mass_notimp = hdf_notimputed.get('sig_snps_mass')\n",
    "sig_mass_imp = hdf_imputed.get('sig_snps_mass')\n",
    "\n",
    "sig_tdt_notimp = hdf_notimputed.get('sig_snps_tdt')\n",
    "sig_tdt_imp = hdf_imputed.get('sig_snps_tdt')\n",
    "\n",
    "sig_pd_notimp = hdf_notimputed.get('sig_snps_pd')\n",
    "sig_pd_imp = hdf_imputed.get('sig_snps_pd')"
   ]
  },
  {
   "cell_type": "code",
   "execution_count": 0,
   "metadata": {
    "collapsed": true
   },
   "outputs": [],
   "source": [
    "relaxed_sig_mass_notimp = hdf_notimputed.get('relaxed_sig_snps_mass')\n",
    "relaxed_sig_mass_imp = hdf_imputed.get('relaxed_sig_snps_mass')\n",
    "\n",
    "relaxed_sig_tdt_notimp = hdf_notimputed.get('relaxed_sig_snps_tdt')\n",
    "relaxed_sig_tdt_imp = hdf_imputed.get('relaxed_sig_snps_tdt')\n",
    "\n",
    "relaxed_sig_pd_notimp = hdf_notimputed.get('relaxed_sig_snps_pd')\n",
    "relaxed_sig_pd_imp = hdf_imputed.get('relaxed_sig_snps_pd')"
   ]
  },
  {
   "cell_type": "code",
   "execution_count": 0,
   "metadata": {
    "collapsed": false
   },
   "outputs": [],
   "source": [
    "sig_mass_imp"
   ]
  },
  {
   "cell_type": "code",
   "execution_count": 0,
   "metadata": {
    "collapsed": false
   },
   "outputs": [],
   "source": [
    "sig_mass_isect = set(sig_mass_notimp.rs.values).intersection(set(sig_mass_imp.rs.values))\n",
    "sig_tdt_isect = set(sig_tdt_notimp.rs.values).intersection(set(sig_tdt_imp.rs.values))\n",
    "sig_pd_isect = set(sig_pd_notimp.rs.values).intersection(set(sig_pd_imp.rs.values))\n",
    "\n",
    "relaxed_sig_mass_isect = set(relaxed_sig_mass_notimp.rs.values).intersection(set(relaxed_sig_mass_imp.rs.values))\n",
    "relaxed_sig_tdt_isect = set(relaxed_sig_tdt_notimp.rs.values).intersection(set(relaxed_sig_tdt_imp.rs.values))\n",
    "relaxed_sig_pd_isect = set(relaxed_sig_pd_notimp.rs.values).intersection(set(relaxed_sig_pd_imp.rs.values))"
   ]
  },
  {
   "cell_type": "code",
   "execution_count": 0,
   "metadata": {
    "collapsed": false
   },
   "outputs": [],
   "source": [
    "[len(x) for x in [sig_mass_isect, \n",
    "                 sig_tdt_isect,\n",
    "                 sig_pd_isect]]"
   ]
  },
  {
   "cell_type": "code",
   "execution_count": 0,
   "metadata": {
    "collapsed": false
   },
   "outputs": [],
   "source": [
    "[len(x) for x in [relaxed_sig_mass_isect, \n",
    "                 relaxed_sig_tdt_isect,\n",
    "                 relaxed_sig_pd_isect]]"
   ]
  },
  {
   "cell_type": "code",
   "execution_count": 0,
   "metadata": {
    "collapsed": false
   },
   "outputs": [],
   "source": [
    "test = list(relaxed_sig_mass_isect)[0]\n",
    "print test"
   ]
  },
  {
   "cell_type": "code",
   "execution_count": 0,
   "metadata": {
    "collapsed": false
   },
   "outputs": [],
   "source": [
    "relaxed_sig_mass_imp.ix[relaxed_sig_mass_imp.rs == test]"
   ]
  },
  {
   "cell_type": "code",
   "execution_count": 0,
   "metadata": {
    "collapsed": false
   },
   "outputs": [],
   "source": [
    "relaxed_sig_mass_notimp.ix[relaxed_sig_mass_notimp.rs == test]"
   ]
  },
  {
   "cell_type": "code",
   "execution_count": 0,
   "metadata": {
    "collapsed": false
   },
   "outputs": [],
   "source": [
    "hdf_imputed.get('mcmc_pd_hmean').shape"
   ]
  },
  {
   "cell_type": "code",
   "execution_count": 0,
   "metadata": {
    "collapsed": false
   },
   "outputs": [],
   "source": [
    "plt.scatter(hdf_imputed.get('mcmc_mass_hmean').postrb_hmean,hdf_notimputed.get('mcmc_mass_hmean').postrb_hmean)\n",
    "plt.xlabel(\"imputed\")\n",
    "plt.ylabel(\"notimputed\")\n",
    "plt.show()\n",
    "\n",
    "plt.scatter(hdf_imputed.get('mcmc_tdt_hmean').postrb_hmean,hdf_notimputed.get('mcmc_tdt_hmean').postrb_hmean)\n",
    "plt.xlabel(\"imputed\")\n",
    "plt.ylabel(\"notimputed\")\n",
    "plt.show()\n",
    "\n",
    "plt.scatter(hdf_imputed.get('mcmc_pd_hmean').postrb_hmean,hdf_notimputed.get('mcmc_pd_hmean').postrb_hmean)\n",
    "plt.xlabel(\"imputed\")\n",
    "plt.ylabel(\"notimputed\")\n",
    "plt.show()"
   ]
  },
  {
   "cell_type": "code",
   "execution_count": 0,
   "metadata": {
    "collapsed": false
   },
   "outputs": [],
   "source": [
    "plt.scatter(hdf_imputed.get('mcmc_mass_hmean').betarb_hmean,hdf_notimputed.get('mcmc_mass_hmean').betarb_hmean)\n",
    "plt.xlabel(\"imputed\")\n",
    "plt.ylabel(\"notimputed\")\n",
    "plt.show()\n",
    "\n",
    "plt.scatter(hdf_imputed.get('mcmc_tdt_hmean').betarb_hmean,hdf_notimputed.get('mcmc_tdt_hmean').betarb_hmean)\n",
    "plt.xlabel(\"imputed\")\n",
    "plt.ylabel(\"notimputed\")\n",
    "plt.show()\n",
    "\n",
    "plt.scatter(hdf_imputed.get('mcmc_pd_hmean').betarb_hmean,hdf_notimputed.get('mcmc_pd_hmean').betarb_hmean)\n",
    "plt.xlabel(\"imputed\")\n",
    "plt.ylabel(\"notimputed\")\n",
    "plt.show()"
   ]
  },
  {
   "cell_type": "code",
   "execution_count": 0,
   "metadata": {
    "collapsed": false
   },
   "outputs": [],
   "source": [
    "pimass_gt_imp = hdf_imputed.get('pimass_gt')\n",
    "pimass_gt_notimp = hdf_notimputed.get('pimass_gt')\n",
    "pimass_gt_notimp = pimass_gt_notimp.replace(\"NA\", np.nan)"
   ]
  },
  {
   "cell_type": "code",
   "execution_count": 0,
   "metadata": {
    "collapsed": false
   },
   "outputs": [],
   "source": [
    "pimass_gt_imp.ix[:,2:] = pimass_gt_imp.ix[:,2:].astype(float)\n",
    "pimass_gt_notimp.ix[:,2:] = pimass_gt_notimp.ix[:,2:].astype(float)"
   ]
  },
  {
   "cell_type": "code",
   "execution_count": 0,
   "metadata": {
    "collapsed": false,
    "run_control": {
     "marked": false
    }
   },
   "outputs": [],
   "source": [
    "coefs = []\n",
    "for i in xrange(len(pimass_gt_imp)):\n",
    "    df = pd.DataFrame([pimass_gt_imp.ix[i,2:],pimass_gt_notimp.ix[i,2:]]).dropna(axis=1)\n",
    "    coefs.append(np.corrcoef(df.ix[0,:], df.ix[1,:])[0,1])\n",
    "    if i % 1000 == 0:\n",
    "        print i"
   ]
  },
  {
   "cell_type": "code",
   "execution_count": 0,
   "metadata": {
    "collapsed": false
   },
   "outputs": [],
   "source": [
    "plt.hist(coefs)\n",
    "plt.show()"
   ]
  },
  {
   "cell_type": "code",
   "execution_count": 0,
   "metadata": {
    "collapsed": false
   },
   "outputs": [],
   "source": [
    "total = 0\n",
    "for i, elem in enumerate(coefs):\n",
    "    if elem < 0:\n",
    "        total += 1\n",
    "        print i, elem\n",
    "print total"
   ]
  },
  {
   "cell_type": "code",
   "execution_count": 0,
   "metadata": {
    "collapsed": true
   },
   "outputs": [],
   "source": []
  }
 ],
 "metadata": {
  "kernelspec": {
   "display_name": "Python 2",
   "language": "python",
   "name": "python2"
  },
  "language_info": {
   "codemirror_mode": {
    "name": "ipython",
    "version": 2
   },
   "file_extension": ".py",
   "mimetype": "text/x-python",
   "name": "python",
   "nbconvert_exporter": "python",
   "pygments_lexer": "ipython2",
   "version": "2.7.10"
  }
 },
 "nbformat": 4,
 "nbformat_minor": 0
}

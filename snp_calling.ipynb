{
 "metadata": {
  "name": "",
  "signature": "sha256:3d0b17681f115804f8092a2717ce9f394caf673603d100a85ae22db42dbc6cb6"
 },
 "nbformat": 3,
 "nbformat_minor": 0,
 "worksheets": [
  {
   "cells": [
    {
     "cell_type": "code",
     "collapsed": false,
     "input": [
      "import os, sys\n",
      "from IPython.parallel import Client"
     ],
     "language": "python",
     "metadata": {},
     "outputs": [],
     "prompt_number": ""
    },
    {
     "cell_type": "code",
     "collapsed": false,
     "input": [
      "rc = Client()\n",
      "dview = rc[:]\n",
      "lview = rc.load_balanced_view()"
     ],
     "language": "python",
     "metadata": {},
     "outputs": [],
     "prompt_number": ""
    },
    {
     "cell_type": "code",
     "collapsed": false,
     "input": [
      "@lview.remote()\n",
      "def call_snps(args):\n",
      "    import socket\n",
      "    print socket.gethostname()\n",
      "    samtools = \"/home/cfriedline/data7/src/samtools-0.1.19/samtools\"\n",
      "    bcftools = \"/home/cfriedline/data7/src/samtools-0.1.19/bcftools/bcftools\"\n",
      "    vcfutils = \"/home/cfriedline/data7/src/samtools-0.1.19/bcftools/vcfutils.pl\"\n",
      "    timer = stopwatch.Timer()\n",
      "    reference, bam_sorted, raw_bcf, ploidy_file, out_dir = args \n",
      "    if not out_dir:\n",
      "        out_dir = os.environ['TMPDIR']\n",
      "    raw_bcf = os.path.join(out_dir, raw_bcf)\n",
      "    raw_vcf = os.path.join(out_dir, raw_bcf.replace(\"bcf\", \"vcf\"))\n",
      "    pileup = \"%s mpileup -uf %s %s | %s view -s %s -bvcg - > %s\" % (samtools, reference, ' '.join(bam_sorted), bcftools, ploidy_file, raw_bcf) \n",
      "    view_filter = \"%s view -s %s %s | %s varFilter -D100 > %s\" % (bcftools, ploidy_file, raw_bcf, vcfutils, raw_vcf)\n",
      "    print pileup\n",
      "    !$pileup\n",
      "    print view_filter\n",
      "    !$view_filter\n",
      "    timer.stop()\n",
      "    return raw_vcf, args, pileup, view_filter, timer.elapsed"
     ],
     "language": "python",
     "metadata": {},
     "outputs": [],
     "prompt_number": ""
    },
    {
     "cell_type": "code",
     "collapsed": false,
     "input": [
      "cd \"~/eckertlab/gypsy_indiv/\""
     ],
     "language": "python",
     "metadata": {},
     "outputs": [],
     "prompt_number": ""
    },
    {
     "cell_type": "code",
     "collapsed": false,
     "input": [
      "bam_files = !find . -type f | grep 'sorted.bam$'\n",
      "bam_files = sorted([os.path.abspath(x) for x in bam_files])"
     ],
     "language": "python",
     "metadata": {},
     "outputs": [],
     "prompt_number": ""
    },
    {
     "cell_type": "code",
     "collapsed": false,
     "input": [
      "ploidy_file = \"gypsy.ploidy\"\n",
      "with open(ploidy_file, \"w\") as o:\n",
      "    for f in bam_files:\n",
      "        o.write(\"%s\\t2\\n\" % f)"
     ],
     "language": "python",
     "metadata": {},
     "outputs": [],
     "prompt_number": ""
    },
    {
     "cell_type": "code",
     "collapsed": false,
     "input": [
      "reference = \"/home/cfriedline/data7/assemblies/gypsy/masurca/CA/10-gapclose/genome.ctg.fasta\"\n",
      "out_dir = \"/home/cfriedline/eckertlab/gypsy_indiv/\"\n",
      "raw_bcf = \"gypsy.raw.bcf\"\n",
      "ploidy_file = os.path.abspath(ploidy_file)\n",
      "snp_job = call_snps((reference, bam_files, raw_bcf, ploidy_file, out_dir))"
     ],
     "language": "python",
     "metadata": {},
     "outputs": [],
     "prompt_number": ""
    },
    {
     "cell_type": "code",
     "collapsed": false,
     "input": [
      "snp_job.stdout.split(\"\\n\")[2:]"
     ],
     "language": "python",
     "metadata": {},
     "outputs": [],
     "prompt_number": ""
    },
    {
     "cell_type": "code",
     "collapsed": false,
     "input": [],
     "language": "python",
     "metadata": {},
     "outputs": []
    }
   ],
   "metadata": {}
  }
 ]
}
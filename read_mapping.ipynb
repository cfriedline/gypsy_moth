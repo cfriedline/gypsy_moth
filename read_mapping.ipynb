{
 "metadata": {
  "name": "",
  "signature": "sha256:1ac7a09623b7cbd72511e2056f40747b94464e481fc0552cda71a9de5e2f2983"
 },
 "nbformat": 3,
 "nbformat_minor": 0,
 "worksheets": [
  {
   "cells": [
    {
     "cell_type": "code",
     "collapsed": false,
     "input": [
      "import os, sys\n",
      "from IPython.parallel import Client"
     ],
     "language": "python",
     "metadata": {},
     "outputs": [],
     "prompt_number": ""
    },
    {
     "cell_type": "code",
     "collapsed": false,
     "input": [
      "cd ~/eckertlab/gypsy_indiv/I1/"
     ],
     "language": "python",
     "metadata": {},
     "outputs": [],
     "prompt_number": ""
    },
    {
     "cell_type": "code",
     "collapsed": false,
     "input": [
      "fastq_files = !find . -type f | grep fastq\n",
      "fastq_files = [os.path.abspath(x) for x in fastq_files]"
     ],
     "language": "python",
     "metadata": {},
     "outputs": [],
     "prompt_number": ""
    },
    {
     "cell_type": "code",
     "collapsed": false,
     "input": [
      "rc = Client()\n",
      "dview = rc[:]\n",
      "lview = rc.load_balanced_view()"
     ],
     "language": "python",
     "metadata": {},
     "outputs": [],
     "prompt_number": ""
    },
    {
     "cell_type": "code",
     "collapsed": false,
     "input": [
      "assembly = \"/home/cfriedline/data7/assemblies/gypsy/masurca/CA/10-gapclose/genome.ctg.fasta\""
     ],
     "language": "python",
     "metadata": {},
     "outputs": [],
     "prompt_number": ""
    },
    {
     "cell_type": "code",
     "collapsed": false,
     "input": [
      "!/home/cfriedline/data7/src/bowtie2-2.2.2/bowtie2-build -f $assembly $assembly"
     ],
     "language": "python",
     "metadata": {},
     "outputs": []
    },
    {
     "cell_type": "code",
     "collapsed": false,
     "input": [
      "# @lview.remote()\n",
      "def run_bowtie2(args):\n",
      "    import stopwatch, multiprocessing\n",
      "    timer = stopwatch.Timer()\n",
      "    cpus = multiprocessing.cpu_count()\n",
      "    assembly, reads = args\n",
      "    sam = \"%s.sam\" % reads\n",
      "    print \"/home/cfriedline/data7/src/bowtie2-2.2.2/bowtie2 --local --very-sensitive-local -p %d -x %s -U %s -S %s\" % (cpus, assembly, reads, sam)\n",
      "    #!/home/cfriedline/data7/src/bowtie2-2.2.2/bowtie2 --local --very-sensitive-local -p $cpus -x $prefix -U $reads -S $sam\n",
      "    timer.stop()\n",
      "    return prefix, sam, timer.elapsed"
     ],
     "language": "python",
     "metadata": {},
     "outputs": []
    },
    {
     "cell_type": "code",
     "collapsed": false,
     "input": [],
     "language": "python",
     "metadata": {},
     "outputs": []
    }
   ],
   "metadata": {}
  }
 ]
}
{
 "cells": [
  {
   "cell_type": "code",
   "execution_count": "",
   "metadata": {
    "collapsed": false
   },
   "outputs": [],
   "source": [
    "from hdfstorehelper import HDFStoreHelper\n",
    "import pandas\n",
    "%load_ext autoreload\n",
    "%autoreload 2\n",
    "import numbers\n",
    "from IPython.display import FileLink"
   ]
  },
  {
   "cell_type": "code",
   "execution_count": "",
   "metadata": {
    "collapsed": false
   },
   "outputs": [],
   "source": [
    "h5 = HDFStoreHelper(\"store.h5\")"
   ]
  },
  {
   "cell_type": "code",
   "execution_count": "",
   "metadata": {
    "collapsed": false
   },
   "outputs": [],
   "source": [
    "pca_data = h5.get(\"pca_data\")"
   ]
  },
  {
   "cell_type": "code",
   "execution_count": "",
   "metadata": {
    "collapsed": false
   },
   "outputs": [],
   "source": [
    "pheno = h5.get(\"pheno\")"
   ]
  },
  {
   "cell_type": "code",
   "execution_count": "",
   "metadata": {
    "collapsed": false
   },
   "outputs": [],
   "source": [
    "pca_pheno = pandas.concat([pca_data, pheno], axis=1)"
   ]
  },
  {
   "cell_type": "code",
   "execution_count": "",
   "metadata": {
    "collapsed": false
   },
   "outputs": [],
   "source": [
    "pca_nonref_pheno = pca_pheno[pca_pheno.Mass >0]"
   ]
  },
  {
   "cell_type": "code",
   "execution_count": "",
   "metadata": {
    "collapsed": false
   },
   "outputs": [],
   "source": [
    "pca_nonref_pheno.to_csv(\"pca_nonref_pheno.txt\", header=True, index=True, sep=\",\")"
   ]
  },
  {
   "cell_type": "code",
   "execution_count": "",
   "metadata": {
    "collapsed": false
   },
   "outputs": [],
   "source": [
    "FileLink(\"pca_nonref_pheno.txt\")"
   ]
  },
  {
   "cell_type": "code",
   "execution_count": "",
   "metadata": {
    "collapsed": false
   },
   "outputs": [],
   "source": []
  }
 ],
 "metadata": {
  "kernelspec": {
   "display_name": "Python 2",
   "language": "python",
   "name": "python2"
  },
  "language_info": {
   "codemirror_mode": {
    "name": "ipython",
    "version": 2
   },
   "file_extension": ".py",
   "mimetype": "text/x-python",
   "name": "python",
   "nbconvert_exporter": "python",
   "pygments_lexer": "ipython2",
   "version": "2.7.9"
  }
 },
 "nbformat": 4,
 "nbformat_minor": 0
}
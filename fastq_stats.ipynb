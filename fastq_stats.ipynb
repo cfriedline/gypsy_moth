{
 "cells": [
  {
   "cell_type": "code",
   "execution_count": 0,
   "metadata": {
    "ExecuteTime": {
     "end_time": "2016-03-30T15:11:12.167625",
     "start_time": "2016-03-30T15:11:12.161331"
    },
    "collapsed": true
   },
   "outputs": [],
   "source": [
    "import pandas as pd\n",
    "import os\n",
    "import sys\n",
    "import numpy as np\n",
    "import scipy as sp\n",
    "import pickle\n",
    "from IPython.display import FileLink"
   ]
  },
  {
   "cell_type": "code",
   "execution_count": 0,
   "metadata": {
    "ExecuteTime": {
     "end_time": "2016-03-30T14:56:35.103640",
     "start_time": "2016-03-30T14:56:35.052061"
    },
    "collapsed": false
   },
   "outputs": [],
   "source": [
    "translation_df = pd.read_csv(\"translation_table.csv\", sep=\"\\t\", index_col=0)\n",
    "def get_translated_name(n):\n",
    "    row = translation_df.ix[n.strip()]\n",
    "    return \"%s_%d_%d\" % (row['pop'], row.indiv, row.dup)"
   ]
  },
  {
   "cell_type": "code",
   "execution_count": 0,
   "metadata": {
    "ExecuteTime": {
     "end_time": "2016-03-30T14:56:40.194368",
     "start_time": "2016-03-30T14:56:39.995086"
    },
    "collapsed": false
   },
   "outputs": [],
   "source": [
    "translation_df"
   ]
  },
  {
   "cell_type": "code",
   "execution_count": 0,
   "metadata": {
    "ExecuteTime": {
     "end_time": "2016-03-30T14:57:46.715587",
     "start_time": "2016-03-30T14:57:46.704818"
    },
    "collapsed": true
   },
   "outputs": [],
   "source": [
    "with open(\"/gpfs_fs/home/eckertlab/gypsy_indiv/raw_demult/bowtie_results.pkl\", \"rb\") as r:\n",
    "    bowtie_results = pickle.load(r)"
   ]
  },
  {
   "cell_type": "code",
   "execution_count": 0,
   "metadata": {
    "ExecuteTime": {
     "end_time": "2016-03-30T15:08:18.324601",
     "start_time": "2016-03-30T15:08:18.204341"
    },
    "collapsed": false,
    "scrolled": false
   },
   "outputs": [],
   "source": [
    "overall = []\n",
    "pop_mapping = {}\n",
    "pop_reads = {}\n",
    "for r in bowtie_results:\n",
    "    sam = r[1]\n",
    "    sample = os.path.basename(sam).split(\".\")[0]\n",
    "    name = get_translated_name(sample)\n",
    "    popn = name.split(\"_\")[0]\n",
    "    res = r[-1]\n",
    "    perc = float(res[-1].split(\"%\")[0])\n",
    "    reads = float(res[0].split()[0])\n",
    "    overall.append(perc)\n",
    "    if not popn in pop_mapping:\n",
    "        pop_mapping[popn] = []\n",
    "        pop_reads[popn] = []\n",
    "    pop_mapping[popn].append(perc)\n",
    "    pop_reads[popn].append(reads)"
   ]
  },
  {
   "cell_type": "code",
   "execution_count": 0,
   "metadata": {
    "ExecuteTime": {
     "end_time": "2016-03-30T15:08:20.627213",
     "start_time": "2016-03-30T15:08:20.601491"
    },
    "collapsed": false
   },
   "outputs": [],
   "source": [
    "pd.Series(overall).describe()"
   ]
  },
  {
   "cell_type": "code",
   "execution_count": 0,
   "metadata": {
    "ExecuteTime": {
     "end_time": "2016-03-30T15:09:36.602963",
     "start_time": "2016-03-30T15:09:36.534218"
    },
    "collapsed": false
   },
   "outputs": [],
   "source": [
    "overall_mapping = {}\n",
    "overall_reads = {}\n",
    "for p in pop_mapping:\n",
    "    print(p)\n",
    "    overall_mapping[p] = pd.Series(pop_mapping[p]).describe()\n",
    "    overall_reads[p] = pd.Series(pop_reads[p]).describe()"
   ]
  },
  {
   "cell_type": "code",
   "execution_count": 0,
   "metadata": {
    "ExecuteTime": {
     "end_time": "2016-03-30T15:09:51.312619",
     "start_time": "2016-03-30T15:09:51.303330"
    },
    "collapsed": false
   },
   "outputs": [],
   "source": [
    "mapping_df = pd.DataFrame(overall_mapping).T.sort_index()\n",
    "reads_df = pd.DataFrame(overall_reads).T.sort_index()"
   ]
  },
  {
   "cell_type": "code",
   "execution_count": 0,
   "metadata": {
    "ExecuteTime": {
     "end_time": "2016-03-30T15:09:03.449334",
     "start_time": "2016-03-30T15:09:03.381579"
    },
    "collapsed": false
   },
   "outputs": [],
   "source": [
    "mapping_df"
   ]
  },
  {
   "cell_type": "code",
   "execution_count": 0,
   "metadata": {
    "ExecuteTime": {
     "end_time": "2016-03-30T15:09:54.885234",
     "start_time": "2016-03-30T15:09:54.811229"
    },
    "collapsed": false
   },
   "outputs": [],
   "source": [
    "reads_df"
   ]
  },
  {
   "cell_type": "code",
   "execution_count": 0,
   "metadata": {
    "ExecuteTime": {
     "end_time": "2016-03-30T15:10:54.800839",
     "start_time": "2016-03-30T15:10:54.794685"
    },
    "collapsed": false
   },
   "outputs": [],
   "source": [
    "stats = reads_df.join(mapping_df, lsuffix=\"_reads\", rsuffix=\"_mapping\")"
   ]
  },
  {
   "cell_type": "code",
   "execution_count": 0,
   "metadata": {
    "ExecuteTime": {
     "end_time": "2016-03-30T15:10:57.704420",
     "start_time": "2016-03-30T15:10:57.658046"
    },
    "collapsed": false
   },
   "outputs": [],
   "source": [
    "stats"
   ]
  },
  {
   "cell_type": "code",
   "execution_count": 0,
   "metadata": {
    "ExecuteTime": {
     "end_time": "2016-03-30T15:11:54.126195",
     "start_time": "2016-03-30T15:11:51.013051"
    },
    "collapsed": false
   },
   "outputs": [],
   "source": [
    "out = \"fastq_stats.xlsx\"\n",
    "stats.to_excel(out)\n",
    "FileLink(out)"
   ]
  },
  {
   "cell_type": "code",
   "execution_count": 0,
   "metadata": {
    "collapsed": true
   },
   "outputs": [],
   "source": []
  }
 ],
 "metadata": {
  "kernelspec": {
   "display_name": "Python 3",
   "language": "python",
   "name": "python3"
  },
  "language_info": {
   "codemirror_mode": {
    "name": "ipython",
    "version": 3
   },
   "file_extension": ".py",
   "mimetype": "text/x-python",
   "name": "python",
   "nbconvert_exporter": "python",
   "pygments_lexer": "ipython3",
   "version": "3.4.4"
  }
 },
 "nbformat": 4,
 "nbformat_minor": 0
}

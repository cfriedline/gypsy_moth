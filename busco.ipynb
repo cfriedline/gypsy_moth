{
 "cells": [
  {
   "cell_type": "markdown",
   "metadata": {},
   "source": [
    "## Setup\n",
    "\n",
    "Build docker image from http://www.github.com/cfriedline/docker-busco.  \n",
    "\n",
    "Currently, this is `Docker version 1.9.1, build a34a1d5` running on Mac OS X 10.11 with VirtualBox 5.10\n",
    "\n",
    "## Run against *Aedes aegypti*\n",
    "\n",
    "```\n",
    "docker run -d \\\n",
    "-v /Users/chris/Downloads:/input \\\n",
    "-v /Users/chris/Downloads:/results \\\n",
    "cfriedline/busco \\\n",
    "python3 /busco/BUSCO_v1.1b1/BUSCO_v1.1b1.py \\\n",
    "-o gm_aedes \\\n",
    "-in /input/genome.ctg.fasta \\\n",
    "-l /busco/arthropoda \\\n",
    "-m genome \\\n",
    "-c 8 \\\n",
    "-e 0.001 \\\n",
    "-f \\\n",
    "-sp aedes\n",
    "```\n",
    "\n",
    "## Run against *Heliconius melpomene*\n",
    "\n",
    "\n",
    "```\n",
    "docker run -d \\\n",
    "-v /Users/chris/Downloads:/input \\\n",
    "-v /Users/chris/Downloads:/results \\\n",
    "cfriedline/busco \\\n",
    "python3 /busco/BUSCO_v1.1b1/BUSCO_v1.1b1.py \\\n",
    "-o gm_heliconius \\\n",
    "-in /input/genome.ctg.fasta \\\n",
    "-l /busco/arthropoda \\\n",
    "-m genome \\\n",
    "-c 8 \\\n",
    "-e 0.001 \\\n",
    "-f \\\n",
    "-sp heliconius_melpomene1\n",
    "```\n",
    "\n",
    "## Run against *Drosophila melanogaster*\n",
    "\n",
    "\n",
    "```\n",
    "docker run -d \\\n",
    "-v /Users/chris/Downloads:/input \\\n",
    "-v /Users/chris/Downloads:/results \\\n",
    "cfriedline/busco \\\n",
    "python3 /busco/BUSCO_v1.1b1/BUSCO_v1.1b1.py \\\n",
    "-o gm_dros \\\n",
    "-in /input/genome.ctg.fasta \\\n",
    "-l /busco/arthropoda \\\n",
    "-m genome \\\n",
    "-c 8 \\\n",
    "-e 0.001 \\\n",
    "-f \\\n",
    "-sp fly\n",
    "```"
   ]
  },
  {
   "cell_type": "code",
   "execution_count": 0,
   "metadata": {
    "collapsed": true
   },
   "outputs": [],
   "source": []
  }
 ],
 "metadata": {
  "kernelspec": {
   "display_name": "Python 3",
   "language": "python",
   "name": "python3"
  },
  "language_info": {
   "codemirror_mode": {
    "name": "ipython",
    "version": 3
   },
   "file_extension": ".py",
   "mimetype": "text/x-python",
   "name": "python",
   "nbconvert_exporter": "python",
   "pygments_lexer": "ipython3",
   "version": "3.4.3"
  }
 },
 "nbformat": 4,
 "nbformat_minor": 0
}

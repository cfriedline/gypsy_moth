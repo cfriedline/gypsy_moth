{
 "cells": [
  {
   "cell_type": "code",
   "execution_count": 0,
   "metadata": {
    "collapsed": false
   },
   "outputs": [],
   "source": [
    "import pandas as pd\n",
    "import seaborn as sns\n",
    "%matplotlib inline\n",
    "from array import array\n",
    "import matplotlib.pyplot as plt\n",
    "import numpy as np"
   ]
  },
  {
   "cell_type": "code",
   "execution_count": 0,
   "metadata": {
    "collapsed": true
   },
   "outputs": [],
   "source": [
    "sns.set_context(\"talk\")"
   ]
  },
  {
   "cell_type": "code",
   "execution_count": 0,
   "metadata": {
    "collapsed": false
   },
   "outputs": [],
   "source": [
    "cd /gpfs_fs/home/eckertlab/gypsy_indiv/masked/analysis/samtools1.2_no_otis/beagle40/"
   ]
  },
  {
   "cell_type": "markdown",
   "metadata": {},
   "source": [
    "## Compute pairwise LD \n",
    "\n",
    "```bash\n",
    "vcftools --gzvcf isect.vcf.gz.sorted.gz --interchrom-hap-r2  --out isect.vcf.gz.sorted.gz\n",
    "vcftools --gzvcf isect.vcf.gz.sorted.gz --hap-r2  --out isect.vcf.gz.sorted.gz\n",
    "vcftools --gzvcf isect.vcf.gz.sorted.gz --freq  --out isect.vcf.gz.sorted.gz\n",
    "```"
   ]
  },
  {
   "cell_type": "code",
   "execution_count": 0,
   "metadata": {
    "collapsed": true
   },
   "outputs": [],
   "source": [
    "intra = \"isect.vcf.gz.sorted.gz.hap.ld\"\n",
    "inter = \"isect.vcf.gz.sorted.gz.interchrom.hap.ld\""
   ]
  },
  {
   "cell_type": "code",
   "execution_count": 0,
   "metadata": {
    "collapsed": true
   },
   "outputs": [],
   "source": [
    "?pd.to_numeric"
   ]
  },
  {
   "cell_type": "code",
   "execution_count": 0,
   "metadata": {
    "collapsed": false
   },
   "outputs": [],
   "source": [
    "h = open(intra)\n",
    "intra_data = []\n",
    "for line in h:\n",
    "    intra_data.append(line.strip().split())\n",
    "intra_df = pd.DataFrame(data=intra_data[1:], columns=intra_data[0])\n",
    "intra_df.iloc[:,1:] = intra_df.iloc[:,1:].apply(pd.to_numeric)"
   ]
  },
  {
   "cell_type": "code",
   "execution_count": 0,
   "metadata": {
    "collapsed": false
   },
   "outputs": [],
   "source": [
    "intra_df['dist'] = intra_df.apply(lambda x: np.abs(x.POS1-x.POS2), axis=1)"
   ]
  },
  {
   "cell_type": "code",
   "execution_count": 0,
   "metadata": {
    "collapsed": true
   },
   "outputs": [],
   "source": [
    "?sns.regplot"
   ]
  },
  {
   "cell_type": "code",
   "execution_count": 0,
   "metadata": {
    "collapsed": false,
    "scrolled": false
   },
   "outputs": [],
   "source": [
    "plot_data = intra_df[intra_df['dist'] < 1000]\n",
    "g = sns.regplot(\"dist\", \"R^2\", \n",
    "            plot_data,\n",
    "           fit_reg=False)\n",
    "g.set(xlim=(0,500),ylim=(0,1),title=\"n=%d\" % len(plot_data));"
   ]
  },
  {
   "cell_type": "code",
   "execution_count": 0,
   "metadata": {
    "collapsed": false,
    "scrolled": true
   },
   "outputs": [],
   "source": [
    "inter_data = []\n",
    "h = open(inter)\n",
    "for i, line in enumerate(h):\n",
    "    line = line.split()\n",
    "    inter_data.append(line)\n",
    "    if i % 1000000 == 0 and i > 0:\n",
    "        print((\"at %d\" % i))"
   ]
  },
  {
   "cell_type": "code",
   "execution_count": 0,
   "metadata": {
    "collapsed": false
   },
   "outputs": [],
   "source": [
    "inter_df = pd.DataFrame(data=inter_data[1:], columns=inter_data[0])"
   ]
  },
  {
   "cell_type": "code",
   "execution_count": 0,
   "metadata": {
    "collapsed": false
   },
   "outputs": [],
   "source": [
    "inter_df.iloc[:,-2:] = inter_df.iloc[:,-2:].apply(pd.to_numeric)"
   ]
  },
  {
   "cell_type": "code",
   "execution_count": 0,
   "metadata": {
    "collapsed": false
   },
   "outputs": [],
   "source": [
    "inter_df.shape"
   ]
  },
  {
   "cell_type": "code",
   "execution_count": 0,
   "metadata": {
    "collapsed": false
   },
   "outputs": [],
   "source": [
    "plot_data = inter_df['R^2'].sample(frac=0.001)\n",
    "sns.distplot(plot_data)"
   ]
  },
  {
   "cell_type": "code",
   "execution_count": 0,
   "metadata": {
    "collapsed": true
   },
   "outputs": [],
   "source": []
  }
 ],
 "metadata": {
  "kernelspec": {
   "display_name": "Python 3",
   "language": "python",
   "name": "python3"
  },
  "language_info": {
   "codemirror_mode": {
    "name": "ipython",
    "version": 3
   },
   "file_extension": ".py",
   "mimetype": "text/x-python",
   "name": "python",
   "nbconvert_exporter": "python",
   "pygments_lexer": "ipython3"
  }
 },
 "nbformat": 4,
 "nbformat_minor": 0
}

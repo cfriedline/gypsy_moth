{
 "metadata": {
  "name": "",
  "signature": "sha256:384d703422d82cd643fba31d33cb498ca73aaaea4dc3766fc7a5794e21d258d3"
 },
 "nbformat": 3,
 "nbformat_minor": 0,
 "worksheets": [
  {
   "cells": [
    {
     "cell_type": "code",
     "collapsed": false,
     "input": [
      "import pandas as pd\n",
      "import os, sys"
     ],
     "language": "python",
     "metadata": {},
     "outputs": [],
     "prompt_number": ""
    },
    {
     "cell_type": "code",
     "collapsed": false,
     "input": [
      "cd /data7/cfriedline/ipython/notebooks/gypsy_moth"
     ],
     "language": "python",
     "metadata": {},
     "outputs": [],
     "prompt_number": ""
    },
    {
     "cell_type": "code",
     "collapsed": false,
     "input": [
      "layouts = [\"i1.txt\", \"i3.txt\"]\n",
      "wells = \"wells.txt\""
     ],
     "language": "python",
     "metadata": {},
     "outputs": [],
     "prompt_number": ""
    },
    {
     "cell_type": "code",
     "collapsed": false,
     "input": [
      "well_data = {}\n",
      "for num, line in enumerate(open(wells)):\n",
      "    if num > 0:\n",
      "        line = line.strip().split(\"\\t\")\n",
      "        well_data[line[0]] = line[1:]"
     ],
     "language": "python",
     "metadata": {},
     "outputs": [],
     "prompt_number": ""
    },
    {
     "cell_type": "code",
     "collapsed": false,
     "input": [
      "barcode_files = []\n",
      "for l in layouts:\n",
      "    names = set()\n",
      "    with open(\"barcodes_%s\" % l, \"w\") as o:\n",
      "        barcode_files.append(os.path.abspath(o.name))\n",
      "        o.write(\"sample\\tlocation\\twell\\tbarcode1\\tbarcode2\\tploidy\\n\")\n",
      "        data = pd.read_csv(l, sep=\"\\t\", index_col=0, header=0)\n",
      "        for i in data.index:\n",
      "            for j in data.columns:\n",
      "                key = \"%s%s\" % (i, j)\n",
      "                name = data.loc[i, j].split()\n",
      "                sample_id = name[1]\n",
      "                if len(name) > 2:\n",
      "                    sample_id = \"_\".join(name[1:]).replace(\"/\",\"-\")\n",
      "                pop = name[0].replace(\"-\",\"\")\n",
      "                name_comb = \"\".join(name)\n",
      "                if not name_comb in names:\n",
      "                    names.add(name_comb)\n",
      "                else:\n",
      "                    name_comb = \"%s_dup\" % name_comb\n",
      "                    names.add(name_comb)\n",
      "                    sample_id =  \"%s_dup\" % sample_id\n",
      "                o.write(\"%s\\t%s\\t%s\\t%s\\n\" % (sample_id,\n",
      "                                                  pop,\n",
      "                                                  key,\n",
      "                                                  \"\\t\".join(well_data[key])))"
     ],
     "language": "python",
     "metadata": {},
     "outputs": [],
     "prompt_number": ""
    },
    {
     "cell_type": "code",
     "collapsed": false,
     "input": [
      "cd /home/cfriedline/eckertlab/gypsy_indiv/HiSeq_140425"
     ],
     "language": "python",
     "metadata": {},
     "outputs": [],
     "prompt_number": ""
    },
    {
     "cell_type": "code",
     "collapsed": false,
     "input": [
      "from IPython.display import HTML, Image"
     ],
     "language": "python",
     "metadata": {},
     "outputs": [],
     "prompt_number": ""
    },
    {
     "cell_type": "code",
     "collapsed": false,
     "input": [
      "Image(\"lane1_Undetermined_L001_R1_001_fastqc/Images/per_base_quality.png\")"
     ],
     "language": "python",
     "metadata": {},
     "outputs": [],
     "prompt_number": ""
    },
    {
     "cell_type": "code",
     "collapsed": false,
     "input": [
      "Image(\"lane2_Undetermined_L002_R1_001_fastqc/Images/per_base_quality.png\")"
     ],
     "language": "python",
     "metadata": {},
     "outputs": [],
     "prompt_number": ""
    },
    {
     "cell_type": "code",
     "collapsed": false,
     "input": [
      "barcode_files"
     ],
     "language": "python",
     "metadata": {},
     "outputs": [],
     "prompt_number": ""
    }
   ],
   "metadata": {}
  }
 ]
}
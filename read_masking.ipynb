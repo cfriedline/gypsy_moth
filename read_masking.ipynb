{
 "cells": [
  {
   "cell_type": "code",
   "execution_count": 0,
   "metadata": {
    "collapsed": false
   },
   "outputs": [],
   "source": [
    "import gzip, os, sys\n",
    "from Bio.SeqIO.QualityIO import FastqGeneralIterator\n",
    "from IPython.parallel import Client"
   ]
  },
  {
   "cell_type": "code",
   "execution_count": 0,
   "metadata": {
    "collapsed": false
   },
   "outputs": [],
   "source": [
    "file_dir = \"/home/cfriedline/eckertlab/gypsy_indiv/HiSeq_140425\"\n",
    "os.chdir(file_dir)"
   ]
  },
  {
   "cell_type": "code",
   "execution_count": 0,
   "metadata": {
    "collapsed": false
   },
   "outputs": [],
   "source": [
    "files = !ls *.fastq | grep -v processed"
   ]
  },
  {
   "cell_type": "code",
   "execution_count": 0,
   "metadata": {
    "collapsed": false
   },
   "outputs": [],
   "source": [
    "files = [os.path.abspath(x) for x in files]"
   ]
  },
  {
   "cell_type": "code",
   "execution_count": 0,
   "metadata": {
    "collapsed": false
   },
   "outputs": [],
   "source": [
    "files"
   ]
  },
  {
   "cell_type": "code",
   "execution_count": 0,
   "metadata": {
    "collapsed": false
   },
   "outputs": [],
   "source": [
    "rc = Client(profile=\"sge\")\n",
    "dview = rc[:]\n",
    "lview = rc.load_balanced_view()\n",
    "len(rc)"
   ]
  },
  {
   "cell_type": "code",
   "execution_count": 0,
   "metadata": {
    "collapsed": false
   },
   "outputs": [],
   "source": [
    "@dview.remote(block=True)\n",
    "def get_cpu_count():\n",
    "    import multiprocessing as mp\n",
    "    import socket\n",
    "    return socket.gethostname(), mp.cpu_count()\n",
    "cpu_counts = get_cpu_count()\n",
    "from collections import defaultdict\n",
    "cpu_dict = defaultdict(list)\n",
    "for i, c in enumerate(cpu_counts):\n",
    "    if c[1] >= 16:\n",
    "        cpu_dict[c[0]].append(i)  \n",
    "print(cpu_dict)\n",
    "cview = rc.load_balanced_view(targets=[v[0] for k, v in list(cpu_dict.items())])"
   ]
  },
  {
   "cell_type": "code",
   "execution_count": 0,
   "metadata": {
    "collapsed": false
   },
   "outputs": [],
   "source": [
    "with dview.sync_imports():\n",
    "    import stopwatch\n",
    "    import numpy\n",
    "    import numpy as np\n",
    "    import scipy\n",
    "    import pandas\n",
    "    import gzip\n",
    "    import os\n",
    "    import tempfile\n",
    "    import shutil\n",
    "    import socket\n",
    "    from Bio.SeqIO.QualityIO import FastqGeneralIterator\n",
    "    from collections import deque, defaultdict\n",
    "    import multiprocessing \n",
    "    from multiprocessing import Pool, Manager\n",
    "    import traceback\n",
    "    "
   ]
  },
  {
   "cell_type": "code",
   "execution_count": 0,
   "metadata": {
    "collapsed": false
   },
   "outputs": [],
   "source": [
    "def mask_reads(args):\n",
    "    fastq, qual = args\n",
    "    out = \"%s_masked_%d.fastq\" % (fastq, qual)\n",
    "    res = !/home/cfriedline/gpfs/opt/fastx/bin/fastq_masker -q {qual} -i {fastq} -o {out} -v\n",
    "    return out, res\n",
    "dview['mask_reads'] = mask_reads"
   ]
  },
  {
   "cell_type": "code",
   "execution_count": 0,
   "metadata": {
    "collapsed": false
   },
   "outputs": [],
   "source": [
    "mask_jobs = []\n",
    "for f in files:\n",
    "    mask_jobs.append(lview.apply_async(mask_reads, (f, 33)))"
   ]
  },
  {
   "cell_type": "code",
   "execution_count": 0,
   "metadata": {
    "collapsed": false
   },
   "outputs": [],
   "source": [
    "for m in mask_jobs:\n",
    "    print(m.ready())"
   ]
  },
  {
   "cell_type": "code",
   "execution_count": 0,
   "metadata": {
    "collapsed": true
   },
   "outputs": [],
   "source": [
    "def drop_masked_reads(masked_fastq, cutoff):\n",
    "    from Bio.SeqIO.QualityIO import FastqGeneralIterator\n",
    "    for name, seq, qual in FastqGeneralIterator(open(masked_fastq)):\n",
    "        n_count = sum([1 if x == \"N\" else 0 for x in seq])*1.0\n",
    "        n_perc = n_count/len(seq)\n",
    "        if n_perc > cutoff:\n",
    "            yield None\n",
    "        else:\n",
    "            yield name, seq, qual, n_perc\n",
    "dview['drop_masked_reads'] = drop_masked_reads       "
   ]
  },
  {
   "cell_type": "code",
   "execution_count": 0,
   "metadata": {
    "collapsed": false
   },
   "outputs": [],
   "source": [
    "masked = !ls *masked*.fastq\n",
    "masked"
   ]
  },
  {
   "cell_type": "code",
   "execution_count": 0,
   "metadata": {
    "collapsed": true
   },
   "outputs": [],
   "source": [
    "def format_fastq_tuple(title, seq, qual):\n",
    "    assert len(seq) == len(qual)\n",
    "    return \"@%s\\n%s\\n+\\n%s\\n\" % (title, seq, qual)\n",
    "dview['format_fastq_tuple'] = format_fastq_tuple"
   ]
  },
  {
   "cell_type": "code",
   "execution_count": 0,
   "metadata": {
    "collapsed": true
   },
   "outputs": [],
   "source": [
    "def filter_masked(args):\n",
    "    m, cutoff = args\n",
    "    out = '%s_dropped_%.2f.fastq' % (m, cutoff)\n",
    "    with open(out, \"w\") as o:\n",
    "        for res in drop_masked_reads(m, cutoff):\n",
    "            if res:\n",
    "                name, seq, qual, perc = res\n",
    "                o.write(format_fastq_tuple(name, seq, qual))\n",
    "dview['filter_masked'] = filter_masked"
   ]
  },
  {
   "cell_type": "code",
   "execution_count": 0,
   "metadata": {
    "collapsed": false
   },
   "outputs": [],
   "source": [
    "masked = [os.path.abspath(x) for x in masked]\n",
    "masked"
   ]
  },
  {
   "cell_type": "code",
   "execution_count": 0,
   "metadata": {
    "collapsed": false
   },
   "outputs": [],
   "source": [
    "cutoff_jobs = []\n",
    "cutoff = 0.5\n",
    "for m in masked:\n",
    "    if \"34.fastq\" in m and not \"dropped\" in m:\n",
    "        cutoff_jobs.append(lview.apply_async(filter_masked, (m, cutoff)))"
   ]
  },
  {
   "cell_type": "code",
   "execution_count": 0,
   "metadata": {
    "collapsed": false
   },
   "outputs": [],
   "source": [
    "[x.ready() for x in cutoff_jobs]"
   ]
  },
  {
   "cell_type": "code",
   "execution_count": 0,
   "metadata": {
    "collapsed": false
   },
   "outputs": [],
   "source": [
    "cutoff_jobs[0].r"
   ]
  },
  {
   "cell_type": "code",
   "execution_count": 0,
   "metadata": {
    "collapsed": true
   },
   "outputs": [],
   "source": []
  }
 ],
 "metadata": {
  "kernelspec": {
   "display_name": "Python 3",
   "language": "python",
   "name": "python3"
  },
  "language_info": {
   "codemirror_mode": {
    "name": "ipython",
    "version": 3
   },
   "file_extension": ".py",
   "mimetype": "text/x-python",
   "name": "python",
   "nbconvert_exporter": "python",
   "pygments_lexer": "ipython3"
  }
 },
 "nbformat": 4,
 "nbformat_minor": 0
}

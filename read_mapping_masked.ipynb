{
 "cells": [
  {
   "cell_type": "code",
   "execution_count": 0,
   "metadata": {
    "collapsed": false
   },
   "outputs": [],
   "source": [
    "import os, sys\n",
    "from ipyparallel import Client\n",
    "import matplotlib.pyplot as plt\n",
    "%matplotlib inline\n",
    "from fabric.api import local\n",
    "from subprocess import Popen, PIPE\n",
    "from Bio import SeqIO"
   ]
  },
  {
   "cell_type": "code",
   "execution_count": 0,
   "metadata": {
    "collapsed": false
   },
   "outputs": [],
   "source": [
    "print \"test\""
   ]
  },
  {
   "cell_type": "code",
   "execution_count": 0,
   "metadata": {
    "collapsed": true
   },
   "outputs": [],
   "source": [
    "sys.path.append(\"/home/cfriedline/ipynb/include_utils/\")"
   ]
  },
  {
   "cell_type": "code",
   "execution_count": 0,
   "metadata": {
    "collapsed": true
   },
   "outputs": [],
   "source": [
    "import include_utils as u"
   ]
  },
  {
   "cell_type": "code",
   "execution_count": 0,
   "metadata": {
    "collapsed": false
   },
   "outputs": [],
   "source": [
    "def shell(cmd):\n",
    "    from subprocess import Popen, PIPE\n",
    "    p = Popen(cmd, shell=True, stdout=PIPE, stderr=PIPE)\n",
    "    stdout, stderr = p.communicate()\n",
    "    return stdout.split(\"\\n\"), stderr.split(\"\\n\")"
   ]
  },
  {
   "cell_type": "code",
   "execution_count": 0,
   "metadata": {
    "collapsed": false
   },
   "outputs": [],
   "source": [
    "cd ~/eckertlab/gypsy_indiv/masked/"
   ]
  },
  {
   "cell_type": "code",
   "execution_count": 0,
   "metadata": {
    "collapsed": false
   },
   "outputs": [],
   "source": [
    "fastq_files = !find . -type f | grep '.fastq$' | grep -v lane | grep -v OTIS\n",
    "fastq_files = sorted([os.path.abspath(x) for x in fastq_files])\n",
    "len(fastq_files)"
   ]
  },
  {
   "cell_type": "code",
   "execution_count": 0,
   "metadata": {
    "collapsed": false
   },
   "outputs": [],
   "source": [
    "fastq_files"
   ]
  },
  {
   "cell_type": "code",
   "execution_count": 0,
   "metadata": {
    "collapsed": false
   },
   "outputs": [],
   "source": [
    "rc = Client(profile=\"sge\")\n",
    "dview = rc[:]\n",
    "lview = rc.load_balanced_view()\n",
    "print len(rc)"
   ]
  },
  {
   "cell_type": "code",
   "execution_count": 0,
   "metadata": {
    "collapsed": false
   },
   "outputs": [],
   "source": [
    "assembly = \"/home/cfriedline/gpfs/assemblies/gypsy/masurca_new/CA/10-gapclose/genome.ctg.fasta\""
   ]
  },
  {
   "cell_type": "code",
   "execution_count": 0,
   "metadata": {
    "collapsed": false
   },
   "outputs": [],
   "source": [
    "!/home/cfriedline/gpfs/src/bowtie2-2.2.4/bowtie2-build -f $assembly $assembly"
   ]
  },
  {
   "cell_type": "code",
   "execution_count": 0,
   "metadata": {
    "collapsed": false
   },
   "outputs": [],
   "source": [
    "@lview.remote()\n",
    "def run_bowtie2(args):\n",
    "    import os, stopwatch, multiprocessing\n",
    "    timer = stopwatch.Timer()\n",
    "    cpus = multiprocessing.cpu_count()\n",
    "    assembly, reads = args\n",
    "    parent = os.path.dirname(reads)\n",
    "    outdir = os.path.join(parent, \"new\")\n",
    "    if not os.path.exists(outdir):\n",
    "        os.mkdir(outdir)\n",
    "    sam = os.path.join(outdir, \"%s.sam\" % (os.path.basename(reads)))\n",
    "    cmd = \"/home/cfriedline/gpfs/src/bowtie2-2.2.4/bowtie2 --local --very-sensitive-local -p %d -x %s -U %s -S %s\" % (cpus,\n",
    "                                                               assembly,\n",
    "                                                               reads,\n",
    "                                                               sam)\n",
    "    \n",
    "    if not os.path.exists(sam):\n",
    "        !$cmd\n",
    "    timer.stop()\n",
    "    return assembly, sam, cmd, timer.elapsed"
   ]
  },
  {
   "cell_type": "code",
   "execution_count": 0,
   "metadata": {
    "collapsed": false
   },
   "outputs": [],
   "source": [
    "@lview.remote()\n",
    "def convert_sam_to_bam(sam):\n",
    "    import stopwatch, multiprocessing, os\n",
    "    timer = stopwatch.Timer()\n",
    "    cpus = multiprocessing.cpu_count()\n",
    "    bam = sam.replace(\".sam\", \".bam\")\n",
    "    bam_sorted = \"%s_sorted.bam\" % bam.replace(\".bam\", \"\")\n",
    "    bam_index = bam_sorted.replace(\".bam\", \".bai\")\n",
    "    if not os.path.exists(bam):\n",
    "        !/home/cfriedline/gpfs/src/samtools-1.2/samtools view -bS $sam > $bam\n",
    "        !/home/cfriedline/gpfs/src/samtools-1.2/samtools sort -@ $cpus -f $bam $bam_sorted\n",
    "        !/home/cfriedline/gpfs/src/samtools-1.2/samtools index $bam_sorted $bam_index\n",
    "    timer.stop()\n",
    "    return bam, bam_sorted, bam_index, timer.elapsed"
   ]
  },
  {
   "cell_type": "code",
   "execution_count": 0,
   "metadata": {
    "collapsed": false
   },
   "outputs": [],
   "source": [
    "len(fastq_files)"
   ]
  },
  {
   "cell_type": "code",
   "execution_count": 0,
   "metadata": {
    "collapsed": false
   },
   "outputs": [],
   "source": [
    "bowtie_jobs = []\n",
    "for f in fastq_files:\n",
    "    bowtie_jobs.append(run_bowtie2((assembly, f)))"
   ]
  },
  {
   "cell_type": "code",
   "execution_count": 0,
   "metadata": {
    "collapsed": false
   },
   "outputs": [],
   "source": [
    "u.get_async_progress(bowtie_jobs)"
   ]
  },
  {
   "cell_type": "code",
   "execution_count": 0,
   "metadata": {
    "collapsed": false
   },
   "outputs": [],
   "source": [
    "sam_files = !find . -type f | grep '.sam$' | grep 'new'\n",
    "sam_files = [os.path.abspath(x) for x in sam_files]\n",
    "assert len(sam_files) == len(fastq_files)\n",
    "sam_files"
   ]
  },
  {
   "cell_type": "code",
   "execution_count": 0,
   "metadata": {
    "collapsed": false
   },
   "outputs": [],
   "source": [
    "sam_bam_jobs = []\n",
    "for f in sam_files:\n",
    "    sam_bam_jobs.append(convert_sam_to_bam(os.path.abspath(f)))"
   ]
  },
  {
   "cell_type": "code",
   "execution_count": 0,
   "metadata": {
    "collapsed": false
   },
   "outputs": [],
   "source": [
    "u.get_async_progress(sam_bam_jobs)"
   ]
  },
  {
   "cell_type": "code",
   "execution_count": 0,
   "metadata": {
    "collapsed": false
   },
   "outputs": [],
   "source": [
    "sam_bam_jobs[0].r"
   ]
  },
  {
   "cell_type": "code",
   "execution_count": 0,
   "metadata": {
    "collapsed": false
   },
   "outputs": [],
   "source": [
    "@lview.remote()\n",
    "def add_rg_info_to_bam(bam):\n",
    "    import os\n",
    "    lane_map = {\"I1\": 1, \"I3\":2}\n",
    "    cmd = \"java -jar /home/cfriedline/gpfs/src/picard-tools-1.112/AddOrReplaceReadGroups.jar\"\n",
    "    base = os.path.basename(bam).split(\".\")\n",
    "    bam_rg = bam.replace(\".bam\", \"_rg.bam\")\n",
    "    rglb = os.path.basename(os.path.dirname(os.path.dirname(bam)))\n",
    "    rgpu = base[0].split(\"_\")[-1]\n",
    "    rgsm = base[0]\n",
    "    rgid = \"FLOWCELL.LANE%d.%s\" % (lane_map[rglb],rgsm)\n",
    "    rg_string = \"RGID=%s RGLB=%s RGPL=illumina RGPU=%s RGSM=%s\" % (rgid,\n",
    "                                                                   rglb,\n",
    "                                                                   rgpu,\n",
    "                                                                   rgsm)\n",
    "    cmd = \"%s INPUT=%s OUTPUT=%s %s CREATE_INDEX=true\" % (cmd,\n",
    "                                                          bam,\n",
    "                                                          bam_rg,\n",
    "                                                          rg_string)\n",
    "    print cmd\n",
    "    if not os.path.exists(bam_rg):\n",
    "        !$cmd\n",
    "    return bam_rg, rg_string, cmd\n",
    "    "
   ]
  },
  {
   "cell_type": "code",
   "execution_count": 0,
   "metadata": {
    "collapsed": false
   },
   "outputs": [],
   "source": [
    "sorted_bams,err = shell(\"find . -type f | grep '/new' | grep 'sorted.bam$'\")\n",
    "sorted_bams = [os.path.abspath(x) for x in sorted_bams if 'bam' in x]\n",
    "assert len(sorted_bams) == len(fastq_files)\n",
    "sorted_bams"
   ]
  },
  {
   "cell_type": "code",
   "execution_count": 0,
   "metadata": {
    "collapsed": false
   },
   "outputs": [],
   "source": [
    "add_rg = []\n",
    "for f in sorted_bams:\n",
    "    add_rg.append(add_rg_info_to_bam(f))"
   ]
  },
  {
   "cell_type": "code",
   "execution_count": 0,
   "metadata": {
    "collapsed": false
   },
   "outputs": [],
   "source": [
    "u.get_async_progress(add_rg)"
   ]
  },
  {
   "cell_type": "code",
   "execution_count": 0,
   "metadata": {
    "collapsed": false
   },
   "outputs": [],
   "source": [
    "rg_bams, err = shell(\"find . | grep 'rg.bam$' | grep new\")\n",
    "rg_bams = sorted([os.path.abspath(x) for x in rg_bams if 'rg.bam' in x])\n",
    "assert len(rg_bams) == len(fastq_files)"
   ]
  },
  {
   "cell_type": "code",
   "execution_count": 0,
   "metadata": {
    "collapsed": false
   },
   "outputs": [],
   "source": [
    "dview, lview = u.get_views(rc)\n",
    "len(dview)"
   ]
  },
  {
   "cell_type": "code",
   "execution_count": 0,
   "metadata": {
    "collapsed": true
   },
   "outputs": [],
   "source": []
  }
 ],
 "metadata": {
  "kernelspec": {
   "display_name": "Python 2",
   "language": "python",
   "name": "python2"
  },
  "language_info": {
   "codemirror_mode": {
    "name": "ipython",
    "version": 2
   },
   "file_extension": ".py",
   "mimetype": "text/x-python",
   "name": "python",
   "nbconvert_exporter": "python",
   "pygments_lexer": "ipython2",
   "version": "2.7.10"
  }
 },
 "nbformat": 4,
 "nbformat_minor": 0
}

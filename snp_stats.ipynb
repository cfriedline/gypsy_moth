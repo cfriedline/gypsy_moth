{
 "metadata": {
  "name": "",
  "signature": "sha256:bc90adee1b70109c60e4cf9accb82fd4c44c3b7d2319687d80501a95605340bb"
 },
 "nbformat": 3,
 "nbformat_minor": 0,
 "worksheets": [
  {
   "cells": [
    {
     "cell_type": "code",
     "collapsed": false,
     "input": [
      "%load_ext autoreload\n",
      "%matplotlib inline\n",
      "%autoreload 2"
     ],
     "language": "python",
     "metadata": {},
     "outputs": [],
     "prompt_number": ""
    },
    {
     "cell_type": "code",
     "collapsed": false,
     "input": [
      "import pandas as pd\n",
      "import numpy as np\n",
      "import matplotlib.pyplot as plt\n",
      "from IPython.display import FileLink, FileLinks\n",
      "from __future__ import division \n",
      "from scipy.stats import pearsonr, f_oneway\n",
      "import qvalue\n",
      "from statsmodels.stats.multicomp import pairwise_tukeyhsd\n",
      "import pandas.rpy.common as com\n",
      "import rpy2.robjects as robs\n",
      "import rpy2\n",
      "%load_ext rpy2.ipython"
     ],
     "language": "python",
     "metadata": {},
     "outputs": [],
     "prompt_number": ""
    },
    {
     "cell_type": "code",
     "collapsed": false,
     "input": [
      "from hdfstorehelper import HDFStoreHelper"
     ],
     "language": "python",
     "metadata": {},
     "outputs": [],
     "prompt_number": ""
    },
    {
     "cell_type": "code",
     "collapsed": false,
     "input": [
      "h5 = HDFStoreHelper(\"/data7/cfriedline/store_gypsy.h5\")"
     ],
     "language": "python",
     "metadata": {},
     "outputs": [],
     "prompt_number": ""
    },
    {
     "cell_type": "code",
     "collapsed": false,
     "input": [
      "all_r_c = h5.get('model_fit/pca_all/r_c') # g vs. p as function of TW PCA axes\n",
      "all_r_u = h5.get('model_fit/pca_all/r_u') # g vs. p w/o pca"
     ],
     "language": "python",
     "metadata": {},
     "outputs": [],
     "prompt_number": ""
    },
    {
     "cell_type": "code",
     "collapsed": false,
     "input": [
      "%%R\n",
      "library(qvalue)\n",
      "get_p = function(data) {\n",
      "    return(pchisq(data,df=1,lower.tail=F))\n",
      "}"
     ],
     "language": "python",
     "metadata": {},
     "outputs": [],
     "prompt_number": ""
    },
    {
     "cell_type": "code",
     "collapsed": false,
     "input": [
      "def get_x2_values(r2_values, k):\n",
      "    return r2_values * (188 - k - 1)"
     ],
     "language": "python",
     "metadata": {},
     "outputs": [],
     "prompt_number": ""
    },
    {
     "cell_type": "code",
     "collapsed": false,
     "input": [
      "def get_p_values(r_values, k):\n",
      "    r2 = r_values*r_values\n",
      "    x2 = get_x2_values(r2, k)\n",
      "    robs.globalenv['x2'] = com.convert_to_r_matrix(x2)\n",
      "    return com.convert_robj(robs.r('get_p(x2)'))"
     ],
     "language": "python",
     "metadata": {},
     "outputs": [],
     "prompt_number": ""
    },
    {
     "cell_type": "code",
     "collapsed": false,
     "input": [
      "all_p_c = get_p_values(all_r_c, 8)\n",
      "all_p_u = get_p_values(all_r_u, 0)"
     ],
     "language": "python",
     "metadata": {},
     "outputs": [],
     "prompt_number": ""
    },
    {
     "cell_type": "code",
     "collapsed": false,
     "input": [
      "all_p_c.to_csv(\"all_p_corrected.csv\", header=True, index=True)\n",
      "all_p_u.to_csv(\"all_p_uncorrected.csv\", header=True, index=True)"
     ],
     "language": "python",
     "metadata": {},
     "outputs": [],
     "prompt_number": ""
    },
    {
     "cell_type": "markdown",
     "metadata": {},
     "source": [
      "##Entire data set p-values"
     ]
    },
    {
     "cell_type": "code",
     "collapsed": false,
     "input": [
      "def plot_hists(data, title):\n",
      "    for col in data:\n",
      "        plt.hist(data[col])\n",
      "        plt.title(title)\n",
      "        plt.xlabel(\"%s\" % (col))\n",
      "        plt.show()"
     ],
     "language": "python",
     "metadata": {},
     "outputs": [],
     "prompt_number": ""
    },
    {
     "cell_type": "code",
     "collapsed": false,
     "input": [
      "plot_hists(p_c, \"Corrected\")\n",
      "plot_hists(p_u, \"Uncorrected\")"
     ],
     "language": "python",
     "metadata": {},
     "outputs": [],
     "prompt_number": ""
    },
    {
     "cell_type": "markdown",
     "metadata": {},
     "source": [
      "##MAF bins p-values"
     ]
    },
    {
     "cell_type": "code",
     "collapsed": false,
     "input": [
      "bins = h5.get_children_paths(\"model_fit/pca_bin\")"
     ],
     "language": "python",
     "metadata": {},
     "outputs": [],
     "prompt_number": ""
    },
    {
     "cell_type": "code",
     "collapsed": false,
     "input": [
      "for node_path in sorted(bins):\n",
      "    r_c = h5.get(\"%s/r_c\" % (node_path))\n",
      "    r_u = h5.get(\"%s/r_u\" % (node_path))\n",
      "    p_c = get_p_values(r_c, 8)\n",
      "    p_u = get_p_values(r_u, 0)\n",
      "    bin_path = node_path.split(\"/\")[-1]\n",
      "    p_c.to_csv(\"%s_p_corrected.csv\" % bin_path, header=True, index=True)\n",
      "    p_u.to_csv(\"%s_p_uncorrected.csv\" % bin_path, header=True, index=True)\n",
      "    plot_hists(p_c, \"%s (Corrected)\" % bin_path)\n",
      "    plot_hists(p_u, \"%s (Uncorrected)\" % bin_path)"
     ],
     "language": "python",
     "metadata": {},
     "outputs": [],
     "prompt_number": ""
    },
    {
     "cell_type": "markdown",
     "metadata": {},
     "source": [
      "##Fraction of p-values < 0.05"
     ]
    },
    {
     "cell_type": "code",
     "collapsed": false,
     "input": [
      "alpha = 0.05\n",
      "with open(\"p_fraction_%.2f.csv\" % alpha, \"w\") as o:\n",
      "    for node_path in sorted(bins):\n",
      "        r_c = h5.get(\"%s/r_c\" % (node_path))\n",
      "        r_u = h5.get(\"%s/r_u\" % (node_path))\n",
      "        p_c = get_p_values(r_c, 8)\n",
      "        p_u = get_p_values(r_u, 0)\n",
      "        bin_path = node_path.split(\"/\")[-1]\n",
      "        for col in p_c:\n",
      "            o.write(','.join([str(x) for x in [bin_path, \"corrected\", col, len(p_c[p_c[col] < alpha])/len(p_c[col])]]))\n",
      "            o.write(\"\\n\")\n",
      "        for col in p_u:\n",
      "            o.write(','.join([str(x) for x in [bin_path, \"uncorrected\", col, len(p_u[p_u[col] < alpha])/len(p_u[col])]]))\n",
      "            o.write(\"\\n\")\n",
      "\n",
      "    cols = all_p_c.columns\n",
      "    for col in cols:\n",
      "        for col in all_p_c:\n",
      "            o.write(','.join([str(x) for x in [\"all\", \"corrected\", col, len(p_c[p_c[col] < alpha])/len(p_c[col])]]))\n",
      "            o.write(\"\\n\")\n",
      "        for col in all_p_u:\n",
      "            o.write(','.join([str(x) for x in [\"all\", \"uncorrected\", col, len(p_u[p_u[col] < alpha])/len(p_u[col])]]))\n",
      "            o.write(\"\\n\")"
     ],
     "language": "python",
     "metadata": {},
     "outputs": [],
     "prompt_number": ""
    },
    {
     "cell_type": "markdown",
     "metadata": {},
     "source": [
      "## X^2 phenotype pairs"
     ]
    },
    {
     "cell_type": "code",
     "collapsed": false,
     "input": [
      "with open(\"chisq_corr.txt\", \"w\") as o:\n",
      "    for node_path in sorted(bins):\n",
      "        r_c = h5.get(\"%s/r_c\" % (node_path))\n",
      "        r_u = h5.get(\"%s/r_u\" % (node_path))\n",
      "        x2_c = get_x2_values(r_c*r_c, 8)\n",
      "        x2_u = get_x2_values(r_u*r_u, 0)\n",
      "        bin_path = node_path.split(\"/\")[-1]\n",
      "        o.write(\"%s\\n\" % bin_path) \n",
      "        o.write(\"%s\\n\" % \"corrected\")\n",
      "        o.write(\"%s\\n\" % x2_c.corr()) \n",
      "        o.write(\"%s\\n\" % \"\\nuncorrected\")\n",
      "        o.write(\"%s\\n\" % x2_u.corr())\n",
      "        o.write(\"%s\\n\" % \"\".join([\"-\"]*60))\n",
      "\n",
      "    all_x2_c = get_x2_values(all_r_c*all_r_c, 8)\n",
      "    all_x2_u = get_x2_values(all_r_u*all_r_u, 0)\n",
      "    o.write(\"%s\\n\" % \"all\")\n",
      "    o.write(\"%s\\n\" % \"corrected\")\n",
      "    o.write(\"%s\\n\" % all_x2_c.corr())\n",
      "    o.write(\"%s\\n\" % \"\\nuncorrected\")\n",
      "    o.write(\"%s\\n\" % all_x2_u.corr())"
     ],
     "language": "python",
     "metadata": {},
     "outputs": [],
     "prompt_number": ""
    },
    {
     "cell_type": "markdown",
     "metadata": {},
     "source": [
      "## Correlation between r and MAF"
     ]
    },
    {
     "cell_type": "code",
     "collapsed": false,
     "input": [
      "def get_allele_counts(series, filter_missing=True):\n",
      "    P = 0.0\n",
      "    Q = 0.0\n",
      "    PQ = 0.0\n",
      "    missing = 0.0\n",
      "    c = series.value_counts()\n",
      "    if 0 in c:\n",
      "        P = c[0]\n",
      "    if 2 in c:\n",
      "        Q = c[2]\n",
      "    if 1 in c:\n",
      "        PQ = c[1]\n",
      "    if -1 in c:\n",
      "        missing = c[-1]\n",
      "    missing_perc = missing/len(series)\n",
      "    if filter_missing and missing_perc > 0.5:\n",
      "#         print \"too much missing data %g\" % missing_perc\n",
      "        P = PQ = Q = 0.0\n",
      "    return (P, PQ, Q)\n",
      "\n",
      "def get_allele_freqs(series, filter_missing=True):\n",
      "    c = get_allele_counts(series, filter_missing)\n",
      "    if c:\n",
      "        if sum(c) == 0:\n",
      "            return 0.0,0.0, 0.0, c\n",
      "        else:\n",
      "            P = 2*c[0] + c[1]\n",
      "            Q = 2*c[2] + c[1]\n",
      "            total = P + Q\n",
      "            p = P/total\n",
      "            q = Q/total\n",
      "            maf = min(p, q)\n",
      "            return maf, p, q, c "
     ],
     "language": "python",
     "metadata": {},
     "outputs": [],
     "prompt_number": ""
    },
    {
     "cell_type": "code",
     "collapsed": false,
     "input": [
      "z12 = h5.get(\"z12_df\") #012 matrix from vcftools"
     ],
     "language": "python",
     "metadata": {},
     "outputs": [],
     "prompt_number": ""
    },
    {
     "cell_type": "code",
     "collapsed": false,
     "input": [
      "af = z12.apply(get_allele_freqs, filter_missing=False) #allele frequencies"
     ],
     "language": "python",
     "metadata": {},
     "outputs": [],
     "prompt_number": ""
    },
    {
     "cell_type": "code",
     "collapsed": false,
     "input": [
      "def plot_corr(x, y, xlabel, ylabel, title):\n",
      "    plt.scatter(x, y)\n",
      "    plt.xlabel(xlabel)\n",
      "    plt.ylabel(ylabel)\n",
      "    ax = plt.gca()\n",
      "    ax.set_title(title)\n",
      "    plt.show()"
     ],
     "language": "python",
     "metadata": {},
     "outputs": [],
     "prompt_number": ""
    },
    {
     "cell_type": "code",
     "collapsed": false,
     "input": [
      "with open(\"maf_r_corr.csv\", \"w\") as o:\n",
      "    idx = [int(x[1:]) for x in all_r_c.index] #get numeric index for row label (S0 -> 0)\n",
      "    mafs = [x[0] for x in af[sorted(idx)]] #get first element of allele freqs (the MAF) using the sorted index as a filter\n",
      "    all_r_c['idx'] = idx #set column for sorting\n",
      "    all_r_u['idx'] = idx\n",
      "    all_r_c_sorted = all_r_c.sort('idx') #store sorted colum\n",
      "    all_r_u_sorted = all_r_u.sort('idx') #store sorted colum\n",
      "    #get correlations between MAF and r values\n",
      "    for col in all_r_c_sorted.ix[:,0:-1]:\n",
      "        r, p = pearsonr(all_r_c_sorted[col], mafs)\n",
      "        plot_corr(mafs, all_r_c_sorted[col], \"MAF\", col, \"Corrected\")\n",
      "        o.write(\"%s\\n\" % \",\".join([\"corrected\", col, str(r), str(p)]))\n",
      "        r, p = pearsonr(all_r_u_sorted[col], mafs)\n",
      "        plot_corr(mafs, all_r_u_sorted[col], \"MAF\", col, \"Uncorrected\")\n",
      "        \n",
      "        o.write(\"%s\\n\" % \",\".join([\"uncorrected\", col, str(r), str(p)]))"
     ],
     "language": "python",
     "metadata": {},
     "outputs": [],
     "prompt_number": ""
    },
    {
     "cell_type": "code",
     "collapsed": false,
     "input": [
      "FileLinks(\".\", included_suffixes=[\".csv\"])"
     ],
     "language": "python",
     "metadata": {},
     "outputs": [],
     "prompt_number": ""
    },
    {
     "cell_type": "markdown",
     "metadata": {},
     "source": [
      "##Get q-values (Storey and Tibshirani, 2003) "
     ]
    },
    {
     "cell_type": "code",
     "collapsed": false,
     "input": [
      "def get_q_values(series):\n",
      "    r = robs.r\n",
      "    robs.globalenv['p'] = series\n",
      "    q = r('qvalue(p)')\n",
      "    s = pd.Series(np.array(q.rx('qvalues')[0]))\n",
      "    s.index = pd.Index(series.index)\n",
      "    return s"
     ],
     "language": "python",
     "metadata": {},
     "outputs": [],
     "prompt_number": ""
    },
    {
     "cell_type": "code",
     "collapsed": false,
     "input": [
      "alpha = 0.1\n",
      "def q_string(series):\n",
      "    if len(series) == 0:\n",
      "        return None\n",
      "    return series.to_dict()\n",
      "\n",
      "for env in sorted(all_p_c.columns):\n",
      "    print \"%s @ %.1f\" % (env, alpha)\n",
      "    q = get_q_values(all_p_c[env])\n",
      "    print \"\\tcorrected\", q_string(q[q<alpha])\n",
      "    \n",
      "    q = get_q_values(all_p_u[env])\n",
      "    print \"\\tuncorrected\", q_string(q[q<alpha])\n",
      "    print \"\\t----------------------------\"\n",
      "    \n",
      "    for node_path in bins:\n",
      "        r_c = h5.get(\"%s/r_c\" % (node_path))\n",
      "        r_u = h5.get(\"%s/r_u\" % (node_path))\n",
      "        p_c = get_p_values(r_c, 8)\n",
      "        p_u = get_p_values(r_u, 0)\n",
      "        bin_path = node_path.split(\"/\")[-1]\n",
      "        print \"\\t\",bin_path\n",
      "        q = get_q_values(p_c[env])\n",
      "        print \"\\t\\tcorrected\", q_string(q[q<alpha])\n",
      "        q = get_q_values(p_u[env])\n",
      "        print \"\\t\\tuncorrected\", q_string(q[q<alpha])"
     ],
     "language": "python",
     "metadata": {},
     "outputs": [],
     "prompt_number": ""
    },
    {
     "cell_type": "markdown",
     "metadata": {},
     "source": [
      "##ANOVA"
     ]
    },
    {
     "cell_type": "code",
     "collapsed": false,
     "input": [
      "pheno = h5.get('pheno')"
     ],
     "language": "python",
     "metadata": {},
     "outputs": [],
     "prompt_number": ""
    },
    {
     "cell_type": "code",
     "collapsed": false,
     "input": [
      "pops = list(pheno.Population.unique())"
     ],
     "language": "python",
     "metadata": {},
     "outputs": [],
     "prompt_number": ""
    },
    {
     "cell_type": "code",
     "collapsed": false,
     "input": [
      "pheno.columns = [x.replace(\" \", \"_\") for x in pheno.columns]"
     ],
     "language": "python",
     "metadata": {},
     "outputs": [],
     "prompt_number": ""
    },
    {
     "cell_type": "code",
     "collapsed": false,
     "input": [
      "pheno.columns"
     ],
     "language": "python",
     "metadata": {},
     "outputs": [],
     "prompt_number": ""
    },
    {
     "cell_type": "code",
     "collapsed": false,
     "input": [
      "alpha = 0.05\n",
      "envs = [u'Mass', u'Pupual_Duration', u'Total_Dev_Time']\n",
      "for env in envs:\n",
      "    anova_data = []\n",
      "    for pop in pops:\n",
      "        d = pheno[pheno['Population']==pop][env]\n",
      "        anova_data.append(np.array(d))\n",
      "    res = f_oneway(*anova_data)\n",
      "    print env, res\n",
      "    if res[1] < alpha:\n",
      "        pop_ids = np.array([pops.index(x) for x in pheno.Population])\n",
      "        e = np.array(pheno[env])"
     ],
     "language": "python",
     "metadata": {},
     "outputs": [],
     "prompt_number": ""
    },
    {
     "cell_type": "code",
     "collapsed": false,
     "input": [
      "pheno[pheno['Population']==pop]"
     ],
     "language": "python",
     "metadata": {},
     "outputs": [],
     "prompt_number": ""
    },
    {
     "cell_type": "code",
     "collapsed": false,
     "input": [],
     "language": "python",
     "metadata": {},
     "outputs": []
    }
   ],
   "metadata": {}
  }
 ]
}
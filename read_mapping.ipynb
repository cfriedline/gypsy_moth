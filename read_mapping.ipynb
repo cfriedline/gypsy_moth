{
 "metadata": {
  "name": "",
  "signature": "sha256:e5d3a0bd4c50a98536452463a5e1efcb697f1a977d555c6eab29ebca0acb9c28"
 },
 "nbformat": 3,
 "nbformat_minor": 0,
 "worksheets": [
  {
   "cells": [
    {
     "cell_type": "code",
     "collapsed": false,
     "input": [
      "import os, sys\n",
      "from IPython.parallel import Client"
     ],
     "language": "python",
     "metadata": {},
     "outputs": [],
     "prompt_number": ""
    },
    {
     "cell_type": "code",
     "collapsed": false,
     "input": [
      "cd ~/eckertlab/gypsy_indiv"
     ],
     "language": "python",
     "metadata": {},
     "outputs": [],
     "prompt_number": ""
    },
    {
     "cell_type": "code",
     "collapsed": false,
     "input": [
      "fastq_files = !find . -type f | grep '.fastq$' | grep -v HiSeq\n",
      "fastq_files = sorted([os.path.abspath(x) for x in fastq_files])"
     ],
     "language": "python",
     "metadata": {},
     "outputs": [],
     "prompt_number": ""
    },
    {
     "cell_type": "code",
     "collapsed": false,
     "input": [
      "rc = Client()\n",
      "dview = rc[:]\n",
      "lview = rc.load_balanced_view()\n",
      "print len(rc)"
     ],
     "language": "python",
     "metadata": {},
     "outputs": [],
     "prompt_number": ""
    },
    {
     "cell_type": "code",
     "collapsed": false,
     "input": [
      "assembly = \"/home/cfriedline/data7/assemblies/gypsy/masurca/CA/10-gapclose/genome.ctg.fasta\""
     ],
     "language": "python",
     "metadata": {},
     "outputs": [],
     "prompt_number": ""
    },
    {
     "cell_type": "code",
     "collapsed": false,
     "input": [
      "!/home/cfriedline/data7/src/bowtie2-2.2.2/bowtie2-build -f $assembly $assembly"
     ],
     "language": "python",
     "metadata": {},
     "outputs": []
    },
    {
     "cell_type": "code",
     "collapsed": false,
     "input": [
      "@lview.remote()\n",
      "def run_bowtie2(args):\n",
      "    import os, stopwatch, multiprocessing\n",
      "    timer = stopwatch.Timer()\n",
      "    cpus = multiprocessing.cpu_count()\n",
      "    assembly, reads = args\n",
      "    sam = \"%s.sam\" % reads\n",
      "    cmd = \"/home/cfriedline/data7/src/bowtie2-2.2.2/bowtie2 --local --very-sensitive-local -p %d -x %s -U %s -S %s\" % (cpus, assembly, reads, sam)\n",
      "    if not os.path.exists(sam):\n",
      "        !$cmd\n",
      "    timer.stop()\n",
      "    return assembly, sam, cmd, timer.elapsed\n"
     ],
     "language": "python",
     "metadata": {},
     "outputs": []
    },
    {
     "cell_type": "code",
     "collapsed": false,
     "input": [
      "@lview.remote()\n",
      "def convert_sam_to_bam(sam):\n",
      "    timer = stopwatch.Timer()\n",
      "    cpus = multiprocessing.cpu_count()\n",
      "    bam = sam.replace(\".sam\", \".bam\")\n",
      "    bam_sorted = \"%s_sorted.bam\" % bam.replace(\".bam\", \"\")\n",
      "    bam_index = bam_sorted.replace(\".bam\", \".bai\")\n",
      "    if not os.path.exists(bam):\n",
      "        !/home/cfriedline/data7/src/samtools-0.1.19/samtools view -bS $sam > $bam\n",
      "        !/home/cfriedline/data7/src/samtools-0.1.19/samtools sort -@ $cpus -f $bam $bam_sorted\n",
      "        !/home/cfriedline/data7/src/samtools-0.1.19/samtools index $bam_sorted $bam_index\n",
      "    timer.stop()\n",
      "    return bam, bam_sorted, bam_index, timer.elapsed"
     ],
     "language": "python",
     "metadata": {},
     "outputs": []
    },
    {
     "cell_type": "code",
     "collapsed": false,
     "input": [
      "bowtie_jobs = []\n",
      "for f in fastq_files:\n",
      "    bowtie_jobs.append(run_bowtie2((assembly, f)))"
     ],
     "language": "python",
     "metadata": {},
     "outputs": []
    },
    {
     "cell_type": "code",
     "collapsed": false,
     "input": [
      "bowtie_ready = 0\n",
      "for j in bowtie_jobs:\n",
      "    if j.ready():\n",
      "        bowtie_ready += 1\n",
      "    else:\n",
      "        pass\n",
      "print \"%d/%d\" % (bowtie_ready, len(bowtie_jobs))"
     ],
     "language": "python",
     "metadata": {},
     "outputs": []
    },
    {
     "cell_type": "code",
     "collapsed": false,
     "input": [
      "sam_bam_jobs = []\n",
      "sam_files = !find . -type f | grep '.sam$'\n",
      "sam_files = [os.path.abspath(x) for x in sam_files]\n",
      "for f in sam_files:\n",
      "    sam_bam_jobs.append(convert_sam_to_bam(os.path.abspath(f)))"
     ],
     "language": "python",
     "metadata": {},
     "outputs": []
    },
    {
     "cell_type": "code",
     "collapsed": false,
     "input": [
      "sam_bam_count = 0\n",
      "for j in sam_bam_jobs:\n",
      "    if j.ready():\n",
      "        sam_bam_count+=1\n",
      "print \"%d/%d\" % (sam_bam_count, len(sam_bam_jobs))"
     ],
     "language": "python",
     "metadata": {},
     "outputs": []
    },
    {
     "cell_type": "code",
     "collapsed": false,
     "input": [
      "@lview.remote()\n",
      "def mark_duplicates(bam_file):\n",
      "    output = bam_file.replace(\".bam\", \"_dedup.bam\")\n",
      "    metrics = output.replace(\".bam\", \".metrics\")\n",
      "    prog = \"/home/cfriedline/data7/src/picard-tools-1.112/MarkDuplicates.jar\"\n",
      "    cmd = \"java -jar %s INPUT=%s OUTPUT=%s METRICS_FILE=%s REMOVE_DUPLICATES=true CREATE_INDEX=true\" % (prog,\n",
      "                                                               bam_file,\n",
      "                                                               output,\n",
      "                                                               metrics)\n",
      "    !$cmd\n",
      "    return output, metrics"
     ],
     "language": "python",
     "metadata": {},
     "outputs": [],
     "prompt_number": ""
    },
    {
     "cell_type": "code",
     "collapsed": false,
     "input": [
      "@lview.remote()\n",
      "def index_bam(bam_file):\n",
      "    bam_index = bam_file.replace(\".bam\", \".bai\")\n",
      "    !/home/cfriedline/data7/src/samtools-0.1.19/samtools index $bam_file $bam_index\n",
      "    return bam_index"
     ],
     "language": "python",
     "metadata": {},
     "outputs": []
    },
    {
     "cell_type": "code",
     "collapsed": false,
     "input": [
      "sorted_bams = !find . -type f | grep 'sorted.bam$'\n",
      "sorted_bams = sorted([os.path.abspath(x) for x in sorted_bams])"
     ],
     "language": "python",
     "metadata": {},
     "outputs": [],
     "prompt_number": ""
    },
    {
     "cell_type": "code",
     "collapsed": false,
     "input": [
      "dedup_jobs = []\n",
      "for f in sorted_bams:\n",
      "    dedup_jobs.append(mark_duplicates(f))"
     ],
     "language": "python",
     "metadata": {},
     "outputs": []
    },
    {
     "cell_type": "code",
     "collapsed": false,
     "input": [
      "dedup_count = 0\n",
      "for j in dedup_jobs:\n",
      "#     print j.stdout\n",
      "    if j.ready():\n",
      "        dedup_count += 1\n",
      "print \"%d/%d\" % (dedup_count, len(dedup_jobs))"
     ],
     "language": "python",
     "metadata": {},
     "outputs": []
    },
    {
     "cell_type": "code",
     "collapsed": false,
     "input": [
      "index_jobs = []\n",
      "for j in dedup_jobs:\n",
      "    if j.ready():\n",
      "        dedup_bam = j.r[0]\n",
      "        index_jobs.append(index_bam(dedup_bam))"
     ],
     "language": "python",
     "metadata": {},
     "outputs": []
    },
    {
     "cell_type": "code",
     "collapsed": false,
     "input": [
      "index_count = 0\n",
      "for j in index_jobs:\n",
      "    if j.ready():\n",
      "        index_count += 1\n",
      "print \"%d/%d\" % (index_count, len(index_jobs))"
     ],
     "language": "python",
     "metadata": {},
     "outputs": []
    },
    {
     "cell_type": "code",
     "collapsed": false,
     "input": [
      "dedup_bams = !find . -type f | grep 'dedup.bam$'\n",
      "dedup_bams = sorted([os.path.abspath(x) for x in dedup_bams])"
     ],
     "language": "python",
     "metadata": {},
     "outputs": [],
     "prompt_number": ""
    },
    {
     "cell_type": "code",
     "collapsed": false,
     "input": [
      "@lview.remote()\n",
      "def run_indel_realigner(bam, assembly):\n",
      "    import os, socket, sys\n",
      "    java = \"/home/cfriedline/jdk1.7.0_25/bin/java\"\n",
      "    gatk = \"%s -Xmx2g -jar /home/cfriedline/data7/src/GATK-3.1.1/GenomeAnalysisTK.jar\" % java\n",
      "    intervals = \"%s.intervals\" % bam\n",
      "    cmd = \"%s -T RealignerTargetCreator -R %s -I %s -o %s\" % (gatk,\n",
      "                                                              assembly,\n",
      "                                                              bam,\n",
      "                                                              intervals)\n",
      "    print socket.gethostname(), cmd\n",
      "    !$cmd\n",
      "    return cmd, socket.gethostname(), intervals"
     ],
     "language": "python",
     "metadata": {},
     "outputs": [],
     "prompt_number": ""
    },
    {
     "cell_type": "code",
     "collapsed": false,
     "input": [
      "@lview.remote()\n",
      "def add_rg_info_to_bam(bam):\n",
      "    import os\n",
      "    cmd = \"java -jar /home/cfriedline/data7/src/picard-tools-1.112/AddOrReplaceReadGroups.jar\"\n",
      "    rgid = os.path.basename(os.path.dirname(bam))\n",
      "    base = os.path.basename(bam).split(\".\")\n",
      "    bam_rg = bam.replace(\".bam\", \"_rg.bam\")\n",
      "    rglb = base[0]\n",
      "    rgpu = base[0].split(\"_\")[-1]\n",
      "    rgsm = base[0]\n",
      "    cmd = \"%s INPUT=%s OUTPUT=%s RGID=%s RGLB=%s RGPL=illumina RGPU=%s RGSM=%s CREATE_INDEX=true\" % (cmd,\n",
      "                                                                                   bam,\n",
      "                                                                                   bam_rg,\n",
      "                                                                                   rgid,\n",
      "                                                                                   rglb,\n",
      "                                                                                   rgpu,\n",
      "                                                                                   rgsm)\n",
      "    !$cmd\n",
      "    return bam_rg\n",
      "    "
     ],
     "language": "python",
     "metadata": {},
     "outputs": [],
     "prompt_number": ""
    },
    {
     "cell_type": "code",
     "collapsed": false,
     "input": [
      "add_rg = []\n",
      "for f in sorted_bams:\n",
      "    add_rg.append(add_rg_info_to_bam(f))"
     ],
     "language": "python",
     "metadata": {},
     "outputs": [],
     "prompt_number": ""
    },
    {
     "cell_type": "code",
     "collapsed": false,
     "input": [
      "rg_count = 0\n",
      "for j in add_rg:\n",
      "    if j.ready():\n",
      "        rg_count += 1\n",
      "    else:\n",
      "        print j.stdout\n",
      "print \"%d/%d\" % (rg_count, len(add_rg))"
     ],
     "language": "python",
     "metadata": {},
     "outputs": [],
     "prompt_number": ""
    },
    {
     "cell_type": "code",
     "collapsed": false,
     "input": [
      "rg_bams = !find . -type f | grep 'rg.bam$'\n",
      "rg_bams = sorted([os.path.abspath(x) for x in rg_bams])"
     ],
     "language": "python",
     "metadata": {},
     "outputs": [],
     "prompt_number": ""
    },
    {
     "cell_type": "code",
     "collapsed": false,
     "input": [
      "rg_dedup = []\n",
      "for f in rg_bams:\n",
      "    rg_dedup.append(mark_duplicates(f))"
     ],
     "language": "python",
     "metadata": {},
     "outputs": [],
     "prompt_number": ""
    },
    {
     "cell_type": "code",
     "collapsed": false,
     "input": [
      "rg_dedup_count = 0\n",
      "for j in rg_dedup:\n",
      "    if j.ready():\n",
      "        rg_dedup_count += 1\n",
      "#     else:\n",
      "#         print j.stdout\n",
      "print \"%d/%d\" % (rg_dedup_count, len(rg_dedup))"
     ],
     "language": "python",
     "metadata": {},
     "outputs": [],
     "prompt_number": ""
    },
    {
     "cell_type": "code",
     "collapsed": false,
     "input": [
      "rg_dedup_bams = !find . -type f | grep 'rg_dedup.bam$'\n",
      "rg_dedup_bams = sorted([os.path.abspath(x) for x in rg_dedup_bams])"
     ],
     "language": "python",
     "metadata": {},
     "outputs": [],
     "prompt_number": ""
    },
    {
     "cell_type": "code",
     "collapsed": false,
     "input": [
      "rg_dedup_bams"
     ],
     "language": "python",
     "metadata": {},
     "outputs": [],
     "prompt_number": ""
    },
    {
     "cell_type": "code",
     "collapsed": false,
     "input": [
      "indel_realign_tasks = []\n",
      "for f in rg_dedup_bams:\n",
      "    indel_realign_tasks.append(run_indel_realigner(f, assembly))"
     ],
     "language": "python",
     "metadata": {},
     "outputs": [],
     "prompt_number": ""
    },
    {
     "cell_type": "code",
     "collapsed": false,
     "input": [
      "indel_realign_ready = 0\n",
      "for j in indel_realign_tasks:\n",
      "    if j.ready():\n",
      "        indel_realign_ready += 0\n",
      "    else:\n",
      "        progress = j.stdout.split(\"\\n\")[-2:]\n",
      "        if progress[0]:\n",
      "            print \" \".join(progress[0].split())\n",
      "print \"%d/%d\" % (indel_realign_ready, len(indel_realign_tasks))"
     ],
     "language": "python",
     "metadata": {},
     "outputs": [],
     "prompt_number": ""
    },
    {
     "cell_type": "code",
     "collapsed": false,
     "input": [],
     "language": "python",
     "metadata": {},
     "outputs": [],
     "prompt_number": ""
    },
    {
     "cell_type": "code",
     "collapsed": false,
     "input": [],
     "language": "python",
     "metadata": {},
     "outputs": []
    }
   ],
   "metadata": {}
  }
 ]
}
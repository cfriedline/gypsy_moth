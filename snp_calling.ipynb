{
 "metadata": {
  "name": "",
  "signature": "sha256:e79b304a52c8a2075dca5f4dc357f5c2c3189a560282ab2dcaa5c0668a094eeb"
 },
 "nbformat": 3,
 "nbformat_minor": 0,
 "worksheets": [
  {
   "cells": [
    {
     "cell_type": "code",
     "collapsed": false,
     "input": [
      "import os, sys\n",
      "from IPython.parallel import Client"
     ],
     "language": "python",
     "metadata": {},
     "outputs": [],
     "prompt_number": ""
    },
    {
     "cell_type": "code",
     "collapsed": false,
     "input": [
      "rc = Client()\n",
      "dview = rc[:]\n",
      "lview = rc.load_balanced_view()"
     ],
     "language": "python",
     "metadata": {},
     "outputs": [],
     "prompt_number": ""
    },
    {
     "cell_type": "code",
     "collapsed": false,
     "input": [
      "@lview.remote()\n",
      "def call_snps(args):\n",
      "    import socket\n",
      "    print socket.gethostname()\n",
      "    samtools = \"/home/cfriedline/data7/src/samtools-0.1.19/samtools\"\n",
      "    bcftools = \"/home/cfriedline/data7/src/samtools-0.1.19/bcftools/bcftools\"\n",
      "    vcfutils = \"/home/cfriedline/data7/src/samtools-0.1.19/bcftools/vcfutils.pl\"\n",
      "    timer = stopwatch.Timer()\n",
      "    reference, bam_sorted, raw_bcf, raw_vcf, out_dir = args \n",
      "    if not out_dir:\n",
      "        out_dir = os.environ['TMPDIR']\n",
      "    raw_bcf = os.path.join(out_dir, raw_bcf)\n",
      "    raw_vcf = os.path.join(out_dir, raw_vcf)\n",
      "    ploidy_file = create_ploidy_file(bam_sorted)\n",
      "    pileup = \"%s mpileup -uf %s %s | %s view -s %s -bvcg - > %s\" % (samtools, reference, ' '.join(bam_sorted), bcftools, ploidy_file, raw_bcf) \n",
      "    view_filter = \"%s view -s %s %s | %s varFilter -D100 > %s\" % (bcftools, ploidy_file, raw_bcf, vcfutils, raw_vcf)\n",
      "    print pileup\n",
      "    !$pileup\n",
      "    print view_filter\n",
      "    !$view_filter\n",
      "    timer.stop()\n",
      "    return raw_vcf, args, pileup, view_filter, timer.elapsed"
     ],
     "language": "python",
     "metadata": {},
     "outputs": [],
     "prompt_number": ""
    }
   ],
   "metadata": {}
  }
 ]
}
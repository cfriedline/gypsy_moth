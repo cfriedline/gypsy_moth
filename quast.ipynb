{
 "cells": [
  {
   "cell_type": "markdown",
   "metadata": {},
   "source": [
    "### Quast genome assembly\n",
    "\n",
    "```bash\n",
    "conda create -n quast python2\n",
    "conda install numpy scipy matplotlib ipython accelerate\n",
    "```\n",
    "\n",
    "---\n",
    "\n",
    "```bash\n",
    "> cd /home/cfriedline/g/src/quast-3.2\n",
    "\n",
    "> cat run_gypsy.sh\n",
    "```\n",
    "\n",
    "```\n",
    "#!/bin/bash\n",
    "#$ -N quast\n",
    "#$ -V\n",
    "#$ -j yes\n",
    "#$ -cwd\n",
    "#$ -pe smp 50\n",
    ". activate quast\n",
    "python quast.py \\\n",
    "/gpfs_fs/home/cfriedline/assemblies/gypsy/masurca_new/CA/10-gapclose/genome.ctg.fasta \\\n",
    "~/eckertlab/projects/gypsy_moth/assemblies/masurca3/CA/10-gapclose/genome.ctg.fasta \\\n",
    "--gene-finding \\\n",
    "--eukaryote \\\n",
    "-o gypsy_moth \\\n",
    "--threads 32 \\\n",
    "--min-contig 200 \\\n",
    "--labels MaSuRCA2,MaSuRCA3 \\\n",
    "--glimmer\n",
    "```\n",
    "\n",
    "```bash\n",
    "> qsub run_gypsy.sh\n",
    "```"
   ]
  },
  {
   "cell_type": "code",
   "execution_count": 0,
   "metadata": {
    "collapsed": true
   },
   "outputs": [],
   "source": []
  }
 ],
 "metadata": {
  "kernelspec": {
   "display_name": "Python 3",
   "language": "python",
   "name": "python3"
  },
  "language_info": {
   "codemirror_mode": {
    "name": "ipython",
    "version": 3
   },
   "file_extension": ".py",
   "mimetype": "text/x-python",
   "name": "python",
   "nbconvert_exporter": "python",
   "pygments_lexer": "ipython3",
   "version": "3.4.4"
  }
 },
 "nbformat": 4,
 "nbformat_minor": 0
}

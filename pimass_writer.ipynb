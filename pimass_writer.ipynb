{
 "cells": [
  {
   "cell_type": "code",
   "execution_count": 1,
   "metadata": {
    "collapsed": true
   },
   "outputs": [],
   "source": [
    "import sys, os\n",
    "sys.path.append(\"../include_utils/\")"
   ]
  },
  {
   "cell_type": "code",
   "execution_count": 2,
   "metadata": {
    "collapsed": true
   },
   "outputs": [],
   "source": [
    "analysis_dir = \"/home/cfriedline/eckertlab/gypsy_indiv/masked/analysis/samtools1.2_no_otis/notimputed\"\n",
    "analysis_vcf = \"snps.vcf.gz\"\n",
    "good_snp_file_gz = '/home/cfriedline/eckertlab/gypsy_indiv/masked/analysis/samtools1.2_no_otis/notimputed/goodsnps.vcf.gz'"
   ]
  },
  {
   "cell_type": "code",
   "execution_count": 104,
   "metadata": {
    "collapsed": false
   },
   "outputs": [],
   "source": [
    "import pandas as pd\n",
    "import numpy as np\n",
    "import vcf\n",
    "import pysam\n",
    "import cyvcf\n",
    "import include_utils as u\n",
    "from hdfstorehelper import HDFStoreHelper\n",
    "%load_ext autoreload\n",
    "from pandas import HDFStore\n",
    "import warnings\n",
    "warnings.filterwarnings('ignore',category=pd.io.pytables.PerformanceWarning)\n",
    "%load_ext rpy2.ipython\n",
    "import rpy2.robjects as ro\n",
    "import random"
   ]
  },
  {
   "cell_type": "code",
   "execution_count": 99,
   "metadata": {
    "collapsed": true
   },
   "outputs": [],
   "source": [
    "r = ro.r"
   ]
  },
  {
   "cell_type": "code",
   "execution_count": 5,
   "metadata": {
    "collapsed": true
   },
   "outputs": [],
   "source": [
    "%autoreload 2"
   ]
  },
  {
   "cell_type": "code",
   "execution_count": 13,
   "metadata": {
    "collapsed": true
   },
   "outputs": [],
   "source": [
    "files = hdf.get('files')"
   ]
  },
  {
   "cell_type": "code",
   "execution_count": 25,
   "metadata": {
    "collapsed": false
   },
   "outputs": [],
   "source": [
    "files"
   ]
  },
  {
   "cell_type": "code",
   "execution_count": 59,
   "metadata": {
    "collapsed": false
   },
   "outputs": [],
   "source": [
    "hdf = HDFStoreHelper(os.path.join(analysis_dir, \"gypsy_samtools12_%s.hd5\" % analysis_vcf))"
   ]
  },
  {
   "cell_type": "code",
   "execution_count": 117,
   "metadata": {
    "collapsed": false
   },
   "outputs": [],
   "source": [
    "gt_base_df_swapped = hdf.get('gt_base_df_swapped')\n",
    "pca_std_pheno = hdf.get('pca_std_pheno')"
   ]
  },
  {
   "cell_type": "code",
   "execution_count": 62,
   "metadata": {
    "collapsed": false
   },
   "outputs": [],
   "source": [
    "gt_base_df_swapped.head()"
   ]
  },
  {
   "cell_type": "code",
   "execution_count": 67,
   "metadata": {
    "collapsed": false
   },
   "outputs": [],
   "source": [
    "def convert_GQ_to_p(q):\n",
    "    return pow(10,(q/-10.0))\n",
    "\n",
    "def get_dosage(GP):\n",
    "    total = 0\n",
    "    if sum(GP) == 0:\n",
    "        return \"NA\"\n",
    "    else:\n",
    "        pvals = [convert_GQ_to_p(x) for x in GP]\n",
    "        pval_sum = np.sum(pvals)\n",
    "        pvals = [x/pval_sum for x in pvals]\n",
    "        for i, val in enumerate(pvals):\n",
    "            total += val*i\n",
    "            \n",
    "    return np.round(total, 3)\n",
    "\n",
    "def get_GP(sample, flip):\n",
    "    if flip:\n",
    "        return sample, sample['GP'][::-1], \"flipped\"\n",
    "    else:\n",
    "        return sample['GT'], sample['GP'], \"\"\n",
    "        \n",
    "\n",
    "def get_major_minor(snp, reader):\n",
    "    d = snp.name.split(\"_\")\n",
    "    contig = \"_\".join(d[0:-1])\n",
    "    loc = int(d[-1])\n",
    "    minor_major = []\n",
    "    for gt in snp:\n",
    "        if isinstance(gt, float):\n",
    "            pass\n",
    "        else:\n",
    "            mm = \"%s%s\" % (gt[0],gt[-1])\n",
    "            if not mm in minor_major and mm[0] != mm[1]:\n",
    "                minor_major.append(mm)\n",
    "    mm = minor_major[0]\n",
    "    global thesnp\n",
    "    for x in reader.fetch(contig, loc-1, loc):\n",
    "        thesnp = x\n",
    "    snp_mm = \"%s%s\" % (thesnp.REF, thesnp.ALT[0])\n",
    "    flip = False\n",
    "    if mm != snp_mm:\n",
    "        flip = True\n",
    "    dosages = []\n",
    "    samples = []\n",
    "    for sample in thesnp.samples:\n",
    "        gt, gp, flipped = get_GP(sample, flip)\n",
    "        dosages.append(get_dosage(gp))\n",
    "        sample_name = \"%s_0\" % \"_\".join(sample.sample.split(\"_\")[0:-1])\n",
    "        samples.append(sample_name)\n",
    "    data = [mm[0], mm[1]]\n",
    "    index = [\"minor\", \"major\"]\n",
    "    index.extend(samples)\n",
    "    data.extend(dosages)\n",
    "    ret = pd.Series(data, index=index)\n",
    "    return ret\n",
    "\n",
    "def get_pimass_gt(df):\n",
    "    ret = None\n",
    "    reader = cyvcf.VCFReader(filename=good_snp_file_gz)\n",
    "    ret = df.apply(get_major_minor, args=(reader,))\n",
    "    return ret.T\n",
    "\n",
    "pimass_gt = get_pimass_gt(gt_base_df_swapped)\n",
    "pimass_gt.head()"
   ]
  },
  {
   "cell_type": "code",
   "execution_count": 68,
   "metadata": {
    "collapsed": false,
    "scrolled": true
   },
   "outputs": [],
   "source": [
    "gt_base_df_swapped.head()"
   ]
  },
  {
   "cell_type": "code",
   "execution_count": 84,
   "metadata": {
    "collapsed": false,
    "scrolled": true
   },
   "outputs": [],
   "source": [
    "hdf.put('pimass_gt', pimass_gt)"
   ]
  },
  {
   "cell_type": "code",
   "execution_count": 85,
   "metadata": {
    "collapsed": true
   },
   "outputs": [],
   "source": [
    "pimass_gt.to_csv(os.path.join(analysis_dir, \"pimass_gt.txt\"),\n",
    "                index=True,\n",
    "                header=False)"
   ]
  },
  {
   "cell_type": "code",
   "execution_count": 86,
   "metadata": {
    "collapsed": true
   },
   "outputs": [],
   "source": [
    "pheno = hdf.get('pheno')"
   ]
  },
  {
   "cell_type": "code",
   "execution_count": 87,
   "metadata": {
    "collapsed": true
   },
   "outputs": [],
   "source": [
    "pimass_samples = [\"_\".join(x.split(\"_\")[0:-1]) for x in pimass_gt.columns if \"_\" in x]"
   ]
  },
  {
   "cell_type": "code",
   "execution_count": 88,
   "metadata": {
    "collapsed": true
   },
   "outputs": [],
   "source": [
    "pheno.index=pheno.sample_pheno\n",
    "pimass_pheno = pheno.ix[pimass_samples]"
   ]
  },
  {
   "cell_type": "code",
   "execution_count": 89,
   "metadata": {
    "collapsed": true
   },
   "outputs": [],
   "source": [
    "import statsmodels.api as sm\n",
    "import statsmodels.formula.api as smf\n",
    "\n",
    "pimass_pheno_pca = pca_std_pheno[[x for x in pca_std_pheno if \"PC\" in x or 'Mass' in x or 'Pupual' in x or 'Total Dev' in x]]\n",
    "\n",
    "pimass_pheno_pca.columns = [x.replace(\" \", \"_\") for x in pimass_pheno_pca.columns]\n",
    "pimass_pheno_pca.index = [\"_\".join(x.split(\"_\")[0:-1]) for x in pimass_pheno_pca.index]\n",
    "phenos = [\"Mass\", \"Pupual_Duration\", \"Total_Dev_Time\"]\n",
    "for p in phenos:\n",
    "    mod = smf.ols(formula=\"%s~PC1+PC2+PC3+PC4+PC5+PC6+PC7+PC8\" % p, data=pimass_pheno_pca)\n",
    "    res = mod.fit()\n",
    "    col = \"%s_resid\" % p\n",
    "    col = col.lower()\n",
    "    pimass_pheno[col] = res.resid"
   ]
  },
  {
   "cell_type": "code",
   "execution_count": 95,
   "metadata": {
    "collapsed": false
   },
   "outputs": [],
   "source": [
    "%R -i pimass_pheno"
   ]
  },
  {
   "cell_type": "code",
   "execution_count": 96,
   "metadata": {
    "collapsed": true
   },
   "outputs": [],
   "source": [
    "%%R\n",
    "massx = qqnorm(pimass_pheno$mass_resid, plot.it=F)$x\n",
    "tdtx = qqnorm(pimass_pheno$total_dev_time_resid, plot.it=F)$x\n",
    "pdx = qqnorm(pimass_pheno$pupual_duration_resid, plot.it=F)$x"
   ]
  },
  {
   "cell_type": "code",
   "execution_count": 100,
   "metadata": {
    "collapsed": false
   },
   "outputs": [],
   "source": [
    "pimass_pheno['massx'] = r('massx')\n",
    "pimass_pheno['tdtx'] = r('tdtx')\n",
    "pimass_pheno['pdx'] = r('pdx')"
   ]
  },
  {
   "cell_type": "code",
   "execution_count": 101,
   "metadata": {
    "collapsed": true
   },
   "outputs": [],
   "source": [
    "pimass_pheno.massx.to_csv(os.path.join(analysis_dir, \"pimass_mass.txt\"),\n",
    "                                     index=False,\n",
    "                                     header=False)\n",
    "pimass_pheno.tdtx.to_csv(os.path.join(analysis_dir, \"pimass_tdt.txt\"),\n",
    "                                     index=False,\n",
    "                                     header=False)\n",
    "pimass_pheno.pdx.to_csv(os.path.join(analysis_dir, \"pimass_pd.txt\"),\n",
    "                                     index=False,\n",
    "                                     header=False)\n",
    "pimass_pheno.to_csv(os.path.join(analysis_dir, \"pimass_pheno.txt\"),\n",
    "                                     index=True,\n",
    "                                     header=True)"
   ]
  },
  {
   "cell_type": "code",
   "execution_count": 102,
   "metadata": {
    "collapsed": true
   },
   "outputs": [],
   "source": [
    "pimass_contigs = {}\n",
    "with open(os.path.join(analysis_dir, \"pimass_loc.txt\"), \"w\") as o:    \n",
    "    for x in pimass_gt.index:\n",
    "        data = x.split(\"_\")\n",
    "        contig = \"_\".join(data[0:-1])\n",
    "        pos = data[-1]\n",
    "        if not contig in pimass_contigs:\n",
    "            pimass_contigs[contig] = []\n",
    "        pimass_contigs[contig].append(pos)\n",
    "    \n",
    "    chrom_id = 1\n",
    "    for contig, positions in pimass_contigs.items():\n",
    "        for p in positions:\n",
    "            o.write(\"%s_%s\\t%s\\t%d\\n\" % (contig, p, p, chrom_id))\n",
    "        chrom_id += 1"
   ]
  },
  {
   "cell_type": "code",
   "execution_count": 116,
   "metadata": {
    "collapsed": false
   },
   "outputs": [],
   "source": [
    "def create_pimass_run_files(num_runs):\n",
    "    phenos = [\"mass\", 'tdt', 'pd']\n",
    "    for p in phenos:\n",
    "        with open(os.path.join(analysis_dir, \"pimass_%s_run.txt\" % p), \"w\") as o:\n",
    "            for i in xrange(num_runs):\n",
    "                cmd = \"~/g/src/pimass/pimass-lin \\\n",
    "-g pimass_gt.txt \\\n",
    "-p pimass_%s.txt -pos pimass_loc.txt \\\n",
    "-o pimass_%s_out_%d \\\n",
    "-w 1000000 \\\n",
    "-s 10000000 \\\n",
    "-num 500 \\\n",
    "-smin 1 \\\n",
    "-smax 100 \\\n",
    "-hmin 0.01 \\\n",
    "-hmax 0.9 \\\n",
    "-pmin 1 \\\n",
    "-pmax 1000 \\\n",
    "-r %.0f\" % (p, p, i, int(random.getrandbits(32)))\n",
    "                o.write(\"%s\\n\" % cmd)\n",
    "                \n",
    "\n",
    "\n",
    "def create_qsub_files():\n",
    "    files = !ls {analysis_dir}/*run.txt\n",
    "    ret = []\n",
    "    for f in files:\n",
    "        with open(\"%s_qsub.sh\" % f, \"w\") as o:\n",
    "            o.write(\"\"\"#!/bin/bash\n",
    "#$ -j y\n",
    "#$ -V\n",
    "#$ -N pimass_%s\n",
    "#$ -cwd\n",
    "parallel -a %s\n",
    "\"\"\" % (os.path.basename(f).split(\"_\")[1], f))\n",
    "            ret.append(o.name)\n",
    "    return ret\n",
    "            \n",
    "create_pimass_run_files(10)\n",
    "qsub_files = create_qsub_files()\n",
    "qsub_files"
   ]
  },
  {
   "cell_type": "markdown",
   "metadata": {},
   "source": [
    "## Run and save piMASS\n",
    "```bash\n",
    "\n",
    "./run_pimass.sh\n",
    "mv output output_comeault\n",
    "```"
   ]
  },
  {
   "cell_type": "code",
   "execution_count": null,
   "metadata": {
    "collapsed": true
   },
   "outputs": [],
   "source": []
  }
 ],
 "metadata": {
  "kernelspec": {
   "display_name": "Python 2",
   "language": "python",
   "name": "python2"
  }
 },
 "nbformat": 4,
 "nbformat_minor": 0
}

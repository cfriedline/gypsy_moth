{
 "cells": [
  {
   "cell_type": "code",
   "execution_count": 0,
   "metadata": {
    "collapsed": false
   },
   "outputs": [],
   "source": [
    "import sys\n",
    "import os\n",
    "import pandas as pd\n",
    "import numpy as np\n",
    "import scipy as sp\n",
    "import shutil\n",
    "import matplotlib.pyplot as plt\n",
    "import seaborn as sns\n",
    "import Bio\n",
    "from Bio.Blast.Applications import NcbiblastxCommandline"
   ]
  },
  {
   "cell_type": "code",
   "execution_count": 0,
   "metadata": {
    "collapsed": true
   },
   "outputs": [],
   "source": [
    "bombyx = \"/gpfs_fs/home/eckertlab/genomes/Bombyx_mori/protein/protein.fa\"\n",
    "plutella = \"/gpfs_fs/home/eckertlab/genomes/Plutella_xylostella/protein/protein.fa\""
   ]
  },
  {
   "cell_type": "markdown",
   "metadata": {},
   "source": [
    "## Create blast databases\n",
    "\n",
    "```bash\n",
    "~/g/src/ncbi-blast-2.2.30+/bin/makeblastdb -in protein.fa -dbtype prot\n",
    "```"
   ]
  },
  {
   "cell_type": "code",
   "execution_count": 0,
   "metadata": {
    "collapsed": true
   },
   "outputs": [],
   "source": [
    "blastx = \"/home/cfriedline/g/src/ncbi-blast-2.2.30+/bin/blastx\"\n",
    "assembly = \"/home/cfriedline/eckertlab/projects/gypsy_moth/assemblies/masurca3/CA/10-gapclose/genome.ctg.fasta\"\n",
    "analysis_dir = \"/home/cfriedline/eckertlab/gypsy_indiv/raw_demult/analysis/samtools1.3_masurca3/\""
   ]
  },
  {
   "cell_type": "code",
   "execution_count": 0,
   "metadata": {
    "collapsed": false
   },
   "outputs": [],
   "source": [
    "outfiles = []\n",
    "clines = []\n",
    "for org, db in list({'bombyx': bombyx, 'plutella': plutella}.items()):\n",
    "    outdir = os.path.join(analysis_dir, \"blast\")\n",
    "    if not os.path.exists(outdir):\n",
    "        os.mkdir(outdir)\n",
    "    out = os.path.join(outdir, \"%s.xml\" % org)\n",
    "    outfiles.append(out)\n",
    "    cline = NcbiblastxCommandline(cmd=blastx,\n",
    "                                 out=out,\n",
    "                                 db=db,\n",
    "                                 query=assembly,\n",
    "                                 outfmt=5,\n",
    "                                 max_target_seqs=5,\n",
    "                                 num_threads=10,\n",
    "                                 evalue=1e-5)\n",
    "    clines.append(cline)"
   ]
  },
  {
   "cell_type": "code",
   "execution_count": 0,
   "metadata": {
    "collapsed": true
   },
   "outputs": [],
   "source": [
    "with open(os.path.join(analysis_dir, \"blast.sh\"), \"w\") as o:\n",
    "    for cline in clines:\n",
    "        o.write(\"%s\\n\" % cline)"
   ]
  },
  {
   "cell_type": "markdown",
   "metadata": {},
   "source": [
    "```bash\n",
    "~/bin/parallel --no-notice --bar -a blast.sh\n",
    "```"
   ]
  },
  {
   "cell_type": "code",
   "execution_count": 0,
   "metadata": {
    "collapsed": true
   },
   "outputs": [],
   "source": []
  }
 ],
 "metadata": {
  "kernelspec": {
   "display_name": "Python 3",
   "language": "python",
   "name": "python3"
  },
  "language_info": {
   "codemirror_mode": {
    "name": "ipython",
    "version": 3
   },
   "file_extension": ".py",
   "mimetype": "text/x-python",
   "name": "python",
   "nbconvert_exporter": "python",
   "pygments_lexer": "ipython3",
   "version": "3.4.3"
  }
 },
 "nbformat": 4,
 "nbformat_minor": 0
}

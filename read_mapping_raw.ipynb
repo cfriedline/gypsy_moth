{
 "cells": [
  {
   "cell_type": "code",
   "execution_count": 0,
   "metadata": {
    "ExecuteTime": {},
    "collapsed": false
   },
   "outputs": [],
   "source": [
    "import os, sys\n",
    "from ipyparallel import Client\n",
    "import matplotlib.pyplot as plt\n",
    "%matplotlib inline\n",
    "from subprocess import Popen, PIPE\n",
    "from Bio import SeqIO\n",
    "import pandas as pd\n",
    "import pickle"
   ]
  },
  {
   "cell_type": "code",
   "execution_count": 0,
   "metadata": {
    "ExecuteTime": {},
    "collapsed": true
   },
   "outputs": [],
   "source": [
    "sys.path.append(\"/home/cfriedline/ipynb/include_utils\")"
   ]
  },
  {
   "cell_type": "code",
   "execution_count": 0,
   "metadata": {
    "ExecuteTime": {},
    "collapsed": false
   },
   "outputs": [],
   "source": [
    "import include_utils as u"
   ]
  },
  {
   "cell_type": "code",
   "execution_count": 0,
   "metadata": {
    "ExecuteTime": {},
    "collapsed": false
   },
   "outputs": [],
   "source": [
    "cd ~/eckertlab/gypsy_indiv/raw_demult_gbsx/"
   ]
  },
  {
   "cell_type": "code",
   "execution_count": 0,
   "metadata": {
    "ExecuteTime": {},
    "collapsed": false
   },
   "outputs": [],
   "source": [
    "fastq_files = !find I1 I3 -type f | grep '.fastq$' | grep -v lane | grep -v OTIS | grep -v undet\n",
    "fastq_files = sorted([os.path.abspath(x) for x in fastq_files])\n",
    "len(fastq_files)"
   ]
  },
  {
   "cell_type": "code",
   "execution_count": 0,
   "metadata": {
    "ExecuteTime": {},
    "collapsed": false
   },
   "outputs": [],
   "source": [
    "rc = Client(profile=\"sge\")"
   ]
  },
  {
   "cell_type": "code",
   "execution_count": 0,
   "metadata": {
    "ExecuteTime": {},
    "collapsed": false
   },
   "outputs": [],
   "source": [
    "dv = rc[:]\n",
    "lv = rc.load_balanced_view()\n",
    "len(dv)"
   ]
  },
  {
   "cell_type": "code",
   "execution_count": 0,
   "metadata": {
    "ExecuteTime": {},
    "collapsed": false
   },
   "outputs": [],
   "source": [
    "with dv.sync_imports():\n",
    "    import os, sys, socket"
   ]
  },
  {
   "cell_type": "code",
   "execution_count": 0,
   "metadata": {
    "ExecuteTime": {},
    "collapsed": true
   },
   "outputs": [],
   "source": [
    "hv = u.get_single_host_lview(rc, \"all\")"
   ]
  },
  {
   "cell_type": "code",
   "execution_count": 0,
   "metadata": {
    "ExecuteTime": {},
    "collapsed": false
   },
   "outputs": [],
   "source": [
    "#assembly = \"/home/cfriedline/gpfs/assemblies/gypsy/masurca_new/CA/10-gapclose/genome.ctg.fasta\"\n",
    "assembly = \"/home/cfriedline/eckertlab/projects/gypsy_moth/assemblies/masurca3/CA/10-gapclose/genome.ctg.fasta\""
   ]
  },
  {
   "cell_type": "code",
   "execution_count": 0,
   "metadata": {
    "collapsed": false,
    "scrolled": true
   },
   "outputs": [],
   "source": [
    "!/home/cfriedline/gpfs/src/bowtie2-2.2.4/bowtie2-build -f $assembly $assembly"
   ]
  },
  {
   "cell_type": "code",
   "execution_count": 0,
   "metadata": {
    "ExecuteTime": {},
    "collapsed": false
   },
   "outputs": [],
   "source": [
    "# --very-fast-local\n",
    "# Same as: -D 5 -R 1 -N 0 -L 25 -i S,1,2.00\n",
    "\n",
    "# --fast-local\n",
    "# Same as: -D 10 -R 2 -N 0 -L 22 -i S,1,1.75\n",
    "\n",
    "# --sensitive-local\n",
    "# Same as: -D 15 -R 2 -N 0 -L 20 -i S,1,0.75 (default in --local mode)\n",
    "\n",
    "# --very-sensitive-local\n",
    "# Same as: -D 20 -R 3 -N 0 -L 20 -i S,1,0.50\n",
    "\n",
    "@lv.remote()\n",
    "def run_bowtie2(args):\n",
    "    import os, stopwatch, multiprocessing\n",
    "    timer = stopwatch.Timer()\n",
    "    cpus = multiprocessing.cpu_count()\n",
    "    assembly, reads = args\n",
    "    parent = os.path.dirname(reads)\n",
    "    outdir = os.path.join(parent, \"masurca3_rerun\")\n",
    "    if not os.path.exists(outdir):\n",
    "        os.mkdir(outdir)\n",
    "    sam = os.path.join(outdir, \"%s.sam\" % (os.path.basename(reads)))\n",
    "    cmd = \"/home/cfriedline/gpfs/src/bowtie2-2.2.4/bowtie2 --local -D 20 -R 3 -N 1 -L 20 -i S,1,0.50 -p %d -x %s -U %s -S %s\" % (cpus,\n",
    "                                                               assembly,\n",
    "                                                               reads,\n",
    "                                                               sam)\n",
    "    res = None\n",
    "    res = !$cmd\n",
    "#     if not os.path.exists(sam):\n",
    "#         res = !$cmd\n",
    "    timer.stop()\n",
    "    return assembly, sam, cmd, timer.elapsed, res"
   ]
  },
  {
   "cell_type": "code",
   "execution_count": 0,
   "metadata": {
    "ExecuteTime": {},
    "collapsed": false
   },
   "outputs": [],
   "source": [
    "@lv.remote()\n",
    "def convert_sam_to_bam(sam):\n",
    "    import stopwatch, multiprocessing, os\n",
    "    timer = stopwatch.Timer()\n",
    "    cpus = multiprocessing.cpu_count()\n",
    "    bam = sam.replace(\".sam\", \".bam\")\n",
    "    bam_sorted = \"%s_sorted.bam\" % bam.replace(\".bam\", \"\")\n",
    "    if not os.path.exists(bam):\n",
    "        !/home/cfriedline/gpfs/src/samtools-1.3/samtools view -b $sam -o $bam\n",
    "        !/home/cfriedline/gpfs/src/samtools-1.3/samtools sort -@ $cpus $bam -o $bam_sorted\n",
    "        !/home/cfriedline/gpfs/src/samtools-1.3/samtools index $bam_sorted\n",
    "    timer.stop()\n",
    "    return bam, bam_sorted, timer.elapsed"
   ]
  },
  {
   "cell_type": "code",
   "execution_count": 0,
   "metadata": {
    "ExecuteTime": {},
    "collapsed": false
   },
   "outputs": [],
   "source": [
    "len(fastq_files)"
   ]
  },
  {
   "cell_type": "code",
   "execution_count": 0,
   "metadata": {
    "ExecuteTime": {},
    "collapsed": false
   },
   "outputs": [],
   "source": [
    "len(dv)"
   ]
  },
  {
   "cell_type": "code",
   "execution_count": 0,
   "metadata": {
    "ExecuteTime": {},
    "collapsed": false
   },
   "outputs": [],
   "source": [
    "fastq_files[0]"
   ]
  },
  {
   "cell_type": "code",
   "execution_count": 0,
   "metadata": {
    "ExecuteTime": {},
    "collapsed": false
   },
   "outputs": [],
   "source": [
    "bowtie_jobs = []\n",
    "for f in fastq_files:\n",
    "    bowtie_jobs.append(run_bowtie2((assembly, f)))"
   ]
  },
  {
   "cell_type": "code",
   "execution_count": 0,
   "metadata": {
    "ExecuteTime": {},
    "collapsed": false
   },
   "outputs": [],
   "source": [
    "u.get_async_progress(bowtie_jobs)"
   ]
  },
  {
   "cell_type": "code",
   "execution_count": 0,
   "metadata": {
    "ExecuteTime": {},
    "collapsed": false
   },
   "outputs": [],
   "source": [
    "for i, x in enumerate(bowtie_jobs):\n",
    "    if x.ready():\n",
    "        print(i, x.r[-1][-1])"
   ]
  },
  {
   "cell_type": "code",
   "execution_count": 0,
   "metadata": {
    "ExecuteTime": {},
    "collapsed": true
   },
   "outputs": [],
   "source": [
    "bowtie_results = [x.r for x in bowtie_jobs]"
   ]
  },
  {
   "cell_type": "code",
   "execution_count": 0,
   "metadata": {
    "ExecuteTime": {},
    "collapsed": true
   },
   "outputs": [],
   "source": [
    "demult_dir = \"/gpfs_fs/home/eckertlab/gypsy_indiv/raw_demult_gbsx/\""
   ]
  },
  {
   "cell_type": "code",
   "execution_count": 0,
   "metadata": {
    "ExecuteTime": {},
    "collapsed": false
   },
   "outputs": [],
   "source": [
    "with open(os.path.join(demult_dir, \"bowtie_results.pkl\"), \"wb\") as o:\n",
    "    pickle.dump(bowtie_results, o, pickle.HIGHEST_PROTOCOL)"
   ]
  },
  {
   "cell_type": "code",
   "execution_count": 0,
   "metadata": {
    "ExecuteTime": {},
    "collapsed": false
   },
   "outputs": [],
   "source": [
    "sam_files = !find . -type f | grep '.sam$' | grep 'masurca3'\n",
    "sam_files = [os.path.abspath(x) for x in sam_files]\n",
    "assert len(sam_files) == len(fastq_files)"
   ]
  },
  {
   "cell_type": "code",
   "execution_count": 0,
   "metadata": {
    "ExecuteTime": {},
    "collapsed": false
   },
   "outputs": [],
   "source": [
    "sam_files"
   ]
  },
  {
   "cell_type": "code",
   "execution_count": 0,
   "metadata": {
    "ExecuteTime": {},
    "collapsed": false
   },
   "outputs": [],
   "source": [
    "sam_bam_jobs = []\n",
    "for f in sam_files:\n",
    "    sam_bam_jobs.append(convert_sam_to_bam(os.path.abspath(f)))"
   ]
  },
  {
   "cell_type": "code",
   "execution_count": 0,
   "metadata": {
    "ExecuteTime": {},
    "collapsed": false
   },
   "outputs": [],
   "source": [
    "u.get_async_progress(sam_bam_jobs)"
   ]
  },
  {
   "cell_type": "code",
   "execution_count": 0,
   "metadata": {
    "ExecuteTime": {},
    "collapsed": false
   },
   "outputs": [],
   "source": [
    "sorted_bams = !find . -type f | grep '/masurca3' | grep 'sorted.bam$'\n",
    "sorted_bams = [os.path.abspath(x) for x in sorted_bams if 'bam' in x]\n",
    "assert len(sorted_bams) == len(fastq_files)"
   ]
  },
  {
   "cell_type": "code",
   "execution_count": 0,
   "metadata": {
    "ExecuteTime": {},
    "collapsed": false
   },
   "outputs": [],
   "source": [
    "len(sorted_bams)"
   ]
  },
  {
   "cell_type": "code",
   "execution_count": 0,
   "metadata": {
    "ExecuteTime": {},
    "collapsed": false
   },
   "outputs": [],
   "source": [
    "@lv.remote()\n",
    "def get_lane_info(bam):\n",
    "    res = !/home/cfriedline/g/src/samtools-1.3/samtools view $bam | tail -n1\n",
    "    return bam, res[0].split(\"\\t\")[0]"
   ]
  },
  {
   "cell_type": "code",
   "execution_count": 0,
   "metadata": {
    "ExecuteTime": {},
    "collapsed": false
   },
   "outputs": [],
   "source": [
    "get_lane_info(sorted_bams[0])"
   ]
  },
  {
   "cell_type": "code",
   "execution_count": 0,
   "metadata": {
    "ExecuteTime": {},
    "collapsed": true
   },
   "outputs": [],
   "source": [
    "rg_info = []\n",
    "for f in sorted_bams:\n",
    "    rg_info.append(get_lane_info(f))"
   ]
  },
  {
   "cell_type": "code",
   "execution_count": 0,
   "metadata": {
    "ExecuteTime": {},
    "collapsed": false
   },
   "outputs": [],
   "source": [
    "u.get_async_progress(rg_info)"
   ]
  },
  {
   "cell_type": "code",
   "execution_count": 0,
   "metadata": {
    "ExecuteTime": {},
    "collapsed": true
   },
   "outputs": [],
   "source": [
    "lane_info = [x.r for x in rg_info]"
   ]
  },
  {
   "cell_type": "code",
   "execution_count": 0,
   "metadata": {
    "ExecuteTime": {},
    "collapsed": false
   },
   "outputs": [],
   "source": [
    "rg_dict = {}\n",
    "for bam, header in lane_info:\n",
    "    sample = os.path.basename(bam).split(\".\")[0][:-1]\n",
    "    instr, run, flowcell, lane, tile, x, y = header.split(\":\")\n",
    "    rg_dict[bam] = {\"id\": \"{}.{}.{}\".format(flowcell, lane, sample),\n",
    "                   \"pl\": \"ILLUMINA\",\n",
    "                   \"lb\": \"{}.{}\".format(flowcell, lane),\n",
    "                   \"sm\": sample}"
   ]
  },
  {
   "cell_type": "code",
   "execution_count": 0,
   "metadata": {
    "ExecuteTime": {},
    "collapsed": true
   },
   "outputs": [],
   "source": [
    "dv['rg_dict'] = rg_dict"
   ]
  },
  {
   "cell_type": "code",
   "execution_count": 0,
   "metadata": {
    "ExecuteTime": {},
    "collapsed": false
   },
   "outputs": [],
   "source": [
    "@hv.remote()\n",
    "def add_rg_info_to_bam(bam):\n",
    "    import os\n",
    "    cmd = \"java -jar /home/cfriedline/gpfs/src/picard-tools-1.112/AddOrReplaceReadGroups.jar\"\n",
    "    bam_rg = bam.replace(\".bam\", \"_rg.bam\")\n",
    "    info = rg_dict[bam]\n",
    "    rg_string = \"RGID={0} RGLB={1} RGPL=ILLUMINA RGPU={1} RGSM={2}\".format(info['id'],\n",
    "                                                                           info['lb'],\n",
    "                                                                           info['sm'])\n",
    "    cmd = \"{} INPUT={} OUTPUT={} {} CREATE_INDEX=true\".format(cmd,\n",
    "                                                              bam,\n",
    "                                                              bam_rg,\n",
    "                                                              rg_string)\n",
    "#     if not os.path.exists(bam_rg):\n",
    "    !$cmd\n",
    "    return bam_rg, rg_string, cmd\n",
    "    "
   ]
  },
  {
   "cell_type": "code",
   "execution_count": 0,
   "metadata": {
    "ExecuteTime": {},
    "collapsed": false
   },
   "outputs": [],
   "source": [
    "add_rg = []\n",
    "for f in sorted_bams:\n",
    "    add_rg.append(add_rg_info_to_bam(f))"
   ]
  },
  {
   "cell_type": "code",
   "execution_count": 0,
   "metadata": {
    "ExecuteTime": {},
    "collapsed": false
   },
   "outputs": [],
   "source": [
    "u.get_async_progress(add_rg)"
   ]
  },
  {
   "cell_type": "code",
   "execution_count": 0,
   "metadata": {
    "collapsed": false
   },
   "outputs": [],
   "source": [
    "rg_bams = !find . | grep 'rg.bam$' | grep 'masurca3'\n",
    "rg_bams = sorted([os.path.abspath(x) for x in rg_bams if 'rg.bam' in x])\n",
    "assert len(rg_bams) == len(fastq_files)"
   ]
  },
  {
   "cell_type": "code",
   "execution_count": 0,
   "metadata": {
    "collapsed": false
   },
   "outputs": [],
   "source": [
    "len(rg_bams)"
   ]
  }
 ],
 "metadata": {
  "kernelspec": {
   "display_name": "Python 3",
   "language": "python",
   "name": "python3"
  },
  "language_info": {
   "codemirror_mode": {
    "name": "ipython",
    "version": 3
   },
   "file_extension": ".py",
   "mimetype": "text/x-python",
   "name": "python",
   "nbconvert_exporter": "python",
   "pygments_lexer": "ipython3",
   "version": "3.4.4"
  }
 },
 "nbformat": 4,
 "nbformat_minor": 0
}

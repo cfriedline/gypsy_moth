{
 "cells": [
  {
   "cell_type": "code",
   "execution_count": 0,
   "metadata": {
    "ExecuteTime": {
     "end_time": "2016-03-04T14:49:14.187412",
     "start_time": "2016-03-04T14:49:14.179510"
    },
    "collapsed": false
   },
   "outputs": [],
   "source": [
    "%%writefile run_bayenv.ipy\n",
    "\n",
    "import psutil\n",
    "import numpy as np\n",
    "import sys\n",
    "import os\n",
    "\n",
    "def get_free_cpu():\n",
    "    procs = {}\n",
    "    affinities = set()\n",
    "    possible_cpus = set(range(30))\n",
    "    for proc in psutil.process_iter():\n",
    "        try:\n",
    "           if proc.username() == 'cfriedline' and proc.name() == 'bayenv2':\n",
    "            procs[proc.pid] = proc.cpu_affinity()\n",
    "            [affinities.add(x) for x in proc.cpu_affinity()]\n",
    "        except psutil.NoSuchProcess:\n",
    "            pass\n",
    "    available_cpus = possible_cpus.difference(affinities)\n",
    "    return np.random.choice(list(available_cpus))\n",
    "\n",
    "cmd = \"taskset -c %d %s\" % (get_free_cpu(), sys.argv[1])\n",
    "print(cmd)\n",
    "!{cmd}\n"
   ]
  }
 ],
 "metadata": {
  "_draft": {
   "nbviewer_url": "https://gist.github.com/0f4474a0a870bd9ef74c"
  },
  "gist": {
   "data": {
    "description": "gypsy_moth/free_cpu.ipynb",
    "public": true
   },
   "id": "0f4474a0a870bd9ef74c"
  },
  "kernelspec": {
   "display_name": "Python 3",
   "language": "python",
   "name": "python3"
  },
  "language_info": {
   "codemirror_mode": {
    "name": "ipython",
    "version": 3
   },
   "file_extension": ".py",
   "mimetype": "text/x-python",
   "name": "python",
   "nbconvert_exporter": "python",
   "pygments_lexer": "ipython3",
   "version": "3.4.4"
  }
 },
 "nbformat": 4,
 "nbformat_minor": 0
}

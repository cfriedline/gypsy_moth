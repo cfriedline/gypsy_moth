{
 "cells": [
  {
   "cell_type": "code",
   "execution_count": 0,
   "metadata": {
    "collapsed": false
   },
   "outputs": [],
   "source": [
    "import include_utils as u\n",
    "from hdfstorehelper import HDFStoreHelper\n",
    "import dill\n",
    "from IPython.parallel import Client\n",
    "import stopwatch\n",
    "import rpy2.robjects as robjects\n",
    "import pandas.rpy.common as com\n",
    "from pandas import DataFrame, Series\n",
    "import numpy as np\n",
    "import rpy2\n",
    "import rpy2.robjects as ro\n",
    "import traceback"
   ]
  },
  {
   "cell_type": "code",
   "execution_count": 0,
   "metadata": {
    "collapsed": true
   },
   "outputs": [],
   "source": [
    "import rpy2.robjects.numpy2ri\n",
    "rpy2.robjects.numpy2ri.activate()\n",
    "r = ro.r"
   ]
  },
  {
   "cell_type": "code",
   "execution_count": 0,
   "metadata": {
    "collapsed": true
   },
   "outputs": [],
   "source": [
    "hdf = HDFStoreHelper(\"gypsy_samtools12.hd5\")"
   ]
  },
  {
   "cell_type": "code",
   "execution_count": 0,
   "metadata": {
    "collapsed": true
   },
   "outputs": [],
   "source": [
    "pca_data = hdf.get('pca_std_data_snps')"
   ]
  },
  {
   "cell_type": "code",
   "execution_count": 0,
   "metadata": {
    "collapsed": false
   },
   "outputs": [],
   "source": [
    "%timeit pca_data.drop(\"L10\", axis=1)"
   ]
  },
  {
   "cell_type": "code",
   "execution_count": 0,
   "metadata": {
    "collapsed": false
   },
   "outputs": [],
   "source": [
    "%timeit pca_data.T.drop(\"L10\").T"
   ]
  },
  {
   "cell_type": "code",
   "execution_count": 0,
   "metadata": {
    "collapsed": false
   },
   "outputs": [],
   "source": [
    "rc = Client(profile=\"moth\")"
   ]
  },
  {
   "cell_type": "code",
   "execution_count": 0,
   "metadata": {
    "collapsed": false
   },
   "outputs": [],
   "source": [
    "dview, lview = u.get_views(rc)\n",
    "len(dview)"
   ]
  },
  {
   "cell_type": "code",
   "execution_count": 0,
   "metadata": {
    "collapsed": false
   },
   "outputs": [],
   "source": [
    "def do_pca(col):\n",
    "    import os, sys, socket, stopwatch, traceback\n",
    "    os.environ['R_HOME'] = '/home/cfriedline/R3/lib64/R'\n",
    "    os.environ['LD_LIBRARY_PATH'] = \"%s/lib:%s\" % (os.environ['R_HOME'], \n",
    "                                               os.environ['LD_LIBRARY_PATH'])\n",
    "    import rpy2.robjects.numpy2ri\n",
    "    import rpy2.robjects as ro\n",
    "    rpy2.robjects.numpy2ri.activate()\n",
    "    import pandas.rpy.common as com\n",
    "    from pandas import DataFrame\n",
    "    r = ro.r\n",
    "    t = stopwatch.Timer()\n",
    "    sys.path.append(\"/home/cfriedline/ipynb/gypsy_moth/\")\n",
    "    print(socket.gethostname(), col)\n",
    "    from hdfstorehelper import HDFStoreHelper\n",
    "    hdf = HDFStoreHelper(\"/data7/cfriedline/ipython/notebooks/gypsy_moth/gypsy_samtools12.hd5\")\n",
    "    d = hdf.get('pca_std_data_snps')\n",
    "    d2 = d.drop(col, axis=1)\n",
    "    prcomp = r('prcomp')\n",
    "    res = prcomp(d2.values, scale=False, center=False)\n",
    "    x = com.convert_robj(res.rx2(\"x\"))\n",
    "    x.index = d2.index\n",
    "    path = \"price_in/%s\" % col\n",
    "    t.stop()\n",
    "    print(\"Done!\")\n",
    "    return socket.gethostname(), path, str(t), x.to_dict()\n"
   ]
  },
  {
   "cell_type": "code",
   "execution_count": 0,
   "metadata": {
    "collapsed": false
   },
   "outputs": [],
   "source": [
    "dview['do_pca'] = do_pca"
   ]
  },
  {
   "cell_type": "code",
   "execution_count": 0,
   "metadata": {
    "collapsed": false
   },
   "outputs": [],
   "source": [
    "jobs = lview.map_async(do_pca, pca_data.columns)"
   ]
  },
  {
   "cell_type": "code",
   "execution_count": 0,
   "metadata": {
    "collapsed": false
   },
   "outputs": [],
   "source": [
    "len(jobs)"
   ]
  },
  {
   "cell_type": "code",
   "execution_count": 0,
   "metadata": {
    "collapsed": false,
    "scrolled": true
   },
   "outputs": [],
   "source": [
    "jobs.progress"
   ]
  },
  {
   "cell_type": "code",
   "execution_count": 0,
   "metadata": {
    "collapsed": false
   },
   "outputs": [],
   "source": [
    "type(jobs)"
   ]
  },
  {
   "cell_type": "code",
   "execution_count": 0,
   "metadata": {
    "collapsed": false
   },
   "outputs": [],
   "source": [
    "for j in jobs:\n",
    "    print(j[0:3])\n",
    "    d = DataFrame(j[-1])"
   ]
  },
  {
   "cell_type": "code",
   "execution_count": 0,
   "metadata": {
    "collapsed": false
   },
   "outputs": [],
   "source": [
    "jobs.elapsed"
   ]
  },
  {
   "cell_type": "code",
   "execution_count": 0,
   "metadata": {
    "collapsed": true
   },
   "outputs": [],
   "source": []
  }
 ],
 "metadata": {
  "kernelspec": {
   "display_name": "Python 3",
   "language": "python",
   "name": "python3"
  },
  "language_info": {
   "codemirror_mode": {
    "name": "ipython",
    "version": 3
   },
   "file_extension": ".py",
   "mimetype": "text/x-python",
   "name": "python",
   "nbconvert_exporter": "python",
   "pygments_lexer": "ipython3"
  }
 },
 "nbformat": 4,
 "nbformat_minor": 0
}

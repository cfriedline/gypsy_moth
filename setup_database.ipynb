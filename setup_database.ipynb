{
 "metadata": {
  "name": "",
  "signature": "sha256:e9670644f6c6ebbe77343e691154f34217158cb1ef3be6a9f9e221ecf06a82fa"
 },
 "nbformat": 3,
 "nbformat_minor": 0,
 "worksheets": [
  {
   "cells": [
    {
     "cell_type": "code",
     "collapsed": false,
     "input": [
      "import sqlalchemy\n",
      "from sqlalchemy.ext.declarative import declarative_base\n",
      "from sqlalchemy import Column, Integer, String, Float, Table, ForeignKey, UniqueConstraint\n",
      "from sqlalchemy.orm import relationship, backref, sessionmaker\n",
      "from sqlalchemy.sql import func, exists\n",
      "import os, sys\n",
      "import pandas as pd\n",
      "from Bio import SeqIO\n",
      "import vcf"
     ],
     "language": "python",
     "metadata": {},
     "outputs": [],
     "prompt_number": ""
    },
    {
     "cell_type": "code",
     "collapsed": false,
     "input": [
      "db = \"data.sqlite\"\n",
      "delete = False\n",
      "if delete:\n",
      "    if os.path.exists(db):\n",
      "        os.unlink(db)"
     ],
     "language": "python",
     "metadata": {},
     "outputs": [],
     "prompt_number": ""
    },
    {
     "cell_type": "code",
     "collapsed": false,
     "input": [
      "Base = declarative_base()"
     ],
     "language": "python",
     "metadata": {},
     "outputs": [],
     "prompt_number": ""
    },
    {
     "cell_type": "code",
     "collapsed": false,
     "input": [
      "Base.metadata"
     ],
     "language": "python",
     "metadata": {},
     "outputs": [],
     "prompt_number": ""
    },
    {
     "cell_type": "code",
     "collapsed": false,
     "input": [
      "engine = sqlalchemy.create_engine(\"sqlite:///%s\" % db, echo=False)\n",
      "Session = sessionmaker(bind=engine)\n",
      "session = Session()"
     ],
     "language": "python",
     "metadata": {},
     "outputs": [],
     "prompt_number": ""
    },
    {
     "cell_type": "markdown",
     "metadata": {},
     "source": [
      "##Create database"
     ]
    },
    {
     "cell_type": "code",
     "collapsed": false,
     "input": [
      "class Population(Base):\n",
      "    __tablename__ = 'population'\n",
      "    id = Column(Integer, primary_key=True)\n",
      "    name = Column(String, unique=True)    \n",
      "    def __repr__(self):\n",
      "        return \"<Population(name='%s')>\" % self.name"
     ],
     "language": "python",
     "metadata": {},
     "outputs": [],
     "prompt_number": ""
    },
    {
     "cell_type": "code",
     "collapsed": false,
     "input": [
      "class Individual(Base):\n",
      "    __tablename__ = 'individual'\n",
      "    id = Column(Integer, primary_key=True)\n",
      "    name = Column(String, unique=True)\n",
      "    lat = Column(Float)\n",
      "    lng = Column(Float)\n",
      "    population_id = Column(Integer, ForeignKey('population.id', onupdate=\"CASCADE\", ondelete=\"CASCADE\"))\n",
      "    population = relationship(\"Population\", backref='individuals')\n",
      "    barcode = Column(String)\n",
      "    filename = Column(String)\n",
      "    num_reads = Column(Integer)\n",
      "    def __repr__(self):\n",
      "        return \"<Individual(name='%s', population='%d')>\" % (self.name, self.population_id)"
     ],
     "language": "python",
     "metadata": {},
     "outputs": [],
     "prompt_number": ""
    },
    {
     "cell_type": "code",
     "collapsed": false,
     "input": [
      "class Phenotype(Base):\n",
      "    __tablename__ = 'phenotype'\n",
      "    id = Column(Integer, primary_key=True)\n",
      "    name = Column(String, unique=True)\n",
      "    unit = Column(String)\n",
      "    float_value = Column(Float)\n",
      "    int_value = Column(Integer)\n",
      "    text_value = Column(String)\n",
      "    def __repr__(self):\n",
      "        return \"<Phenotype(name='%s', unit='%s', value=['%d', '%.3f', '%s'])>\" % (self.name, \n",
      "                                                                          self.unit,\n",
      "                                                                          self.int_value,\n",
      "                                                                          self.float_value,\n",
      "                                                                          self.text_value)"
     ],
     "language": "python",
     "metadata": {},
     "outputs": [],
     "prompt_number": ""
    },
    {
     "cell_type": "code",
     "collapsed": false,
     "input": [
      "class Contig(Base):\n",
      "    __tablename__ = 'contig'\n",
      "    id = Column(Integer, primary_key=True)\n",
      "    name = Column(String, unique=True)\n",
      "    seq = Column(String)\n",
      "    length = Column(Integer)\n",
      "    def __repr__(self):\n",
      "        return \"<Contig(name='%s', length='%d')>\" % (self.name, self.length)"
     ],
     "language": "python",
     "metadata": {},
     "outputs": [],
     "prompt_number": ""
    },
    {
     "cell_type": "code",
     "collapsed": false,
     "input": [
      "class SNPCaller(Base):\n",
      "    __tablename__ = \"snp_caller\"\n",
      "    id = Column(Integer, primary_key=True)\n",
      "    name = Column(String)"
     ],
     "language": "python",
     "metadata": {},
     "outputs": [],
     "prompt_number": ""
    },
    {
     "cell_type": "code",
     "collapsed": false,
     "input": [
      "class SNPCallerRun(Base):\n",
      "    __tablename__ = \"snp_caller_run\"\n",
      "    id = Column(Integer, primary_key=True)\n",
      "    name = Column(String)\n",
      "    parameters = Column(String)\n",
      "    snpcaller_id = Column(Integer, ForeignKey(\"snp_caller.id\", onupdate=\"CASCADE\", ondelete=\"CASCADE\"))\n",
      "    snpcaller = relationship(\"SNPCaller\", backref=\"runs\")"
     ],
     "language": "python",
     "metadata": {},
     "outputs": [],
     "prompt_number": ""
    },
    {
     "cell_type": "code",
     "collapsed": false,
     "input": [
      "class SNP(Base):\n",
      "    __tablename__ = 'snp'\n",
      "    __table_args__ = {'extend_existing': True}\n",
      "    id = Column(Integer, primary_key=True)\n",
      "    name = Column(Integer, unique=True)\n",
      "    position = Column(Integer)\n",
      "    ref = Column(String)\n",
      "    alt = Column(String)\n",
      "    ref_count = Column(Integer)\n",
      "    alt_count = Column(Integer)\n",
      "    depth = Column(Float)\n",
      "    quality = Column(Float)\n",
      "    contig_id = Column(Integer, ForeignKey('contig.id', onupdate=\"CASCADE\", ondelete=\"CASCADE\"))\n",
      "    snp_caller_run_id = Column(Integer, ForeignKey(\"snp_caller_run.id\", onupdate=\"CASCADE\", ondelete=\"CASCADE\"))\n",
      "    contig = relationship(\"Contig\", backref=\"snps\")\n",
      "    def __repr__(self):\n",
      "        return \"<SNP(name='%s', position='%d', snp='%s/%s')>\" % (self.name, \n",
      "                                                                   self.position,\n",
      "                                                                   self.ref,\n",
      "                                                                   self.alt)"
     ],
     "language": "python",
     "metadata": {},
     "outputs": [],
     "prompt_number": ""
    },
    {
     "cell_type": "code",
     "collapsed": false,
     "input": [
      "Base.metadata.create_all(engine)"
     ],
     "language": "python",
     "metadata": {},
     "outputs": [],
     "prompt_number": ""
    },
    {
     "cell_type": "markdown",
     "metadata": {},
     "source": [
      "##Load individuals into database"
     ]
    },
    {
     "cell_type": "code",
     "collapsed": false,
     "input": [
      "seq_dir = \"/home/cfriedline/eckertlab_home/gypsy_indiv\"\n",
      "pops = set()\n",
      "for p in [\"I1\", \"I3\"]:\n",
      "    d = os.path.join(seq_dir, p)\n",
      "    files = !ls $d/*.fastq\n",
      "    for f in files:\n",
      "        base = os.path.basename(f).split(\"_\")\n",
      "        if len(base) <5:   \n",
      "            pop = base[0]\n",
      "            ind = \"_\".join(base[0:2])\n",
      "            if len(base) == 4:\n",
      "                ind = \"_\".join(base[0:3])\n",
      "            population = session.query(Population).filter(Population.name == pop).first()\n",
      "            if not population:\n",
      "                population = Population(name=pop)\n",
      "                session.add(population)\n",
      "            session.add(Individual(name=ind, population=population))"
     ],
     "language": "python",
     "metadata": {},
     "outputs": [],
     "prompt_number": ""
    },
    {
     "cell_type": "markdown",
     "metadata": {},
     "source": [
      "##Fix sample names and population names"
     ]
    },
    {
     "cell_type": "code",
     "collapsed": false,
     "input": [
      "trans_table = \"/home/cfriedline/ipython/notebooks/gypsy_moth/translation_table.csv\"\n",
      "trans_df = pd.read_csv(trans_table, header=0, index_col=0, sep=\"\\t\")\n",
      "for idx in trans_df.index:\n",
      "    orig_name = \"_\".join(idx.split(\"_\")[0:-1])\n",
      "    pop_name = trans_df.ix[idx,'pop']\n",
      "    pop = session.query(Population).filter(Population.name == pop_name).first()\n",
      "    assert pop\n",
      "    ind = session.query(Individual).filter(Individual.name == orig_name).first()\n",
      "    if ind:\n",
      "        if trans_df.ix[idx, 'dup'] == 1:\n",
      "            session.delete(ind)\n",
      "        ind.name = \"%s_%d\" % (pop_name, trans_df.ix[idx,\"indiv\"])\n",
      "session.commit()"
     ],
     "language": "python",
     "metadata": {},
     "outputs": [],
     "prompt_number": ""
    },
    {
     "cell_type": "markdown",
     "metadata": {},
     "source": [
      "##Load assembly into database"
     ]
    },
    {
     "cell_type": "code",
     "collapsed": false,
     "input": [
      "assembly = \"/home/cfriedline/data7/assemblies/gypsy/masurca/CA/10-gapclose/genome.ctg.fasta\""
     ],
     "language": "python",
     "metadata": {},
     "outputs": [],
     "prompt_number": ""
    },
    {
     "cell_type": "code",
     "collapsed": false,
     "input": [
      "at = 0\n",
      "contigs = []\n",
      "for elem in SeqIO.parse(assembly, \"fasta\"):\n",
      "    at += 1\n",
      "    contig = Contig(name=elem.id, seq=str(elem.seq), length=len(elem))\n",
      "    contigs.append(contig)\n",
      "    if at % 100000 == 0:\n",
      "        print \"at %d\" % at"
     ],
     "language": "python",
     "metadata": {},
     "outputs": [],
     "prompt_number": ""
    },
    {
     "cell_type": "code",
     "collapsed": false,
     "input": [
      "session.add_all(contigs)"
     ],
     "language": "python",
     "metadata": {},
     "outputs": [],
     "prompt_number": ""
    },
    {
     "cell_type": "code",
     "collapsed": false,
     "input": [
      "session.commit()"
     ],
     "language": "python",
     "metadata": {},
     "outputs": [],
     "prompt_number": ""
    },
    {
     "cell_type": "markdown",
     "metadata": {},
     "source": [
      "##Load SNPs"
     ]
    },
    {
     "cell_type": "code",
     "collapsed": false,
     "input": [
      "fb_vcf = \"/data7/eckertlab/gypsy_indiv/gypsy_freebayes_out.vcf\""
     ],
     "language": "python",
     "metadata": {},
     "outputs": [],
     "prompt_number": ""
    },
    {
     "cell_type": "code",
     "collapsed": false,
     "input": [
      "for i, v in enumerate(vcf.VCFReader(filename=fb_vcf)):\n",
      "    if v.is_snp:\n",
      "        name = \"%s_%s\" % (v.CHROM, v.POS)\n",
      "        contig = session.query(Contig).filter(Contig.name == v.CHROM).first()\n",
      "        try:\n",
      "            s = SNP(name=name, \n",
      "                    position=v.POS, \n",
      "                    ref=v.REF, \n",
      "                    alt=str(v.ALT[0]),\n",
      "                    depth=v.INFO['DP'],\n",
      "                    alt_count=v.INFO['AC'][0],\n",
      "                    contig=contig)\n",
      "        except:\n",
      "            print v\n",
      "            break\n",
      "    if i % 10000 == 0:\n",
      "        print i"
     ],
     "language": "python",
     "metadata": {},
     "outputs": [],
     "prompt_number": ""
    },
    {
     "cell_type": "code",
     "collapsed": false,
     "input": [
      "session.rollback()"
     ],
     "language": "python",
     "metadata": {},
     "outputs": [],
     "prompt_number": ""
    },
    {
     "cell_type": "code",
     "collapsed": false,
     "input": [],
     "language": "python",
     "metadata": {},
     "outputs": []
    }
   ],
   "metadata": {}
  }
 ]
}
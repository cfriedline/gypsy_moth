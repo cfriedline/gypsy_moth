{
 "cells": [
  {
   "cell_type": "markdown",
   "metadata": {},
   "source": [
    "## Genemark\n",
    "```\n",
    "cd ~/eckertlab/gypsy_indiv/raw_demult/analysis/maker \n",
    "> cat run_gmes.q\n",
    "\n",
    "#$ -S /bin/sh\n",
    "#$ -N gmes\n",
    "#$ -V\n",
    "#$ -cwd\n",
    "#$ -pe smp 50\n",
    "#$ -o gmes.out\n",
    "#$ -e gmes.err\n",
    "$HOME/g/perlbrew/perls/perl-5.16.3/bin/perl \\\n",
    "~/g/src/gm_et_linux_64/gmes_petap/gmes_petap.pl \\\n",
    "--v \\\n",
    "--ES \\\n",
    "--min_contig=10000 \\\n",
    "--cores 30 \\\n",
    "--sequence assembly.fasta\n",
    "```"
   ]
  },
  {
   "cell_type": "code",
   "execution_count": 0,
   "metadata": {
    "ExecuteTime": {},
    "collapsed": false
   },
   "outputs": [],
   "source": [
    "assembly = \"/home/cfriedline/eckertlab/projects/gypsy_moth/assemblies/masurca3/CA/10-gapclose/genome.ctg.fasta\"\n",
    "analysis_dir = \"/home/cfriedline/eckertlab/gypsy_indiv/raw_demult/analysis/maker\""
   ]
  },
  {
   "cell_type": "code",
   "execution_count": 0,
   "metadata": {
    "ExecuteTime": {},
    "collapsed": true
   },
   "outputs": [],
   "source": [
    "maker = \"/gpfs_fs/home/cfriedline/src/maker/bin/maker\""
   ]
  },
  {
   "cell_type": "code",
   "execution_count": 0,
   "metadata": {
    "ExecuteTime": {},
    "collapsed": true
   },
   "outputs": [],
   "source": [
    "from Bio import SeqIO\n",
    "import sys\n",
    "import os\n",
    "import pandas as pd\n",
    "import numpy as np\n",
    "from subprocess import Popen, PIPE, STDOUT, check_call, check_output, run\n",
    "from glob import glob\n",
    "from ipyparallel import Client"
   ]
  },
  {
   "cell_type": "code",
   "execution_count": 0,
   "metadata": {
    "ExecuteTime": {},
    "collapsed": false
   },
   "outputs": [],
   "source": [
    "with open(os.path.join(analysis_dir, \"assembly_map.txt\"), \"w\") as m:\n",
    "    with open(os.path.join(analysis_dir, \"assembly.fasta\"), \"w\") as a:\n",
    "        for i, rec in enumerate(SeqIO.parse(assembly, \"fasta\")):\n",
    "            rec.description= \"\"\n",
    "            rec.name = \"\"\n",
    "            m.write(\"{}\\t{}\\n\".format(i, rec.id))\n",
    "            rec.id = \"contig_{}\".format(i)\n",
    "            SeqIO.write(rec, a, \"fasta\")"
   ]
  },
  {
   "cell_type": "code",
   "execution_count": 0,
   "metadata": {
    "ExecuteTime": {},
    "collapsed": false
   },
   "outputs": [],
   "source": [
    "cd $analysis_dir"
   ]
  },
  {
   "cell_type": "code",
   "execution_count": 0,
   "metadata": {
    "ExecuteTime": {},
    "collapsed": false
   },
   "outputs": [],
   "source": [
    "def read_ctl(f):\n",
    "    d = pd.read_csv(f, sep=\"=\", comment=\"#\", header=None)\n",
    "    return d"
   ]
  },
  {
   "cell_type": "code",
   "execution_count": 0,
   "metadata": {
    "ExecuteTime": {},
    "collapsed": false
   },
   "outputs": [],
   "source": [
    "ctl_data = {}\n",
    "for ctl in [\"maker_opts.ctl\", \"maker_bopts.ctl\", \"maker_exe.ctl\"]:\n",
    "    ctl_data[ctl] = read_ctl(ctl)"
   ]
  },
  {
   "cell_type": "code",
   "execution_count": 0,
   "metadata": {
    "ExecuteTime": {},
    "collapsed": false
   },
   "outputs": [],
   "source": [
    "if not os.path.exists(\"split\"):\n",
    "    os.mkdir(\"split\")"
   ]
  },
  {
   "cell_type": "code",
   "execution_count": 0,
   "metadata": {
    "ExecuteTime": {},
    "collapsed": false
   },
   "outputs": [],
   "source": [
    "cd .."
   ]
  },
  {
   "cell_type": "code",
   "execution_count": 0,
   "metadata": {
    "ExecuteTime": {},
    "collapsed": false
   },
   "outputs": [],
   "source": [
    "for rec in SeqIO.parse(\"assembly.fasta\", \"fasta\"):\n",
    "    out = os.path.join(\"split\", \"{}.fasta\".format(rec.name))\n",
    "    if not os.path.exists(out):\n",
    "        with open(out, \"w\") as o:\n",
    "            SeqIO.write(rec, o, \"fasta\")\n",
    "            fasta_path = os.path.abspath(o.name)"
   ]
  },
  {
   "cell_type": "code",
   "execution_count": 0,
   "metadata": {
    "ExecuteTime": {},
    "collapsed": false
   },
   "outputs": [],
   "source": [
    "for key, val in ctl_data.items():\n",
    "    out = os.path.join(\"split\", key)\n",
    "    val.to_csv(out, sep=\"=\", header=None, index=None)"
   ]
  },
  {
   "cell_type": "code",
   "execution_count": 0,
   "metadata": {
    "ExecuteTime": {},
    "collapsed": false
   },
   "outputs": [],
   "source": [
    "rc = Client(profile=\"sge\")"
   ]
  },
  {
   "cell_type": "code",
   "execution_count": 0,
   "metadata": {
    "ExecuteTime": {},
    "collapsed": false
   },
   "outputs": [],
   "source": [
    "lv = rc.load_balanced_view()\n",
    "dv = rc[:]\n",
    "len(dv)"
   ]
  },
  {
   "cell_type": "code",
   "execution_count": 0,
   "metadata": {
    "ExecuteTime": {},
    "collapsed": false
   },
   "outputs": [],
   "source": [
    "with dv.sync_imports():\n",
    "    import os, socket, sys\n",
    "    from subprocess import Popen, PIPE, STDOUT, check_call, check_output, run, call"
   ]
  },
  {
   "cell_type": "code",
   "execution_count": 0,
   "metadata": {
    "ExecuteTime": {},
    "collapsed": false
   },
   "outputs": [],
   "source": [
    "dv.apply_sync(os.chdir, \"{}/split\".format(analysis_dir));"
   ]
  },
  {
   "cell_type": "code",
   "execution_count": 0,
   "metadata": {
    "ExecuteTime": {},
    "collapsed": false
   },
   "outputs": [],
   "source": [
    "os.chdir(\"split\")"
   ]
  },
  {
   "cell_type": "code",
   "execution_count": 0,
   "metadata": {
    "ExecuteTime": {},
    "collapsed": true
   },
   "outputs": [],
   "source": [
    "fasta_files = sorted(glob(\"contig*.fasta\"))"
   ]
  },
  {
   "cell_type": "code",
   "execution_count": 0,
   "metadata": {
    "ExecuteTime": {},
    "collapsed": false
   },
   "outputs": [],
   "source": [
    "fasta_files[0]"
   ]
  },
  {
   "cell_type": "code",
   "execution_count": 0,
   "metadata": {
    "ExecuteTime": {},
    "collapsed": false
   },
   "outputs": [],
   "source": [
    "cmd = \"bash run.sh \\\"{}\\\"\".format(fasta_files[1])"
   ]
  },
  {
   "cell_type": "code",
   "execution_count": 0,
   "metadata": {
    "ExecuteTime": {},
    "collapsed": false
   },
   "outputs": [],
   "source": [
    "from pprint import pprint\n",
    "def run_cmd(cmd):\n",
    "    p = Popen(cmd, stdout=PIPE, stderr=PIPE, shell=True)\n",
    "    out, err = p.communicate()\n",
    "    return out, err\n",
    "dv['run_cmd'] = run_cmd\n",
    "cmd = \"bash run.sh \\\"{}\\\"\".format(fasta_files[345])\n",
    "pprint(cmd)\n",
    "#pprint(run_cmd(cmd))"
   ]
  },
  {
   "cell_type": "code",
   "execution_count": 0,
   "metadata": {
    "ExecuteTime": {},
    "collapsed": false
   },
   "outputs": [],
   "source": [
    "!$maker -CTL"
   ]
  },
  {
   "cell_type": "markdown",
   "metadata": {
    "ExecuteTime": {}
   },
   "source": [
    "# MAKER\n",
    "\n",
    "## Install\n",
    "\n",
    "* installed in `/gpfs_fs/home/cfriedline/src/maker/bin`\n",
    "* MPI enabled\n",
    "* edited `locations` for `exonerate` and `augustus`  \n",
    "* installed maker manually, setting `LIBRARY_PATH=/usr/lib/x86_64-redhat-linux5E/lib64/`\n",
    "\n",
    "`Note`: nightmare configuring `MPI` and `PSM`. Installed `PSM` from `https://github.com/01org/psm` and `OpenMPI` 1.10.2.\n",
    "\n",
    "---\n",
    "\n",
    "## Config files\n",
    "\n",
    "### maker_opts.ctl\n",
    "```\n",
    "#-----Genome (these are always required)\n",
    "#genome=/home/cfriedline/eckertlab/gypsy_indiv/raw_demult/analysis/maker/genome.ctg.fasta #(fasta file or fasta embeded in GFF3 file)\n",
    "genome=/home/cfriedline/eckertlab/gypsy_indiv/raw_demult/analysis/maker/assembly.fasta\n",
    "organism_type=eukaryotic #eukaryotic or prokaryotic. Default is eukaryotic\n",
    "\n",
    "#-----Re-annotation Using MAKER Derived GFF3\n",
    "maker_gff= #MAKER derived GFF3 file\n",
    "est_pass=0 #use ESTs in maker_gff: 1 = yes, 0 = no\n",
    "altest_pass=0 #use alternate organism ESTs in maker_gff: 1 = yes, 0 = no\n",
    "protein_pass=0 #use protein alignments in maker_gff: 1 = yes, 0 = no\n",
    "rm_pass=0 #use repeats in maker_gff: 1 = yes, 0 = no\n",
    "model_pass=0 #use gene models in maker_gff: 1 = yes, 0 = no\n",
    "pred_pass=0 #use ab-initio predictions in maker_gff: 1 = yes, 0 = no\n",
    "other_pass=0 #passthrough anyything else in maker_gff: 1 = yes, 0 = no\n",
    "\n",
    "#-----EST Evidence (for best results provide a file for at least one)\n",
    "est= #set of ESTs or assembled mRNA-seq in fasta format\n",
    "altest=/home/cfriedline/eckertlab/genomes/Hmel2/annotation/Hmel2_cds.fa #EST/cDNA sequence file in fasta format from an alternate organism\n",
    "est_gff= #aligned ESTs or mRNA-seq from an external GFF3 file\n",
    "altest_gff= #aligned ESTs from a closly relate species in GFF3 format\n",
    "\n",
    "#-----Protein Homology Evidence (for best results provide a file for at least one)\n",
    "protein=/home/cfriedline/eckertlab/genomes/Hmel2/annotation/Hmel2_proteins.fa  #protein sequence file in fasta format (i.e. from mutiple oransisms)\n",
    "protein_gff=  #aligned protein homology evidence from an external GFF3 file\n",
    "\n",
    "#-----Repeat Masking (leave values blank to skip repeat masking)\n",
    "model_org=all #select a model organism for RepBase masking in RepeatMasker\n",
    "rmlib= #provide an organism specific repeat library in fasta format for RepeatMasker\n",
    "repeat_protein=/gpfs_fs/home/cfriedline/src/maker/data/te_proteins.fasta #provide a fasta file of transposable element proteins for RepeatRunner\n",
    "rm_gff= #pre-identified repeat elements from an external GFF3 file\n",
    "prok_rm=0 #forces MAKER to repeatmask prokaryotes (no reason to change this), 1 = yes, 0 = no\n",
    "softmask=1 #use soft-masking rather than hard-masking in BLAST (i.e. seg and dust filtering)\n",
    "\n",
    "#-----Gene Prediction\n",
    "snaphmm= #SNAP HMM file\n",
    "gmhmm= #GeneMark HMM file\n",
    "augustus_species=heliconius_melpomene1 #Augustus gene prediction species model\n",
    "fgenesh_par_file= #FGENESH parameter file\n",
    "pred_gff= #ab-initio predictions from an external GFF3 file\n",
    "model_gff= #annotated gene models from an external GFF3 file (annotation pass-through)\n",
    "est2genome=1 #infer gene predictions directly from ESTs, 1 = yes, 0 = no\n",
    "protein2genome=0 #infer predictions from protein homology, 1 = yes, 0 = no\n",
    "trna=1 #find tRNAs with tRNAscan, 1 = yes, 0 = no\n",
    "snoscan_rrna= #rRNA file to have Snoscan find snoRNAs\n",
    "unmask=0 #also run ab-initio prediction programs on unmasked sequence, 1 = yes, 0 = no\n",
    "\n",
    "#-----Other Annotation Feature Types (features MAKER doesn't recognize)\n",
    "other_gff= #extra features to pass-through to final MAKER generated GFF3 file\n",
    "\n",
    "#-----External Application Behavior Options\n",
    "alt_peptide=C #amino acid used to replace non-standard amino acids in BLAST databases\n",
    "cpus=1 #max number of cpus to use in BLAST and RepeatMasker (not for MPI, leave 1 when using MPI)\n",
    "\n",
    "#-----MAKER Behavior Options\n",
    "max_dna_len=100000 #length for dividing up contigs into chunks (increases/decreases memory usage)\n",
    "min_contig=1 #skip genome contigs below this length (under 10kb are often useless)\n",
    "\n",
    "pred_flank=200 #flank for extending evidence clusters sent to gene predictors\n",
    "pred_stats=0 #report AED and QI statistics for all predictions as well as models\n",
    "AED_threshold=1 #Maximum Annotation Edit Distance allowed (bound by 0 and 1)\n",
    "min_protein=0 #require at least this many amino acids in predicted proteins\n",
    "alt_splice=0 #Take extra steps to try and find alternative splicing, 1 = yes, 0 = no\n",
    "always_complete=0 #extra steps to force start and stop codons, 1 = yes, 0 = no\n",
    "map_forward=0 #map names and attributes forward from old GFF3 genes, 1 = yes, 0 = no\n",
    "keep_preds=0 #Concordance threshold to add unsupported gene prediction (bound by 0 and 1)\n",
    "\n",
    "split_hit=10000 #length for the splitting of hits (expected max intron size for evidence alignments)\n",
    "single_exon=0 #consider single exon EST evidence when generating annotations, 1 = yes, 0 = no\n",
    "single_length=250 #min length required for single exon ESTs if 'single_exon is enabled'\n",
    "correct_est_fusion=0 #limits use of ESTs in annotation to avoid fusion genes\n",
    "\n",
    "tries=5 #number of times to try a contig if there is a failure for some reason\n",
    "clean_try=1 #remove all data from previous run before retrying, 1 = yes, 0 = no\n",
    "clean_up=0 #removes theVoid directory with individual analysis files, 1 = yes, 0 = no\n",
    "TMP=/home/cfriedline/eckertlab/gypsy_indiv/raw_demult/analysis/maker/tmp #specify a directory other than the system default temporary directory for temporary files\n",
    "```\n",
    "\n",
    "### maker_exe.ctl\n",
    "\n",
    "```\n",
    "#-----Location of Executables Used by MAKER/EVALUATOR\n",
    "makeblastdb=/gpfs_fs/home/cfriedline/src/maker/bin/../exe/blast/bin/makeblastdb #location of NCBI+ makeblastdb executable\n",
    "blastn=/gpfs_fs/home/cfriedline/src/maker/bin/../exe/blast/bin/blastn #location of NCBI+ blastn executable\n",
    "blastx=/gpfs_fs/home/cfriedline/src/maker/bin/../exe/blast/bin/blastx #location of NCBI+ blastx executable\n",
    "tblastx=/gpfs_fs/home/cfriedline/src/maker/bin/../exe/blast/bin/tblastx #location of NCBI+ tblastx executable\n",
    "formatdb= #location of NCBI formatdb executable\n",
    "blastall= #location of NCBI blastall executable\n",
    "xdformat= #location of WUBLAST xdformat executable\n",
    "blasta= #location of WUBLAST blasta executable\n",
    "RepeatMasker=/gpfs_fs/home/cfriedline/src/maker/bin/../exe/RepeatMasker/RepeatMasker #location of RepeatMasker executable\n",
    "exonerate=/gpfs_fs/home/cfriedline/src/maker/bin/../exe/exonerate/bin/exonerate #location of exonerate executable\n",
    "\n",
    "#-----Ab-initio Gene Prediction Algorithms\n",
    "snap=/gpfs_fs/home/cfriedline/src/maker/bin/../exe/snap/snap #location of snap executable\n",
    "gmhmme3=/gpfs_fs/home/cfriedline/src/gm_et_linux_64/gmes_petap/gmhmme3 #location of eukaryotic genemark executable\n",
    "gmhmmp= #location of prokaryotic genemark executable\n",
    "augustus=/home/cfriedline/g/src/augustus-3.2.2/bin/augustus #location of augustus executable\n",
    "fgenesh= #location of fgenesh executable\n",
    "tRNAscan-SE=/home/cfriedline/g/src/tRNAscan-SE-1.3.1/tRNAscan-SE #location of trnascan executable\n",
    "snoscan= #location of snoscan executable\n",
    "\n",
    "#-----Other Algorithms\n",
    "probuild=/gpfs_fs/home/cfriedline/g/src/gm_et_linux_64/gmes_petap/probuild #location of probuild executable (required for genemark)\n",
    "```\n",
    "\n",
    "## maker_bopts.ctl\n",
    "\n",
    "```\n",
    "#-----BLAST and Exonerate Statistics Thresholds\n",
    "blast_type=ncbi+ #set to 'ncbi+', 'ncbi' or 'wublast'\n",
    "\n",
    "pcov_blastn=0.8 #Blastn Percent Coverage Threhold EST-Genome Alignments\n",
    "pid_blastn=0.85 #Blastn Percent Identity Threshold EST-Genome Aligments\n",
    "eval_blastn=1e-10 #Blastn eval cutoff\n",
    "bit_blastn=40 #Blastn bit cutoff\n",
    "depth_blastn=0 #Blastn depth cutoff (0 to disable cutoff)\n",
    "\n",
    "pcov_blastx=0.5 #Blastx Percent Coverage Threhold Protein-Genome Alignments\n",
    "pid_blastx=0.4 #Blastx Percent Identity Threshold Protein-Genome Aligments\n",
    "eval_blastx=1e-06 #Blastx eval cutoff\n",
    "bit_blastx=30 #Blastx bit cutoff\n",
    "depth_blastx=0 #Blastx depth cutoff (0 to disable cutoff)\n",
    "\n",
    "pcov_tblastx=0.8 #tBlastx Percent Coverage Threhold alt-EST-Genome Alignments\n",
    "pid_tblastx=0.85 #tBlastx Percent Identity Threshold alt-EST-Genome Aligments\n",
    "eval_tblastx=1e-10 #tBlastx eval cutoff\n",
    "bit_tblastx=40 #tBlastx bit cutoff\n",
    "depth_tblastx=0 #tBlastx depth cutoff (0 to disable cutoff)\n",
    "\n",
    "pcov_rm_blastx=0.5 #Blastx Percent Coverage Threhold For Transposable Element Masking\n",
    "pid_rm_blastx=0.4 #Blastx Percent Identity Threshold For Transposbale Element Masking\n",
    "eval_rm_blastx=1e-06 #Blastx eval cutoff for transposable element masking\n",
    "bit_rm_blastx=30 #Blastx bit cutoff for transposable element masking\n",
    "\n",
    "ep_score_limit=20 #Exonerate protein percent of maximal score threshold\n",
    "en_score_limit=20 #Exonerate nucleotide percent of maximal score threshold\n",
    "\n",
    "```\n",
    "\n",
    "---\n",
    "\n",
    "## Execute\n",
    "\n",
    "### run.q\n",
    "```\n",
    "#$ -S /bin/sh\n",
    "#$ -N maker\n",
    "#$ -V\n",
    "#$ -cwd\n",
    "#$ -pe jgl_ompi 185\n",
    "#$ -o maker.out\n",
    "#$ -e maker.err\n",
    "export LD_PRELOAD=$HOME/g/opt/mpi/1.10.2/lib/libmpi.so\n",
    "export LD_LIBRARY_PATH=$HOME/g/opt/boost159/lib:$HOME/g/opt/mpi/1.10.2/lib:/home/cfriedline/g/opt/mpi/1.10.2/lib/openmpi:$HOME/g/opt/psm/usr/lib64:$LD_LIBRARY_PATH\n",
    "export LD_LIBRARY_PATH=/home/cfriedline/g/gcc54/lib64:$LD_LIBRARY_PATH\n",
    "export ZOE=$HOME/g/src/maker/exe/snap/Zoe\n",
    "export AUGUSTUS_CONFIG_PATH=/home/cfriedline/g/src/augustus-3.2.2/config\n",
    "export OMPI_MCA_mpi_warn_on_fork=0\n",
    "export PERL5LIB=/gpfs_fs/home/cfriedline/src/tRNAscan-SE-1.3.1:$PERL5LIB\n",
    "export PATH=/gpfs_fs/home/cfriedline/src/tRNAscan-SE-1.3.1:$PATH\n",
    "\n",
    "$HOME/g/opt/mpi/1.10.2/bin/mpiexec \\\n",
    "-x LD_PRELOAD \\\n",
    "-x ZOE \\\n",
    "-x AUGUSTUS_CONFIG_PATH \\\n",
    "-x LD_LIBRARY_PATH \\\n",
    "-x PATH \\\n",
    "-n $NSLOTS \\\n",
    "--mca orte_base_help_aggregate 0 \\\n",
    "--mca btl tcp,self \\\n",
    "$HOME/g/src/maker/bin/maker\n",
    "```\n",
    "\n",
    "Execute: `qsub run.q`\n",
    "\n",
    "---\n",
    "\n",
    "## Iterations\n",
    "\n",
    "1. only ab init predictions, trna; no altest or protein, est2genome=0\n",
    "1. add altest and protein, change est2genome=1\n",
    "1. run genemark: `perl ~/g/src/gm_et_linux_64/gmes_petap/gmes_petap.pl --v --ES --min_contig=10000 --sequence assembly.fasta`\n",
    "1. change est2genome to `0`, add gmhmm.mod to `maker_opts.ctl`\n",
    "---"
   ]
  },
  {
   "cell_type": "markdown",
   "metadata": {},
   "source": [
    "## collect gff files\n",
    "\n",
    "```\n",
    "    cd ~/eckertlab/gypsy_indiv/raw_demult/analysis/maker && find assembly.maker.output -name \"*.gff\" | grep -v Void > gff_files\n",
    "    cd assembly.maker.output\n",
    "    ~/g/src/maker/bin/gff_merge -d assembly_master_datastore_index.log\n",
    "    ~/g/src/maker/bin/fasta_merge -d assembly_master_datastore_index.log\n",
    "```"
   ]
  },
  {
   "cell_type": "code",
   "execution_count": 0,
   "metadata": {
    "ExecuteTime": {},
    "collapsed": false
   },
   "outputs": [],
   "source": [
    "pwd"
   ]
  },
  {
   "cell_type": "code",
   "execution_count": 0,
   "metadata": {
    "ExecuteTime": {},
    "collapsed": false
   },
   "outputs": [],
   "source": [
    "gff_files = open(\"gff_files\").readlines()"
   ]
  },
  {
   "cell_type": "code",
   "execution_count": 0,
   "metadata": {
    "ExecuteTime": {},
    "collapsed": false
   },
   "outputs": [],
   "source": [
    "gff_files = [os.path.abspath(x.strip()) for x in gff_files]"
   ]
  },
  {
   "cell_type": "code",
   "execution_count": 0,
   "metadata": {
    "collapsed": true
   },
   "outputs": [],
   "source": []
  },
  {
   "cell_type": "code",
   "execution_count": 0,
   "metadata": {
    "ExecuteTime": {},
    "collapsed": false
   },
   "outputs": [],
   "source": [
    "with open(\"/home/cfriedline/g/src/Apollo-2.0.4/m2jb.jobs\", \"w\") as o:\n",
    "    for g in gff_files:\n",
    "        o.write(\"bin/maker2jbrowse {} -o /home/cfriedline/g/opt/apollo/gypsy_moth --no_names_index\\n\".format(g))"
   ]
  },
  {
   "cell_type": "markdown",
   "metadata": {
    "collapsed": true
   },
   "source": [
    "### run on godel:\n",
    "```\n",
    "qrsh -pe smp 60 -N m2jb\n",
    "cd /home/cfriedline/g/src/Apollo-2.0.4/\n",
    "parallel --bar -j 60 -a m2jb.jobs\n",
    "\n",
    "bin/generate-names.pl /home/cfriedline/g/opt/apollo/gypsy_moth\n",
    "\n",
    "groovy /home/cfriedline/g/src/Apollo-2.0.4/docs/web_services/examples/groovy/add_organism.groovy -name gypsy_moth -url http://localhost:8080/apollo -directory /home/cfriedline/g/opt/apollo/gypsy_moth -username cfriedline@vcu.edu -password smithers -public\n",
    "```\n",
    "\n"
   ]
  },
  {
   "cell_type": "code",
   "execution_count": 0,
   "metadata": {
    "ExecuteTime": {},
    "collapsed": true
   },
   "outputs": [],
   "source": [
    "!mkdir /home/cfriedline/g/opt/apollo/gypsy_moth_snps"
   ]
  },
  {
   "cell_type": "code",
   "execution_count": 0,
   "metadata": {
    "ExecuteTime": {},
    "collapsed": true
   },
   "outputs": [],
   "source": [
    "def read_df(dirname, fname):\n",
    "    f = os.path.join(dirname, \"%s.txt\" % fname)\n",
    "    return pd.read_csv(f, sep=\"\\t\", index_col=0)"
   ]
  },
  {
   "cell_type": "code",
   "execution_count": 0,
   "metadata": {
    "ExecuteTime": {},
    "collapsed": false
   },
   "outputs": [],
   "source": [
    "z12_swapped = read_df(\"/home/cfriedline/eckertlab/gypsy_indiv/raw_demult/analysis/samtools1.3_masurca3/ni\", \"z12_swapped\")"
   ]
  },
  {
   "cell_type": "code",
   "execution_count": 0,
   "metadata": {
    "ExecuteTime": {},
    "collapsed": false
   },
   "outputs": [],
   "source": [
    "contigs_with_snps = set([x.split(\"_\")[0] for x in z12_swapped.columns])"
   ]
  },
  {
   "cell_type": "code",
   "execution_count": 0,
   "metadata": {
    "ExecuteTime": {},
    "collapsed": false
   },
   "outputs": [],
   "source": [
    "assembly_map = pd.read_csv(os.path.join(analysis_dir, \"assembly_map.txt\"), sep=\"\\t\", header=None, names=['idx', 'name'])"
   ]
  },
  {
   "cell_type": "code",
   "execution_count": 0,
   "metadata": {
    "ExecuteTime": {},
    "collapsed": false
   },
   "outputs": [],
   "source": [
    "assembly_map['contig'] = assembly_map['idx'].apply(lambda x: \"contig_{}\".format(x))\n",
    "assembly_map.index = assembly_map.contig"
   ]
  },
  {
   "cell_type": "code",
   "execution_count": 0,
   "metadata": {
    "ExecuteTime": {},
    "collapsed": true
   },
   "outputs": [],
   "source": [
    "assembly_dict = assembly_map['name'].to_dict()"
   ]
  },
  {
   "cell_type": "code",
   "execution_count": 0,
   "metadata": {
    "ExecuteTime": {},
    "collapsed": false
   },
   "outputs": [],
   "source": [
    "len(contigs_with_snps)"
   ]
  },
  {
   "cell_type": "code",
   "execution_count": 0,
   "metadata": {
    "ExecuteTime": {},
    "collapsed": false
   },
   "outputs": [],
   "source": [
    "with open(\"/home/cfriedline/g/src/Apollo-2.0.4/m2jb_snps.jobs\", \"w\") as o:\n",
    "    found = 0\n",
    "    for g in gff_files:\n",
    "        contig = os.path.basename(os.path.dirname(g))\n",
    "        seq = assembly_dict[contig]\n",
    "        if seq in contigs_with_snps:\n",
    "            found += 1\n",
    "            if found % 1000 == 0: \n",
    "                print(found)\n",
    "            o.write(\"bin/maker2jbrowse {} -o /home/cfriedline/g/opt/apollo/gypsy_moth_snp_contigs --no_names_index\\n\".format(g))"
   ]
  },
  {
   "cell_type": "code",
   "execution_count": 0,
   "metadata": {
    "ExecuteTime": {},
    "collapsed": false
   },
   "outputs": [],
   "source": [
    "!wc -l /home/cfriedline/g/src/Apollo-2.0.4/m2jb_snps.jobs"
   ]
  },
  {
   "cell_type": "markdown",
   "metadata": {},
   "source": [
    "### run on godel\n",
    "\n",
    "```\n",
    "qrsh -pe smp 60 -N m2jb\n",
    "cd /home/cfriedline/g/src/Apollo-2.0.4/\n",
    "parallel --bar -j 60 -a m2jb_snps.jobs\n",
    "\n",
    "bin/generate-names.pl /home/cfriedline/g/opt/apollo/gypsy_moth_snp_contigs\n",
    "\n",
    "groovy /home/cfriedline/g/src/Apollo-2.0.4/docs/web_services/examples/groovy/add_organism.groovy -name gypsy_moth_snp_contigs -url http://localhost:8080/apollo -directory /home/cfriedline/g/opt/apollo/gypsy_moth_snp_contigs -username cfriedline@vcu.edu -password smithers -public\n",
    "```"
   ]
  },
  {
   "cell_type": "code",
   "execution_count": 0,
   "metadata": {
    "ExecuteTime": {},
    "collapsed": false
   },
   "outputs": [],
   "source": [
    "snp_gff = {}\n",
    "keep_contigs = set()\n",
    "for g in gff_files:\n",
    "    contig = os.path.basename(os.path.dirname(g))\n",
    "    seq = assembly_dict[contig]\n",
    "    if seq in contigs_with_snps:\n",
    "        snp_gff[seq] = g\n",
    "        keep_contigs.add(contig)"
   ]
  },
  {
   "cell_type": "code",
   "execution_count": 0,
   "metadata": {
    "ExecuteTime": {},
    "collapsed": true
   },
   "outputs": [],
   "source": [
    "import gffutils"
   ]
  },
  {
   "cell_type": "code",
   "execution_count": 0,
   "metadata": {
    "ExecuteTime": {},
    "collapsed": false
   },
   "outputs": [],
   "source": [
    "db = gffutils.create_db(\"assembly.maker.output/assembly.all.gff\", \"gff.db\")"
   ]
  },
  {
   "cell_type": "code",
   "execution_count": 0,
   "metadata": {
    "ExecuteTime": {},
    "collapsed": false
   },
   "outputs": [],
   "source": [
    "found = {}\n",
    "for feat in db.features_of_type(\"match\"):\n",
    "    if 'augustus' in feat.source and feat.chrom in keep_contigs:\n",
    "        if feat.chrom not in found:\n",
    "            found[feat.chrom] = []\n",
    "        found[feat.chrom].append(feat)"
   ]
  },
  {
   "cell_type": "code",
   "execution_count": 0,
   "metadata": {
    "ExecuteTime": {},
    "collapsed": true
   },
   "outputs": [],
   "source": [
    "multiple_genes = 0\n",
    "for x in found:\n",
    "    if len(found[x]) > 1:\n",
    "        multiple_genes += 1\n",
    "        for elem in found[x]:\n",
    "            print(elem.astuple())"
   ]
  },
  {
   "cell_type": "code",
   "execution_count": 0,
   "metadata": {
    "ExecuteTime": {},
    "collapsed": false
   },
   "outputs": [],
   "source": [
    "multiple_genes"
   ]
  },
  {
   "cell_type": "code",
   "execution_count": 0,
   "metadata": {
    "collapsed": true
   },
   "outputs": [],
   "source": []
  }
 ],
 "metadata": {
  "kernelspec": {
   "display_name": "Python 3",
   "language": "python",
   "name": "python3"
  },
  "language_info": {
   "codemirror_mode": {
    "name": "ipython",
    "version": 3
   },
   "file_extension": ".py",
   "mimetype": "text/x-python",
   "name": "python",
   "nbconvert_exporter": "python",
   "pygments_lexer": "ipython3",
   "version": "3.5.2"
  }
 },
 "nbformat": 4,
 "nbformat_minor": 0
}
